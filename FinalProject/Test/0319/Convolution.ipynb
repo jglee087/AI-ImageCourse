{
 "cells": [
  {
   "cell_type": "code",
   "execution_count": null,
   "metadata": {},
   "outputs": [],
   "source": [
    "import warnings\n",
    "warnings.simplefilter(action='ignore', category=FutureWarning)\n",
    "\n",
    "import sys\n",
    "import tensorflow as tf\n",
    "import keras\n",
    "from keras.models import Sequential\n",
    "from keras.layers import Dense, Dropout, Flatten,  GlobalAveragePooling2D\n",
    "from keras.layers.convolutional import Conv2D, MaxPooling2D\n",
    "import numpy as np\n",
    "\n",
    "import cv2\n",
    "import os\n",
    "import glob\n"
   ]
  },
  {
   "cell_type": "code",
   "execution_count": null,
   "metadata": {},
   "outputs": [],
   "source": [
    "path_happy='Data/happy'\n",
    "path_neut='Data/Neutral'\n",
    "# path_unkno='image/unknown'\n",
    "\n",
    "la=len(os.listdir(path_happy))\n",
    "lb=len(os.listdir(path_neut))     \n",
    "# lc=len(os.listdir(path_unkno)) \n",
    "\n",
    "print('Happy 경로에 저장된 파일의 개수:'+str(la))\n",
    "print('Neutral 경로에 저장된 파일의 개수:'+str(lb))\n",
    "# print('Chris 경로에 저장된 파일의 개수:'+str(lc))"
   ]
  },
  {
   "cell_type": "code",
   "execution_count": null,
   "metadata": {},
   "outputs": [],
   "source": [
    "xsize=256\n",
    "ysize=256"
   ]
  },
  {
   "cell_type": "code",
   "execution_count": null,
   "metadata": {},
   "outputs": [],
   "source": [
    "x=[]\n",
    "y=[]\n",
    "\n",
    "from keras.preprocessing import image\n",
    "import numpy as np\n",
    "\n",
    "def read_dir(path, label):\n",
    "    \n",
    "    files = glob.glob(path + \"\\\\/*.jpg\")\n",
    "    if bool(files) == False:\n",
    "        files = glob.glob(path + \"\\\\/*.png\") \n",
    "     \n",
    "    for f in files:\n",
    "\n",
    "        try:\n",
    "            img = image.load_img(f, target_size=(xsize,ysize))\n",
    "            img_tr= image.img_to_array(img)        \n",
    "            img_tr /= 255.\n",
    "            \n",
    "            y.append(label)\n",
    "            x.append(img_tr)\n",
    "        except:\n",
    "            pass"
   ]
  },
  {
   "cell_type": "code",
   "execution_count": null,
   "metadata": {},
   "outputs": [],
   "source": [
    "read_dir(path_happy, 0) #'DanielCraig')\n",
    "read_dir(path_neut, 1) #'ChrisEvans')"
   ]
  },
  {
   "cell_type": "code",
   "execution_count": null,
   "metadata": {},
   "outputs": [],
   "source": [
    "x=np.array(x)\n",
    "y=np.array(y)"
   ]
  },
  {
   "cell_type": "code",
   "execution_count": null,
   "metadata": {},
   "outputs": [],
   "source": []
  },
  {
   "cell_type": "code",
   "execution_count": null,
   "metadata": {},
   "outputs": [],
   "source": [
    "from sklearn.model_selection import train_test_split\n",
    "x_train, x_test, y_train, y_test = train_test_split(x, y, test_size=0.1)\n",
    "\n",
    "input_shape = (xsize,ysize, 3)\n",
    "\n",
    "batch_size = 32\n",
    "num_classes = 2\n",
    "epochs = 15"
   ]
  },
  {
   "cell_type": "code",
   "execution_count": null,
   "metadata": {},
   "outputs": [],
   "source": [
    "y_train = keras.utils.to_categorical(y_train, num_classes)\n",
    "y_test = keras.utils.to_categorical(y_test, num_classes)"
   ]
  },
  {
   "cell_type": "code",
   "execution_count": null,
   "metadata": {},
   "outputs": [],
   "source": [
    "# model= Sequential()\n",
    "# model.add(Conv2D(32, kernel_size=(6, 6), activation='relu',input_shape=(256, 256,3)))\n",
    "# model.add(MaxPooling2D(pool_size=(4, 4)))\n",
    "\n",
    "# model.add(Conv2D(32, kernel_size=(6, 6), activation='relu',input_shape=(256, 256,3)))\n",
    "# model.add(MaxPooling2D(pool_size=(4, 4)))\n",
    "\n",
    "# model.add(Conv2D(32, kernel_size=(4, 4), activation='relu', input_shape=(256, 256,3))) # 32\n",
    "# model.add(MaxPooling2D(pool_size=(4, 4)))\n",
    "\n",
    "# model.add(Flatten())\n",
    "# model.add(Dense(8, activation='relu')) #layers.Dense() : densely-connected NN layer\n",
    "# model.add(Dense(num_classes, activation='softmax')) \n",
    "\n",
    "# model.summary()"
   ]
  },
  {
   "cell_type": "code",
   "execution_count": null,
   "metadata": {},
   "outputs": [],
   "source": [
    "from keras.applications import ResNet50\n",
    "from keras.models import Model\n",
    "\n",
    "img_width =256\n",
    "img_height = 256\n",
    "img_channel = 3\n",
    "\n",
    "model = Sequential()\n",
    "\n",
    "from keras.models import Input\n",
    "\n",
    "input = Input(shape=(256, 256, 3))\n",
    "model = ResNet50(input_tensor=input, include_top=False, weights=None, pooling='max')\n",
    "xa = model.output\n",
    "xb = Dense(2, activation='softmax', name='soft')(xa)\n",
    "model = Model(model.input, xb)"
   ]
  },
  {
   "cell_type": "code",
   "execution_count": null,
   "metadata": {},
   "outputs": [],
   "source": [
    "model.compile(loss='categorical_crossentropy', optimizer='adam', metrics=['accuracy'])\n",
    "hist = model.fit(x_train, y_train,batch_size=batch_size,epochs=epochs,verbose=1, validation_split=0.1)"
   ]
  },
  {
   "cell_type": "code",
   "execution_count": null,
   "metadata": {},
   "outputs": [],
   "source": [
    "score = model.evaluate(x_test, y_test, verbose=0)\n",
    "print('Test loss:', score[0])\n",
    "print('Test accuracy:', score[1])"
   ]
  },
  {
   "cell_type": "code",
   "execution_count": null,
   "metadata": {},
   "outputs": [],
   "source": []
  }
 ],
 "metadata": {
  "kernelspec": {
   "display_name": "Python 3",
   "language": "python",
   "name": "python3"
  },
  "language_info": {
   "codemirror_mode": {
    "name": "ipython",
    "version": 3
   },
   "file_extension": ".py",
   "mimetype": "text/x-python",
   "name": "python",
   "nbconvert_exporter": "python",
   "pygments_lexer": "ipython3",
   "version": "3.7.4"
  }
 },
 "nbformat": 4,
 "nbformat_minor": 2
}
