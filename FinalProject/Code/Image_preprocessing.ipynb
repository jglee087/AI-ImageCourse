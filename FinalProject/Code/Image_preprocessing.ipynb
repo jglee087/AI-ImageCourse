{
 "cells": [
  {
   "cell_type": "code",
   "execution_count": 7,
   "metadata": {},
   "outputs": [],
   "source": [
    "import cv2\n",
    "import matplotlib.pyplot as plt"
   ]
  },
  {
   "cell_type": "code",
   "execution_count": 8,
   "metadata": {},
   "outputs": [],
   "source": [
    "img=cv2.imread('./res/0/S001/L1/E01/C8.jpg',cv2.IMREAD_COLOR)"
   ]
  },
  {
   "cell_type": "code",
   "execution_count": 9,
   "metadata": {},
   "outputs": [
    {
     "name": "stdout",
     "output_type": "stream",
     "text": [
      "576 864\n"
     ]
    }
   ],
   "source": [
    "height, width = img.shape[:2]\n",
    "print(height,width)"
   ]
  },
  {
   "cell_type": "code",
   "execution_count": 10,
   "metadata": {},
   "outputs": [],
   "source": [
    "cwi=width//2\n",
    "che=height//2"
   ]
  },
  {
   "cell_type": "code",
   "execution_count": 11,
   "metadata": {},
   "outputs": [],
   "source": [
    "cv2.imshow('image', img)\n",
    "cv2.waitKey(0)\n",
    "cv2.destroyAllWindows()"
   ]
  },
  {
   "cell_type": "code",
   "execution_count": 12,
   "metadata": {},
   "outputs": [],
   "source": [
    "path='./res/0/S001/L1/E01/'\n",
    "f = open(path+'C8.txt', 'r')\n",
    "data = f.read()\n",
    "f.close()"
   ]
  },
  {
   "cell_type": "code",
   "execution_count": 13,
   "metadata": {},
   "outputs": [
    {
     "data": {
      "text/plain": [
       "'436\\t321\\n378\\t269\\n461\\t269\\n393\\t373\\n460\\t370\\n290\\t318\\n475\\t300\\n269\\t131\\t322\\t322\\n339\\t247\\t70\\t41\\n434\\t250\\t57\\t38\\n391\\t267\\t72\\t79\\n382\\t348\\t88\\t38\\n269\\t271\\t49\\t89\\n'"
      ]
     },
     "execution_count": 13,
     "metadata": {},
     "output_type": "execute_result"
    }
   ],
   "source": [
    "data"
   ]
  },
  {
   "cell_type": "code",
   "execution_count": 38,
   "metadata": {},
   "outputs": [],
   "source": [
    "s=data.replace('\\t',' ').split('\\n')"
   ]
  },
  {
   "cell_type": "code",
   "execution_count": 42,
   "metadata": {},
   "outputs": [
    {
     "name": "stdout",
     "output_type": "stream",
     "text": [
      "436 321\n",
      "378 269\n",
      "461 269\n",
      "393 373\n",
      "460 370\n",
      "290 318\n",
      "475 300\n",
      "269 131 322 322\n",
      "339 247 70 41\n",
      "434 250 57 38\n",
      "391 267 72 79\n",
      "382 348 88 38\n",
      "269 271 49 89\n",
      "\n"
     ]
    }
   ],
   "source": [
    "for i in range(len(s)):\n",
    "    print(s[i])"
   ]
  },
  {
   "cell_type": "code",
   "execution_count": 41,
   "metadata": {},
   "outputs": [
    {
     "data": {
      "text/plain": [
       "['269', '131', '322', '322']"
      ]
     },
     "execution_count": 41,
     "metadata": {},
     "output_type": "execute_result"
    }
   ],
   "source": [
    "tmp=s[7].split(' ')\n",
    "tmp"
   ]
  },
  {
   "cell_type": "code",
   "execution_count": 43,
   "metadata": {},
   "outputs": [],
   "source": [
    "coordi=[]\n",
    "for i in range(len(s)):\n",
    "    tmp=s[i].split(' ')\n",
    "    coordi.append(tmp)"
   ]
  },
  {
   "cell_type": "code",
   "execution_count": 44,
   "metadata": {},
   "outputs": [
    {
     "data": {
      "text/plain": [
       "[['436', '321'],\n",
       " ['378', '269'],\n",
       " ['461', '269'],\n",
       " ['393', '373'],\n",
       " ['460', '370'],\n",
       " ['290', '318'],\n",
       " ['475', '300'],\n",
       " ['269', '131', '322', '322'],\n",
       " ['339', '247', '70', '41'],\n",
       " ['434', '250', '57', '38'],\n",
       " ['391', '267', '72', '79'],\n",
       " ['382', '348', '88', '38'],\n",
       " ['269', '271', '49', '89'],\n",
       " ['']]"
      ]
     },
     "execution_count": 44,
     "metadata": {},
     "output_type": "execute_result"
    }
   ],
   "source": [
    "coordi"
   ]
  },
  {
   "cell_type": "code",
   "execution_count": 45,
   "metadata": {},
   "outputs": [],
   "source": [
    "roi=img[che-150:che+150,cwi-180:cwi+100]"
   ]
  },
  {
   "cell_type": "code",
   "execution_count": 46,
   "metadata": {},
   "outputs": [
    {
     "name": "stdout",
     "output_type": "stream",
     "text": [
      "138 438 252 532\n"
     ]
    }
   ],
   "source": [
    "print(che-150,che+150,cwi-180,cwi+100)"
   ]
  },
  {
   "cell_type": "code",
   "execution_count": 47,
   "metadata": {},
   "outputs": [],
   "source": [
    "cv2.imshow('image', roi)\n",
    "cv2.waitKey(0)\n",
    "cv2.destroyAllWindows()"
   ]
  },
  {
   "cell_type": "code",
   "execution_count": 51,
   "metadata": {},
   "outputs": [],
   "source": [
    "for i in range(1,21):\n",
    "    try:\n",
    "        img=cv2.imread('./res/0/S001/L1/E01/C'+str(i)+'.jpg',cv2.IMREAD_COLOR)\n",
    "        roi=img[che-150:che+150,cwi-180:cwi+100]\n",
    "        #cv2.imshow('image', img)\n",
    "        cv2.imshow('image', roi)        \n",
    "        cv2.waitKey(0)\n",
    "        cv2.destroyAllWindows()\n",
    "    except:\n",
    "        pass"
   ]
  },
  {
   "cell_type": "code",
   "execution_count": null,
   "metadata": {},
   "outputs": [],
   "source": []
  }
 ],
 "metadata": {
  "kernelspec": {
   "display_name": "Python 3",
   "language": "python",
   "name": "python3"
  },
  "language_info": {
   "codemirror_mode": {
    "name": "ipython",
    "version": 3
   },
   "file_extension": ".py",
   "mimetype": "text/x-python",
   "name": "python",
   "nbconvert_exporter": "python",
   "pygments_lexer": "ipython3",
   "version": "3.7.4"
  }
 },
 "nbformat": 4,
 "nbformat_minor": 2
}
