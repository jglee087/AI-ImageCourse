{
 "cells": [
  {
   "cell_type": "code",
   "execution_count": null,
   "metadata": {},
   "outputs": [],
   "source": [
    "import glob\n",
    "import os\n",
    "import zipfile\n",
    "import os.path\n",
    "import shutil"
   ]
  },
  {
   "cell_type": "code",
   "execution_count": null,
   "metadata": {},
   "outputs": [],
   "source": [
    "path1='./zip/'\n",
    "path2='./data/'"
   ]
  },
  {
   "cell_type": "code",
   "execution_count": null,
   "metadata": {},
   "outputs": [],
   "source": [
    "li1= os.listdir(path1)"
   ]
  },
  {
   "cell_type": "code",
   "execution_count": null,
   "metadata": {},
   "outputs": [],
   "source": [
    "for i, fname in enumerate(li1):\n",
    "    f_zip=zipfile.ZipFile(path1+fname)\n",
    "    f_zip.extractall(path2+str(i))\n",
    "    f_zip.close()"
   ]
  },
  {
   "cell_type": "code",
   "execution_count": null,
   "metadata": {},
   "outputs": [],
   "source": [
    "li2= os.listdir(path2)"
   ]
  },
  {
   "cell_type": "code",
   "execution_count": null,
   "metadata": {},
   "outputs": [],
   "source": [
    "sname=['S001','S002','S003','S005','S006']\n",
    "\n",
    "#Lname=['L1','L2','L3','L4','L8','L9','L12','L13','L19','L20','L22','L23','L25','L26']\n",
    "\n",
    "Lname=['L1','L2','L3','L4','L8','L12','L22']\n",
    "\n",
    "\n",
    "#for i in range(1, 31):\n",
    "#   tmp='L'+str(i)\n",
    "#    Lname.append(tmp)\n",
    "    \n",
    "ename=['E01','E02','E03']"
   ]
  },
  {
   "cell_type": "markdown",
   "metadata": {},
   "source": [
    "### 관심 있는 파일 번호 입력"
   ]
  },
  {
   "cell_type": "code",
   "execution_count": null,
   "metadata": {},
   "outputs": [],
   "source": [
    "test=[ 6,7,8, 15,16,17]"
   ]
  },
  {
   "cell_type": "code",
   "execution_count": null,
   "metadata": {},
   "outputs": [],
   "source": [
    "for la in li2:\n",
    "    for s in sname:\n",
    "        for L in Lname:\n",
    "            for e in ename:\n",
    "                path=path2+la+'/'+s+'/'+L+'/'+e+'/'\n",
    "            \n",
    "                for i in range(1,21):\n",
    "                    co+=1\n",
    "                    if i in test:                    \n",
    "                        temp_jpg=path+'C'+str(i)+'.jpg'\n",
    "                        temp_txt=path+'C'+str(i)+'.txt'\n",
    "                        \n",
    "                        tmp_path='./res/'+la+'/'+s+'/'+L+'/'+e+'/'\n",
    "                        \n",
    "                        try:\n",
    "                            os.makedirs(tmp_path)\n",
    "                        except:\n",
    "                            pass\n",
    "                        \n",
    "                        try:\n",
    "                             shutil.copy(temp_txt, tmp_path)\n",
    "                        except:\n",
    "                            pass\n",
    "                        \n",
    "                        shutil.copy(temp_jpg, tmp_path)"
   ]
  },
  {
   "cell_type": "code",
   "execution_count": null,
   "metadata": {},
   "outputs": [],
   "source": []
  }
 ],
 "metadata": {
  "kernelspec": {
   "display_name": "Python 3",
   "language": "python",
   "name": "python3"
  },
  "language_info": {
   "codemirror_mode": {
    "name": "ipython",
    "version": 3
   },
   "file_extension": ".py",
   "mimetype": "text/x-python",
   "name": "python",
   "nbconvert_exporter": "python",
   "pygments_lexer": "ipython3",
   "version": "3.7.4"
  }
 },
 "nbformat": 4,
 "nbformat_minor": 2
}
