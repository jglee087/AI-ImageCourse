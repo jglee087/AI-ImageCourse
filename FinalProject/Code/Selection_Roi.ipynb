{
 "cells": [
  {
   "cell_type": "markdown",
   "metadata": {},
   "source": [
    "### res폴더를 만들어 이미지 파일을 저장하고 아래의 코드를 실행"
   ]
  },
  {
   "cell_type": "code",
   "execution_count": 37,
   "metadata": {},
   "outputs": [],
   "source": [
    "import glob\n",
    "import os\n",
    "import zipfile\n",
    "import os.path\n",
    "import shutil\n",
    "import time\n",
    "import matplotlib.pyplot as plt\n",
    "import cv2"
   ]
  },
  {
   "cell_type": "code",
   "execution_count": 38,
   "metadata": {},
   "outputs": [],
   "source": [
    "path2='./res/'"
   ]
  },
  {
   "cell_type": "code",
   "execution_count": 39,
   "metadata": {},
   "outputs": [],
   "source": [
    "li2= os.listdir(path2)"
   ]
  },
  {
   "cell_type": "code",
   "execution_count": 40,
   "metadata": {},
   "outputs": [],
   "source": [
    "#sname=['S001','S002','S003','S004','S006']\n",
    "\n",
    "#Lname=['L1','L2','L3','L4','L8','L9','L12','L13','L19','L20','L22','L23','L25','L26']\n",
    "\n",
    "sname=['S001','S002','S003','S006']\n",
    "Lname=['L1','L2','L3']\n",
    "ename=['E01','E02','E03']"
   ]
  },
  {
   "cell_type": "code",
   "execution_count": 41,
   "metadata": {},
   "outputs": [],
   "source": [
    "test=[6,7,8]"
   ]
  },
  {
   "cell_type": "code",
   "execution_count": 44,
   "metadata": {},
   "outputs": [],
   "source": [
    "try:\n",
    "    os.mkdir('./es')\n",
    "except:\n",
    "    pass"
   ]
  },
  {
   "cell_type": "code",
   "execution_count": 45,
   "metadata": {},
   "outputs": [],
   "source": [
    "co1=0\n",
    "co2=0\n",
    "co3=0\n",
    "\n",
    "for la in li2:\n",
    "    for s in sname:\n",
    "\n",
    "        time.sleep(1)\n",
    "\n",
    "        for L in Lname:\n",
    "            for e in ename:\n",
    "\n",
    "                path=path2+la+'/'+s+'/'+L+'/'+e+'/'\n",
    "\n",
    "                for i in range(1,20):\n",
    "\n",
    "                    if i in test:              \n",
    "                        temp_jpg=path+'C'+str(i)+'.jpg'\n",
    "#                         temp_txt=path+'C'+str(i)+'.txt'\n",
    "                        \n",
    "\n",
    "                        if os.path.isdir('./es/'+e)== False:\n",
    "                                 os.mkdir('./es/'+e)\n",
    "\n",
    "                        if e == 'E01':\n",
    "                            co1+=1\n",
    "                            tmp_path='./es/'+e+'/'+e+'_'+str(co1)+'.jpg'\n",
    "                            tmp_txt ='./es/'+e+'/'\n",
    "\n",
    "                        elif e == 'E02':\n",
    "                            co2+=1\n",
    "                            tmp_path='./es/'+e+'/'+e+'_'+str(co2)+'.jpg'                           \n",
    "                            tmp_txt ='./es/'+e+'/'\n",
    "\n",
    "                        elif e == 'E03':\n",
    "                            co3+=1                            \n",
    "                            tmp_path='./es/'+e+'/'+e+'_'+str(co3)+'.jpg'   \n",
    "                            tmp_txt ='./es/'+e+'/'\n",
    "\n",
    "#                         try:\n",
    "#                              shutil.copy(temp_txt, tmp_txt)\n",
    "#                         except:\n",
    "#                             pass\n",
    "\n",
    "                        try:\n",
    "                            shutil.copy(temp_jpg, tmp_path)\n",
    "                        except:\n",
    "                            pass\n"
   ]
  },
  {
   "cell_type": "code",
   "execution_count": null,
   "metadata": {},
   "outputs": [],
   "source": []
  },
  {
   "cell_type": "code",
   "execution_count": 46,
   "metadata": {},
   "outputs": [],
   "source": [
    "f1=glob.glob('./es/E01/*')\n",
    "f2=glob.glob('./es/E02/*')\n",
    "f3=glob.glob('./es/E03/*')"
   ]
  },
  {
   "cell_type": "code",
   "execution_count": 47,
   "metadata": {},
   "outputs": [
    {
     "name": "stdout",
     "output_type": "stream",
     "text": [
      "72 72 72\n"
     ]
    }
   ],
   "source": [
    "print(len(f1),len(f2),len(f3))"
   ]
  },
  {
   "cell_type": "code",
   "execution_count": 48,
   "metadata": {},
   "outputs": [],
   "source": [
    "try:\n",
    "    os.mkdir('./roi')\n",
    "except:\n",
    "    pass\n",
    "\n",
    "try:\n",
    "    os.mkdir('./roi/E01')\n",
    "    os.mkdir('./roi/E02')\n",
    "    os.mkdir('./roi/E03')    \n",
    "except:\n",
    "    pass"
   ]
  },
  {
   "cell_type": "code",
   "execution_count": 49,
   "metadata": {},
   "outputs": [],
   "source": [
    "c1=1\n",
    "for fn in f1:\n",
    "    img=cv2.imread(fn,cv2.IMREAD_COLOR)\n",
    "    height, width = img.shape[:2]\n",
    "\n",
    "    cwi=width//2\n",
    "    che=height//2\n",
    "    \n",
    "    roi=img[che-200:che+200,cwi-200:cwi+200]\n",
    "    \n",
    "    cv2.imwrite('./roi/E01/roi'+str(c1)+'.jpg',roi)\n",
    "    c1+=1"
   ]
  },
  {
   "cell_type": "code",
   "execution_count": 51,
   "metadata": {},
   "outputs": [],
   "source": [
    "c2=1\n",
    "for fn in f2:\n",
    "    \n",
    "    img=cv2.imread(fn,cv2.IMREAD_COLOR)\n",
    "    height, width = img.shape[:2]\n",
    "\n",
    "    cwi=width//2\n",
    "    che=height//2\n",
    "    \n",
    "    roi=img[che-200:che+200,cwi-200:cwi+200]\n",
    "    \n",
    "    cv2.imwrite('./roi/E02/roi'+str(c2)+'.jpg',roi)\n",
    "    c2+=1"
   ]
  },
  {
   "cell_type": "code",
   "execution_count": 52,
   "metadata": {},
   "outputs": [],
   "source": [
    "c3=1\n",
    "for fn in f3:\n",
    "    img=cv2.imread(fn,cv2.IMREAD_COLOR)\n",
    "    height, width = img.shape[:2]\n",
    "\n",
    "    cwi=width//2\n",
    "    che=height//2\n",
    "    \n",
    "    roi=img[che-200:che+200,cwi-200:cwi+200]\n",
    "    \n",
    "    cv2.imwrite('./roi/E03/roi'+str(c3)+'.jpg',roi)\n",
    "    c3+=1"
   ]
  },
  {
   "cell_type": "code",
   "execution_count": 53,
   "metadata": {},
   "outputs": [
    {
     "name": "stdout",
     "output_type": "stream",
     "text": [
      "88 488 232 632\n"
     ]
    }
   ],
   "source": [
    "print(che-200,che+200,cwi-200,cwi+200)\n"
   ]
  },
  {
   "cell_type": "code",
   "execution_count": null,
   "metadata": {},
   "outputs": [],
   "source": []
  }
 ],
 "metadata": {
  "kernelspec": {
   "display_name": "Python 3",
   "language": "python",
   "name": "python3"
  },
  "language_info": {
   "codemirror_mode": {
    "name": "ipython",
    "version": 3
   },
   "file_extension": ".py",
   "mimetype": "text/x-python",
   "name": "python",
   "nbconvert_exporter": "python",
   "pygments_lexer": "ipython3",
   "version": "3.7.4"
  }
 },
 "nbformat": 4,
 "nbformat_minor": 2
}
