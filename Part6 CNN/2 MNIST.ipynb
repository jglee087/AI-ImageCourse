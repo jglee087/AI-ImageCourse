{
 "cells": [
  {
   "cell_type": "code",
   "execution_count": 1,
   "metadata": {},
   "outputs": [
    {
     "name": "stderr",
     "output_type": "stream",
     "text": [
      "Using TensorFlow backend.\n"
     ]
    }
   ],
   "source": [
    "import tensorflow as tf\n",
    "import keras"
   ]
  },
  {
   "cell_type": "code",
   "execution_count": 2,
   "metadata": {},
   "outputs": [
    {
     "data": {
      "text/plain": [
       "<Figure size 640x480 with 32 Axes>"
      ]
     },
     "metadata": {},
     "output_type": "display_data"
    }
   ],
   "source": [
    "from keras.datasets import mnist\n",
    "from matplotlib import pyplot\n",
    "\n",
    "# MNIST 데이터 읽어 들이기\n",
    "(X_train, y_train), (X_test, y_test) = mnist.load_data()\n",
    "\n",
    "# 데이터를 4x8로 출력하기\n",
    "for i in range(0, 32):\n",
    "    pyplot.subplot(4, 8, i + 1)\n",
    "    pyplot.imshow(X_train[i], cmap='gray')\n",
    "\n",
    "pyplot.show()\n"
   ]
  },
  {
   "cell_type": "code",
   "execution_count": 3,
   "metadata": {},
   "outputs": [
    {
     "data": {
      "text/plain": [
       "array([[[0, 0, 0, ..., 0, 0, 0],\n",
       "        [0, 0, 0, ..., 0, 0, 0],\n",
       "        [0, 0, 0, ..., 0, 0, 0],\n",
       "        ...,\n",
       "        [0, 0, 0, ..., 0, 0, 0],\n",
       "        [0, 0, 0, ..., 0, 0, 0],\n",
       "        [0, 0, 0, ..., 0, 0, 0]],\n",
       "\n",
       "       [[0, 0, 0, ..., 0, 0, 0],\n",
       "        [0, 0, 0, ..., 0, 0, 0],\n",
       "        [0, 0, 0, ..., 0, 0, 0],\n",
       "        ...,\n",
       "        [0, 0, 0, ..., 0, 0, 0],\n",
       "        [0, 0, 0, ..., 0, 0, 0],\n",
       "        [0, 0, 0, ..., 0, 0, 0]],\n",
       "\n",
       "       [[0, 0, 0, ..., 0, 0, 0],\n",
       "        [0, 0, 0, ..., 0, 0, 0],\n",
       "        [0, 0, 0, ..., 0, 0, 0],\n",
       "        ...,\n",
       "        [0, 0, 0, ..., 0, 0, 0],\n",
       "        [0, 0, 0, ..., 0, 0, 0],\n",
       "        [0, 0, 0, ..., 0, 0, 0]],\n",
       "\n",
       "       ...,\n",
       "\n",
       "       [[0, 0, 0, ..., 0, 0, 0],\n",
       "        [0, 0, 0, ..., 0, 0, 0],\n",
       "        [0, 0, 0, ..., 0, 0, 0],\n",
       "        ...,\n",
       "        [0, 0, 0, ..., 0, 0, 0],\n",
       "        [0, 0, 0, ..., 0, 0, 0],\n",
       "        [0, 0, 0, ..., 0, 0, 0]],\n",
       "\n",
       "       [[0, 0, 0, ..., 0, 0, 0],\n",
       "        [0, 0, 0, ..., 0, 0, 0],\n",
       "        [0, 0, 0, ..., 0, 0, 0],\n",
       "        ...,\n",
       "        [0, 0, 0, ..., 0, 0, 0],\n",
       "        [0, 0, 0, ..., 0, 0, 0],\n",
       "        [0, 0, 0, ..., 0, 0, 0]],\n",
       "\n",
       "       [[0, 0, 0, ..., 0, 0, 0],\n",
       "        [0, 0, 0, ..., 0, 0, 0],\n",
       "        [0, 0, 0, ..., 0, 0, 0],\n",
       "        ...,\n",
       "        [0, 0, 0, ..., 0, 0, 0],\n",
       "        [0, 0, 0, ..., 0, 0, 0],\n",
       "        [0, 0, 0, ..., 0, 0, 0]]], dtype=uint8)"
      ]
     },
     "execution_count": 3,
     "metadata": {},
     "output_type": "execute_result"
    }
   ],
   "source": [
    "X_train"
   ]
  },
  {
   "cell_type": "code",
   "execution_count": 4,
   "metadata": {},
   "outputs": [
    {
     "data": {
      "text/plain": [
       "array([[0., 0., 0., ..., 0., 0., 0.],\n",
       "       [0., 0., 0., ..., 0., 0., 0.],\n",
       "       [0., 0., 0., ..., 0., 0., 0.],\n",
       "       ...,\n",
       "       [0., 0., 0., ..., 0., 0., 0.],\n",
       "       [0., 0., 0., ..., 0., 0., 0.],\n",
       "       [0., 0., 0., ..., 0., 0., 0.]], dtype=float32)"
      ]
     },
     "execution_count": 4,
     "metadata": {},
     "output_type": "execute_result"
    }
   ],
   "source": [
    "# 데이터를 28*28=784의 1차원 배열로 변환하기\n",
    "X_train = X_train.reshape(-1, 784).astype('float32') / 255\n",
    "X_test = X_test.reshape(-1, 784).astype('float32') / 255\n",
    "X_train"
   ]
  },
  {
   "cell_type": "code",
   "execution_count": 5,
   "metadata": {},
   "outputs": [],
   "source": [
    "# 레이블 데이터를 One-hot 형식으로 변환하기\n",
    "y_train = keras.utils.np_utils.to_categorical(y_train.astype('int32'),10)\n",
    "y_test = keras.utils.np_utils.to_categorical(y_test.astype('int32'),10)"
   ]
  },
  {
   "cell_type": "code",
   "execution_count": 6,
   "metadata": {},
   "outputs": [
    {
     "name": "stdout",
     "output_type": "stream",
     "text": [
      "WARNING:tensorflow:From C:\\Users\\student\\Anaconda3\\lib\\site-packages\\tensorflow\\python\\ops\\resource_variable_ops.py:435: colocate_with (from tensorflow.python.framework.ops) is deprecated and will be removed in a future version.\n",
      "Instructions for updating:\n",
      "Colocations handled automatically by placer.\n",
      "WARNING:tensorflow:From C:\\Users\\student\\Anaconda3\\lib\\site-packages\\tensorflow\\python\\ops\\math_ops.py:3066: to_int32 (from tensorflow.python.ops.math_ops) is deprecated and will be removed in a future version.\n",
      "Instructions for updating:\n",
      "Use tf.cast instead.\n",
      "Epoch 1/20\n",
      "60000/60000 [==============================] - 31s 519us/step - loss: 0.1878 - accuracy: 0.9434\n",
      "Epoch 2/20\n",
      "60000/60000 [==============================] - 31s 519us/step - loss: 0.0794 - accuracy: 0.9755\n",
      "Epoch 3/20\n",
      "60000/60000 [==============================] - 30s 505us/step - loss: 0.0516 - accuracy: 0.9833\n",
      "Epoch 4/20\n",
      "60000/60000 [==============================] - 30s 506us/step - loss: 0.0367 - accuracy: 0.9876\n",
      "Epoch 5/20\n",
      "60000/60000 [==============================] - 30s 500us/step - loss: 0.0268 - accuracy: 0.9910\n",
      "Epoch 6/20\n",
      "60000/60000 [==============================] - 31s 509us/step - loss: 0.0228 - accuracy: 0.9920\n",
      "Epoch 7/20\n",
      "60000/60000 [==============================] - 31s 515us/step - loss: 0.0196 - accuracy: 0.9934\n",
      "Epoch 8/20\n",
      "60000/60000 [==============================] - 27s 443us/step - loss: 0.0143 - accuracy: 0.9950\n",
      "Epoch 9/20\n",
      "60000/60000 [==============================] - 31s 509us/step - loss: 0.0144 - accuracy: 0.9949\n",
      "Epoch 10/20\n",
      "60000/60000 [==============================] - 32s 527us/step - loss: 0.0124 - accuracy: 0.9959\n",
      "Epoch 11/20\n",
      "60000/60000 [==============================] - 30s 493us/step - loss: 0.0128 - accuracy: 0.9961\n",
      "Epoch 12/20\n",
      "60000/60000 [==============================] - 31s 511us/step - loss: 0.0104 - accuracy: 0.9967\n",
      "Epoch 13/20\n",
      "60000/60000 [==============================] - 30s 494us/step - loss: 0.0095 - accuracy: 0.9971\n",
      "Epoch 14/20\n",
      "60000/60000 [==============================] - 29s 484us/step - loss: 0.0092 - accuracy: 0.9970\n",
      "Epoch 15/20\n",
      "60000/60000 [==============================] - 30s 497us/step - loss: 0.0092 - accuracy: 0.9969\n",
      "Epoch 16/20\n",
      "60000/60000 [==============================] - 31s 522us/step - loss: 0.0090 - accuracy: 0.9972\n",
      "Epoch 17/20\n",
      "60000/60000 [==============================] - 30s 496us/step - loss: 0.0085 - accuracy: 0.9975\n",
      "Epoch 18/20\n",
      "60000/60000 [==============================] - 30s 492us/step - loss: 0.0086 - accuracy: 0.9974\n",
      "Epoch 19/20\n",
      "60000/60000 [==============================] - 30s 505us/step - loss: 0.0089 - accuracy: 0.9975s - l - ETA: 1s -\n",
      "Epoch 20/20\n",
      "60000/60000 [==============================] - 29s 480us/step - loss: 0.0074 - accuracy: 0.9977\n",
      "10000/10000 [==============================] - 0s 48us/step\n",
      "정답률= 0.9830999970436096 loss= 0.12378356167041811\n"
     ]
    }
   ],
   "source": [
    "# 입력과 출력 지정하기\n",
    "in_size = 28 * 28\n",
    "out_size = 10\n",
    "\n",
    "# 모델의 구조 정의하기\n",
    "Dense = keras.layers.Dense\n",
    "model = keras.models.Sequential()\n",
    "model.add(Dense(512, activation='relu', input_shape=(in_size,)))\n",
    "model.add(Dense(out_size, activation='softmax'))\n",
    "\n",
    "# 모델 구축하기\n",
    "model.compile(\n",
    "    loss='categorical_crossentropy',\n",
    "    optimizer='adam',\n",
    "    metrics=['accuracy'])\n",
    "\n",
    "# 학습 실행하기\n",
    "model.fit(X_train, y_train,\n",
    "    batch_size=20, epochs=20)\n",
    "\n",
    "# 모델 평가하기\n",
    "score = model.evaluate(X_test, y_test, verbose=1)\n",
    "print('정답률=', score[1], 'loss=', score[0])"
   ]
  },
  {
   "cell_type": "code",
   "execution_count": 7,
   "metadata": {},
   "outputs": [
    {
     "name": "stdout",
     "output_type": "stream",
     "text": [
      "Train on 60000 samples, validate on 10000 samples\n",
      "Epoch 1/50\n",
      "60000/60000 [==============================] - 8s 141us/step - loss: 0.2466 - accuracy: 0.9240 - val_loss: 0.1124 - val_accuracy: 0.9643\n",
      "Epoch 2/50\n",
      "60000/60000 [==============================] - 10s 161us/step - loss: 0.1023 - accuracy: 0.9690 - val_loss: 0.0844 - val_accuracy: 0.9734\n",
      "Epoch 3/50\n",
      "60000/60000 [==============================] - 10s 162us/step - loss: 0.0751 - accuracy: 0.9772 - val_loss: 0.0816 - val_accuracy: 0.9758\n",
      "Epoch 4/50\n",
      "60000/60000 [==============================] - 10s 165us/step - loss: 0.0608 - accuracy: 0.9822 - val_loss: 0.0713 - val_accuracy: 0.9806\n",
      "Epoch 5/50\n",
      "60000/60000 [==============================] - 9s 158us/step - loss: 0.0504 - accuracy: 0.9848 - val_loss: 0.0737 - val_accuracy: 0.9809\n",
      "Epoch 6/50\n",
      "60000/60000 [==============================] - 9s 157us/step - loss: 0.0444 - accuracy: 0.9871 - val_loss: 0.0813 - val_accuracy: 0.9796\n",
      "Epoch 7/50\n",
      "60000/60000 [==============================] - 11s 175us/step - loss: 0.0404 - accuracy: 0.9883 - val_loss: 0.0738 - val_accuracy: 0.9824\n",
      "Epoch 8/50\n",
      "60000/60000 [==============================] - 10s 169us/step - loss: 0.0341 - accuracy: 0.9894 - val_loss: 0.0886 - val_accuracy: 0.9822\n",
      "Epoch 9/50\n",
      "60000/60000 [==============================] - 10s 165us/step - loss: 0.0320 - accuracy: 0.9910 - val_loss: 0.0902 - val_accuracy: 0.9818\n",
      "Epoch 10/50\n",
      "60000/60000 [==============================] - 9s 149us/step - loss: 0.0288 - accuracy: 0.9918 - val_loss: 0.0822 - val_accuracy: 0.9844\n",
      "Epoch 11/50\n",
      "60000/60000 [==============================] - 11s 181us/step - loss: 0.0280 - accuracy: 0.9922 - val_loss: 0.0899 - val_accuracy: 0.9832\n",
      "Epoch 12/50\n",
      "60000/60000 [==============================] - 10s 168us/step - loss: 0.0257 - accuracy: 0.9924 - val_loss: 0.0927 - val_accuracy: 0.9823\n",
      "Epoch 13/50\n",
      "60000/60000 [==============================] - 11s 182us/step - loss: 0.0233 - accuracy: 0.9934 - val_loss: 0.0914 - val_accuracy: 0.9827\n",
      "Epoch 14/50\n",
      "60000/60000 [==============================] - 10s 159us/step - loss: 0.0222 - accuracy: 0.9933 - val_loss: 0.1038 - val_accuracy: 0.9803\n",
      "Epoch 15/50\n",
      "60000/60000 [==============================] - 10s 162us/step - loss: 0.0197 - accuracy: 0.9949 - val_loss: 0.1109 - val_accuracy: 0.9816\n",
      "Epoch 16/50\n",
      "60000/60000 [==============================] - 9s 155us/step - loss: 0.0209 - accuracy: 0.9945 - val_loss: 0.1075 - val_accuracy: 0.9819\n",
      "Epoch 17/50\n",
      "60000/60000 [==============================] - 10s 168us/step - loss: 0.0195 - accuracy: 0.9949 - val_loss: 0.0998 - val_accuracy: 0.9846\n",
      "Epoch 18/50\n",
      "60000/60000 [==============================] - 10s 163us/step - loss: 0.0185 - accuracy: 0.9951 - val_loss: 0.1254 - val_accuracy: 0.9824\n",
      "Epoch 19/50\n",
      "60000/60000 [==============================] - 10s 167us/step - loss: 0.0180 - accuracy: 0.9952 - val_loss: 0.1026 - val_accuracy: 0.9838\n",
      "Epoch 20/50\n",
      "60000/60000 [==============================] - 10s 167us/step - loss: 0.0170 - accuracy: 0.9956 - val_loss: 0.0998 - val_accuracy: 0.9844\n",
      "Epoch 21/50\n",
      "60000/60000 [==============================] - 10s 165us/step - loss: 0.0183 - accuracy: 0.9955 - val_loss: 0.1117 - val_accuracy: 0.9842\n",
      "Epoch 22/50\n",
      "60000/60000 [==============================] - 10s 160us/step - loss: 0.0158 - accuracy: 0.9958 - val_loss: 0.1072 - val_accuracy: 0.9844\n",
      "Epoch 23/50\n",
      "60000/60000 [==============================] - 9s 158us/step - loss: 0.0158 - accuracy: 0.9960 - val_loss: 0.1206 - val_accuracy: 0.9829\n",
      "Epoch 24/50\n",
      "60000/60000 [==============================] - 10s 166us/step - loss: 0.0149 - accuracy: 0.9963 - val_loss: 0.1146 - val_accuracy: 0.9850\n",
      "Epoch 25/50\n",
      "60000/60000 [==============================] - 10s 162us/step - loss: 0.0147 - accuracy: 0.9963 - val_loss: 0.1147 - val_accuracy: 0.9844\n",
      "Epoch 26/50\n",
      "60000/60000 [==============================] - 10s 169us/step - loss: 0.0163 - accuracy: 0.9962 - val_loss: 0.1275 - val_accuracy: 0.9812\n",
      "Epoch 27/50\n",
      "60000/60000 [==============================] - 9s 156us/step - loss: 0.0137 - accuracy: 0.9965 - val_loss: 0.1266 - val_accuracy: 0.9814\n",
      "Epoch 28/50\n",
      "60000/60000 [==============================] - 10s 169us/step - loss: 0.0163 - accuracy: 0.9964 - val_loss: 0.1164 - val_accuracy: 0.9842\n",
      "Epoch 29/50\n",
      "60000/60000 [==============================] - 10s 162us/step - loss: 0.0142 - accuracy: 0.9962 - val_loss: 0.1181 - val_accuracy: 0.9850\n",
      "Epoch 30/50\n",
      "60000/60000 [==============================] - 10s 174us/step - loss: 0.0139 - accuracy: 0.9965 - val_loss: 0.1239 - val_accuracy: 0.9842\n",
      "Epoch 31/50\n",
      "60000/60000 [==============================] - 10s 161us/step - loss: 0.0138 - accuracy: 0.9967 - val_loss: 0.1339 - val_accuracy: 0.9836\n",
      "Epoch 32/50\n",
      "60000/60000 [==============================] - 10s 168us/step - loss: 0.0126 - accuracy: 0.9968 - val_loss: 0.1233 - val_accuracy: 0.9843\n",
      "Epoch 33/50\n",
      "60000/60000 [==============================] - 10s 161us/step - loss: 0.0128 - accuracy: 0.9970 - val_loss: 0.1362 - val_accuracy: 0.9829\n",
      "Epoch 34/50\n",
      "60000/60000 [==============================] - 10s 159us/step - loss: 0.0130 - accuracy: 0.9973 - val_loss: 0.1285 - val_accuracy: 0.9842\n",
      "Epoch 35/50\n",
      "60000/60000 [==============================] - 10s 165us/step - loss: 0.0124 - accuracy: 0.9973 - val_loss: 0.1342 - val_accuracy: 0.9833\n",
      "Epoch 36/50\n",
      "60000/60000 [==============================] - 10s 171us/step - loss: 0.0127 - accuracy: 0.9972 - val_loss: 0.1205 - val_accuracy: 0.9851\n",
      "Epoch 37/50\n",
      "60000/60000 [==============================] - 10s 167us/step - loss: 0.0131 - accuracy: 0.9974 - val_loss: 0.1337 - val_accuracy: 0.9853\n",
      "Epoch 38/50\n",
      "60000/60000 [==============================] - 10s 165us/step - loss: 0.0138 - accuracy: 0.9971 - val_loss: 0.1244 - val_accuracy: 0.9839\n",
      "Epoch 39/50\n",
      "60000/60000 [==============================] - 8s 128us/step - loss: 0.0132 - accuracy: 0.9972 - val_loss: 0.1323 - val_accuracy: 0.9847\n",
      "Epoch 40/50\n",
      "60000/60000 [==============================] - 8s 135us/step - loss: 0.0120 - accuracy: 0.9976 - val_loss: 0.1270 - val_accuracy: 0.9838\n",
      "Epoch 41/50\n",
      "60000/60000 [==============================] - 10s 161us/step - loss: 0.0131 - accuracy: 0.9973 - val_loss: 0.1274 - val_accuracy: 0.9844\n",
      "Epoch 42/50\n",
      "60000/60000 [==============================] - 10s 168us/step - loss: 0.0104 - accuracy: 0.9975 - val_loss: 0.1308 - val_accuracy: 0.9846\n",
      "Epoch 43/50\n",
      "60000/60000 [==============================] - 11s 176us/step - loss: 0.0115 - accuracy: 0.9977 - val_loss: 0.1473 - val_accuracy: 0.9828\n",
      "Epoch 44/50\n",
      "60000/60000 [==============================] - 10s 173us/step - loss: 0.0125 - accuracy: 0.9976 - val_loss: 0.1339 - val_accuracy: 0.9846\n",
      "Epoch 45/50\n",
      "60000/60000 [==============================] - 10s 167us/step - loss: 0.0104 - accuracy: 0.9978 - val_loss: 0.1387 - val_accuracy: 0.9838\n",
      "Epoch 46/50\n",
      "60000/60000 [==============================] - 10s 166us/step - loss: 0.0125 - accuracy: 0.9976 - val_loss: 0.1354 - val_accuracy: 0.9837\n",
      "Epoch 47/50\n",
      "60000/60000 [==============================] - 10s 167us/step - loss: 0.0104 - accuracy: 0.9979 - val_loss: 0.1436 - val_accuracy: 0.9837\n",
      "Epoch 48/50\n",
      "60000/60000 [==============================] - 10s 167us/step - loss: 0.0113 - accuracy: 0.9979 - val_loss: 0.1428 - val_accuracy: 0.9833\n",
      "Epoch 49/50\n",
      "60000/60000 [==============================] - 10s 175us/step - loss: 0.0111 - accuracy: 0.9976 - val_loss: 0.1342 - val_accuracy: 0.9848\n",
      "Epoch 50/50\n",
      "60000/60000 [==============================] - 10s 174us/step - loss: 0.0091 - accuracy: 0.9982 - val_loss: 0.1476 - val_accuracy: 0.9846\n",
      "10000/10000 [==============================] - 1s 86us/step\n",
      "정답률= 0.9846000075340271 loss= 0.1476009870157709\n"
     ]
    },
    {
     "ename": "KeyError",
     "evalue": "'acc'",
     "output_type": "error",
     "traceback": [
      "\u001b[1;31m---------------------------------------------------------------------------\u001b[0m",
      "\u001b[1;31mKeyError\u001b[0m                                  Traceback (most recent call last)",
      "\u001b[1;32m<ipython-input-7-99111dea03e3>\u001b[0m in \u001b[0;36m<module>\u001b[1;34m\u001b[0m\n\u001b[0;32m     47\u001b[0m \u001b[1;31m# 학습 상태를 그래프로 그리기 --- (*6)\u001b[0m\u001b[1;33m\u001b[0m\u001b[1;33m\u001b[0m\u001b[1;33m\u001b[0m\u001b[0m\n\u001b[0;32m     48\u001b[0m \u001b[1;31m# 정답률 추이를 그래프로 그리기\u001b[0m\u001b[1;33m\u001b[0m\u001b[1;33m\u001b[0m\u001b[1;33m\u001b[0m\u001b[0m\n\u001b[1;32m---> 49\u001b[1;33m \u001b[0mplt\u001b[0m\u001b[1;33m.\u001b[0m\u001b[0mplot\u001b[0m\u001b[1;33m(\u001b[0m\u001b[0mhist\u001b[0m\u001b[1;33m.\u001b[0m\u001b[0mhistory\u001b[0m\u001b[1;33m[\u001b[0m\u001b[1;34m'acc'\u001b[0m\u001b[1;33m]\u001b[0m\u001b[1;33m)\u001b[0m\u001b[1;33m\u001b[0m\u001b[1;33m\u001b[0m\u001b[0m\n\u001b[0m\u001b[0;32m     50\u001b[0m \u001b[0mplt\u001b[0m\u001b[1;33m.\u001b[0m\u001b[0mplot\u001b[0m\u001b[1;33m(\u001b[0m\u001b[0mhist\u001b[0m\u001b[1;33m.\u001b[0m\u001b[0mhistory\u001b[0m\u001b[1;33m[\u001b[0m\u001b[1;34m'val_acc'\u001b[0m\u001b[1;33m]\u001b[0m\u001b[1;33m)\u001b[0m\u001b[1;33m\u001b[0m\u001b[1;33m\u001b[0m\u001b[0m\n\u001b[0;32m     51\u001b[0m \u001b[0mplt\u001b[0m\u001b[1;33m.\u001b[0m\u001b[0mtitle\u001b[0m\u001b[1;33m(\u001b[0m\u001b[1;34m'Accuracy'\u001b[0m\u001b[1;33m)\u001b[0m\u001b[1;33m\u001b[0m\u001b[1;33m\u001b[0m\u001b[0m\n",
      "\u001b[1;31mKeyError\u001b[0m: 'acc'"
     ]
    }
   ],
   "source": [
    "\n",
    "# MLP로 MNIST 분류 문제 풀기\n",
    "import keras\n",
    "from keras.models import Sequential\n",
    "from keras.layers import Dense, Dropout\n",
    "from keras.optimizers import RMSprop\n",
    "from keras.datasets import mnist\n",
    "import matplotlib.pyplot as plt\n",
    "\n",
    "# 입력과 출력 지정하기\n",
    "in_size = 28 * 28\n",
    "out_size = 10\n",
    "\n",
    "# MNIST 데이터 읽어 들이기 --- (*1)\n",
    "(X_train, y_train), (X_test, y_test) = mnist.load_data()\n",
    "\n",
    "# 데이터를 28*28=784의 1차원 배열로 변환하기\n",
    "X_train = X_train.reshape(-1, 784).astype('float32') / 255\n",
    "X_test = X_test.reshape(-1, 784).astype('float32') / 255\n",
    "\n",
    "# 레이블 데이터를 One-hot 형식으로 변환하기\n",
    "y_train = keras.utils.np_utils.to_categorical(y_train.astype('int32'),10)\n",
    "y_test = keras.utils.np_utils.to_categorical(y_test.astype('int32'),10)\n",
    "\n",
    "# MLP모델의 구조 정의하기 --- (*2)\n",
    "model = Sequential()\n",
    "model.add(Dense(512, activation='relu', input_shape=(in_size,)))\n",
    "model.add(Dropout(0.2))\n",
    "model.add(Dense(512, activation='relu'))\n",
    "model.add(Dropout(0.2))\n",
    "model.add(Dense(out_size, activation='softmax'))\n",
    "\n",
    "# 모델 구축하기 --- (*3)\n",
    "model.compile(\n",
    "    loss='categorical_crossentropy',\n",
    "    optimizer=RMSprop(),\n",
    "    metrics=['accuracy'])\n",
    "\n",
    "# 학습 실행하기 --- (*4)\n",
    "hist = model.fit(X_train, y_train,\n",
    "          batch_size=128, \n",
    "          epochs=50,\n",
    "          verbose=1,\n",
    "          validation_data=(X_test, y_test))\n",
    "\n",
    "\n"
   ]
  },
  {
   "cell_type": "code",
   "execution_count": 9,
   "metadata": {},
   "outputs": [
    {
     "name": "stdout",
     "output_type": "stream",
     "text": [
      "10000/10000 [==============================] - 0s 44us/step\n",
      "정답률= 0.9846000075340271 loss= 0.1476009870157709\n"
     ]
    },
    {
     "data": {
      "image/png": "[encoded data removed]",
      "text/plain": [
       "<Figure size 432x288 with 1 Axes>"
      ]
     },
     "metadata": {
      "needs_background": "light"
     },
     "output_type": "display_data"
    },
    {
     "data": {
      "image/png": "[encoded data removed]",
      "text/plain": [
       "<Figure size 432x288 with 1 Axes>"
      ]
     },
     "metadata": {
      "needs_background": "light"
     },
     "output_type": "display_data"
    }
   ],
   "source": [
    "# 모델 평가하기 --- (*5)\n",
    "score = model.evaluate(X_test, y_test, verbose=1)\n",
    "print('정답률=', score[1], 'loss=', score[0])\n",
    "\n",
    "# 학습 상태를 그래프로 그리기 --- (*6)\n",
    "# 정답률 추이를 그래프로 그리기\n",
    "plt.plot(hist.history['accuracy'])\n",
    "plt.plot(hist.history['val_accuracy'])\n",
    "plt.title('Accuracy')\n",
    "plt.legend(['train', 'test'], loc='upper left')\n",
    "plt.show()\n",
    "\n",
    "# 손실 추이를 그래프로 그리기\n",
    "plt.plot(hist.history['loss'])\n",
    "plt.plot(hist.history['val_loss'])\n",
    "plt.title('Loss')\n",
    "plt.legend(['train', 'test'], loc='upper left')\n",
    "plt.show()"
   ]
  },
  {
   "cell_type": "code",
   "execution_count": null,
   "metadata": {},
   "outputs": [
    {
     "name": "stdout",
     "output_type": "stream",
     "text": [
      "Train on 60000 samples, validate on 10000 samples\n",
      "Epoch 1/12\n",
      "60000/60000 [==============================] - 122s 2ms/step - loss: 0.2299 - accuracy: 0.9310 - val_loss: 0.0653 - val_accuracy: 0.9795\n",
      "Epoch 2/12\n",
      "60000/60000 [==============================] - 122s 2ms/step - loss: 0.0866 - accuracy: 0.9743 - val_loss: 0.0470 - val_accuracy: 0.9845\n",
      "Epoch 3/12\n",
      "60000/60000 [==============================] - 117s 2ms/step - loss: 0.0654 - accuracy: 0.9810 - val_loss: 0.0387 - val_accuracy: 0.9879\n",
      "Epoch 4/12\n",
      "23168/60000 [==========>...................] - ETA: 1:08 - loss: 0.0544 - accuracy: 0.9846"
     ]
    }
   ],
   "source": [
    "# CNN으로 MNIST 분류 문제 풀기\n",
    "import keras\n",
    "from keras.models import Sequential\n",
    "from keras.layers import Dense, Dropout, Flatten\n",
    "from keras.layers import Conv2D, MaxPooling2D\n",
    "from keras.datasets import mnist\n",
    "import matplotlib.pyplot as plt\n",
    "\n",
    "# 입력과 출력 지정하기\n",
    "in_shape = (28, 28, 1)\n",
    "out_size = 10\n",
    "\n",
    "# MNIST 데이터 읽어 들이기 \n",
    "(X_train, y_train), (X_test, y_test) = mnist.load_data()\n",
    "\n",
    "# 읽어들인 데이터를 3차원 배열로 변환하기\n",
    "X_train = X_train.reshape(X_train.shape[0], 28, 28, 1).astype('float32') / 255\n",
    "X_test = X_test.reshape(X_test.shape[0], 28, 28, 1).astype('float32') / 255\n",
    "\n",
    "# 레이블 데이터를 One-hot 형식으로 변환하기\n",
    "y_train = keras.utils.np_utils.to_categorical(y_train.astype('int32'),10)\n",
    "y_test = keras.utils.np_utils.to_categorical(y_test.astype('int32'),10)\n",
    "\n",
    "# CNN모델의 구조 정의하기 --- (*2)\n",
    "model = Sequential()\n",
    "\n",
    "model.add(Conv2D(32, kernel_size=(3, 3),activation='relu',input_shape=in_shape))\n",
    "\n",
    "model.add(Conv2D(64, (3, 3), activation='relu'))\n",
    "model.add(MaxPooling2D(pool_size=(2, 2)))\n",
    "model.add(Dropout(0.25))\n",
    "\n",
    "model.add(Flatten())\n",
    "model.add(Dense(128, activation='relu'))\n",
    "model.add(Dropout(0.5))\n",
    "\n",
    "model.add(Dense(out_size, activation='softmax'))\n",
    "\n",
    "# 모델 구축하기 --- (*3)\n",
    "model.compile(loss='categorical_crossentropy',optimizer=RMSprop(),metrics=['accuracy'])\n",
    "\n",
    "# 학습 실행하기 --- (*4)\n",
    "hist = model.fit(X_train, y_train,batch_size=128,epochs=12,verbose=1,validation_data=(X_test, y_test))\n",
    "\n",
    "# 모델 평가하기 --- (*5)\n",
    "score = model.evaluate(X_test, y_test, verbose=1)\n",
    "print('정답률=', score[1], 'loss=', score[0])\n",
    "\n",
    "# 학습 상태를 그래프로 그리기 --- (*6)\n",
    "# 정답률 추이를 그래프로 그리기\n",
    "plt.plot(hist.history['accuracy'])\n",
    "plt.plot(hist.history['val_accuracy'])\n",
    "plt.title('Accuracy')\n",
    "plt.legend(['train', 'test'], loc='upper left')\n",
    "plt.show()\n",
    "\n",
    "# 손실 추이를 그래프로 그리기\n",
    "plt.plot(hist.history['loss'])\n",
    "plt.plot(hist.history['val_loss'])\n",
    "plt.title('Loss')\n",
    "plt.legend(['train', 'test'], loc='upper left')\n",
    "plt.show()\n"
   ]
  },
  {
   "cell_type": "code",
   "execution_count": null,
   "metadata": {},
   "outputs": [],
   "source": [
    "(X_train, y_train), (X_test, y_test) = mnist.load_data()\n",
    "# 읽어들인 데이터를 3차원 배열로 변환하기\n",
    "X_train = X_train.reshape(-1, 28, 28, 1)\n",
    "X_train"
   ]
  },
  {
   "cell_type": "code",
   "execution_count": null,
   "metadata": {},
   "outputs": [],
   "source": []
  }
 ],
 "metadata": {
  "kernelspec": {
   "display_name": "Python 3",
   "language": "python",
   "name": "python3"
  },
  "language_info": {
   "codemirror_mode": {
    "name": "ipython",
    "version": 3
   },
   "file_extension": ".py",
   "mimetype": "text/x-python",
   "name": "python",
   "nbconvert_exporter": "python",
   "pygments_lexer": "ipython3",
   "version": "3.7.3"
  }
 },
 "nbformat": 4,
 "nbformat_minor": 2
}
