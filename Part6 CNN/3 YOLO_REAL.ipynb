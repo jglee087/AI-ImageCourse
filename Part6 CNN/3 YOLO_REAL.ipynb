{
 "cells": [
  {
   "cell_type": "code",
   "execution_count": 1,
   "metadata": {
    "colab": {
     "base_uri": "https://localhost:8080/",
     "height": 136
    },
    "colab_type": "code",
    "executionInfo": {
     "elapsed": 6016,
     "status": "ok",
     "timestamp": 1579237721114,
     "user": {
      "displayName": "최진영",
      "photoUrl": "",
      "userId": "04611147725648038476"
     },
     "user_tz": -540
    },
    "id": "MFMh2BjLTCAO",
    "outputId": "489f4495-0b1f-4017-a3de-f8c7f21f03ad"
   },
   "outputs": [
    {
     "name": "stderr",
     "output_type": "stream",
     "text": [
      "'ls'은(는) 내부 또는 외부 명령, 실행할 수 있는 프로그램, 또는\n",
      "배치 파일이 아닙니다.\n",
      "'rm'은(는) 내부 또는 외부 명령, 실행할 수 있는 프로그램, 또는\n",
      "배치 파일이 아닙니다.\n",
      "Cloning into 'darknet'...\n",
      "Updating files:  73% (1448/1983)\n",
      "Updating files:  74% (1468/1983)\n",
      "Updating files:  75% (1488/1983)\n",
      "Updating files:  76% (1508/1983)\n",
      "Updating files:  77% (1527/1983)\n",
      "Updating files:  78% (1547/1983)\n",
      "Updating files:  79% (1567/1983)\n",
      "Updating files:  80% (1587/1983)\n",
      "Updating files:  81% (1607/1983)\n",
      "Updating files:  82% (1627/1983)\n",
      "Updating files:  83% (1646/1983)\n",
      "Updating files:  84% (1666/1983)\n",
      "Updating files:  85% (1686/1983)\n",
      "Updating files:  86% (1706/1983)\n",
      "Updating files:  87% (1726/1983)\n",
      "Updating files:  88% (1746/1983)\n",
      "Updating files:  89% (1765/1983)\n",
      "Updating files:  90% (1785/1983)\n",
      "Updating files:  91% (1805/1983)\n",
      "Updating files:  92% (1825/1983)\n",
      "Updating files:  93% (1845/1983)\n",
      "Updating files:  94% (1865/1983)\n",
      "Updating files:  95% (1884/1983)\n",
      "Updating files:  96% (1904/1983)\n",
      "Updating files:  97% (1924/1983)\n",
      "Updating files:  98% (1944/1983)\n",
      "Updating files:  99% (1964/1983)\n",
      "Updating files: 100% (1983/1983)\n",
      "Updating files: 100% (1983/1983), done.\n"
     ]
    }
   ],
   "source": [
    "\n",
    "# We will be using a forked version of Darknet which \n",
    "# allows us to suppress the display from OpenCV, when running\n",
    "# object detection on videos\n",
    "!ls\n",
    "!rm -fr darknet\n",
    "!git clone https://github.com/AlexeyAB/darknet/"
   ]
  },
  {
   "cell_type": "code",
   "execution_count": 0,
   "metadata": {
    "colab": {},
    "colab_type": "code",
    "id": "VW1uOqCVTDnk"
   },
   "outputs": [],
   "source": [
    "!ls\n",
    "%cd darknet\n",
    "!ls\n",
    "% cd .."
   ]
  },
  {
   "cell_type": "code",
   "execution_count": 0,
   "metadata": {
    "colab": {},
    "colab_type": "code",
    "id": "AMTebISrTHCU"
   },
   "outputs": [],
   "source": [
    "#Installing CUDA pre-requisites\n",
    "!wget https://developer.nvidia.com/compute/cuda/8.0/Prod2/local_installers/cuda-repo-ubuntu1604-8-0-local-ga2_8.0.61-1_amd64-deb\n",
    "!dpkg -i cuda-repo-ubuntu1604-8-0-local-ga2_8.0.61-1_amd64-deb"
   ]
  },
  {
   "cell_type": "code",
   "execution_count": 0,
   "metadata": {
    "colab": {},
    "colab_type": "code",
    "id": "MfoYsrnMTKRj"
   },
   "outputs": [],
   "source": [
    "!apt update"
   ]
  },
  {
   "cell_type": "code",
   "execution_count": 0,
   "metadata": {
    "colab": {},
    "colab_type": "code",
    "id": "S2l5crq5TN1c"
   },
   "outputs": [],
   "source": [
    "#Installing CUDA\n",
    "!apt install cuda-8-0 -y\n",
    "\n",
    "# If there is an issue installing CUDA, \n",
    "# try installing cuda-visual-tools again\n",
    "# Comment the earlier command to install cuda\n",
    "# Uncomment and run the below command\n",
    "\n",
    "#!apt --fix-broken install cuda-visual-tools-8-0 -y"
   ]
  },
  {
   "cell_type": "code",
   "execution_count": 0,
   "metadata": {
    "colab": {},
    "colab_type": "code",
    "id": "beLswxpmUz8E"
   },
   "outputs": [],
   "source": [
    "import os\n",
    "os.environ['PATH'] += ':/usr/local/cuda/bin'"
   ]
  },
  {
   "cell_type": "code",
   "execution_count": 0,
   "metadata": {
    "colab": {},
    "colab_type": "code",
    "id": "a3MEByn-U1lm"
   },
   "outputs": [],
   "source": [
    "\n",
    "#Installing compilers\n",
    "!apt install gcc-5 g++-5 -y"
   ]
  },
  {
   "cell_type": "code",
   "execution_count": 0,
   "metadata": {
    "colab": {},
    "colab_type": "code",
    "id": "kZgFX9-MTN3s"
   },
   "outputs": [],
   "source": [
    "!ln -s /usr/bin/gcc-5 /usr/local/cuda/bin/gcc \n",
    "!ln -s /usr/bin/g++-5 /usr/local/cuda/bin/g++"
   ]
  },
  {
   "cell_type": "code",
   "execution_count": 0,
   "metadata": {
    "colab": {},
    "colab_type": "code",
    "id": "4Jm6k_40TN5_"
   },
   "outputs": [],
   "source": [
    "import os\n",
    "os.environ['PATH'] += ':/usr/local/cuda/bin'"
   ]
  },
  {
   "cell_type": "code",
   "execution_count": 0,
   "metadata": {
    "colab": {},
    "colab_type": "code",
    "id": "hQfnd6_TTN72"
   },
   "outputs": [],
   "source": [
    "\n",
    "#Changing the variables to include OpenCV and GPU in the Makefile\n",
    "% cd darknet\n",
    "!sed -i 's/OPENCV=0/OPENCV=1/g' Makefile\n",
    "!sed -i 's/GPU=0/GPU=1/g' Makefile\n",
    "#!sed -i 's/CUDNN=0/CUDNN=1/g' Makefile"
   ]
  },
  {
   "cell_type": "code",
   "execution_count": 0,
   "metadata": {
    "colab": {},
    "colab_type": "code",
    "id": "JYd1XogSTfau"
   },
   "outputs": [],
   "source": [
    "# And this is how our Makefile looks now\n",
    "# Check if OPENCV = 1 and GPU = 1\n",
    "!cat Makefile"
   ]
  },
  {
   "cell_type": "code",
   "execution_count": 0,
   "metadata": {
    "colab": {},
    "colab_type": "code",
    "id": "heVwWoE1VGYK"
   },
   "outputs": [],
   "source": [
    "# Apparently we need to install this so that OpenCV can work without any issues\n",
    "# when we are making the file\n",
    "!apt-get install libopencv-dev"
   ]
  },
  {
   "cell_type": "code",
   "execution_count": 0,
   "metadata": {
    "colab": {},
    "colab_type": "code",
    "id": "4PJORFISVGa2"
   },
   "outputs": [],
   "source": [
    "\n",
    "#Running make!\n",
    "!make"
   ]
  },
  {
   "cell_type": "code",
   "execution_count": 0,
   "metadata": {
    "colab": {},
    "colab_type": "code",
    "id": "I8FzUh4PTfdU"
   },
   "outputs": [],
   "source": [
    "# Downloading YOLO weights\n",
    "!wget https://pjreddie.com/media/files/yolov3.weights"
   ]
  },
  {
   "cell_type": "code",
   "execution_count": 0,
   "metadata": {
    "colab": {},
    "colab_type": "code",
    "id": "qI_LMiAPTffM"
   },
   "outputs": [],
   "source": [
    "# Let's see if it can detect object without any issues.\n",
    "# Here is an example from YOLO\n",
    "!./darknet detect cfg/yolov3.cfg yolov3.weights data/dog.jpg"
   ]
  },
  {
   "cell_type": "code",
   "execution_count": 0,
   "metadata": {
    "colab": {},
    "colab_type": "code",
    "id": "47QTSoY7TfjK"
   },
   "outputs": [],
   "source": [
    "#The DOG, The TRUCK and The Bicycle!\n",
    "import cv2\n",
    "import matplotlib.pyplot as plt\n",
    "%matplotlib inline\n",
    "\n",
    "image = cv2.imread(\"predictions.jpg\")\n",
    "height, width = image.shape[:2]\n",
    "resized_image = cv2.resize(image,(3*width, 3*height), interpolation = cv2.INTER_CUBIC)\n",
    "\n",
    "fig = plt.gcf()\n",
    "fig.set_size_inches(18, 10)\n",
    "plt.axis(\"off\")\n",
    "#plt.rcParams['figure.figsize'] = [10, 5]\n",
    "plt.imshow(cv2.cvtColor(resized_image, cv2.COLOR_BGR2RGB))\n",
    "plt.show()"
   ]
  },
  {
   "cell_type": "markdown",
   "metadata": {
    "colab_type": "text",
    "id": "nDZ0yTyr4_8m"
   },
   "source": [
    "동영상 인식해서 파일 저장"
   ]
  },
  {
   "cell_type": "code",
   "execution_count": 0,
   "metadata": {
    "colab": {},
    "colab_type": "code",
    "id": "E6YeogSaTn8k"
   },
   "outputs": [],
   "source": [
    "# And finally run it! Please check if you have given the right video file name\n",
    "\n",
    "!./darknet detector demo cfg/coco.data cfg/yolov3.cfg yolov3.weights -dont_show data/highway.mp4 -i 0 -out_filename res.avi"
   ]
  },
  {
   "cell_type": "markdown",
   "metadata": {
    "colab_type": "text",
    "id": "naGd0PSt5JOQ"
   },
   "source": [
    "실시간인식(아직 ㄴㄴ)"
   ]
  }
 ],
 "metadata": {
  "accelerator": "GPU",
  "colab": {
   "collapsed_sections": [],
   "name": "YOLO_REAL.ipynb의 사본",
   "provenance": []
  },
  "kernelspec": {
   "display_name": "Python 3",
   "language": "python",
   "name": "python3"
  },
  "language_info": {
   "codemirror_mode": {
    "name": "ipython",
    "version": 3
   },
   "file_extension": ".py",
   "mimetype": "text/x-python",
   "name": "python",
   "nbconvert_exporter": "python",
   "pygments_lexer": "ipython3",
   "version": "3.7.3"
  }
 },
 "nbformat": 4,
 "nbformat_minor": 1
}
