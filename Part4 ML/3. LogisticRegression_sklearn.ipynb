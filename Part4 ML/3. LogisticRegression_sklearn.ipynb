{
 "cells": [
  {
   "cell_type": "code",
   "execution_count": 1,
   "metadata": {},
   "outputs": [],
   "source": [
    "import numpy as np\n",
    "import pandas as pd\n",
    "import matplotlib.pyplot as plt\n",
    "\n",
    "from sklearn import datasets, model_selection, linear_model\n",
    "from sklearn.metrics import mean_squared_error"
   ]
  },
  {
   "cell_type": "markdown",
   "metadata": {},
   "source": [
    "<br>\n",
    "<br>\n",
    "\n",
    "#### 1-1. (미국 보스턴의 주택 가격) 데이터 읽어들이기 & Binary label 만들어주기"
   ]
  },
  {
   "cell_type": "code",
   "execution_count": 2,
   "metadata": {},
   "outputs": [
    {
     "data": {
      "text/html": [
       "<div>\n",
       "<style scoped>\n",
       "    .dataframe tbody tr th:only-of-type {\n",
       "        vertical-align: middle;\n",
       "    }\n",
       "\n",
       "    .dataframe tbody tr th {\n",
       "        vertical-align: top;\n",
       "    }\n",
       "\n",
       "    .dataframe thead th {\n",
       "        text-align: right;\n",
       "    }\n",
       "</style>\n",
       "<table border=\"1\" class=\"dataframe\">\n",
       "  <thead>\n",
       "    <tr style=\"text-align: right;\">\n",
       "      <th></th>\n",
       "      <th>0</th>\n",
       "      <th>1</th>\n",
       "      <th>2</th>\n",
       "      <th>3</th>\n",
       "      <th>4</th>\n",
       "      <th>5</th>\n",
       "      <th>6</th>\n",
       "      <th>7</th>\n",
       "      <th>8</th>\n",
       "      <th>9</th>\n",
       "      <th>10</th>\n",
       "      <th>11</th>\n",
       "      <th>12</th>\n",
       "    </tr>\n",
       "  </thead>\n",
       "  <tbody>\n",
       "    <tr>\n",
       "      <th>0</th>\n",
       "      <td>0.00632</td>\n",
       "      <td>18.0</td>\n",
       "      <td>2.31</td>\n",
       "      <td>0</td>\n",
       "      <td>0.538</td>\n",
       "      <td>6.575</td>\n",
       "      <td>65.2</td>\n",
       "      <td>4.0900</td>\n",
       "      <td>1</td>\n",
       "      <td>296</td>\n",
       "      <td>15.3</td>\n",
       "      <td>396.90</td>\n",
       "      <td>4.98</td>\n",
       "    </tr>\n",
       "    <tr>\n",
       "      <th>1</th>\n",
       "      <td>0.02731</td>\n",
       "      <td>0.0</td>\n",
       "      <td>7.07</td>\n",
       "      <td>0</td>\n",
       "      <td>0.469</td>\n",
       "      <td>6.421</td>\n",
       "      <td>78.9</td>\n",
       "      <td>4.9671</td>\n",
       "      <td>2</td>\n",
       "      <td>242</td>\n",
       "      <td>17.8</td>\n",
       "      <td>396.90</td>\n",
       "      <td>9.14</td>\n",
       "    </tr>\n",
       "    <tr>\n",
       "      <th>2</th>\n",
       "      <td>0.02729</td>\n",
       "      <td>0.0</td>\n",
       "      <td>7.07</td>\n",
       "      <td>0</td>\n",
       "      <td>0.469</td>\n",
       "      <td>7.185</td>\n",
       "      <td>61.1</td>\n",
       "      <td>4.9671</td>\n",
       "      <td>2</td>\n",
       "      <td>242</td>\n",
       "      <td>17.8</td>\n",
       "      <td>392.83</td>\n",
       "      <td>4.03</td>\n",
       "    </tr>\n",
       "    <tr>\n",
       "      <th>3</th>\n",
       "      <td>0.03237</td>\n",
       "      <td>0.0</td>\n",
       "      <td>2.18</td>\n",
       "      <td>0</td>\n",
       "      <td>0.458</td>\n",
       "      <td>6.998</td>\n",
       "      <td>45.8</td>\n",
       "      <td>6.0622</td>\n",
       "      <td>3</td>\n",
       "      <td>222</td>\n",
       "      <td>18.7</td>\n",
       "      <td>394.63</td>\n",
       "      <td>2.94</td>\n",
       "    </tr>\n",
       "    <tr>\n",
       "      <th>4</th>\n",
       "      <td>0.06905</td>\n",
       "      <td>0.0</td>\n",
       "      <td>2.18</td>\n",
       "      <td>0</td>\n",
       "      <td>0.458</td>\n",
       "      <td>7.147</td>\n",
       "      <td>54.2</td>\n",
       "      <td>6.0622</td>\n",
       "      <td>3</td>\n",
       "      <td>222</td>\n",
       "      <td>18.7</td>\n",
       "      <td>396.90</td>\n",
       "      <td>5.33</td>\n",
       "    </tr>\n",
       "  </tbody>\n",
       "</table>\n",
       "</div>"
      ],
      "text/plain": [
       "        0     1     2   3      4      5     6       7   8    9     10      11  \\\n",
       "0  0.00632  18.0  2.31   0  0.538  6.575  65.2  4.0900   1  296  15.3  396.90   \n",
       "1  0.02731   0.0  7.07   0  0.469  6.421  78.9  4.9671   2  242  17.8  396.90   \n",
       "2  0.02729   0.0  7.07   0  0.469  7.185  61.1  4.9671   2  242  17.8  392.83   \n",
       "3  0.03237   0.0  2.18   0  0.458  6.998  45.8  6.0622   3  222  18.7  394.63   \n",
       "4  0.06905   0.0  2.18   0  0.458  7.147  54.2  6.0622   3  222  18.7  396.90   \n",
       "\n",
       "     12  \n",
       "0  4.98  \n",
       "1  9.14  \n",
       "2  4.03  \n",
       "3  2.94  \n",
       "4  5.33  "
      ]
     },
     "execution_count": 2,
     "metadata": {},
     "output_type": "execute_result"
    }
   ],
   "source": [
    "df_data = pd.read_excel('boston_house_data.xlsx', index_col=0, encoding='utf-8') \n",
    "# index_col=0 은 엑셀 파일에 인덱스열을 제거하기 위해 사용하는 변수\n",
    "\n",
    "df_data.head()"
   ]
  },
  {
   "cell_type": "code",
   "execution_count": 3,
   "metadata": {},
   "outputs": [
    {
     "data": {
      "text/html": [
       "<div>\n",
       "<style scoped>\n",
       "    .dataframe tbody tr th:only-of-type {\n",
       "        vertical-align: middle;\n",
       "    }\n",
       "\n",
       "    .dataframe tbody tr th {\n",
       "        vertical-align: top;\n",
       "    }\n",
       "\n",
       "    .dataframe thead th {\n",
       "        text-align: right;\n",
       "    }\n",
       "</style>\n",
       "<table border=\"1\" class=\"dataframe\">\n",
       "  <thead>\n",
       "    <tr style=\"text-align: right;\">\n",
       "      <th></th>\n",
       "      <th>0</th>\n",
       "    </tr>\n",
       "  </thead>\n",
       "  <tbody>\n",
       "    <tr>\n",
       "      <th>0</th>\n",
       "      <td>24.0</td>\n",
       "    </tr>\n",
       "    <tr>\n",
       "      <th>1</th>\n",
       "      <td>21.6</td>\n",
       "    </tr>\n",
       "    <tr>\n",
       "      <th>2</th>\n",
       "      <td>34.7</td>\n",
       "    </tr>\n",
       "    <tr>\n",
       "      <th>3</th>\n",
       "      <td>33.4</td>\n",
       "    </tr>\n",
       "    <tr>\n",
       "      <th>4</th>\n",
       "      <td>36.2</td>\n",
       "    </tr>\n",
       "  </tbody>\n",
       "</table>\n",
       "</div>"
      ],
      "text/plain": [
       "      0\n",
       "0  24.0\n",
       "1  21.6\n",
       "2  34.7\n",
       "3  33.4\n",
       "4  36.2"
      ]
     },
     "execution_count": 3,
     "metadata": {},
     "output_type": "execute_result"
    }
   ],
   "source": [
    "df_target = pd.read_excel('boston_house_target.xlsx', index_col=0, encoding='utf-8')\n",
    "df_target.head()"
   ]
  },
  {
   "cell_type": "code",
   "execution_count": 4,
   "metadata": {},
   "outputs": [
    {
     "data": {
      "text/plain": [
       "22.532806324110698"
      ]
     },
     "execution_count": 4,
     "metadata": {},
     "output_type": "execute_result"
    }
   ],
   "source": [
    "# 집값의 평균값이 얼마일까요?\n",
    "\n",
    "mean_price = df_target[0].mean()\n",
    "mean_price"
   ]
  },
  {
   "cell_type": "code",
   "execution_count": 5,
   "metadata": {},
   "outputs": [
    {
     "data": {
      "text/html": [
       "<div>\n",
       "<style scoped>\n",
       "    .dataframe tbody tr th:only-of-type {\n",
       "        vertical-align: middle;\n",
       "    }\n",
       "\n",
       "    .dataframe tbody tr th {\n",
       "        vertical-align: top;\n",
       "    }\n",
       "\n",
       "    .dataframe thead th {\n",
       "        text-align: right;\n",
       "    }\n",
       "</style>\n",
       "<table border=\"1\" class=\"dataframe\">\n",
       "  <thead>\n",
       "    <tr style=\"text-align: right;\">\n",
       "      <th></th>\n",
       "      <th>0</th>\n",
       "      <th>Label</th>\n",
       "    </tr>\n",
       "  </thead>\n",
       "  <tbody>\n",
       "    <tr>\n",
       "      <th>0</th>\n",
       "      <td>24.0</td>\n",
       "      <td>1</td>\n",
       "    </tr>\n",
       "    <tr>\n",
       "      <th>1</th>\n",
       "      <td>21.6</td>\n",
       "      <td>0</td>\n",
       "    </tr>\n",
       "    <tr>\n",
       "      <th>2</th>\n",
       "      <td>34.7</td>\n",
       "      <td>1</td>\n",
       "    </tr>\n",
       "    <tr>\n",
       "      <th>3</th>\n",
       "      <td>33.4</td>\n",
       "      <td>1</td>\n",
       "    </tr>\n",
       "    <tr>\n",
       "      <th>4</th>\n",
       "      <td>36.2</td>\n",
       "      <td>1</td>\n",
       "    </tr>\n",
       "  </tbody>\n",
       "</table>\n",
       "</div>"
      ],
      "text/plain": [
       "      0  Label\n",
       "0  24.0      1\n",
       "1  21.6      0\n",
       "2  34.7      1\n",
       "3  33.4      1\n",
       "4  36.2      1"
      ]
     },
     "execution_count": 5,
     "metadata": {},
     "output_type": "execute_result"
    }
   ],
   "source": [
    "df_target['Label'] = df_target[0].apply(lambda x: 1 if x > mean_price else 0 ) # 새로운 함수를 '적용'해주려면?\n",
    "df_target.head()"
   ]
  },
  {
   "cell_type": "markdown",
   "metadata": {},
   "source": [
    "<br>\n",
    "<br>\n",
    "\n",
    "#### 1-2. Dataframe 을 Numpy array (배열, 행렬)로 바꿔주기"
   ]
  },
  {
   "cell_type": "code",
   "execution_count": 6,
   "metadata": {},
   "outputs": [],
   "source": [
    "boston_data = np.array(df_data)\n",
    "boston_target = np.array(df_target['Label'])"
   ]
  },
  {
   "cell_type": "code",
   "execution_count": 7,
   "metadata": {},
   "outputs": [
    {
     "data": {
      "text/plain": [
       "array([1, 0, 1, 1, 1, 1, 1, 1, 0, 0, 0, 0, 0, 0, 0, 0, 1, 0, 0, 0, 0, 0,\n",
       "       0, 0, 0, 0, 0, 0, 0, 0, 0, 0, 0, 0, 0, 0, 0, 0, 1, 1, 1, 1, 1, 1,\n",
       "       0, 0, 0, 0, 0, 0, 0, 0, 1, 1, 0, 1, 1, 1, 1, 0, 0, 0, 0, 1, 1, 1,\n",
       "       0, 0, 0, 0, 1, 0, 1, 1, 1, 0, 0, 0, 0, 0, 1, 1, 1, 1, 1, 1, 0, 0,\n",
       "       1, 1, 1, 0, 1, 1, 0, 1, 0, 1, 1, 1, 1, 1, 0, 0, 0, 0, 0, 0, 0, 0,\n",
       "       0, 1, 0, 0, 0, 0, 0, 0, 0, 0, 0, 0, 0, 0, 0, 0, 0, 0, 0, 0, 0, 0,\n",
       "       1, 0, 0, 0, 0, 0, 0, 0, 0, 0, 0, 0, 0, 0, 0, 0, 0, 0, 0, 0, 0, 0,\n",
       "       0, 0, 0, 1, 1, 1, 1, 1, 1, 1, 1, 1, 1, 1, 1, 0, 0, 0, 1, 1, 1, 1,\n",
       "       1, 1, 1, 1, 1, 1, 1, 1, 1, 1, 1, 1, 1, 1, 1, 1, 1, 1, 1, 1, 1, 1,\n",
       "       1, 1, 1, 1, 1, 1, 1, 1, 1, 0, 1, 0, 0, 0, 0, 1, 1, 1, 1, 1, 0, 1,\n",
       "       1, 0, 1, 1, 1, 1, 1, 1, 1, 1, 1, 1, 1, 1, 1, 1, 1, 1, 1, 1, 0, 0,\n",
       "       0, 1, 0, 0, 1, 0, 1, 1, 1, 1, 1, 1, 0, 0, 1, 1, 1, 1, 1, 1, 1, 1,\n",
       "       1, 1, 1, 1, 1, 0, 0, 1, 1, 1, 1, 1, 1, 1, 1, 1, 1, 1, 1, 1, 1, 0,\n",
       "       0, 1, 0, 1, 1, 1, 1, 1, 0, 1, 1, 0, 0, 1, 1, 0, 1, 1, 1, 1, 1, 1,\n",
       "       1, 0, 0, 0, 0, 0, 1, 0, 0, 0, 1, 0, 1, 1, 0, 0, 1, 1, 1, 0, 0, 1,\n",
       "       0, 0, 0, 0, 0, 0, 0, 0, 0, 0, 0, 1, 0, 1, 1, 0, 0, 1, 1, 1, 1, 1,\n",
       "       0, 1, 0, 0, 0, 0, 1, 1, 1, 0, 0, 0, 0, 1, 0, 1, 1, 1, 1, 1, 1, 0,\n",
       "       0, 0, 0, 0, 0, 0, 0, 0, 0, 0, 0, 0, 0, 0, 0, 0, 0, 1, 0, 0, 0, 0,\n",
       "       0, 0, 0, 0, 0, 0, 0, 0, 0, 0, 0, 1, 0, 1, 0, 0, 0, 0, 0, 0, 0, 0,\n",
       "       0, 0, 0, 0, 0, 0, 0, 0, 0, 0, 0, 0, 0, 0, 0, 0, 0, 0, 0, 0, 0, 0,\n",
       "       0, 0, 0, 0, 0, 0, 0, 0, 0, 0, 0, 0, 0, 0, 0, 0, 0, 0, 0, 0, 0, 0,\n",
       "       0, 0, 0, 0, 0, 0, 0, 0, 0, 0, 1, 1, 0, 0, 0, 0, 0, 0, 1, 1, 1, 0,\n",
       "       0, 0, 0, 0, 0, 0, 0, 0, 0, 0, 1, 1, 0, 0, 0, 0, 0, 0, 0, 1, 0, 0],\n",
       "      dtype=int64)"
      ]
     },
     "execution_count": 7,
     "metadata": {},
     "output_type": "execute_result"
    }
   ],
   "source": [
    "boston_target"
   ]
  },
  {
   "cell_type": "markdown",
   "metadata": {},
   "source": [
    "<br>\n",
    "<br>\n",
    "\n",
    "#### 2. Feature 선택하기"
   ]
  },
  {
   "cell_type": "markdown",
   "metadata": {},
   "source": [
    "- 0 : **범죄율**\n",
    "- 1 : **25,000 평방피트를 초과하는 거주지역 비율**\n",
    "- 2 : **비소매상업지역 면적 비율** \n",
    "- 3 : **찰스강의 경계에 위치한 경우는 1, 아니면 0**\n",
    "- 4 : **일산화질소 농도**\n",
    "- 5 : **주택당 방 수 (거실 외 subroom)**\n",
    "- 6 : **1940년 이전에 건축된 주택의 비율**\n",
    "- 7 : **직업센터의 거리**\n",
    "- 8 : **방사형 고속도로까지의 거리**\n",
    "- 9 : **재산세율**\n",
    "- 10 : **학생/교사 비율**\n",
    "- 11 : **인구 중 흑인 비율**\n",
    "- 12 : **인구 중 하위 계층 비율**"
   ]
  },
  {
   "cell_type": "markdown",
   "metadata": {},
   "source": [
    "\n",
    "**boston_X = boston_data[ : , 5:12 ] - 5번열 부터 11번열 까지 모두 선택**  \n",
    "**boston_X = boston_data[ : , (5,12) ] - 5번열과 12번열만 선택**  \n"
   ]
  },
  {
   "cell_type": "code",
   "execution_count": 8,
   "metadata": {},
   "outputs": [
    {
     "data": {
      "text/plain": [
       "array([[6.575, 4.98 ],\n",
       "       [6.421, 9.14 ],\n",
       "       [7.185, 4.03 ],\n",
       "       ...,\n",
       "       [6.976, 5.64 ],\n",
       "       [6.794, 6.48 ],\n",
       "       [6.03 , 7.88 ]])"
      ]
     },
     "execution_count": 8,
     "metadata": {},
     "output_type": "execute_result"
    }
   ],
   "source": [
    "# Use only one feature \n",
    "\n",
    "boston_X = boston_data[:,(5, 12)] # 주택당 방 수 & 인구 중 하위 계층 비율 \n",
    "# 모든 행을 선택하고 5열과 12열을 출력하라.\n",
    "\n",
    "#print(boston_X.shape,boston_data[: , 5:12].shape)\n",
    "boston_X"
   ]
  },
  {
   "cell_type": "code",
   "execution_count": 9,
   "metadata": {},
   "outputs": [],
   "source": [
    "boston_Y = boston_target"
   ]
  },
  {
   "cell_type": "markdown",
   "metadata": {},
   "source": [
    "<br>\n",
    "<br>\n",
    "\n",
    "#### 3. Training & Test set 으로 나눠주기"
   ]
  },
  {
   "cell_type": "code",
   "execution_count": 10,
   "metadata": {},
   "outputs": [],
   "source": [
    "from sklearn import model_selection\n",
    "\n",
    "x_train, x_test, y_train, y_test = model_selection.train_test_split(boston_X, boston_Y, test_size=0.30, random_state=0)"
   ]
  },
  {
   "cell_type": "code",
   "execution_count": 11,
   "metadata": {},
   "outputs": [
    {
     "name": "stdout",
     "output_type": "stream",
     "text": [
      "(354, 2)\n",
      "(152, 2)\n",
      "(354,)\n",
      "(152,)\n"
     ]
    }
   ],
   "source": [
    "print(x_train.shape)\n",
    "print(x_test.shape)\n",
    "print(y_train.shape)\n",
    "print(y_test.shape)"
   ]
  },
  {
   "cell_type": "markdown",
   "metadata": {},
   "source": [
    "<br>\n",
    "<br>\n",
    "\n",
    "#### 4. 비어있는 모델 객체 만들기"
   ]
  },
  {
   "cell_type": "code",
   "execution_count": 12,
   "metadata": {},
   "outputs": [],
   "source": [
    "model = linear_model.LogisticRegression(solver='lbfgs') # 로지스틱회귀"
   ]
  },
  {
   "cell_type": "markdown",
   "metadata": {},
   "source": [
    "<br>\n",
    "<br>\n",
    "\n",
    "#### 5. 모델 객체 학습시키기 (on training data)"
   ]
  },
  {
   "cell_type": "code",
   "execution_count": 13,
   "metadata": {},
   "outputs": [
    {
     "data": {
      "text/plain": [
       "LogisticRegression(C=1.0, class_weight=None, dual=False, fit_intercept=True,\n",
       "          intercept_scaling=1, max_iter=100, multi_class='warn',\n",
       "          n_jobs=None, penalty='l2', random_state=None, solver='lbfgs',\n",
       "          tol=0.0001, verbose=0, warm_start=False)"
      ]
     },
     "execution_count": 13,
     "metadata": {},
     "output_type": "execute_result"
    }
   ],
   "source": [
    "# Train the model using the training sets\n",
    "\n",
    "model.fit(x_train, y_train)"
   ]
  },
  {
   "cell_type": "markdown",
   "metadata": {},
   "source": [
    "<br>\n",
    "<br>\n",
    "\n",
    "#### 6. 학습이 끝난 모델 테스트하기 (on test data)"
   ]
  },
  {
   "cell_type": "code",
   "execution_count": 14,
   "metadata": {},
   "outputs": [
    {
     "data": {
      "text/plain": [
       "array([1, 0, 0, 0, 0, 0, 0, 0, 0, 0, 0, 0, 0, 0, 1, 1, 0, 1, 1, 0, 1, 0,\n",
       "       0, 1, 0, 0, 0, 0, 1, 0, 0, 0, 0, 0, 1, 0, 0, 0, 0, 0, 1, 0, 1, 0,\n",
       "       1, 1, 0, 0, 0, 1, 0, 0, 0, 1, 0, 0, 0, 0, 0, 0, 1, 0, 1, 1, 0, 1,\n",
       "       0, 0, 0, 0, 0, 1, 1, 1, 1, 0, 1, 0, 1, 0, 1, 0, 0, 1, 1, 1, 0, 0,\n",
       "       1, 0, 0, 0, 1, 1, 1, 0, 0, 1, 0, 0, 1, 0, 1, 0, 0, 0, 0, 0, 1, 1,\n",
       "       1, 0, 0, 0, 0, 0, 0, 0, 0, 1, 1, 0, 0, 0, 0, 0, 1, 0, 0, 1, 0, 0,\n",
       "       0, 0, 0, 1, 0, 0, 1, 0, 0, 0, 1, 1, 1, 0, 1, 1, 0, 0, 1, 1],\n",
       "      dtype=int64)"
      ]
     },
     "execution_count": 14,
     "metadata": {},
     "output_type": "execute_result"
    }
   ],
   "source": [
    "# 양성/음성 확률을 확인하려면?\n",
    "\n",
    "# plot roc curve for test set\n",
    "pred_test = model.predict(x_test) # Predict 'probability'\n",
    "#pred_test\n",
    "\n"
   ]
  },
  {
   "cell_type": "code",
   "execution_count": 15,
   "metadata": {},
   "outputs": [
    {
     "data": {
      "text/plain": [
       "array([[2.71727138e-01, 7.28272862e-01],\n",
       "       [5.14126251e-01, 4.85873749e-01],\n",
       "       [5.72011266e-01, 4.27988734e-01],\n",
       "       [9.94933971e-01, 5.06602928e-03],\n",
       "       [7.70744299e-01, 2.29255701e-01],\n",
       "       [5.07806637e-01, 4.92193363e-01],\n",
       "       [7.68191608e-01, 2.31808392e-01],\n",
       "       [5.56571586e-01, 4.43428414e-01],\n",
       "       [9.37812032e-01, 6.21879678e-02],\n",
       "       [5.76735788e-01, 4.23264212e-01],\n",
       "       [9.93110093e-01, 6.88990666e-03],\n",
       "       [9.88530491e-01, 1.14695093e-02],\n",
       "       [9.66734148e-01, 3.32658524e-02],\n",
       "       [9.99931971e-01, 6.80287144e-05],\n",
       "       [7.73411904e-03, 9.92265881e-01],\n",
       "       [5.49287966e-02, 9.45071203e-01],\n",
       "       [6.30280147e-01, 3.69719853e-01],\n",
       "       [3.26213034e-02, 9.67378697e-01],\n",
       "       [1.13247007e-01, 8.86752993e-01],\n",
       "       [5.34701631e-01, 4.65298369e-01],\n",
       "       [2.41228758e-01, 7.58771242e-01],\n",
       "       [8.12700869e-01, 1.87299131e-01],\n",
       "       [8.86759215e-01, 1.13240785e-01],\n",
       "       [2.29468197e-01, 7.70531803e-01],\n",
       "       [7.15844986e-01, 2.84155014e-01],\n",
       "       [9.85433064e-01, 1.45669362e-02],\n",
       "       [8.93450425e-01, 1.06549575e-01],\n",
       "       [9.61753263e-01, 3.82467368e-02],\n",
       "       [1.49239635e-02, 9.85076036e-01],\n",
       "       [9.66076142e-01, 3.39238577e-02],\n",
       "       [9.74420812e-01, 2.55791880e-02],\n",
       "       [9.13966573e-01, 8.60334271e-02],\n",
       "       [5.75544988e-01, 4.24455012e-01],\n",
       "       [8.00154741e-01, 1.99845259e-01],\n",
       "       [4.09355893e-01, 5.90644107e-01],\n",
       "       [9.33500378e-01, 6.64996221e-02],\n",
       "       [9.99450691e-01, 5.49309494e-04],\n",
       "       [5.39331552e-01, 4.60668448e-01],\n",
       "       [9.64398012e-01, 3.56019882e-02],\n",
       "       [9.97974838e-01, 2.02516166e-03],\n",
       "       [4.39555425e-01, 5.60444575e-01],\n",
       "       [9.20976636e-01, 7.90233640e-02],\n",
       "       [4.87862293e-01, 5.12137707e-01],\n",
       "       [9.89166226e-01, 1.08337737e-02],\n",
       "       [3.39622078e-01, 6.60377922e-01],\n",
       "       [4.18160120e-01, 5.81839880e-01],\n",
       "       [9.59186762e-01, 4.08132381e-02],\n",
       "       [9.23155145e-01, 7.68448546e-02],\n",
       "       [9.99941302e-01, 5.86975360e-05],\n",
       "       [3.66389636e-01, 6.33610364e-01],\n",
       "       [9.18273583e-01, 8.17264175e-02],\n",
       "       [9.82418719e-01, 1.75812813e-02],\n",
       "       [7.68277772e-01, 2.31722228e-01],\n",
       "       [9.21976763e-03, 9.90780232e-01],\n",
       "       [9.78268469e-01, 2.17315308e-02],\n",
       "       [9.52330598e-01, 4.76694016e-02],\n",
       "       [8.61142582e-01, 1.38857418e-01],\n",
       "       [8.47517134e-01, 1.52482866e-01],\n",
       "       [6.90025318e-01, 3.09974682e-01],\n",
       "       [9.72575668e-01, 2.74243322e-02],\n",
       "       [4.23755620e-01, 5.76244380e-01],\n",
       "       [8.18379345e-01, 1.81620655e-01],\n",
       "       [6.11890463e-02, 9.38810954e-01],\n",
       "       [6.17920841e-02, 9.38207916e-01],\n",
       "       [9.42143532e-01, 5.78564681e-02],\n",
       "       [8.39015452e-02, 9.16098455e-01],\n",
       "       [9.52630943e-01, 4.73690565e-02],\n",
       "       [9.88351919e-01, 1.16480806e-02],\n",
       "       [9.74471838e-01, 2.55281623e-02],\n",
       "       [7.25360906e-01, 2.74639094e-01],\n",
       "       [7.32364267e-01, 2.67635733e-01],\n",
       "       [4.33803079e-01, 5.66196921e-01],\n",
       "       [1.13657837e-01, 8.86342163e-01],\n",
       "       [6.19749132e-02, 9.38025087e-01],\n",
       "       [2.18496568e-01, 7.81503432e-01],\n",
       "       [9.99978866e-01, 2.11338164e-05],\n",
       "       [1.10653228e-02, 9.88934677e-01],\n",
       "       [6.31274937e-01, 3.68725063e-01],\n",
       "       [3.86091547e-01, 6.13908453e-01],\n",
       "       [9.18793780e-01, 8.12062197e-02],\n",
       "       [2.18978410e-01, 7.81021590e-01],\n",
       "       [8.70971996e-01, 1.29028004e-01],\n",
       "       [8.58951047e-01, 1.41048953e-01],\n",
       "       [1.17251361e-02, 9.88274864e-01],\n",
       "       [8.73969119e-03, 9.91260309e-01],\n",
       "       [1.88484605e-01, 8.11515395e-01],\n",
       "       [7.04808041e-01, 2.95191959e-01],\n",
       "       [9.54483076e-01, 4.55169244e-02],\n",
       "       [2.38960385e-01, 7.61039615e-01],\n",
       "       [9.83557833e-01, 1.64421667e-02],\n",
       "       [9.31864641e-01, 6.81353594e-02],\n",
       "       [9.95242281e-01, 4.75771865e-03],\n",
       "       [2.57003724e-01, 7.42996276e-01],\n",
       "       [1.08702780e-01, 8.91297220e-01],\n",
       "       [3.94291078e-01, 6.05708922e-01],\n",
       "       [5.05001316e-01, 4.94998684e-01],\n",
       "       [9.99999322e-01, 6.78257496e-07],\n",
       "       [1.54968361e-01, 8.45031639e-01],\n",
       "       [9.64781841e-01, 3.52181591e-02],\n",
       "       [8.89657715e-01, 1.10342285e-01],\n",
       "       [4.55159528e-01, 5.44840472e-01],\n",
       "       [7.14813079e-01, 2.85186921e-01],\n",
       "       [3.38189397e-01, 6.61810603e-01],\n",
       "       [6.18054035e-01, 3.81945965e-01],\n",
       "       [5.21245611e-01, 4.78754389e-01],\n",
       "       [8.16149714e-01, 1.83850286e-01],\n",
       "       [9.99724943e-01, 2.75056881e-04],\n",
       "       [9.64162388e-01, 3.58376118e-02],\n",
       "       [4.93371890e-01, 5.06628110e-01],\n",
       "       [3.52638932e-01, 6.47361068e-01],\n",
       "       [5.72815671e-02, 9.42718433e-01],\n",
       "       [9.99572037e-01, 4.27962534e-04],\n",
       "       [9.84046418e-01, 1.59535815e-02],\n",
       "       [9.46404747e-01, 5.35952528e-02],\n",
       "       [9.99900466e-01, 9.95342786e-05],\n",
       "       [9.14113492e-01, 8.58865076e-02],\n",
       "       [9.99974854e-01, 2.51462387e-05],\n",
       "       [6.34152244e-01, 3.65847756e-01],\n",
       "       [9.99693557e-01, 3.06443474e-04],\n",
       "       [1.13320929e-02, 9.88667907e-01],\n",
       "       [7.33633543e-02, 9.26636646e-01],\n",
       "       [9.99170311e-01, 8.29689161e-04],\n",
       "       [9.71050561e-01, 2.89494389e-02],\n",
       "       [8.43889315e-01, 1.56110685e-01],\n",
       "       [6.24070775e-01, 3.75929225e-01],\n",
       "       [9.77827418e-01, 2.21725818e-02],\n",
       "       [7.33144904e-02, 9.26685510e-01],\n",
       "       [9.88494358e-01, 1.15056416e-02],\n",
       "       [5.60409345e-01, 4.39590655e-01],\n",
       "       [7.27574818e-02, 9.27242518e-01],\n",
       "       [9.50147850e-01, 4.98521498e-02],\n",
       "       [9.98031324e-01, 1.96867584e-03],\n",
       "       [9.79716873e-01, 2.02831268e-02],\n",
       "       [9.22397735e-01, 7.76022650e-02],\n",
       "       [9.92672947e-01, 7.32705321e-03],\n",
       "       [4.55097311e-02, 9.54490269e-01],\n",
       "       [6.81859400e-01, 3.18140600e-01],\n",
       "       [9.99715718e-01, 2.84282026e-04],\n",
       "       [1.50298199e-01, 8.49701801e-01],\n",
       "       [9.99654459e-01, 3.45541085e-04],\n",
       "       [9.96953381e-01, 3.04661883e-03],\n",
       "       [8.87840078e-01, 1.12159922e-01],\n",
       "       [6.57864490e-02, 9.34213551e-01],\n",
       "       [1.15002142e-01, 8.84997858e-01],\n",
       "       [2.39726039e-01, 7.60273961e-01],\n",
       "       [9.37133513e-01, 6.28664865e-02],\n",
       "       [4.44028114e-02, 9.55597189e-01],\n",
       "       [6.21144479e-02, 9.37885552e-01],\n",
       "       [9.93872229e-01, 6.12777127e-03],\n",
       "       [9.99953182e-01, 4.68184743e-05],\n",
       "       [7.69059703e-02, 9.23094030e-01],\n",
       "       [1.21173269e-01, 8.78826731e-01]])"
      ]
     },
     "execution_count": 15,
     "metadata": {},
     "output_type": "execute_result"
    }
   ],
   "source": [
    "pred_prob=model.predict_proba(x_test)\n",
    "pred_prob\n",
    "# 앞의 값은 0일 확률, 뒤 값은 1일 확률"
   ]
  },
  {
   "cell_type": "code",
   "execution_count": 16,
   "metadata": {},
   "outputs": [],
   "source": [
    "#import sklearn.metrics\n",
    "#dir(sklearn.metrics)"
   ]
  },
  {
   "cell_type": "code",
   "execution_count": 17,
   "metadata": {},
   "outputs": [
    {
     "name": "stdout",
     "output_type": "stream",
     "text": [
      "Accuracy:  0.8223684210526315\n"
     ]
    }
   ],
   "source": [
    "from sklearn.metrics import accuracy_score # accuracy\n",
    "\n",
    "# 모델 분류의 정확도\n",
    "print('Accuracy: ', accuracy_score(model.predict(x_test), y_test))"
   ]
  },
  {
   "cell_type": "markdown",
   "metadata": {},
   "source": [
    "<br>\n",
    "<br>\n",
    "\n",
    "#### 7. 모델 시각화"
   ]
  },
  {
   "cell_type": "code",
   "execution_count": 18,
   "metadata": {},
   "outputs": [],
   "source": [
    "from sklearn.metrics import roc_curve, auc\n",
    "\n",
    "pred_test = model.predict_proba(x_test)\n",
    "fpr, tpr, _ = roc_curve(y_true=y_test, y_score=pred_test[:,1]) # real y & predicted y (based on \"Sepal width\")\n",
    "roc_auc = auc(fpr, tpr) # AUC 면적의 값 (수치)"
   ]
  },
  {
   "cell_type": "code",
   "execution_count": 23,
   "metadata": {},
   "outputs": [
    {
     "data": {
      "text/plain": [
       "array([0.        , 0.        , 0.        , 0.01123596, 0.01123596,\n",
       "       0.04494382, 0.04494382, 0.06741573, 0.06741573, 0.07865169,\n",
       "       0.07865169, 0.08988764, 0.08988764, 0.1011236 , 0.1011236 ,\n",
       "       0.13483146, 0.13483146, 0.14606742, 0.14606742, 0.24719101,\n",
       "       0.24719101, 0.33707865, 0.33707865, 0.40449438, 0.40449438,\n",
       "       0.50561798, 0.50561798, 0.60674157, 0.60674157, 0.65168539,\n",
       "       0.65168539, 0.85393258, 0.85393258, 1.        ])"
      ]
     },
     "execution_count": 23,
     "metadata": {},
     "output_type": "execute_result"
    }
   ],
   "source": [
    "fpr"
   ]
  },
  {
   "cell_type": "code",
   "execution_count": 19,
   "metadata": {},
   "outputs": [
    {
     "name": "stdout",
     "output_type": "stream",
     "text": [
      "0.891207419297307\n"
     ]
    }
   ],
   "source": [
    "print(roc_auc)"
   ]
  },
  {
   "cell_type": "code",
   "execution_count": 20,
   "metadata": {},
   "outputs": [
    {
     "data": {
      "image/png": "[encoded data removed]",
      "text/plain": [
       "<Figure size 720x720 with 1 Axes>"
      ]
     },
     "metadata": {
      "needs_background": "light"
     },
     "output_type": "display_data"
    }
   ],
   "source": [
    "plt.figure(figsize=(10, 10))\n",
    "\n",
    "plt.plot(fpr, tpr, color='darkorange', lw=2, label='ROC curve (area = %0.2f)' % roc_auc)\n",
    "plt.plot([0, 1], [0, 1], color='navy', lw=2, linestyle='--')\n",
    "\n",
    "plt.xlim([0.0, 1.0])\n",
    "plt.ylim([0.0, 1.05])\n",
    "plt.xlabel('False Positive Rate')\n",
    "plt.ylabel('True Positive Rate')\n",
    "plt.legend(loc=\"lower right\")\n",
    "plt.title(\"ROC curve\")\n",
    "\n",
    "plt.show()"
   ]
  },
  {
   "cell_type": "markdown",
   "metadata": {},
   "source": [
    "<br>\n",
    "<br>\n",
    "\n",
    "#### Practice. 더 좋은 성능을 보이는 Feature 를 찾아보세요!"
   ]
  },
  {
   "cell_type": "code",
   "execution_count": 21,
   "metadata": {},
   "outputs": [
    {
     "name": "stdout",
     "output_type": "stream",
     "text": [
      "Accuracy:  0.8552631578947368\n",
      "AUC:  0.9145710718744426\n"
     ]
    },
    {
     "name": "stderr",
     "output_type": "stream",
     "text": [
      "C:\\Users\\student\\Anaconda3\\lib\\site-packages\\sklearn\\linear_model\\logistic.py:758: ConvergenceWarning: lbfgs failed to converge. Increase the number of iterations.\n",
      "  \"of iterations.\", ConvergenceWarning)\n"
     ]
    },
    {
     "data": {
      "image/png": "[encoded data removed]",
      "text/plain": [
       "<Figure size 720x720 with 1 Axes>"
      ]
     },
     "metadata": {
      "needs_background": "light"
     },
     "output_type": "display_data"
    }
   ],
   "source": [
    "import numpy as np\n",
    "import pandas as pd\n",
    "import matplotlib.pyplot as plt\n",
    "from sklearn import datasets, model_selection, linear_model\n",
    "from sklearn.metrics import mean_squared_error, accuracy_score, roc_curve, auc\n",
    "\n",
    "# 1. Prepare the data (array!)\n",
    "df_data = pd.read_excel('boston_house_data.xlsx', index_col=0, encoding='utf-8')\n",
    "df_target = pd.read_excel('boston_house_target.xlsx', encoding='utf-8')\n",
    "df_target['Label'] = df_target[0].apply(lambda x: 1 if x > df_target[0].mean() else 0 ) \n",
    "boston_data = np.array(df_data)\n",
    "boston_target = np.array(df_target['Label'])\n",
    "\n",
    "# 2. Feature selection\n",
    "#boston_X = boston_data[:,(5, 12)] # 주택당 방 수 & 인구 중 하위 계층 비율 \n",
    "boston_X = boston_data[:, 5:13] \n",
    "boston_Y = boston_target\n",
    "\n",
    "# 3. Train/Test split\n",
    "x_train, x_test, y_train, y_test = model_selection.train_test_split(boston_X, boston_Y, test_size=0.3, random_state=0)\n",
    "\n",
    "# 4. Create model object \n",
    "model = linear_model.LogisticRegression(solver='lbfgs')\n",
    "\n",
    "# 5. Train the model \n",
    "model.fit(x_train, y_train)\n",
    "\n",
    "# 6. Test the model\n",
    "print('Accuracy: ', accuracy_score(model.predict(x_test), y_test))\n",
    "\n",
    "# 7. Visualize the model\n",
    "\n",
    "pred_test = model.predict_proba(x_test) # Predict 'probability'\n",
    "fpr, tpr, _ = roc_curve(y_true=y_test, y_score=pred_test[:,1]) # real y & predicted y (based on \"Sepal width\")\n",
    "roc_auc = auc(fpr, tpr) # AUC 면적의 값 (수치)\n",
    "print('AUC: ', roc_auc)\n",
    "\n",
    "plt.figure(figsize=(10, 10))\n",
    "plt.plot(fpr, tpr, color='darkorange', lw=2, label='ROC curve (area = %0.2f)' % roc_auc)\n",
    "plt.plot([0, 1], [0, 1], color='navy', lw=2, linestyle='--')\n",
    "plt.xlim([0.0, 1.0])\n",
    "plt.ylim([0.0, 1.05])\n",
    "plt.xlabel('False Positive Rate')\n",
    "plt.ylabel('True Positive Rate')\n",
    "plt.legend(loc=\"lower right\")\n",
    "plt.title(\"ROC curve\")\n",
    "plt.show()"
   ]
  },
  {
   "cell_type": "code",
   "execution_count": 22,
   "metadata": {},
   "outputs": [],
   "source": [
    "# 513 "
   ]
  }
 ],
 "metadata": {
  "kernelspec": {
   "display_name": "Python 3",
   "language": "python",
   "name": "python3"
  },
  "language_info": {
   "codemirror_mode": {
    "name": "ipython",
    "version": 3
   },
   "file_extension": ".py",
   "mimetype": "text/x-python",
   "name": "python",
   "nbconvert_exporter": "python",
   "pygments_lexer": "ipython3",
   "version": "3.7.3"
  }
 },
 "nbformat": 4,
 "nbformat_minor": 2
}
