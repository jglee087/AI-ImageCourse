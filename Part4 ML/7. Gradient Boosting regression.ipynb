{
 "cells": [
  {
   "cell_type": "code",
   "execution_count": 27,
   "metadata": {},
   "outputs": [],
   "source": [
    "import numpy as np\n",
    "import pandas as pd\n",
    "import matplotlib.pyplot as plt\n",
    "\n",
    "from sklearn import ensemble\n",
    "from sklearn import datasets\n",
    "from sklearn.utils import shuffle\n",
    "from sklearn.metrics import mean_squared_error"
   ]
  },
  {
   "cell_type": "code",
   "execution_count": 22,
   "metadata": {},
   "outputs": [
    {
     "data": {
      "text/plain": [
       "sklearn.utils.Bunch"
      ]
     },
     "execution_count": 22,
     "metadata": {},
     "output_type": "execute_result"
    }
   ],
   "source": [
    "# Load data\n",
    "boston = datasets.load_boston()\n",
    "X, y = shuffle(boston.data, boston.target, random_state=13)\n",
    "\n",
    "type(boston)"
   ]
  },
  {
   "cell_type": "code",
   "execution_count": 30,
   "metadata": {},
   "outputs": [
    {
     "name": "stdout",
     "output_type": "stream",
     "text": [
      "           0     1      2    3       4      5      6        7     8      9   \\\n",
      "0    15.02340   0.0  18.10  0.0  0.6140  5.304   97.3   2.1007  24.0  666.0   \n",
      "1     5.44114   0.0  18.10  0.0  0.7130  6.655   98.2   2.3552  24.0  666.0   \n",
      "2     1.00245   0.0   8.14  0.0  0.5380  6.674   87.3   4.2390   4.0  307.0   \n",
      "3     0.00632  18.0   2.31  0.0  0.5380  6.575   65.2   4.0900   1.0  296.0   \n",
      "4     0.26169   0.0   9.90  0.0  0.5440  6.023   90.4   2.8340   4.0  304.0   \n",
      "5     0.05083   0.0   5.19  0.0  0.5150  6.316   38.1   6.4584   5.0  224.0   \n",
      "6     0.15445  25.0   5.13  0.0  0.4530  6.145   29.2   7.8148   8.0  284.0   \n",
      "7     3.53501   0.0  19.58  1.0  0.8710  6.152   82.6   1.7455   5.0  403.0   \n",
      "8     3.67822   0.0  18.10  0.0  0.7700  5.362   96.2   2.1036  24.0  666.0   \n",
      "9    18.49820   0.0  18.10  0.0  0.6680  4.138  100.0   1.1370  24.0  666.0   \n",
      "10    1.49632   0.0  19.58  0.0  0.8710  5.404  100.0   1.5916   5.0  403.0   \n",
      "11    0.14455  12.5   7.87  0.0  0.5240  6.172   96.1   5.9505   5.0  311.0   \n",
      "12    0.55007  20.0   3.97  0.0  0.6470  7.206   91.6   1.9301   5.0  264.0   \n",
      "13    0.15086   0.0  27.74  0.0  0.6090  5.454   92.7   1.8209   4.0  711.0   \n",
      "14    8.79212   0.0  18.10  0.0  0.5840  5.565   70.6   2.0635  24.0  666.0   \n",
      "15   10.06230   0.0  18.10  0.0  0.5840  6.833   94.3   2.0882  24.0  666.0   \n",
      "16   14.05070   0.0  18.10  0.0  0.5970  6.657  100.0   1.5275  24.0  666.0   \n",
      "17    4.22239   0.0  18.10  1.0  0.7700  5.803   89.0   1.9047  24.0  666.0   \n",
      "18    0.01778  95.0   1.47  0.0  0.4030  7.135   13.9   7.6534   3.0  402.0   \n",
      "19   14.33370   0.0  18.10  0.0  0.6140  6.229   88.0   1.9512  24.0  666.0   \n",
      "20    0.05644  40.0   6.41  1.0  0.4470  6.758   32.9   4.0776   4.0  254.0   \n",
      "21    0.03584  80.0   3.37  0.0  0.3980  6.290   17.8   6.6115   4.0  337.0   \n",
      "22    0.35114   0.0   7.38  0.0  0.4930  6.041   49.9   4.7211   5.0  287.0   \n",
      "23    1.15172   0.0   8.14  0.0  0.5380  5.701   95.0   3.7872   4.0  307.0   \n",
      "24    9.92485   0.0  18.10  0.0  0.7400  6.251   96.6   2.1980  24.0  666.0   \n",
      "25   25.94060   0.0  18.10  0.0  0.6790  5.304   89.1   1.6475  24.0  666.0   \n",
      "26    6.53876   0.0  18.10  1.0  0.6310  7.016   97.5   1.2024  24.0  666.0   \n",
      "27    0.17899   0.0   9.69  0.0  0.5850  5.670   28.8   2.7986   6.0  391.0   \n",
      "28    3.32105   0.0  19.58  1.0  0.8710  5.403  100.0   1.3216   5.0  403.0   \n",
      "29    0.33983  22.0   5.86  0.0  0.4310  6.108   34.9   8.0555   7.0  330.0   \n",
      "..        ...   ...    ...  ...     ...    ...    ...      ...   ...    ...   \n",
      "476   4.34879   0.0  18.10  0.0  0.5800  6.167   84.0   3.0334  24.0  666.0   \n",
      "477   0.54452   0.0  21.89  0.0  0.6240  6.151   97.9   1.6687   4.0  437.0   \n",
      "478   5.82401   0.0  18.10  0.0  0.5320  6.242   64.7   3.4242  24.0  666.0   \n",
      "479   2.73397   0.0  19.58  0.0  0.8710  5.597   94.9   1.5257   5.0  403.0   \n",
      "480  24.80170   0.0  18.10  0.0  0.6930  5.349   96.0   1.7028  24.0  666.0   \n",
      "481   1.27346   0.0  19.58  1.0  0.6050  6.250   92.6   1.7984   5.0  403.0   \n",
      "482   0.66351  20.0   3.97  0.0  0.6470  7.333  100.0   1.8946   5.0  264.0   \n",
      "483   0.49298   0.0   9.90  0.0  0.5440  6.635   82.5   3.3175   4.0  304.0   \n",
      "484   0.05023  35.0   6.06  0.0  0.4379  5.706   28.4   6.6407   1.0  304.0   \n",
      "485   0.06724   0.0   3.24  0.0  0.4600  6.333   17.2   5.2146   4.0  430.0   \n",
      "486   0.06076   0.0  11.93  0.0  0.5730  6.976   91.0   2.1675   1.0  273.0   \n",
      "487   3.69311   0.0  18.10  0.0  0.7130  6.376   88.4   2.5671  24.0  666.0   \n",
      "488   0.44178   0.0   6.20  0.0  0.5040  6.552   21.4   3.3751   8.0  307.0   \n",
      "489  13.67810   0.0  18.10  0.0  0.7400  5.935   87.9   1.8206  24.0  666.0   \n",
      "490   8.49213   0.0  18.10  0.0  0.5840  6.348   86.1   2.0527  24.0  666.0   \n",
      "491   6.71772   0.0  18.10  0.0  0.7130  6.749   92.6   2.3236  24.0  666.0   \n",
      "492   0.38735   0.0  25.65  0.0  0.5810  5.613   95.6   1.7572   2.0  188.0   \n",
      "493   0.17783   0.0   9.69  0.0  0.5850  5.569   73.5   2.3999   6.0  391.0   \n",
      "494  51.13580   0.0  18.10  0.0  0.5970  5.757  100.0   1.4130  24.0  666.0   \n",
      "495   2.81838   0.0  18.10  0.0  0.5320  5.762   40.3   4.0983  24.0  666.0   \n",
      "496   5.66637   0.0  18.10  0.0  0.7400  6.219  100.0   2.0048  24.0  666.0   \n",
      "497   0.52058   0.0   6.20  1.0  0.5070  6.631   76.5   4.1480   8.0  307.0   \n",
      "498   2.14918   0.0  19.58  0.0  0.8710  5.709   98.5   1.6232   5.0  403.0   \n",
      "499   0.20608  22.0   5.86  0.0  0.4310  5.593   76.5   7.9549   7.0  330.0   \n",
      "500   0.04301  80.0   1.91  0.0  0.4130  5.663   21.9  10.5857   4.0  334.0   \n",
      "501   0.53700   0.0   6.20  0.0  0.5040  5.981   68.1   3.6715   8.0  307.0   \n",
      "502   1.05393   0.0   8.14  0.0  0.5380  5.935   29.3   4.4986   4.0  307.0   \n",
      "503   0.07896   0.0  12.83  0.0  0.4370  6.273    6.0   4.2515   5.0  398.0   \n",
      "504   0.07022   0.0   4.05  0.0  0.5100  6.020   47.2   3.5549   5.0  296.0   \n",
      "505   0.03306   0.0   5.19  0.0  0.5150  6.059   37.3   4.8122   5.0  224.0   \n",
      "\n",
      "       10      11     12  \n",
      "0    20.2  349.48  24.91  \n",
      "1    20.2  355.29  17.73  \n",
      "2    21.0  380.23  11.98  \n",
      "3    15.3  396.90   4.98  \n",
      "4    18.4  396.30  11.72  \n",
      "5    20.2  389.71   5.68  \n",
      "6    19.7  390.68   6.86  \n",
      "7    14.7   88.01  15.02  \n",
      "8    20.2  380.79  10.19  \n",
      "9    20.2  396.90  37.97  \n",
      "10   14.7  341.60  13.28  \n",
      "11   15.2  396.90  19.15  \n",
      "12   13.0  387.89   8.10  \n",
      "13   20.1  395.09  18.06  \n",
      "14   20.2    3.65  17.16  \n",
      "15   20.2   81.33  19.69  \n",
      "16   20.2   35.05  21.22  \n",
      "17   20.2  353.04  14.64  \n",
      "18   17.0  384.30   4.45  \n",
      "19   20.2  383.32  13.11  \n",
      "20   17.6  396.90   3.53  \n",
      "21   16.1  396.90   4.67  \n",
      "22   19.6  396.90   7.70  \n",
      "23   21.0  358.77  18.35  \n",
      "24   20.2  388.52  16.44  \n",
      "25   20.2  127.36  26.64  \n",
      "26   20.2  392.05   2.96  \n",
      "27   19.2  393.29  17.60  \n",
      "28   14.7  396.90  26.82  \n",
      "29   19.1  390.18   9.16  \n",
      "..    ...     ...    ...  \n",
      "476  20.2  396.90  16.29  \n",
      "477  21.2  396.90  18.46  \n",
      "478  20.2  396.90  10.74  \n",
      "479  14.7  351.85  21.45  \n",
      "480  20.2  396.90  19.77  \n",
      "481  14.7  338.92   5.50  \n",
      "482  13.0  383.29   7.79  \n",
      "483  18.4  396.90   4.54  \n",
      "484  16.9  394.02  12.43  \n",
      "485  16.9  375.21   7.34  \n",
      "486  21.0  396.90   5.64  \n",
      "487  20.2  391.43  14.65  \n",
      "488  17.4  380.34   3.76  \n",
      "489  20.2   68.95  34.02  \n",
      "490  20.2   83.45  17.64  \n",
      "491  20.2    0.32  17.44  \n",
      "492  19.1  359.29  27.26  \n",
      "493  19.2  395.77  15.10  \n",
      "494  20.2    2.60  10.11  \n",
      "495  20.2  392.92  10.42  \n",
      "496  20.2  395.69  16.59  \n",
      "497  17.4  388.45   9.54  \n",
      "498  14.7  261.95  15.79  \n",
      "499  19.1  372.49  12.50  \n",
      "500  22.0  382.80   8.05  \n",
      "501  17.4  378.35  11.65  \n",
      "502  21.0  386.85   6.58  \n",
      "503  18.7  394.92   6.78  \n",
      "504  16.6  393.23  10.11  \n",
      "505  20.2  396.14   8.51  \n",
      "\n",
      "[506 rows x 13 columns]\n"
     ]
    }
   ],
   "source": [
    "print(pd.DataFrame(X))"
   ]
  },
  {
   "cell_type": "code",
   "execution_count": 3,
   "metadata": {},
   "outputs": [
    {
     "data": {
      "text/plain": [
       "(506, 13)"
      ]
     },
     "execution_count": 3,
     "metadata": {},
     "output_type": "execute_result"
    }
   ],
   "source": [
    "X.shape"
   ]
  },
  {
   "cell_type": "code",
   "execution_count": 4,
   "metadata": {},
   "outputs": [
    {
     "data": {
      "text/plain": [
       "array([1.50234e+01, 0.00000e+00, 1.81000e+01, 0.00000e+00, 6.14000e-01,\n",
       "       5.30400e+00, 9.73000e+01, 2.10070e+00, 2.40000e+01, 6.66000e+02,\n",
       "       2.02000e+01, 3.49480e+02, 2.49100e+01])"
      ]
     },
     "execution_count": 4,
     "metadata": {},
     "output_type": "execute_result"
    }
   ],
   "source": [
    "X[0]"
   ]
  },
  {
   "cell_type": "code",
   "execution_count": null,
   "metadata": {},
   "outputs": [],
   "source": []
  },
  {
   "cell_type": "code",
   "execution_count": 5,
   "metadata": {},
   "outputs": [
    {
     "data": {
      "text/plain": [
       "array([1.50234e+01, 0.00000e+00, 1.81000e+01, 0.00000e+00, 6.14000e-01,\n",
       "       5.30400e+00, 9.73000e+01, 2.10070e+00, 2.40000e+01, 6.66000e+02,\n",
       "       2.02000e+01, 3.49480e+02, 2.49100e+01], dtype=float32)"
      ]
     },
     "execution_count": 5,
     "metadata": {},
     "output_type": "execute_result"
    }
   ],
   "source": [
    "X = X.astype(np.float32)\n",
    "X[0]"
   ]
  },
  {
   "cell_type": "code",
   "execution_count": 6,
   "metadata": {},
   "outputs": [
    {
     "data": {
      "text/plain": [
       "506"
      ]
     },
     "execution_count": 6,
     "metadata": {},
     "output_type": "execute_result"
    }
   ],
   "source": [
    "X.shape[0]"
   ]
  },
  {
   "cell_type": "code",
   "execution_count": 7,
   "metadata": {},
   "outputs": [
    {
     "name": "stdout",
     "output_type": "stream",
     "text": [
      "455\n"
     ]
    }
   ],
   "source": [
    "offset = int(X.shape[0] * 0.9)\n",
    "print(offset)"
   ]
  },
  {
   "cell_type": "code",
   "execution_count": 8,
   "metadata": {},
   "outputs": [],
   "source": [
    "X_train, y_train = X[:offset], y[:offset]\n",
    "X_test, y_test = X[offset:], y[offset:]"
   ]
  },
  {
   "cell_type": "code",
   "execution_count": 9,
   "metadata": {},
   "outputs": [],
   "source": [
    "# Fit regression model\n",
    "params = {'n_estimators': 1000, 'max_depth': 4, 'min_samples_split': 2,\n",
    "          'learning_rate': 0.01, 'loss': 'ls'}\n",
    "\n",
    "model = ensemble.GradientBoostingRegressor(**params)"
   ]
  },
  {
   "cell_type": "code",
   "execution_count": 10,
   "metadata": {},
   "outputs": [
    {
     "data": {
      "text/plain": [
       "GradientBoostingRegressor(alpha=0.9, criterion='friedman_mse', init=None,\n",
       "             learning_rate=0.01, loss='ls', max_depth=4, max_features=None,\n",
       "             max_leaf_nodes=None, min_impurity_decrease=0.0,\n",
       "             min_impurity_split=None, min_samples_leaf=1,\n",
       "             min_samples_split=2, min_weight_fraction_leaf=0.0,\n",
       "             n_estimators=1000, n_iter_no_change=None, presort='auto',\n",
       "             random_state=None, subsample=1.0, tol=0.0001,\n",
       "             validation_fraction=0.1, verbose=0, warm_start=False)"
      ]
     },
     "execution_count": 10,
     "metadata": {},
     "output_type": "execute_result"
    }
   ],
   "source": [
    "model.fit(X_train, y_train)"
   ]
  },
  {
   "cell_type": "code",
   "execution_count": 11,
   "metadata": {
    "scrolled": true
   },
   "outputs": [
    {
     "name": "stdout",
     "output_type": "stream",
     "text": [
      "MSE: 0.8287883033902729\n"
     ]
    }
   ],
   "source": [
    "mse = mean_squared_error(y_train, model.predict(X_train))\n",
    "print(\"MSE: {}\".format(mse))"
   ]
  },
  {
   "cell_type": "code",
   "execution_count": 12,
   "metadata": {},
   "outputs": [
    {
     "name": "stdout",
     "output_type": "stream",
     "text": [
      "MSE: 6.658087737922718\n"
     ]
    }
   ],
   "source": [
    "mse = mean_squared_error(y_test, model.predict(X_test))\n",
    "print(\"MSE: {}\".format(mse))"
   ]
  },
  {
   "cell_type": "code",
   "execution_count": 13,
   "metadata": {},
   "outputs": [
    {
     "data": {
      "text/plain": [
       "1000"
      ]
     },
     "execution_count": 13,
     "metadata": {},
     "output_type": "execute_result"
    }
   ],
   "source": [
    "params['n_estimators']"
   ]
  },
  {
   "cell_type": "code",
   "execution_count": 14,
   "metadata": {},
   "outputs": [
    {
     "data": {
      "text/plain": [
       "Text(0, 0.5, 'Deviance')"
      ]
     },
     "execution_count": 14,
     "metadata": {},
     "output_type": "execute_result"
    },
    {
     "data": {
      "image/png": "[encoded data removed]",
      "text/plain": [
       "<Figure size 864x432 with 1 Axes>"
      ]
     },
     "metadata": {
      "needs_background": "light"
     },
     "output_type": "display_data"
    }
   ],
   "source": [
    "# Plot training deviance\n",
    "\n",
    "# compute test set deviance\n",
    "test_score = np.zeros((params['n_estimators'],), dtype=np.float64)\n",
    "\n",
    "for i, y_pred in enumerate(model.staged_predict(X_test)):\n",
    "    test_score[i] = model.loss_(y_test, y_pred)\n",
    "\n",
    "plt.figure(figsize=(12, 6))\n",
    "plt.subplot(1, 2, 1)\n",
    "plt.title('Deviance')\n",
    "plt.plot(np.arange(params['n_estimators']) + 1, model.train_score_, 'b-',\n",
    "         label='Training Set Deviance')\n",
    "plt.plot(np.arange(params['n_estimators']) + 1, test_score, 'r-',\n",
    "         label='Test Set Deviance')\n",
    "plt.legend(loc='upper right')\n",
    "plt.xlabel('Boosting Iterations')\n",
    "plt.ylabel('Deviance')"
   ]
  },
  {
   "cell_type": "code",
   "execution_count": 15,
   "metadata": {},
   "outputs": [
    {
     "data": {
      "image/png": "[encoded data removed]",
      "text/plain": [
       "<Figure size 432x288 with 1 Axes>"
      ]
     },
     "metadata": {
      "needs_background": "light"
     },
     "output_type": "display_data"
    }
   ],
   "source": [
    "# Plot feature importance\n",
    "feature_importance = model.feature_importances_\n",
    "# make importances relative to max importance\n",
    "feature_importance = 100.0 * (feature_importance / feature_importance.max())\n",
    "sorted_idx = np.argsort(feature_importance)\n",
    "pos = np.arange(sorted_idx.shape[0]) + .5\n",
    "plt.subplot(1, 2, 2)\n",
    "plt.barh(pos, feature_importance[sorted_idx], align='center')\n",
    "plt.yticks(pos, boston.feature_names[sorted_idx])\n",
    "plt.xlabel('Relative Importance')\n",
    "plt.title('Variable Importance')\n",
    "plt.show()"
   ]
  },
  {
   "cell_type": "code",
   "execution_count": null,
   "metadata": {},
   "outputs": [],
   "source": []
  }
 ],
 "metadata": {
  "kernelspec": {
   "display_name": "Python 3",
   "language": "python",
   "name": "python3"
  },
  "language_info": {
   "codemirror_mode": {
    "name": "ipython",
    "version": 3
   },
   "file_extension": ".py",
   "mimetype": "text/x-python",
   "name": "python",
   "nbconvert_exporter": "python",
   "pygments_lexer": "ipython3",
   "version": "3.7.3"
  }
 },
 "nbformat": 4,
 "nbformat_minor": 2
}
