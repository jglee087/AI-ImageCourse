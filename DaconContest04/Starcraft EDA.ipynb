{
 "cells": [
  {
   "cell_type": "code",
   "execution_count": null,
   "metadata": {},
   "outputs": [],
   "source": [
    "#!pip install -U pyarrow --user"
   ]
  },
  {
   "cell_type": "code",
   "execution_count": 1,
   "metadata": {},
   "outputs": [],
   "source": [
    "import pandas as pd\n",
    "import numpy as np\n",
    "import matplotlib.pyplot as plt\n",
    "import seaborn as sns \n",
    "%matplotlib inline"
   ]
  },
  {
   "cell_type": "code",
   "execution_count": 2,
   "metadata": {},
   "outputs": [],
   "source": [
    "train_ = pd.read_csv('./data/train.csv')\n",
    "test_ = pd. read_csv('./data/test.csv')\n",
    "sample_submission = pd.read_csv('./data/sample_submission.csv')"
   ]
  },
  {
   "cell_type": "code",
   "execution_count": 3,
   "metadata": {},
   "outputs": [],
   "source": [
    "train = train_.copy()\n",
    "test = test_.copy()"
   ]
  },
  {
   "cell_type": "code",
   "execution_count": 4,
   "metadata": {},
   "outputs": [
    {
     "name": "stdout",
     "output_type": "stream",
     "text": [
      "67091776\n"
     ]
    }
   ],
   "source": [
    "print(len(train))"
   ]
  },
  {
   "cell_type": "code",
   "execution_count": 22,
   "metadata": {},
   "outputs": [
    {
     "data": {
      "text/plain": [
       "game_id                  0\n",
       "winner                   0\n",
       "time                     0\n",
       "player                   0\n",
       "species                  0\n",
       "event                    0\n",
       "event_contents    10571943\n",
       "dtype: int64"
      ]
     },
     "execution_count": 22,
     "metadata": {},
     "output_type": "execute_result"
    }
   ],
   "source": [
    "train.isnull().sum()"
   ]
  },
  {
   "cell_type": "code",
   "execution_count": 6,
   "metadata": {},
   "outputs": [
    {
     "data": {
      "text/plain": [
       "Camera               31629407\n",
       "Right Click          11565877\n",
       "GetControlGroup      10051180\n",
       "Selection             9526159\n",
       "Ability               3798390\n",
       "SetControlGroup        340704\n",
       "AddToControlGroup      149340\n",
       "ControlGroup            30719\n",
       "Name: event, dtype: int64"
      ]
     },
     "execution_count": 6,
     "metadata": {},
     "output_type": "execute_result"
    }
   ],
   "source": [
    "train['event'].value_counts()"
   ]
  },
  {
   "cell_type": "code",
   "execution_count": 45,
   "metadata": {},
   "outputs": [
    {
     "name": "stdout",
     "output_type": "stream",
     "text": [
      "   game_id  winner  time  player species   event  \\\n",
      "0        0       1  0.00       0       T  Camera   \n",
      "1        0       1  0.00       1       T  Camera   \n",
      "4        0       1  0.14       0       T  Camera   \n",
      "5        0       1  0.14       0       T  Camera   \n",
      "6        0       1  0.14       0       T  Camera   \n",
      "\n",
      "                   event_contents  \n",
      "0         at (145.25, 21.5078125)  \n",
      "1         at (22.75, 147.0078125)  \n",
      "4  at (142.99609375, 24.50390625)  \n",
      "5   at (142.5078125, 24.98828125)  \n",
      "6    at (139.6171875, 27.8828125)  \n"
     ]
    }
   ],
   "source": [
    "#print(train[train['event']=='ControlGroup'])\n",
    "print(train[train['event']=='Camera'].head(5))           "
   ]
  },
  {
   "cell_type": "code",
   "execution_count": 57,
   "metadata": {},
   "outputs": [
    {
     "name": "stdout",
     "output_type": "stream",
     "text": [
      "     game_id  winner  time  player species        event  \\\n",
      "17         0       1  0.20       0       T  Right Click   \n",
      "18         0       1  0.23       0       T  Right Click   \n",
      "111        0       1  1.17       0       T  Right Click   \n",
      "112        0       1  1.18       0       T  Right Click   \n",
      "113        0       1  1.18       0       T  Right Click   \n",
      "114        0       1  1.18       0       T  Right Click   \n",
      "115        0       1  1.18       0       T  Right Click   \n",
      "121        0       1  1.21       0       T  Right Click   \n",
      "142        0       1  1.30       1       T  Right Click   \n",
      "168        0       1  1.50       0       T  Right Click   \n",
      "179        0       1  2.08       0       T  Right Click   \n",
      "182        0       1  2.10       0       T  Right Click   \n",
      "234        0       1  2.35       0       T  Right Click   \n",
      "250        0       1  2.40       1       T  Right Click   \n",
      "314        0       1  2.54       1       T  Right Click   \n",
      "331        0       1  3.01       1       T  Right Click   \n",
      "332        0       1  3.01       0       T  Right Click   \n",
      "484        0       1  3.43       1       T  Right Click   \n",
      "529        0       1  3.56       0       T  Right Click   \n",
      "547        0       1  4.03       0       T  Right Click   \n",
      "554        0       1  4.03       1       T  Right Click   \n",
      "556        0       1  4.04       0       T  Right Click   \n",
      "570        0       1  4.07       1       T  Right Click   \n",
      "571        0       1  4.07       1       T  Right Click   \n",
      "573        0       1  4.08       1       T  Right Click   \n",
      "574        0       1  4.09       1       T  Right Click   \n",
      "579        0       1  4.12       1       T  Right Click   \n",
      "587        0       1  4.14       1       T  Right Click   \n",
      "588        0       1  4.15       0       T  Right Click   \n",
      "589        0       1  4.15       0       T  Right Click   \n",
      "602        0       1  4.17       1       T  Right Click   \n",
      "603        0       1  4.18       0       T  Right Click   \n",
      "607        0       1  4.19       1       T  Right Click   \n",
      "624        0       1  4.22       0       T  Right Click   \n",
      "642        0       1  4.30       1       T  Right Click   \n",
      "677        0       1  4.37       0       T  Right Click   \n",
      "705        0       1  4.44       1       T  Right Click   \n",
      "713        0       1  4.49       0       T  Right Click   \n",
      "751        0       1  4.57       0       T  Right Click   \n",
      "791        0       1  5.08       0       T  Right Click   \n",
      "792        0       1  5.10       0       T  Right Click   \n",
      "793        0       1  5.11       1       T  Right Click   \n",
      "802        0       1  5.16       1       T  Right Click   \n",
      "804        0       1  5.17       1       T  Right Click   \n",
      "838        0       1  5.35       0       T  Right Click   \n",
      "\n",
      "                                        event_contents  \n",
      "17   Location: (136.3759765625, 41.11962890625, 49016)  \n",
      "18   Location: (136.033935546875, 41.735107421875, ...  \n",
      "111  Location: (32.222900390625, 153.720703125, 49120)  \n",
      "112  Location: (29.195068359375, 143.441650390625, ...  \n",
      "113  Location: (29.195068359375, 129.53466796875, 4...  \n",
      "114  Location: (26.167236328125, 116.232421875, 40928)  \n",
      "115  Location: (23.744873046875, 113.813720703125, ...  \n",
      "121  Target: None [00100001]; Location: (150.0, 22....  \n",
      "142  Target: Refinery [03800001]; Location: (27.5, ...  \n",
      "168  Location: (57.0517578125, 137.395263671875, 32...  \n",
      "179  Target: None [01200001]; Location: (140.0, 47....  \n",
      "182   Location: (145.162109375, 50.71923828125, 40935)  \n",
      "234  Target: None [01000001]; Location: (154.0, 55....  \n",
      "250   Location: (31.16015625, 131.819091796875, 49139)  \n",
      "314  Location: (25.115478515625, 140.2294921875, 49...  \n",
      "331  Target: None [00A80001]; Location: (18.0, 147....  \n",
      "332  Location: (137.45947265625, 36.150146484375, 4...  \n",
      "484  Target: None [00A80001]; Location: (18.0, 147....  \n",
      "529     Location: (42.3046875, 148.72900390625, 49127)  \n",
      "547  Location: (36.3271484375, 151.684814453125, 49...  \n",
      "554                     Location: (28.5, 144.5, 49120)  \n",
      "556   Location: (29.08056640625, 151.193359375, 49127)  \n",
      "570   Location: (30.68798828125, 150.595703125, 49127)  \n",
      "571  Target: Refinery [03800001]; Location: (27.5, ...  \n",
      "573  Target: Reaper [03DC0002]; Location: (29.74267...  \n",
      "574  Target: Reaper [03DC0002]; Location: (29.74267...  \n",
      "579  Target: OrbitalCommand [033C0001]; Location: (...  \n",
      "587  Target: OrbitalCommand [033C0001]; Location: (...  \n",
      "588  Location: (34.00244140625, 157.65283203125, 49...  \n",
      "589   Location: (38.81787109375, 162.224609375, 49130)  \n",
      "602  Target: None [00B00001]; Location: (24.0, 153....  \n",
      "603  Location: (59.723388671875, 147.19970703125, 3...  \n",
      "607  Target: Refinery [03800001]; Location: (27.5, ...  \n",
      "624  Location: (65.343017578125, 139.78662109375, 3...  \n",
      "642  Location: (36.320068359375, 141.771240234375, ...  \n",
      "677  Target: None [00600001]; Location: (146.0, 59....  \n",
      "705  Location: (34.531982421875, 127.66357421875, 4...  \n",
      "713  Location: (140.3779296875, 51.172119140625, 40...  \n",
      "751  Target: None [025C0001]; Location: (144.0, 18....  \n",
      "791                     Location: (134.5, 55.5, 40931)  \n",
      "792  Target: None [00000001]; Location: (148.0, 59....  \n",
      "793  Target: Refinery [04240004]; Location: (17.5, ...  \n",
      "802  Target: OrbitalCommand [033C0001]; Location: (...  \n",
      "804  Target: None [01AC0001]; Location: (21.0, 153....  \n",
      "838  Target: None [00600001]; Location: (146.0, 59....  \n"
     ]
    }
   ],
   "source": [
    "print(train[train['event']=='Right Click'].head(45)) "
   ]
  },
  {
   "cell_type": "code",
   "execution_count": 48,
   "metadata": {},
   "outputs": [
    {
     "name": "stdout",
     "output_type": "stream",
     "text": [
      "     game_id  winner  time  player species      event  \\\n",
      "2          0       1  0.02       0       T  Selection   \n",
      "28         0       1  0.33       0       T  Selection   \n",
      "57         0       1  0.40       1       T  Selection   \n",
      "68         0       1  0.47       0       T  Selection   \n",
      "102        0       1  1.06       0       T  Selection   \n",
      "103        0       1  1.07       0       T  Selection   \n",
      "110        0       1  1.15       0       T  Selection   \n",
      "130        0       1  1.23       1       T  Selection   \n",
      "137        0       1  1.27       0       T  Selection   \n",
      "141        0       1  1.30       1       T  Selection   \n",
      "145        0       1  1.36       0       T  Selection   \n",
      "146        0       1  1.37       1       T  Selection   \n",
      "152        0       1  1.45       0       T  Selection   \n",
      "160        0       1  1.47       0       T  Selection   \n",
      "171        0       1  1.52       0       T  Selection   \n",
      "178        0       1  2.07       0       T  Selection   \n",
      "183        0       1  2.12       1       T  Selection   \n",
      "197        0       1  2.19       0       T  Selection   \n",
      "210        0       1  2.24       1       T  Selection   \n",
      "213        0       1  2.25       1       T  Selection   \n",
      "214        0       1  2.26       0       T  Selection   \n",
      "246        0       1  2.39       0       T  Selection   \n",
      "262        0       1  2.44       1       T  Selection   \n",
      "301        0       1  2.50       0       T  Selection   \n",
      "312        0       1  2.53       1       T  Selection   \n",
      "\n",
      "                                        event_contents  \n",
      "2                         ['OrbitalCommand [3080001]']  \n",
      "28                        ['OrbitalCommand [3080001]']  \n",
      "57                        ['OrbitalCommand [33C0001]']  \n",
      "68                                   ['SCV [3280001]']  \n",
      "102                  ['CreepOnlyBlocker4x4 [1B00001]']  \n",
      "103                 ['SCV [30C0001]', 'SCV [3780001]']  \n",
      "110                                  ['SCV [3380001]']  \n",
      "130  ['SCV [3400001]', 'SCV [3440001]', 'SCV [34C00...  \n",
      "137                                  ['SCV [3100001]']  \n",
      "141                 ['SCV [3680001]', 'SCV [3840001]']  \n",
      "145                                  ['SCV [3980002]']  \n",
      "146                             ['Barracks [3A40002]']  \n",
      "152                                  ['SCV [3880001]']  \n",
      "160                             ['Barracks [38C0001]']  \n",
      "171                                  ['SCV [3280001]']  \n",
      "178                                  ['SCV [3280001]']  \n",
      "183                       ['OrbitalCommand [33C0001]']  \n",
      "197                       ['OrbitalCommand [3080001]']  \n",
      "210                 ['SCV [3480001]', 'SCV [36C0001]']  \n",
      "213                             ['Barracks [3A40002]']  \n",
      "214                                  ['SCV [3180001]']  \n",
      "246                             ['Barracks [38C0001]']  \n",
      "262  ['SCV [3400001]', 'SCV [3440001]', 'SCV [35C00...  \n",
      "301                             ['Barracks [38C0001]']  \n",
      "312                             ['Barracks [3A40002]']  \n"
     ]
    }
   ],
   "source": [
    "print(train[train['event']=='Selection'].head(25))         "
   ]
  },
  {
   "cell_type": "code",
   "execution_count": 49,
   "metadata": {},
   "outputs": [
    {
     "name": "stdout",
     "output_type": "stream",
     "text": [
      "     game_id  winner  time  player species    event  \\\n",
      "3          0       1  0.02       0       T  Ability   \n",
      "19         0       1  0.27       0       T  Ability   \n",
      "27         0       1  0.31       0       T  Ability   \n",
      "29         0       1  0.33       1       T  Ability   \n",
      "37         0       1  0.35       0       T  Ability   \n",
      "43         0       1  0.37       1       T  Ability   \n",
      "56         0       1  0.40       1       T  Ability   \n",
      "63         0       1  0.41       1       T  Ability   \n",
      "87         0       1  1.00       0       T  Ability   \n",
      "101        0       1  1.03       0       T  Ability   \n",
      "104        0       1  1.09       0       T  Ability   \n",
      "124        0       1  1.21       1       T  Ability   \n",
      "136        0       1  1.25       0       T  Ability   \n",
      "184        0       1  2.14       0       T  Ability   \n",
      "198        0       1  2.20       0       T  Ability   \n",
      "223        0       1  2.30       1       T  Ability   \n",
      "226        0       1  2.32       0       T  Ability   \n",
      "235        0       1  2.35       1       T  Ability   \n",
      "252        0       1  2.43       0       T  Ability   \n",
      "311        0       1  2.52       1       T  Ability   \n",
      "329        0       1  3.00       0       T  Ability   \n",
      "336        0       1  3.06       1       T  Ability   \n",
      "367        0       1  3.18       1       T  Ability   \n",
      "369        0       1  3.19       0       T  Ability   \n",
      "384        0       1  3.22       0       T  Ability   \n",
      "\n",
      "                                        event_contents  \n",
      "3                                    (1360) - TrainSCV  \n",
      "19   (1021) - BuildSupplyDepot; Location: (135.0, 4...  \n",
      "27                                        (480) - Stop  \n",
      "29                                   (1360) - TrainSCV  \n",
      "37                                   (1360) - TrainSCV  \n",
      "43   (1021) - BuildSupplyDepot; Location: (28.0, 14...  \n",
      "56   (1022) - BuildRefinery; Target: CreepOnlyBlock...  \n",
      "63                                   (1360) - TrainSCV  \n",
      "87   (1023) - BuildBarracks; Location: (135.5, 39.5...  \n",
      "101                                  (1360) - TrainSCV  \n",
      "104  (1022) - BuildRefinery; Target: CreepOnlyBlock...  \n",
      "124  (1023) - BuildBarracks; Location: (28.5, 144.5...  \n",
      "136                                  (1360) - TrainSCV  \n",
      "184  (1020) - BuildCommandCenter; Location: (147.5,...  \n",
      "198                                  (1360) - TrainSCV  \n",
      "223  (1021) - BuildSupplyDepot; Location: (24.0, 14...  \n",
      "226  (1021) - BuildSupplyDepot; Location: (140.0, 3...  \n",
      "235                               (13E0) - TrainMarine  \n",
      "252                   (1C60) - UpgradeToOrbitalCommand  \n",
      "311  (102A) - BuildFactory; Location: (28.5, 138.5,...  \n",
      "329                               (13E0) - TrainMarine  \n",
      "336                   (1C60) - UpgradeToOrbitalCommand  \n",
      "367  (5A0) - Attack; Location: (13.541015625, 111.4...  \n",
      "369  (102A) - BuildFactory; Location: (145.5, 48.5,...  \n",
      "384                                  (1360) - TrainSCV  \n"
     ]
    }
   ],
   "source": [
    "print(train[train['event']=='Ability'].head(25))         "
   ]
  },
  {
   "cell_type": "code",
   "execution_count": 53,
   "metadata": {},
   "outputs": [],
   "source": [
    "# print(train[train['event']=='SetControlGroup'].head(5))     "
   ]
  },
  {
   "cell_type": "code",
   "execution_count": 54,
   "metadata": {},
   "outputs": [],
   "source": [
    "# print(train[train['event']=='GetControlGroup'].head(5))         "
   ]
  },
  {
   "cell_type": "code",
   "execution_count": 52,
   "metadata": {},
   "outputs": [],
   "source": [
    "# print(train[train['event']=='AddToControlGroup'].head(5))     "
   ]
  },
  {
   "cell_type": "code",
   "execution_count": 51,
   "metadata": {},
   "outputs": [],
   "source": [
    "# print(train[train['event']=='ControlGroup'].head(5))     "
   ]
  },
  {
   "cell_type": "markdown",
   "metadata": {},
   "source": [
    "## NaN\n",
    "GetControlGroup   10,051,180  \n",
    "SetControlGroup   340,704  \n",
    "AddToControlGroup  149,340  \n",
    "ControlGroup        30,719  "
   ]
  },
  {
   "cell_type": "code",
   "execution_count": 37,
   "metadata": {},
   "outputs": [
    {
     "name": "stdout",
     "output_type": "stream",
     "text": [
      "10571943\n"
     ]
    }
   ],
   "source": [
    "print(10051180+340704+149340+30719)"
   ]
  },
  {
   "cell_type": "markdown",
   "metadata": {},
   "source": [
    "## Value Exists\n",
    "Camera               31,629,407  \n",
    "Right Click          11,565,877  \n",
    "Selection             9,526,159  \n",
    "Ability               3,798,390"
   ]
  },
  {
   "cell_type": "code",
   "execution_count": 47,
   "metadata": {},
   "outputs": [
    {
     "name": "stdout",
     "output_type": "stream",
     "text": [
      "56519833\n"
     ]
    }
   ],
   "source": [
    "print(31629407+11565877+9526159+3798390)"
   ]
  },
  {
   "cell_type": "code",
   "execution_count": null,
   "metadata": {},
   "outputs": [],
   "source": []
  },
  {
   "cell_type": "code",
   "execution_count": null,
   "metadata": {},
   "outputs": [],
   "source": [
    "train.head()"
   ]
  },
  {
   "cell_type": "code",
   "execution_count": null,
   "metadata": {},
   "outputs": [],
   "source": [
    "train.describe()"
   ]
  },
  {
   "cell_type": "code",
   "execution_count": null,
   "metadata": {},
   "outputs": [],
   "source": [
    "train['winner'].unique()"
   ]
  },
  {
   "cell_type": "markdown",
   "metadata": {},
   "source": [
    "array([1, 0])"
   ]
  },
  {
   "cell_type": "code",
   "execution_count": null,
   "metadata": {},
   "outputs": [],
   "source": [
    "train['species'].unique()"
   ]
  },
  {
   "cell_type": "markdown",
   "metadata": {},
   "source": [
    "array(['T', 'P', 'Z'], dtype=object)"
   ]
  },
  {
   "cell_type": "code",
   "execution_count": null,
   "metadata": {},
   "outputs": [],
   "source": [
    "train['event'].unique()"
   ]
  },
  {
   "cell_type": "markdown",
   "metadata": {},
   "source": [
    "array(['Camera', 'Selection', 'Ability', 'Right Click', 'SetControlGroup',\n",
    "       'GetControlGroup', 'AddToControlGroup', 'ControlGroup'],\n",
    "      dtype=object)"
   ]
  },
  {
   "cell_type": "code",
   "execution_count": 50,
   "metadata": {},
   "outputs": [
    {
     "data": {
      "text/plain": [
       "array([0, 1])"
      ]
     },
     "execution_count": 50,
     "metadata": {},
     "output_type": "execute_result"
    }
   ],
   "source": [
    "train['player'].unique()"
   ]
  },
  {
   "cell_type": "markdown",
   "metadata": {},
   "source": [
    "train['player'].unique()"
   ]
  },
  {
   "cell_type": "code",
   "execution_count": null,
   "metadata": {},
   "outputs": [],
   "source": []
  }
 ],
 "metadata": {
  "kernelspec": {
   "display_name": "Python [conda env:aws_neuron_tensorflow_p36]",
   "language": "python",
   "name": "conda-env-aws_neuron_tensorflow_p36-py"
  },
  "language_info": {
   "codemirror_mode": {
    "name": "ipython",
    "version": 3
   },
   "file_extension": ".py",
   "mimetype": "text/x-python",
   "name": "python",
   "nbconvert_exporter": "python",
   "pygments_lexer": "ipython3",
   "version": "3.6.5"
  }
 },
 "nbformat": 4,
 "nbformat_minor": 2
}
