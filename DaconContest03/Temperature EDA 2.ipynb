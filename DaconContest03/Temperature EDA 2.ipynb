{
 "cells": [
  {
   "cell_type": "code",
   "execution_count": null,
   "metadata": {},
   "outputs": [],
   "source": [
    "import pandas as pd\n",
    "import numpy as np\n",
    "import matplotlib.pyplot as plt\n",
    "import seaborn as sns \n",
    "#import pandas_profiling\n",
    "%matplotlib inline"
   ]
  },
  {
   "cell_type": "code",
   "execution_count": null,
   "metadata": {},
   "outputs": [],
   "source": [
    "train_ = pd.read_csv('./data/train.csv',index_col=0)\n",
    "test_ = pd. read_csv('./data/test.csv',index_col=0)\n",
    "sample_submission = pd.read_csv('./data/sample_submission.csv', index_col=0)"
   ]
  },
  {
   "cell_type": "markdown",
   "metadata": {},
   "source": [
    "데이터 설명\n",
    "\n",
    "-     대전지역에서 측정한 실내외 19곳의 센서데이터와, 주변 지역의 기상청 공공데이터를 semi-비식별화하여 제공합니다. \n",
    "-     센서는 온도를 측정하였습니다. \n",
    "-     모든 데이터는 시간 순으로 정렬 되어 있으며 10분 단위 데이터 입니다. \n",
    "-     예측 대상(target variable)은 Y18입니다. \n",
    "\n",
    "train.csv \n",
    "\n",
    "-     30일 간의 기상청 데이터 (X00 ~ X39) 및 센서데이터 (Y00~Y17)\n",
    "-     이후 3일 간의 기상청 데이터 (X00~X39) 및 센서데이터 (Y18)\n",
    "\n",
    "test.csv \n",
    "-     train.csv 기간 이후 80일 간의 기상청 데이터 (X00~X39)\n",
    "\n",
    "sample_submission.csv\n",
    "-     제출 양식 예시"
   ]
  },
  {
   "cell_type": "markdown",
   "metadata": {},
   "source": [
    "X00 X07 X28 X31 X32 기온  \n",
    "X01 X06 X22 X27 X29 기압  (~1000)  \n",
    "X02 X03 X18 X24 X26 풍속  \n",
    "X04 X10 X21 X36 X39 누적강수량  \n",
    "X05 X08 X09 X23 X33 해면기압  ( ~1000)  \n",
    "X11 X14 X16 X19 X34 누적일사량  \n",
    "X12, X20, X30, X37 X38 습도  \n",
    "X13 X15 X17 X25 X35 풍향  \n",
    "\n",
    "Y00~17 센서측정온도  "
   ]
  },
  {
   "cell_type": "code",
   "execution_count": null,
   "metadata": {},
   "outputs": [],
   "source": [
    "train=train_.copy()\n",
    "test=test_.copy()"
   ]
  },
  {
   "cell_type": "code",
   "execution_count": null,
   "metadata": {},
   "outputs": [],
   "source": [
    "train_tmp=train_.copy()\n",
    "test_tmp=test_.copy()"
   ]
  },
  {
   "cell_type": "code",
   "execution_count": null,
   "metadata": {},
   "outputs": [],
   "source": [
    "train.iloc[:,:10].describe()"
   ]
  },
  {
   "cell_type": "code",
   "execution_count": null,
   "metadata": {},
   "outputs": [],
   "source": [
    "train.iloc[:,10:20].describe()"
   ]
  },
  {
   "cell_type": "code",
   "execution_count": null,
   "metadata": {},
   "outputs": [],
   "source": [
    "train.iloc[:,20:30].describe()"
   ]
  },
  {
   "cell_type": "code",
   "execution_count": null,
   "metadata": {},
   "outputs": [],
   "source": [
    "train.iloc[:,30:40].describe()"
   ]
  },
  {
   "cell_type": "code",
   "execution_count": null,
   "metadata": {},
   "outputs": [],
   "source": [
    "name1='Temp'\n",
    "name2='Press'\n",
    "name3='WindSpeed'\n",
    "name4='Accum_Precipi'\n",
    "name5='SeaLevel_Press'\n",
    "name6='Accum_SolarRadi'\n",
    "name7='Humidi'\n",
    "name8='WindDirect'"
   ]
  },
  {
   "cell_type": "markdown",
   "metadata": {},
   "source": [
    "X00 X07 X28 X31 X32 기온  \n",
    "X01 X06 X22 X27 X29 기압  (~1000)  \n",
    "X02 X03 X18 X24 X26 풍속  \n",
    "X04 X10 X21 X36 X39 누적강수량  \n",
    "X05 X08 X09 X23 X33 해면기압  ( ~1000)  \n",
    "X11 X14 X16 X19 X34 누적일사량 \n",
    "X12, X20, X30, X37 X38 습도  \n",
    "X13 X15 X17 X25 X35 풍향  "
   ]
  },
  {
   "cell_type": "code",
   "execution_count": null,
   "metadata": {},
   "outputs": [],
   "source": [
    "sens='SenTemp'"
   ]
  },
  {
   "cell_type": "code",
   "execution_count": null,
   "metadata": {},
   "outputs": [],
   "source": [
    "train_tmp = train_tmp.rename(columns={'X00':name1+'1', 'X07':name1+'2', 'X28':name1+'3', 'X31':name1+'4', 'X32':name1+'5'})\n",
    "train_tmp = train_tmp.rename(columns={'X01':name2+'1', 'X06':name2+'2', 'X22':name2+'3', 'X27':name2+'4', 'X29':name2+'5'})\n",
    "train_tmp = train_tmp.rename(columns={'X02':name3+'1', 'X03':name3+'2', 'X18':name3+'3', 'X24':name3+'4', 'X26':name3+'5'})\n",
    "train_tmp = train_tmp.rename(columns={'X04':name4+'1', 'X10':name4+'2', 'X21':name4+'3', 'X36':name4+'4', 'X39':name4+'5'})\n",
    "train_tmp = train_tmp.rename(columns={'X05':name5+'1', 'X08':name5+'2', 'X09':name5+'3', 'X23':name5+'4', 'X33':name5+'5'})\n",
    "train_tmp = train_tmp.rename(columns={'X11':name6+'1', 'X14':name6+'2', 'X16':name6+'3', 'X19':name6+'4', 'X34':name6+'5'})\n",
    "train_tmp = train_tmp.rename(columns={'X12':name7+'1', 'X20':name7+'2', 'X30':name7+'3', 'X37':name7+'4', 'X38':name7+'5'})\n",
    "train_tmp = train_tmp.rename(columns={'X13':name8+'1', 'X15':name8+'2', 'X17':name8+'3', 'X25':name8+'4', 'X35':name8+'5'})"
   ]
  },
  {
   "cell_type": "code",
   "execution_count": null,
   "metadata": {},
   "outputs": [],
   "source": [
    "train_tmp = train_tmp.rename(columns={'Y00':sens+'1', 'Y01':sens+'2', 'Y02':sens+'3', 'Y03':sens+'4', 'Y04':sens+'5', 'Y05':sens+'6', 'Y06':sens+'7', \\\n",
    "                                                'Y07':sens+'8','Y08':sens+'9', 'Y09':sens+'10', 'Y10':sens+'11', 'Y11':sens+'12','Y12':sens+'13', 'Y13':sens+'14', \\\n",
    "                                                'Y14':sens+'15', 'Y15':sens+'16', 'Y16':sens+'17', 'Y17':sens+'18'})"
   ]
  },
  {
   "cell_type": "code",
   "execution_count": null,
   "metadata": {},
   "outputs": [],
   "source": [
    "#train_['X10']"
   ]
  },
  {
   "cell_type": "code",
   "execution_count": null,
   "metadata": {},
   "outputs": [],
   "source": [
    "# pr1=test.profile_report()\n",
    "# pr1.to_file('./test_report.html') # pr_report.html 파일로 저장\n",
    "\n",
    "# pr2=train.profile_report()\n",
    "# pr2.to_file('./train_report.html') # pr_report.html 파일로 저장"
   ]
  },
  {
   "cell_type": "code",
   "execution_count": null,
   "metadata": {},
   "outputs": [],
   "source": [
    "# corr = train.corr()\n",
    "# cmap = sns.color_palette(\"Blues\")\n",
    "# f, ax = plt.subplots(figsize=(20, 12))\n",
    "# sns.heatmap(corr, cmap=cmap, annot=True, fmt = \".2f\")"
   ]
  },
  {
   "cell_type": "code",
   "execution_count": null,
   "metadata": {},
   "outputs": [],
   "source": [
    "fig, ax = plt.subplots(figsize=(20, 12), dpi=100)\n",
    "\n",
    "data = train.corr()\n",
    "mask = np.triu(np.ones_like(data, dtype=np.bool))\n",
    "cmap = sns.diverging_palette(220, 10, as_cmap=True)\n",
    "\n",
    "sns.heatmap(data[(data >= 0.3) | (data <= -0.3)], \n",
    "            mask=mask,\n",
    "            vmax=1.0, vmin=-1.0, \n",
    "            cmap='RdBu_r', linewidths=0.2,\n",
    "            annot=True, annot_kws={'size': 6}, \n",
    "            square=False, cbar=True,\n",
    "            cbar_kws={'shrink': .5}, ax=ax)\n",
    "\n",
    "# for _, spine in ax.spines.items():\n",
    "#     spine.set_visible(True)\n",
    "ax.set_ylim(ax.get_ylim()[0]+0.5, ax.get_ylim()[1]-0.5)\n",
    "fig.tight_layout()\n",
    "plt.show()"
   ]
  },
  {
   "cell_type": "code",
   "execution_count": null,
   "metadata": {
    "scrolled": true
   },
   "outputs": [],
   "source": [
    "fig, ax = plt.subplots(figsize=(20, 12), dpi=100)\n",
    "\n",
    "data = train.iloc[:,:40].corr()\n",
    "mask = np.triu(np.ones_like(data, dtype=np.bool))\n",
    "cmap = sns.diverging_palette(220, 10, as_cmap=True)\n",
    "\n",
    "sns.heatmap(data[(data >= 0.3) | (data <= -0.3)], \n",
    "            mask=mask,\n",
    "            vmax=1.0, vmin=-1.0, \n",
    "            cmap='RdBu_r', linewidths=0.2,\n",
    "            annot=True, annot_kws={'size': 6}, \n",
    "            square=False, cbar=True,\n",
    "            cbar_kws={'shrink': .5}, ax=ax)\n",
    "\n",
    "# for _, spine in ax.spines.items():\n",
    "#     spine.set_visible(True)\n",
    "ax.set_ylim(ax.get_ylim()[0]+0.5, ax.get_ylim()[1]-0.5)\n",
    "fig.tight_layout()\n",
    "plt.show()"
   ]
  },
  {
   "cell_type": "code",
   "execution_count": null,
   "metadata": {
    "scrolled": false
   },
   "outputs": [],
   "source": [
    "fig, ax = plt.subplots(figsize=(20, 12), dpi=100)\n",
    "\n",
    "data = train_tmp.iloc[:,:42].corr()\n",
    "mask = np.triu(np.ones_like(data, dtype=np.bool))\n",
    "cmap = sns.diverging_palette(220, 10, as_cmap=True)\n",
    "\n",
    "sns.heatmap(data[(data >= 0.3) | (data <= -0.3)], \n",
    "            mask=mask,\n",
    "            vmax=1.0, vmin=-1.0, \n",
    "            cmap='RdBu_r', linewidths=0.2,\n",
    "            annot=True, annot_kws={'size': 6}, \n",
    "            square=False, cbar=True,\n",
    "            cbar_kws={'shrink': .5}, ax=ax)\n",
    "\n",
    "# for _, spine in ax.spines.items():\n",
    "#     spine.set_visible(True)\n",
    "ax.set_ylim(ax.get_ylim()[0]+0.5, ax.get_ylim()[1]-0.5)\n",
    "fig.tight_layout()\n",
    "plt.show()"
   ]
  },
  {
   "cell_type": "code",
   "execution_count": null,
   "metadata": {},
   "outputs": [],
   "source": [
    "train.head()"
   ]
  },
  {
   "cell_type": "code",
   "execution_count": null,
   "metadata": {},
   "outputs": [],
   "source": [
    "s1=train[['X00','Y00','Y01','Y02','Y03','Y04','Y05','Y06','Y07','Y08','Y09','Y10',\\\n",
    "               'Y11','Y12','Y13','Y14','Y15','Y16','Y17'] ]\n",
    "#s1=train[['X00','X07','X28','X31','X32','Y00','Y01','Y02','Y03','Y04','Y05','Y06','Y07','Y08','Y09','Y10',\\\n",
    "#               'Y11','Y12','Y13','Y14','Y15','Y16','Y17'] ]"
   ]
  },
  {
   "cell_type": "code",
   "execution_count": null,
   "metadata": {},
   "outputs": [],
   "source": [
    "fig, ax = plt.subplots(figsize=(20, 16), dpi=100)\n",
    "s1c=s1.corr()\n",
    "sns.heatmap(s1c,vmin=-1,vmax=1,annot=True)"
   ]
  },
  {
   "cell_type": "code",
   "execution_count": null,
   "metadata": {},
   "outputs": [],
   "source": [
    "#print(train['X00'],train['X07'],train['X28'],train['X31'],train['X32'],train['Y18'])\n",
    "#print(train[['X00','X07','X28','X31','X32','Y18']])\n",
    "\n",
    "s1=train['X00']\n",
    "s2=train['X07']\n",
    "s3=train['X28']\n",
    "s4=train['X31']\n",
    "s5=train['X32']\n",
    "\n",
    "s6=train['Y18']\n",
    "\n",
    "# for k,i in enumerate(range(4318,4752)):\n",
    "#     print(i,s1[i],s6[i])\n",
    "    \n",
    "p0=train['Y00']\n",
    "p1=train['Y01']\n",
    "p2=train['Y02']\n",
    "p3=train['Y03']\n",
    "p4=train['Y04']\n",
    "p5=train['Y05']\n",
    "p6=train['Y06']\n",
    "p7=train['Y07']\n",
    "p8=train['Y08']\n",
    "p9=train['Y09']\n",
    "p10=train['Y10']\n",
    "p11=train['Y11']\n",
    "p12=train['Y12']\n",
    "p13=train['Y13']\n",
    "p14=train['Y14']\n",
    "p15=train['Y15']\n",
    "p16=train['Y16']\n",
    "p17=train['Y17']\n",
    "p18=train['Y18']\n",
    "\n",
    "for k,i in enumerate(range(0,1000)):\n",
    "    print(s1[i],s2[i],s3[i],s4[i],s5[i],'    ',p1[i],p2[i],p3[i],p4[i],p5[i],p6[i],p7[i],p8[i],p9[i],p10[i],p11[i],p12[i],p13[i],p14[i],p15[i],p16[i],p17[i])\n"
   ]
  },
  {
   "cell_type": "code",
   "execution_count": null,
   "metadata": {
    "scrolled": false
   },
   "outputs": [],
   "source": [
    "col = train.iloc[:,40:58]\n",
    "fig = plt.figure(figsize=(15,80))\n",
    "\n",
    "for i, column in enumerate(col):    \n",
    "    plt.subplot(10,2,i+1)\n",
    "    plt.plot(train[column])\n",
    "    plt.title(column)\n",
    "    plt.xlim(-1,4720)\n",
    "    plt.ylim(0,60)\n",
    "    \n",
    "fig.tight_layout()\n",
    "plt.show()"
   ]
  },
  {
   "cell_type": "code",
   "execution_count": null,
   "metadata": {},
   "outputs": [],
   "source": [
    "train.tail()"
   ]
  },
  {
   "cell_type": "code",
   "execution_count": null,
   "metadata": {
    "scrolled": true
   },
   "outputs": [],
   "source": [
    "col = train_tmp.columns\n",
    "fig, axes = plt.subplots(15, 2, figsize=(15,60))\n",
    "\n",
    "for i, column in enumerate(col):\n",
    "    try:\n",
    "        sns.kdeplot(train_tmp[column], shade=True, ax=axes.flat[i])\n",
    "    except:\n",
    "        pass\n",
    "    \n",
    "fig.tight_layout()\n",
    "plt.show()"
   ]
  },
  {
   "cell_type": "code",
   "execution_count": null,
   "metadata": {
    "scrolled": false
   },
   "outputs": [],
   "source": [
    "col = train_tmp.columns\n",
    "fig = plt.figure(figsize=(15,80))\n",
    "\n",
    "for i, column in enumerate(col):    \n",
    "    plt.subplot(30,2,i+1)\n",
    "    plt.plot(train_tmp[column])\n",
    "    plt.title(column)\n",
    "    \n",
    "fig.tight_layout()\n",
    "plt.show()"
   ]
  },
  {
   "cell_type": "code",
   "execution_count": null,
   "metadata": {},
   "outputs": [],
   "source": []
  },
  {
   "cell_type": "code",
   "execution_count": null,
   "metadata": {},
   "outputs": [],
   "source": []
  },
  {
   "cell_type": "markdown",
   "metadata": {},
   "source": [
    "- 온도\n",
    "- 기압\n",
    "- 해면기압\n",
    "- 습도  \n",
    "\n",
    "\n",
    "- 풍속\n",
    "- 누적강수량\n",
    "- 풍향\n",
    "- 누적일사량"
   ]
  },
  {
   "cell_type": "markdown",
   "metadata": {},
   "source": [
    "## 1. 온도\n",
    "### 온도 거의 일정하다.\n",
    "00, 07, 28, 31, 32"
   ]
  },
  {
   "cell_type": "code",
   "execution_count": null,
   "metadata": {},
   "outputs": [],
   "source": [
    "plt.plot(train['X00'])\n",
    "plt.plot(train['X07'])\n",
    "plt.plot(train['X28'])\n",
    "plt.plot(train['X31'])\n",
    "plt.plot(train['X32'])"
   ]
  },
  {
   "cell_type": "markdown",
   "metadata": {},
   "source": [
    "# 2. 기압, 해면기압\n",
    "### 기압은 값의 차이는 있지만 서로간의 상관관계 1에 가깝다.\n",
    "01, 06, 22, 27 ,29"
   ]
  },
  {
   "cell_type": "code",
   "execution_count": null,
   "metadata": {},
   "outputs": [],
   "source": [
    "plt.plot(train['X01'])\n",
    "plt.plot(train['X06'])\n",
    "plt.plot(train['X22'])\n",
    "plt.plot(train['X27'])\n",
    "plt.plot(train['X29'])"
   ]
  },
  {
   "cell_type": "markdown",
   "metadata": {},
   "source": [
    "### 해면기압은 서로 거의 같을 뿐만 아니라 상관관계 역시 거의 1에 가깝다.\n",
    "05, 08, 09, 23, 33"
   ]
  },
  {
   "cell_type": "code",
   "execution_count": null,
   "metadata": {},
   "outputs": [],
   "source": [
    "plt.plot(train['X05'])\n",
    "plt.plot(train['X08'])\n",
    "plt.plot(train['X09'])\n",
    "plt.plot(train['X23'])\n",
    "plt.plot(train['X33'])"
   ]
  },
  {
   "cell_type": "code",
   "execution_count": null,
   "metadata": {},
   "outputs": [],
   "source": [
    "s2=pd.concat([train['X00'],train['X01'],train['X05']],axis=1)\n",
    "s2c=s2.corr()\n",
    "sns.heatmap(s2c,annot=True)"
   ]
  },
  {
   "cell_type": "markdown",
   "metadata": {},
   "source": [
    "# 3. 습도\n",
    "### 습도 \n",
    "12, 20, 30, 37, 38"
   ]
  },
  {
   "cell_type": "code",
   "execution_count": null,
   "metadata": {},
   "outputs": [],
   "source": [
    "plt.plot(train['X12'])\n",
    "plt.plot(train['X20'])\n",
    "plt.plot(train['X30'])\n",
    "plt.plot(train['X37'])\n",
    "plt.plot(train['X38'])"
   ]
  },
  {
   "cell_type": "markdown",
   "metadata": {},
   "source": [
    "### 기온과 습도는 anti-correlation 관계를 가지고 있다.\n",
    "12, 20, 30, 37, 38"
   ]
  },
  {
   "cell_type": "code",
   "execution_count": null,
   "metadata": {},
   "outputs": [],
   "source": [
    "plt.figure(figsize=(20,10))\n",
    "plt.plot(train['X00'])\n",
    "plt.plot(train['X12'])\n",
    "plt.plot(train['X38'])"
   ]
  },
  {
   "cell_type": "markdown",
   "metadata": {},
   "source": [
    "# 4. 풍속\n",
    "X02 X03 X18 X24 X26"
   ]
  },
  {
   "cell_type": "code",
   "execution_count": null,
   "metadata": {},
   "outputs": [],
   "source": [
    "plt.plot(train['X00'])\n",
    "plt.plot(train['X18']*3.)\n",
    "#plt.xlim(-1,4000)"
   ]
  },
  {
   "cell_type": "markdown",
   "metadata": {},
   "source": [
    "# 5. 누적일사량  \n",
    "X11 X14 X16 X19 X34 "
   ]
  },
  {
   "cell_type": "markdown",
   "metadata": {},
   "source": [
    "X14, X16, X19 탈락!"
   ]
  },
  {
   "cell_type": "code",
   "execution_count": null,
   "metadata": {},
   "outputs": [],
   "source": [
    "plt.plot(train['X00']*3.)\n",
    "plt.plot(train['X11'])\n",
    "plt.plot(train['X34'])"
   ]
  },
  {
   "cell_type": "code",
   "execution_count": null,
   "metadata": {},
   "outputs": [],
   "source": [
    "s2=train[['X00','X11','X14','X16','X19','X34']]\n",
    "s2= train[['X00','X11','X34']]\n",
    "s2c = s2.corr()"
   ]
  },
  {
   "cell_type": "code",
   "execution_count": null,
   "metadata": {},
   "outputs": [],
   "source": [
    "sns.heatmap(s2c,annot=True,vmax=1.,vmin=-1,cmap='RdBu_r', linewidths=0.2)"
   ]
  },
  {
   "cell_type": "markdown",
   "metadata": {},
   "source": [
    "# 누적강수량  \n",
    "X04 X10 X21 X36 X39 "
   ]
  },
  {
   "cell_type": "code",
   "execution_count": null,
   "metadata": {},
   "outputs": [],
   "source": [
    "#plt.plot(train['X00'])\n",
    "plt.plot(train['X04'])\n",
    "plt.plot(train['X10'])\n",
    "plt.plot(train['X21'])\n",
    "plt.plot(train['X36'])\n",
    "plt.plot(train['X39'])"
   ]
  },
  {
   "cell_type": "code",
   "execution_count": null,
   "metadata": {},
   "outputs": [],
   "source": [
    "new_prec=(train['X04']+train['X10']+train['X21']+train['X36']+train['X39'])/5."
   ]
  },
  {
   "cell_type": "markdown",
   "metadata": {},
   "source": [
    "# 풍향  \n",
    "X13 X15 X17 X25 X35 "
   ]
  },
  {
   "cell_type": "code",
   "execution_count": null,
   "metadata": {},
   "outputs": [],
   "source": [
    "#plt.plot(train['X00'])\n",
    "plt.plot(train['X13'])\n",
    "#plt.plot(train['X15'])\n",
    "#plt.plot(train['X17'])"
   ]
  },
  {
   "cell_type": "markdown",
   "metadata": {},
   "source": [
    "# 온도와 풍향 관계 "
   ]
  },
  {
   "cell_type": "markdown",
   "metadata": {},
   "source": [
    "X13(풍향), X18(풍속)"
   ]
  },
  {
   "cell_type": "code",
   "execution_count": null,
   "metadata": {},
   "outputs": [],
   "source": [
    "plt.plot(train['X13'])"
   ]
  },
  {
   "cell_type": "code",
   "execution_count": null,
   "metadata": {},
   "outputs": [],
   "source": [
    "tmp1=np.array(train['X13'])\n",
    "tmp2=np.zeros((len(tmp1)))"
   ]
  },
  {
   "cell_type": "code",
   "execution_count": null,
   "metadata": {},
   "outputs": [],
   "source": [
    "print(len(tmp1))"
   ]
  },
  {
   "cell_type": "code",
   "execution_count": null,
   "metadata": {},
   "outputs": [],
   "source": [
    "avg=20\n",
    "havg=int(avg/2)"
   ]
  },
  {
   "cell_type": "code",
   "execution_count": null,
   "metadata": {},
   "outputs": [],
   "source": [
    "for i in range(len(tmp1)):\n",
    "    if i<havg:\n",
    "        tmp2[i]=tmp1[i]\n",
    "    elif i>len(tmp1)-havg:\n",
    "        tmp2[i]=tmp1[i]\n",
    "    else:\n",
    "        tmp2[i]=sum(tmp1[i-havg:i+(havg+1)])/avg"
   ]
  },
  {
   "cell_type": "code",
   "execution_count": null,
   "metadata": {},
   "outputs": [],
   "source": [
    "plt.plot(tmp2)\n",
    "#plt.plot(train['X13'])"
   ]
  },
  {
   "cell_type": "code",
   "execution_count": null,
   "metadata": {},
   "outputs": [],
   "source": [
    "s1=pd.Series(tmp2)\n",
    "s2=pd.concat([train['X00'],train['X13'],s1],axis=1)"
   ]
  },
  {
   "cell_type": "code",
   "execution_count": null,
   "metadata": {},
   "outputs": [],
   "source": [
    "s2c=s2.corr()\n",
    "sns.heatmap(s2c,annot=True,vmax=1.,vmin=-1)"
   ]
  },
  {
   "cell_type": "code",
   "execution_count": null,
   "metadata": {},
   "outputs": [],
   "source": []
  },
  {
   "cell_type": "markdown",
   "metadata": {},
   "source": [
    "# 온도와 풍속"
   ]
  },
  {
   "cell_type": "code",
   "execution_count": null,
   "metadata": {},
   "outputs": [],
   "source": [
    "new_ws= (train['X02']+train['X03']+train['X18']+train['X24']+train['X26'])/5."
   ]
  },
  {
   "cell_type": "code",
   "execution_count": null,
   "metadata": {},
   "outputs": [],
   "source": [
    "plt.plot(new_ws)"
   ]
  },
  {
   "cell_type": "code",
   "execution_count": null,
   "metadata": {},
   "outputs": [],
   "source": [
    "#tmp1=np.array(train['X18'])\n",
    "tmp1=np.array(new_ws)\n",
    "tmp2=np.zeros((len(tmp1)))"
   ]
  },
  {
   "cell_type": "code",
   "execution_count": null,
   "metadata": {},
   "outputs": [],
   "source": [
    "avg=8\n",
    "havg=int(avg/2)"
   ]
  },
  {
   "cell_type": "code",
   "execution_count": null,
   "metadata": {},
   "outputs": [],
   "source": [
    "for i in range(len(tmp1)):\n",
    "    if i<havg:\n",
    "        tmp2[i]=tmp1[i]\n",
    "    elif i>len(tmp1)-havg:\n",
    "        tmp2[i]=tmp1[i]\n",
    "    else:\n",
    "        tmp2[i]=sum(tmp1[i-havg:i+(havg+1)])/avg"
   ]
  },
  {
   "cell_type": "code",
   "execution_count": null,
   "metadata": {
    "scrolled": true
   },
   "outputs": [],
   "source": [
    "plt.plot(train['X00'])\n",
    "plt.plot(train['X18'])"
   ]
  },
  {
   "cell_type": "code",
   "execution_count": null,
   "metadata": {},
   "outputs": [],
   "source": [
    "plt.plot(train['X00'])\n",
    "plt.plot(tmp2)"
   ]
  },
  {
   "cell_type": "code",
   "execution_count": null,
   "metadata": {},
   "outputs": [],
   "source": [
    "tmp2=pd.Series(tmp2)"
   ]
  },
  {
   "cell_type": "code",
   "execution_count": null,
   "metadata": {},
   "outputs": [],
   "source": [
    "s1=pd.concat([train['X00'],tmp2],axis=1)\n",
    "s1.shape\n"
   ]
  },
  {
   "cell_type": "code",
   "execution_count": null,
   "metadata": {},
   "outputs": [],
   "source": [
    "ss=s1.corr()\n",
    "sns.heatmap(ss,annot=True,vmax=1.,vmin=-1)"
   ]
  },
  {
   "cell_type": "code",
   "execution_count": null,
   "metadata": {},
   "outputs": [],
   "source": [
    "s2=train[['X00','X18']]\n",
    "s2c = s2.corr()\n",
    "sns.heatmap(s2c,annot=True,vmax=1.,vmin=-1)"
   ]
  },
  {
   "cell_type": "code",
   "execution_count": null,
   "metadata": {},
   "outputs": [],
   "source": []
  },
  {
   "cell_type": "code",
   "execution_count": null,
   "metadata": {},
   "outputs": [],
   "source": [
    "fig, ax = plt.subplots(figsize=(60,60), dpi=400)\n",
    "\n",
    "data = train.iloc[:, :40].corr()\n",
    "mask = np.triu(np.ones_like(data, dtype=np.bool))\n",
    "cmap = sns.diverging_palette(220, 10, as_cmap=True)\n",
    "\n",
    "sns.heatmap(data[(data >= 0.5) | (data <= -0.5)], \n",
    "            mask=mask,\n",
    "            vmax=1.0, vmin=-1.0, \n",
    "            cmap='RdBu_r', linewidths=0.2,\n",
    "            annot=True, annot_kws={'size': 15}, \n",
    "            square=False, cbar=True,\n",
    "            cbar_kws={'shrink': .5}, ax=ax)\n",
    "\n",
    "for _, spine in ax.spines.items():\n",
    "    spine.set_visible(True)\n",
    "    \n",
    "ax.set_ylim(ax.get_ylim()[0]+0.5, ax.get_ylim()[1]-0.5)\n",
    "fig.tight_layout()\n",
    "plt.show()"
   ]
  },
  {
   "cell_type": "code",
   "execution_count": null,
   "metadata": {},
   "outputs": [],
   "source": [
    "#plt.plot(train['Y00']-train['Y03'])"
   ]
  },
  {
   "cell_type": "markdown",
   "metadata": {},
   "source": [
    "# 온도 센서로 측정한 서로 간의 상관관계"
   ]
  },
  {
   "cell_type": "code",
   "execution_count": null,
   "metadata": {
    "scrolled": false
   },
   "outputs": [],
   "source": [
    "corr = train.iloc[:, 41:].corr()\n",
    "cmap = sns.color_palette(\"Blues\")\n",
    "f, ax = plt.subplots(figsize=(20,15))\n",
    "sns.heatmap(corr, cmap=cmap, annot=True, fmt = \".2f\" ,annot_kws={\"size\": 20})"
   ]
  },
  {
   "cell_type": "code",
   "execution_count": null,
   "metadata": {},
   "outputs": [],
   "source": [
    "fig, ax = plt.subplots(figsize=(20, 12), dpi=100)\n",
    "\n",
    "data = train.iloc[:, 41:].corr()\n",
    "mask = np.triu(np.ones_like(data, dtype=np.bool))\n",
    "cmap = sns.diverging_palette(220, 10, as_cmap=True)\n",
    "\n",
    "sns.heatmap(data[(data >= 0.5) | (data <= -0.5)], \n",
    "            mask=mask,\n",
    "            vmax=1.0, vmin=-1.0, \n",
    "            cmap='RdBu_r', linewidths=0.2,\n",
    "            annot=True, annot_kws={'size': 15}, \n",
    "            square=False, cbar=True,\n",
    "            cbar_kws={'shrink': .5}, ax=ax)\n",
    "\n",
    "for _, spine in ax.spines.items():\n",
    "    spine.set_visible(True)\n",
    "    \n",
    "ax.set_ylim(ax.get_ylim()[0]+0.5, ax.get_ylim()[1]-0.5)\n",
    "fig.tight_layout()\n",
    "plt.show()"
   ]
  },
  {
   "cell_type": "markdown",
   "metadata": {},
   "source": [
    "# 데이터 데이터 데이터 처리"
   ]
  },
  {
   "cell_type": "markdown",
   "metadata": {},
   "source": [
    "# Y00~Y17까지의 빈값"
   ]
  },
  {
   "cell_type": "code",
   "execution_count": null,
   "metadata": {
    "scrolled": true
   },
   "outputs": [],
   "source": [
    "#train.iloc[:,40],train['Y00']\n",
    "#train.iloc[:,58],train['Y18']\n",
    "train.iloc[:,40:58].head(50)"
   ]
  },
  {
   "cell_type": "markdown",
   "metadata": {},
   "source": [
    "### Y00 ~ Y17 >>> [0:4320]: Value, [4321:]: NaN, Y_index: [40:58]\n",
    "### Y18 >>> [0:4320]: NaN, [4321:]: Value, Y_index: [58]"
   ]
  },
  {
   "cell_type": "code",
   "execution_count": null,
   "metadata": {},
   "outputs": [],
   "source": [
    "tp=0\n",
    "k=0"
   ]
  },
  {
   "cell_type": "code",
   "execution_count": null,
   "metadata": {},
   "outputs": [],
   "source": [
    "for i in range(40,58):\n",
    "    if i != 46 | i != 47 | i != 52:\n",
    "        tp += train.iloc[0:4320,i]\n",
    "        k+=1"
   ]
  },
  {
   "cell_type": "code",
   "execution_count": null,
   "metadata": {},
   "outputs": [],
   "source": [
    "train.shape"
   ]
  },
  {
   "cell_type": "code",
   "execution_count": null,
   "metadata": {},
   "outputs": [],
   "source": [
    "train.iloc[0:4320,58]=tp/k"
   ]
  },
  {
   "cell_type": "code",
   "execution_count": null,
   "metadata": {},
   "outputs": [],
   "source": [
    "train.head()"
   ]
  },
  {
   "cell_type": "code",
   "execution_count": null,
   "metadata": {},
   "outputs": [],
   "source": [
    "x=train.iloc[:,1:40]\n",
    "y=train.iloc[:,58]"
   ]
  },
  {
   "cell_type": "code",
   "execution_count": null,
   "metadata": {},
   "outputs": [],
   "source": [
    "test_x=test.iloc[:,1:]"
   ]
  },
  {
   "cell_type": "code",
   "execution_count": null,
   "metadata": {},
   "outputs": [],
   "source": []
  }
 ],
 "metadata": {
  "kernelspec": {
   "display_name": "Python [conda env:aws_neuron_tensorflow_p36]",
   "language": "python",
   "name": "conda-env-aws_neuron_tensorflow_p36-py"
  },
  "language_info": {
   "codemirror_mode": {
    "name": "ipython",
    "version": 3
   },
   "file_extension": ".py",
   "mimetype": "text/x-python",
   "name": "python",
   "nbconvert_exporter": "python",
   "pygments_lexer": "ipython3",
   "version": "3.6.5"
  }
 },
 "nbformat": 4,
 "nbformat_minor": 2
}
