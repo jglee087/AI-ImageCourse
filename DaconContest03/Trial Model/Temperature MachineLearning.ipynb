{
 "cells": [
  {
   "cell_type": "code",
   "execution_count": null,
   "metadata": {},
   "outputs": [],
   "source": [
    "import pandas as pd\n",
    "import numpy as np\n",
    "import matplotlib.pyplot as plt\n",
    "import seaborn as sns \n",
    "#import pandas_profiling\n",
    "%matplotlib inline"
   ]
  },
  {
   "cell_type": "code",
   "execution_count": null,
   "metadata": {},
   "outputs": [],
   "source": [
    "train_ = pd.read_csv('./data/train.csv',index_col=0)\n",
    "test_ = pd. read_csv('./data/test.csv',index_col=0)\n",
    "sample_submission = pd.read_csv('./data/sample_submission.csv', index_col=0)"
   ]
  },
  {
   "cell_type": "markdown",
   "metadata": {},
   "source": [
    "데이터 설명\n",
    "\n",
    "-     대전지역에서 측정한 실내외 19곳의 센서데이터와, 주변 지역의 기상청 공공데이터를 semi-비식별화하여 제공합니다. \n",
    "-     센서는 온도를 측정하였습니다. \n",
    "-     모든 데이터는 시간 순으로 정렬 되어 있으며 10분 단위 데이터 입니다. \n",
    "-     예측 대상(target variable)은 Y18입니다. \n",
    "\n",
    "train.csv \n",
    "\n",
    "-     30일 간의 기상청 데이터 (X00 ~ X39) 및 센서데이터 (Y00~Y17)\n",
    "-     이후 3일 간의 기상청 데이터 (X00~X39) 및 센서데이터 (Y18)\n",
    "\n",
    "test.csv \n",
    "-     train.csv 기간 이후 80일 간의 기상청 데이터 (X00~X39)\n",
    "\n",
    "sample_submission.csv\n",
    "-     제출 양식 예시"
   ]
  },
  {
   "cell_type": "markdown",
   "metadata": {},
   "source": [
    "X00 X07 X28 X31 기온  \n",
    "X01 X06 X22 X27 기압  \n",
    "X02 X03 X18 X24 풍속  \n",
    "X04 X10 X21 X36 누적강수량  \n",
    "X05 X08 X09 X23 해면기압  \n",
    "X11 X14 X16 X19 누적일사량  \n",
    "X12, X20, X30, X37 습도\n",
    "X13 X15 X17 X25 풍향  \n",
    "\n",
    "Y00~17 센서측정온도  "
   ]
  },
  {
   "cell_type": "code",
   "execution_count": null,
   "metadata": {},
   "outputs": [],
   "source": [
    "train=train_.copy()\n",
    "test=test_.copy()"
   ]
  },
  {
   "cell_type": "markdown",
   "metadata": {},
   "source": [
    "### Y00 ~ Y17 >>> [0:4320]: Value, [4321:]: NaN, Y_index: [41:58]\n",
    "### Y18 >>> [0:4320]: NaN, [4321:]: Value, Y_index: [59]"
   ]
  },
  {
   "cell_type": "code",
   "execution_count": 4,
   "metadata": {},
   "outputs": [],
   "source": [
    "tp=0\n",
    "k=0"
   ]
  },
  {
   "cell_type": "code",
   "execution_count": 5,
   "metadata": {},
   "outputs": [],
   "source": [
    "cols=train.columns"
   ]
  },
  {
   "cell_type": "code",
   "execution_count": 6,
   "metadata": {},
   "outputs": [],
   "source": [
    "tp=0\n",
    "k=0\n",
    "for i, col in enumerate(cols):\n",
    "    if i > 39 and i <58:\n",
    "        tp += train.iloc[0:4320,i]\n",
    "        k+=1   \n"
   ]
  },
  {
   "cell_type": "code",
   "execution_count": 7,
   "metadata": {},
   "outputs": [],
   "source": [
    "tmp=tp/k"
   ]
  },
  {
   "cell_type": "code",
   "execution_count": 8,
   "metadata": {},
   "outputs": [],
   "source": [
    "train.iloc[0:4320,58]=tmp"
   ]
  },
  {
   "cell_type": "code",
   "execution_count": 30,
   "metadata": {},
   "outputs": [
    {
     "name": "stdout",
     "output_type": "stream",
     "text": [
      "id\n",
      "0    9.7\n",
      "1    9.3\n",
      "2    9.4\n",
      "3    9.4\n",
      "4    9.2\n",
      "Name: X00, dtype: float64\n",
      "id\n",
      "0    988.8\n",
      "1    988.9\n",
      "2    989.0\n",
      "3    988.9\n",
      "4    988.9\n",
      "Name: X01, dtype: float64\n",
      "id\n",
      "0    1.2\n",
      "1    1.7\n",
      "2    1.1\n",
      "3    1.5\n",
      "4    0.8\n",
      "Name: X02, dtype: float64\n",
      "id\n",
      "0    0.6\n",
      "1    1.9\n",
      "2    2.3\n",
      "3    0.7\n",
      "4    1.7\n",
      "Name: X03, dtype: float64\n",
      "id\n",
      "0    0.0\n",
      "1    0.0\n",
      "2    0.0\n",
      "3    0.0\n",
      "4    0.0\n",
      "Name: X04, dtype: float64\n",
      "id\n",
      "0    1009.3\n",
      "1    1009.3\n",
      "2    1009.2\n",
      "3    1009.2\n",
      "4    1009.2\n",
      "Name: X05, dtype: float64\n",
      "id\n",
      "0    989.6\n",
      "1    989.6\n",
      "2    989.7\n",
      "3    989.6\n",
      "4    989.7\n",
      "Name: X06, dtype: float64\n",
      "id\n",
      "0    12.2\n",
      "1    12.1\n",
      "2    12.1\n",
      "3    12.0\n",
      "4    12.0\n",
      "Name: X07, dtype: float64\n",
      "id\n",
      "0    1009.9\n",
      "1    1010.0\n",
      "2    1010.1\n",
      "3    1010.0\n",
      "4    1010.1\n",
      "Name: X08, dtype: float64\n",
      "id\n",
      "0    1009.8\n",
      "1    1009.9\n",
      "2    1010.1\n",
      "3    1010.0\n",
      "4    1010.0\n",
      "Name: X09, dtype: float64\n",
      "id\n",
      "0    0.0\n",
      "1    0.0\n",
      "2    0.0\n",
      "3    0.0\n",
      "4    0.0\n",
      "Name: X10, dtype: float64\n",
      "id\n",
      "0    0.0\n",
      "1    0.0\n",
      "2    0.0\n",
      "3    0.0\n",
      "4    0.0\n",
      "Name: X11, dtype: float64\n",
      "id\n",
      "0    82.4\n",
      "1    81.2\n",
      "2    86.1\n",
      "3    87.7\n",
      "4    88.9\n",
      "Name: X12, dtype: float64\n",
      "id\n",
      "0     71.3\n",
      "1    121.8\n",
      "2    232.0\n",
      "3      0.0\n",
      "4      0.0\n",
      "Name: X13, dtype: float64\n",
      "id\n",
      "0    0.0\n",
      "1    0.0\n",
      "2    0.0\n",
      "3    0.0\n",
      "4    0.0\n",
      "Name: X14, dtype: float64\n",
      "id\n",
      "0    101.1\n",
      "1    165.3\n",
      "2    144.0\n",
      "3    115.9\n",
      "4    124.7\n",
      "Name: X15, dtype: float64\n",
      "id\n",
      "0    0.0\n",
      "1    0.0\n",
      "2    0.0\n",
      "3    0.0\n",
      "4    0.0\n",
      "Name: X16, dtype: float64\n",
      "id\n",
      "0     56.1\n",
      "1      0.0\n",
      "2      0.0\n",
      "3    294.1\n",
      "4      0.0\n",
      "Name: X17, dtype: float64\n",
      "id\n",
      "0    0.3\n",
      "1    0.4\n",
      "2    0.6\n",
      "3    0.1\n",
      "4    0.0\n",
      "Name: X18, dtype: float64\n",
      "id\n",
      "0    0.0\n",
      "1    0.0\n",
      "2    0.0\n",
      "3    0.0\n",
      "4    0.0\n",
      "Name: X19, dtype: float64\n",
      "id\n",
      "0    91.0\n",
      "1    91.9\n",
      "2    93.3\n",
      "3    93.4\n",
      "4    94.1\n",
      "Name: X20, dtype: float64\n",
      "id\n",
      "0    0.0\n",
      "1    0.0\n",
      "2    0.0\n",
      "3    0.0\n",
      "4    0.0\n",
      "Name: X21, dtype: float64\n",
      "id\n",
      "0    1002.5\n",
      "1    1002.5\n",
      "2    1002.4\n",
      "3    1002.4\n",
      "4    1002.4\n",
      "Name: X22, dtype: float64\n",
      "id\n",
      "0    1009.8\n",
      "1    1009.9\n",
      "2    1009.8\n",
      "3    1009.7\n",
      "4    1009.7\n",
      "Name: X23, dtype: float64\n",
      "id\n",
      "0    1.1\n",
      "1    0.0\n",
      "2    0.0\n",
      "3    0.0\n",
      "4    0.0\n",
      "Name: X24, dtype: float64\n",
      "id\n",
      "0    2.3\n",
      "1    0.0\n",
      "2    0.0\n",
      "3    0.0\n",
      "4    0.0\n",
      "Name: X25, dtype: float64\n",
      "id\n",
      "0    0.5\n",
      "1    0.0\n",
      "2    0.0\n",
      "3    0.2\n",
      "4    0.0\n",
      "Name: X26, dtype: float64\n",
      "id\n",
      "0    1008.7\n",
      "1    1008.7\n",
      "2    1008.6\n",
      "3    1008.7\n",
      "4    1008.7\n",
      "Name: X27, dtype: float64\n",
      "id\n",
      "0    12.3\n",
      "1    12.1\n",
      "2    12.1\n",
      "3    12.1\n",
      "4    12.0\n",
      "Name: X28, dtype: float64\n",
      "id\n",
      "0    1001.6\n",
      "1    1001.7\n",
      "2    1001.6\n",
      "3    1001.5\n",
      "4    1001.5\n",
      "Name: X29, dtype: float64\n",
      "id\n",
      "0    69.1\n",
      "1    70.3\n",
      "2    71.5\n",
      "3    73.2\n",
      "4    74.3\n",
      "Name: X30, dtype: float64\n",
      "id\n",
      "0    8.2\n",
      "1    8.3\n",
      "2    8.0\n",
      "3    7.7\n",
      "4    7.4\n",
      "Name: X31, dtype: float64\n",
      "id\n",
      "0    10.7\n",
      "1    10.3\n",
      "2     9.7\n",
      "3     9.4\n",
      "4     9.4\n",
      "Name: X32, dtype: float64\n",
      "id\n",
      "0    1010.1\n",
      "1    1010.1\n",
      "2    1010.0\n",
      "3    1010.1\n",
      "4    1010.1\n",
      "Name: X33, dtype: float64\n",
      "id\n",
      "0    0.0\n",
      "1    0.0\n",
      "2    0.0\n",
      "3    0.0\n",
      "4    0.0\n",
      "Name: X34, dtype: float64\n",
      "id\n",
      "0    256.4\n",
      "1    215.4\n",
      "2    235.2\n",
      "3    214.0\n",
      "4    174.9\n",
      "Name: X35, dtype: float64\n",
      "id\n",
      "0    0.0\n",
      "1    0.0\n",
      "2    0.0\n",
      "3    0.0\n",
      "4    0.0\n",
      "Name: X36, dtype: float64\n",
      "id\n",
      "0    77.2\n",
      "1    77.3\n",
      "2    77.3\n",
      "3    77.5\n",
      "4    78.0\n",
      "Name: X37, dtype: float64\n",
      "id\n",
      "0    62.6\n",
      "1    63.5\n",
      "2    63.9\n",
      "3    64.5\n",
      "4    65.0\n",
      "Name: X38, dtype: float64\n",
      "id\n",
      "0    0.0\n",
      "1    0.0\n",
      "2    0.0\n",
      "3    0.0\n",
      "4    0.0\n",
      "Name: X39, dtype: float64\n"
     ]
    }
   ],
   "source": [
    "for i in range(40):\n",
    "    print(train.iloc[:,i].head())"
   ]
  },
  {
   "cell_type": "code",
   "execution_count": 10,
   "metadata": {},
   "outputs": [],
   "source": [
    "x=train.iloc[:,:40]\n",
    "y=train.iloc[:,-1]"
   ]
  },
  {
   "cell_type": "code",
   "execution_count": 11,
   "metadata": {},
   "outputs": [],
   "source": [
    "test_x=test.iloc[:,:40]"
   ]
  },
  {
   "cell_type": "code",
   "execution_count": 12,
   "metadata": {},
   "outputs": [],
   "source": [
    "# !pip install catboost"
   ]
  },
  {
   "cell_type": "code",
   "execution_count": 13,
   "metadata": {},
   "outputs": [],
   "source": [
    "from sklearn.model_selection import train_test_split, KFold, RandomizedSearchCV\n",
    "from sklearn.model_selection import StratifiedShuffleSplit, ShuffleSplit\n",
    "\n",
    "x_train, x_test, y_train, y_test = train_test_split(x,y, train_size=0.8, shuffle=False) #random_state=0)"
   ]
  },
  {
   "cell_type": "code",
   "execution_count": 28,
   "metadata": {
    "scrolled": false
   },
   "outputs": [
    {
     "name": "stderr",
     "output_type": "stream",
     "text": [
      "/home/lab21/.local/lib/python3.6/site-packages/xgboost/core.py:587: FutureWarning: Series.base is deprecated and will be removed in a future version\n",
      "  if getattr(data, 'base', None) is not None and \\\n"
     ]
    },
    {
     "name": "stdout",
     "output_type": "stream",
     "text": [
      "[15:27:45] WARNING: /workspace/src/objective/regression_obj.cu:152: reg:linear is now deprecated in favor of reg:squarederror.\n"
     ]
    }
   ],
   "source": [
    "from sklearn.ensemble import RandomForestRegressor\n",
    "import lightgbm as lgbm\n",
    "import xgboost as xgb\n",
    "import catboost as cb\n",
    "\n",
    "from sklearn.metrics import r2_score, mean_squared_error\n",
    "\n",
    "params={ 'max_depth':3, 'n_estimators':2500,  'learning_rate': 0.007, \\\n",
    "        'boost_from_average': False, 'subsample': 1, 'loss_function':'RMSE', 'scale_pos_weight': 10,\n",
    "        'coal_sample_bytree':'0.75'}\n",
    "\n",
    "clf= xgb.XGBRegressor(**params)\n",
    "#clf = cb.CatBoostRegressor(**params)\n",
    "model=clf.fit(x_train,y_train, verbose=100)"
   ]
  },
  {
   "cell_type": "code",
   "execution_count": 24,
   "metadata": {},
   "outputs": [],
   "source": [
    "y_pred=model.predict(x_test)"
   ]
  },
  {
   "cell_type": "code",
   "execution_count": 25,
   "metadata": {},
   "outputs": [
    {
     "name": "stdout",
     "output_type": "stream",
     "text": [
      "0.8479685270922396 4.3727977580103055\n"
     ]
    }
   ],
   "source": [
    "print( r2_score(y_pred, y_test), mean_squared_error(y_pred, y_test))"
   ]
  },
  {
   "cell_type": "code",
   "execution_count": 26,
   "metadata": {},
   "outputs": [],
   "source": [
    "pred=model.predict(test_x)"
   ]
  },
  {
   "cell_type": "code",
   "execution_count": 27,
   "metadata": {},
   "outputs": [],
   "source": [
    "submission = pd.DataFrame(data=pred, columns=sample_submission.columns, index=sample_submission.index)\n",
    "submission.to_csv('submission.csv', index=True)"
   ]
  },
  {
   "cell_type": "code",
   "execution_count": null,
   "metadata": {},
   "outputs": [],
   "source": []
  },
  {
   "cell_type": "code",
   "execution_count": null,
   "metadata": {},
   "outputs": [],
   "source": []
  }
 ],
 "metadata": {
  "kernelspec": {
   "display_name": "Python [conda env:aws_neuron_tensorflow_p36]",
   "language": "python",
   "name": "conda-env-aws_neuron_tensorflow_p36-py"
  },
  "language_info": {
   "codemirror_mode": {
    "name": "ipython",
    "version": 3
   },
   "file_extension": ".py",
   "mimetype": "text/x-python",
   "name": "python",
   "nbconvert_exporter": "python",
   "pygments_lexer": "ipython3",
   "version": "3.6.5"
  }
 },
 "nbformat": 4,
 "nbformat_minor": 2
}
