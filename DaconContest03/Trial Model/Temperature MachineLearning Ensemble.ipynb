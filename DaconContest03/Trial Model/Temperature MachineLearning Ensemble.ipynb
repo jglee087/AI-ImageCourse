{
 "cells": [
  {
   "cell_type": "code",
   "execution_count": 1,
   "metadata": {},
   "outputs": [],
   "source": [
    "import pandas as pd\n",
    "import numpy as np\n",
    "import matplotlib.pyplot as plt\n",
    "import seaborn as sns \n",
    "#import pandas_profiling\n",
    "%matplotlib inline"
   ]
  },
  {
   "cell_type": "code",
   "execution_count": 2,
   "metadata": {},
   "outputs": [],
   "source": [
    "train_ = pd.read_csv('./data/train.csv',index_col=0)\n",
    "test_ = pd. read_csv('./data/test.csv',index_col=0)\n",
    "sample_submission = pd.read_csv('./data/sample_submission.csv', index_col=0)"
   ]
  },
  {
   "cell_type": "markdown",
   "metadata": {},
   "source": [
    "데이터 설명\n",
    "\n",
    "-     대전지역에서 측정한 실내외 19곳의 센서데이터와, 주변 지역의 기상청 공공데이터를 semi-비식별화하여 제공합니다. \n",
    "-     센서는 온도를 측정하였습니다. \n",
    "-     모든 데이터는 시간 순으로 정렬 되어 있으며 10분 단위 데이터 입니다. \n",
    "-     예측 대상(target variable)은 Y18입니다. \n",
    "\n",
    "train.csv \n",
    "\n",
    "-     30일 간의 기상청 데이터 (X00 ~ X39) 및 센서데이터 (Y00~Y17)\n",
    "-     이후 3일 간의 기상청 데이터 (X00~X39) 및 센서데이터 (Y18)\n",
    "\n",
    "test.csv \n",
    "-     train.csv 기간 이후 80일 간의 기상청 데이터 (X00~X39)\n",
    "\n",
    "sample_submission.csv\n",
    "-     제출 양식 예시"
   ]
  },
  {
   "cell_type": "markdown",
   "metadata": {},
   "source": [
    "X00 X07 X28 X31 기온  \n",
    "X01 X06 X22 X27 기압  \n",
    "X02 X03 X18 X24 풍속  \n",
    "X04 X10 X21 X36 누적강수량  \n",
    "X05 X08 X09 X23 해면기압  \n",
    "X11 X14 X16 X19 누적일사량  \n",
    "X12, X20, X30, X37 습도\n",
    "X13 X15 X17 X25 풍향  \n",
    "\n",
    "Y00~17 센서측정온도  "
   ]
  },
  {
   "cell_type": "code",
   "execution_count": 3,
   "metadata": {},
   "outputs": [],
   "source": [
    "train=train_.copy()\n",
    "test=test_.copy()"
   ]
  },
  {
   "cell_type": "markdown",
   "metadata": {},
   "source": [
    "### Y00 ~ Y17 >>> [0:4320]: Value, [4321:]: NaN, Y_index: [41:58]\n",
    "### Y18 >>> [0:4320]: NaN, [4321:]: Value, Y_index: [59]"
   ]
  },
  {
   "cell_type": "code",
   "execution_count": 4,
   "metadata": {},
   "outputs": [],
   "source": [
    "tp=0\n",
    "k=0"
   ]
  },
  {
   "cell_type": "code",
   "execution_count": 5,
   "metadata": {},
   "outputs": [],
   "source": [
    "cols=train.columns"
   ]
  },
  {
   "cell_type": "code",
   "execution_count": 6,
   "metadata": {},
   "outputs": [],
   "source": [
    "tp=0\n",
    "k=0\n",
    "for i, col in enumerate(cols):\n",
    "    if i > 39 and i <58:\n",
    "        tp += train.iloc[0:4320,i]\n",
    "        k+=1   \n"
   ]
  },
  {
   "cell_type": "code",
   "execution_count": 7,
   "metadata": {},
   "outputs": [],
   "source": [
    "tmp=tp/k"
   ]
  },
  {
   "cell_type": "code",
   "execution_count": 8,
   "metadata": {},
   "outputs": [],
   "source": [
    "train.iloc[0:4320,58]=tmp"
   ]
  },
  {
   "cell_type": "code",
   "execution_count": 9,
   "metadata": {},
   "outputs": [],
   "source": [
    "x=train.iloc[:,:40]\n",
    "y=train.iloc[:,-1]"
   ]
  },
  {
   "cell_type": "code",
   "execution_count": 10,
   "metadata": {},
   "outputs": [],
   "source": [
    "test_x=test.iloc[:,:40]"
   ]
  },
  {
   "cell_type": "code",
   "execution_count": 11,
   "metadata": {},
   "outputs": [],
   "source": [
    "from sklearn.preprocessing import StandardScaler\n",
    "\n",
    "scale=StandardScaler()\n",
    "scale.fit(x)\n",
    "\n",
    "x=scale.transform(x)\n",
    "test_x=scale.transform(test_x)\n"
   ]
  },
  {
   "cell_type": "markdown",
   "metadata": {},
   "source": [
    "X05 X08 X09 X23 해면기압   X01 X06 X22 X27 기압  "
   ]
  },
  {
   "cell_type": "markdown",
   "metadata": {},
   "source": [
    "#print(np.log10(100.))\n",
    "\n",
    "train[''].apply(f) "
   ]
  },
  {
   "cell_type": "code",
   "execution_count": 12,
   "metadata": {},
   "outputs": [],
   "source": [
    "#f = lambda x : np.log10(x)\n",
    "#train[['X05', 'X08', 'X09', 'X23', 'X01', 'X06', 'X22' ,'X27']]= train[['X05', 'X08', 'X09', 'X23', 'X01', 'X06', 'X22' ,'X27']].apply(f)"
   ]
  },
  {
   "cell_type": "code",
   "execution_count": 20,
   "metadata": {},
   "outputs": [],
   "source": [
    "from sklearn.model_selection import KFold\n",
    "\n",
    "k_num=5\n",
    "kf=KFold(n_splits=k_num, shuffle=False)"
   ]
  },
  {
   "cell_type": "code",
   "execution_count": 27,
   "metadata": {},
   "outputs": [
    {
     "name": "stdout",
     "output_type": "stream",
     "text": [
      "\n",
      " 0\n",
      "Training until validation scores don't improve for 100 rounds\n",
      "[500]\ttraining's l2: 0.514394\tvalid_1's l2: 1.94999\n",
      "[1000]\ttraining's l2: 0.150407\tvalid_1's l2: 1.783\n",
      "[1500]\ttraining's l2: 0.079768\tvalid_1's l2: 1.76108\n",
      "[2000]\ttraining's l2: 0.0488746\tvalid_1's l2: 1.74796\n",
      "[2500]\ttraining's l2: 0.0325011\tvalid_1's l2: 1.73751\n",
      "[3000]\ttraining's l2: 0.0227935\tvalid_1's l2: 1.72968\n",
      "Did not meet early stopping. Best iteration is:\n",
      "[3000]\ttraining's l2: 0.0227935\tvalid_1's l2: 1.72968\n",
      "(11520,)\n",
      "\n",
      " 1\n",
      "Training until validation scores don't improve for 100 rounds\n",
      "[500]\ttraining's l2: 0.554881\tvalid_1's l2: 2.54324\n",
      "Early stopping, best iteration is:\n",
      "[408]\ttraining's l2: 1.09295\tvalid_1's l2: 2.39563\n",
      "(11520,)\n",
      "\n",
      " 2\n",
      "Training until validation scores don't improve for 100 rounds\n",
      "[500]\ttraining's l2: 0.481049\tvalid_1's l2: 1.74734\n",
      "Early stopping, best iteration is:\n",
      "[499]\ttraining's l2: 0.483064\tvalid_1's l2: 1.74632\n",
      "(11520,)\n",
      "\n",
      " 3\n",
      "Training until validation scores don't improve for 100 rounds\n",
      "[500]\ttraining's l2: 0.482385\tvalid_1's l2: 2.49078\n",
      "Early stopping, best iteration is:\n",
      "[674]\ttraining's l2: 0.243556\tvalid_1's l2: 2.40025\n",
      "(11520,)\n",
      "\n",
      " 4\n",
      "Training until validation scores don't improve for 100 rounds\n",
      "[500]\ttraining's l2: 0.366277\tvalid_1's l2: 5.24562\n",
      "[1000]\ttraining's l2: 0.0985263\tvalid_1's l2: 4.62113\n",
      "[1500]\ttraining's l2: 0.0551929\tvalid_1's l2: 4.58324\n",
      "Early stopping, best iteration is:\n",
      "[1781]\ttraining's l2: 0.0418525\tvalid_1's l2: 4.57254\n",
      "(11520,)\n"
     ]
    }
   ],
   "source": [
    "from sklearn.ensemble import RandomForestRegressor\n",
    "import lightgbm as lgbm\n",
    "import xgboost as xgb\n",
    "\n",
    "prediction=np.zeros((len(test_x)))\n",
    "\n",
    "for enum, (train_index,valid_index) in enumerate(kf.split(x,y)):\n",
    "    print('\\n',enum)\n",
    "    #kf_x_tr= x.iloc[train_index,:]\n",
    "    #kf_y_tr = y.iloc[train_index]\n",
    "    \n",
    "    #kf_x_val = x.iloc[valid_index,:]\n",
    "    #kf_y_val = y.iloc[valid_index]\n",
    "\n",
    "    kf_x_tr= x[train_index,:]\n",
    "    kf_y_tr = y[train_index]\n",
    "    \n",
    "    kf_x_val = x[valid_index,:]\n",
    "    kf_y_val = y[valid_index]   \n",
    "    \n",
    "    params={ 'max_depth':7, 'n_estimators':3000,  'learning_rate': 0.009, \\\n",
    "        'boost_from_average': False, 'subsample': 0.7, \\\n",
    "        'coal_sample_bytree':0.7, 'num_leaves':128, \\\n",
    "        'feature_fraction':0.2,'bagging_fraction':0.40,'lambda_l1': 0.7, \\\n",
    "        'lambda_l2':0.7, 'eval_metric':'MSE', 'tree_method':'gpu_hist'}\n",
    "\n",
    "    clf= lgbm.LGBMRegressor(**params,metric='MSE',objective='regression')\n",
    "    model=clf.fit(kf_x_tr,kf_y_tr,eval_set=[(kf_x_tr,kf_y_tr), (kf_x_val, kf_y_val)], verbose= 500,\n",
    "                 early_stopping_rounds=100)\n",
    "    \n",
    "    pred=model.predict(test_x)\n",
    "    prediction += pred\n",
    "    print(prediction.shape)\n",
    "    "
   ]
  },
  {
   "cell_type": "code",
   "execution_count": 23,
   "metadata": {},
   "outputs": [],
   "source": [
    "res=prediction/k_num"
   ]
  },
  {
   "cell_type": "code",
   "execution_count": 24,
   "metadata": {},
   "outputs": [],
   "source": [
    "submission = pd.DataFrame(data=res, columns=sample_submission.columns, index=sample_submission.index)\n",
    "submission.to_csv('submission.csv', index=True)"
   ]
  },
  {
   "cell_type": "code",
   "execution_count": 25,
   "metadata": {},
   "outputs": [
    {
     "data": {
      "text/plain": [
       "[<matplotlib.lines.Line2D at 0x7f81676076d8>]"
      ]
     },
     "execution_count": 25,
     "metadata": {},
     "output_type": "execute_result"
    },
    {
     "data": {
      "image/png": "[encoded data removed]",
      "text/plain": [
       "<Figure size 432x288 with 1 Axes>"
      ]
     },
     "metadata": {},
     "output_type": "display_data"
    }
   ],
   "source": [
    "plt.plot(res)"
   ]
  },
  {
   "cell_type": "markdown",
   "metadata": {},
   "source": [
    "np.log10(100.)\n",
    "f = lambda x : np.log10(x)\n",
    "train[''].apply(f) "
   ]
  },
  {
   "cell_type": "code",
   "execution_count": null,
   "metadata": {},
   "outputs": [],
   "source": [
    "import catboost as cb\n",
    "\n",
    "lm=cb.CatBoostRegressor(max_depth=9, subsample= 0.8,eval_metric='MAE', n_estimators=1500)\n",
    "models=lm.fit(x_train,y_train,verbose=100)"
   ]
  },
  {
   "cell_type": "code",
   "execution_count": null,
   "metadata": {},
   "outputs": [],
   "source": [
    "y1_pred=models.predict(x_test)"
   ]
  },
  {
   "cell_type": "code",
   "execution_count": null,
   "metadata": {},
   "outputs": [],
   "source": [
    "print( r2_score(y1_pred, y_test), mean_squared_error(y1_pred, y_test))"
   ]
  },
  {
   "cell_type": "code",
   "execution_count": null,
   "metadata": {},
   "outputs": [],
   "source": []
  }
 ],
 "metadata": {
  "kernelspec": {
   "display_name": "Python [conda env:aws_neuron_tensorflow_p36]",
   "language": "python",
   "name": "conda-env-aws_neuron_tensorflow_p36-py"
  },
  "language_info": {
   "codemirror_mode": {
    "name": "ipython",
    "version": 3
   },
   "file_extension": ".py",
   "mimetype": "text/x-python",
   "name": "python",
   "nbconvert_exporter": "python",
   "pygments_lexer": "ipython3",
   "version": "3.6.5"
  }
 },
 "nbformat": 4,
 "nbformat_minor": 2
}
