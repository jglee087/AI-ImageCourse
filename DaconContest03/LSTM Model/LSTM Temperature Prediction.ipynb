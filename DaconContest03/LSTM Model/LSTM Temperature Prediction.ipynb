{
 "cells": [
  {
   "cell_type": "markdown",
   "metadata": {},
   "source": [
    "# 상태유지 스택 순환신경망 모델"
   ]
  },
  {
   "cell_type": "code",
   "execution_count": 1,
   "metadata": {},
   "outputs": [
    {
     "name": "stderr",
     "output_type": "stream",
     "text": [
      "Using TensorFlow backend.\n"
     ]
    }
   ],
   "source": [
    "import pandas as pd\n",
    "import keras\n",
    "import numpy as np\n",
    "from keras.models import Sequential\n",
    "from keras.layers import Dense, LSTM, Dropout\n",
    "\n",
    "import matplotlib.pyplot as plt\n",
    "%matplotlib inline"
   ]
  },
  {
   "cell_type": "code",
   "execution_count": 2,
   "metadata": {},
   "outputs": [],
   "source": [
    "def create_dataset(signal_data, look_back=1):\n",
    "    dataX, dataY=[], []\n",
    "    for i in range(len(signal_data)-look_back):\n",
    "        dataX.append(signal_data[i:(i+look_back),0])\n",
    "        dataY.append(signal_data[i+look_back,0])\n",
    "    return np.array(dataX), np.array(dataY)"
   ]
  },
  {
   "cell_type": "code",
   "execution_count": 3,
   "metadata": {},
   "outputs": [],
   "source": [
    "class CustomHistory(keras.callbacks.Callback):\n",
    "    def init(self):\n",
    "        self.train_loss=[]\n",
    "        self.val_loss=[]\n",
    "    \n",
    "    def on_epoch_end(self, batch, logs={}):\n",
    "        self.train_loss.append(logs.get('loss'))\n",
    "        self.val_loss.append(logs.get('val_loss'))\n",
    "    "
   ]
  },
  {
   "cell_type": "code",
   "execution_count": 4,
   "metadata": {},
   "outputs": [],
   "source": [
    "train_ = pd.read_csv('../data/train.csv',index_col=0)\n",
    "test_ = pd. read_csv('../data/test.csv',index_col=0)\n",
    "sample_submission = pd.read_csv('../data/sample_submission.csv', index_col=0)"
   ]
  },
  {
   "cell_type": "code",
   "execution_count": 18,
   "metadata": {},
   "outputs": [],
   "source": [
    "look_back=5\n"
   ]
  },
  {
   "cell_type": "code",
   "execution_count": 19,
   "metadata": {},
   "outputs": [],
   "source": [
    "signal_data=train_['Y00'][0:4320,None]"
   ]
  },
  {
   "cell_type": "code",
   "execution_count": 20,
   "metadata": {},
   "outputs": [
    {
     "data": {
      "text/plain": [
       "(4320, 1)"
      ]
     },
     "execution_count": 20,
     "metadata": {},
     "output_type": "execute_result"
    }
   ],
   "source": [
    "signal_data.shape"
   ]
  },
  {
   "cell_type": "code",
   "execution_count": 21,
   "metadata": {},
   "outputs": [],
   "source": [
    "from sklearn.preprocessing import MinMaxScaler, StandardScaler\n",
    "\n",
    "#scaler=MinMaxScaler(feature_range=(0,1))\n",
    "scaler=StandardScaler()\n",
    "signal_data=scaler.fit_transform(signal_data)\n"
   ]
  },
  {
   "cell_type": "code",
   "execution_count": 22,
   "metadata": {},
   "outputs": [],
   "source": [
    "length=len(signal_data)\n"
   ]
  },
  {
   "cell_type": "code",
   "execution_count": 23,
   "metadata": {},
   "outputs": [],
   "source": [
    "len1=int(0.8*length)\n",
    "len2=int(0.1*length)"
   ]
  },
  {
   "cell_type": "code",
   "execution_count": 24,
   "metadata": {},
   "outputs": [],
   "source": [
    "train = signal_data[:len1]\n",
    "val = signal_data[len1:len1+len2]\n",
    "test = signal_data[len1+len2:]"
   ]
  },
  {
   "cell_type": "code",
   "execution_count": 25,
   "metadata": {},
   "outputs": [],
   "source": [
    "x_train, y_train = create_dataset(train, look_back)\n",
    "x_val, y_val = create_dataset(val, look_back)\n",
    "x_test, y_test = create_dataset(test, look_back)"
   ]
  },
  {
   "cell_type": "code",
   "execution_count": 26,
   "metadata": {},
   "outputs": [],
   "source": [
    "x_train=np.reshape(x_train, (x_train.shape[0], x_train.shape[1], 1))\n",
    "x_val=np.reshape(x_val, (x_val.shape[0], x_val.shape[1], 1))\n",
    "x_test=np.reshape(x_test, (x_test.shape[0], x_test.shape[1], 1))"
   ]
  },
  {
   "cell_type": "code",
   "execution_count": 27,
   "metadata": {},
   "outputs": [],
   "source": [
    "model= Sequential()\n",
    "\n",
    "for i in range(2):\n",
    "    model.add(LSTM(32, input_shape=( look_back,1) , return_sequences=True, activation='tanh'))\n",
    "    model.add(Dropout(0.1))\n",
    "\n",
    "model.add(LSTM(32, activation='tanh'))\n",
    "model.add(Dropout(0.1))\n",
    "model.add(Dense(1))"
   ]
  },
  {
   "cell_type": "code",
   "execution_count": 28,
   "metadata": {},
   "outputs": [],
   "source": [
    "# model= Sequential()\n",
    "# for i in range(1):\n",
    "#     model.add(LSTM(32, batch_input_shape=(1, look_back,1) ,stateful=True, return_sequences=True))\n",
    "#     model.add(Dropout(0.3))\n",
    "\n",
    "# model.add(LSTM(32,  batch_input_shape=(1, look_back,1) , stateful=True))\n",
    "# model.add(Dropout(0.3))\n",
    "# model.add(Dense(1))\n",
    "# model.summary()"
   ]
  },
  {
   "cell_type": "code",
   "execution_count": 29,
   "metadata": {},
   "outputs": [],
   "source": [
    "model.compile(loss='MSE',optimizer='adam')\n",
    "custom_hist=CustomHistory()\n",
    "custom_hist.init()"
   ]
  },
  {
   "cell_type": "code",
   "execution_count": null,
   "metadata": {},
   "outputs": [
    {
     "name": "stdout",
     "output_type": "stream",
     "text": [
      "Train on 3451 samples, validate on 427 samples\n",
      "Epoch 1/100\n",
      "3451/3451 [==============================] - 35s 10ms/step - loss: 0.1574 - val_loss: 0.0407\n",
      "Epoch 2/100\n",
      "3451/3451 [==============================] - 33s 10ms/step - loss: 0.0978 - val_loss: 0.0189\n",
      "Epoch 3/100\n",
      "3451/3451 [==============================] - 33s 10ms/step - loss: 0.0519 - val_loss: 0.0225\n",
      "Epoch 4/100\n",
      "3451/3451 [==============================] - 33s 10ms/step - loss: 0.0436 - val_loss: 0.0183\n",
      "Epoch 5/100\n",
      "3451/3451 [==============================] - 33s 10ms/step - loss: 0.0401 - val_loss: 0.0169\n",
      "Epoch 6/100\n",
      "3451/3451 [==============================] - 33s 10ms/step - loss: 0.0376 - val_loss: 0.0099\n",
      "Epoch 7/100\n",
      "3451/3451 [==============================] - 33s 10ms/step - loss: 0.0329 - val_loss: 0.0151\n",
      "Epoch 8/100\n",
      "1669/3451 [=============>................] - ETA: 16s - loss: 0.0388"
     ]
    }
   ],
   "source": [
    "model.fit( x_train, y_train, epochs=100, batch_size=1, shuffle=False, callbacks=[custom_hist], validation_data=(x_val, y_val))"
   ]
  },
  {
   "cell_type": "code",
   "execution_count": null,
   "metadata": {},
   "outputs": [],
   "source": [
    "# for i in range(100):\n",
    "#     print(i)\n",
    "#     model.fit( x_train, y_train, epochs=1, batch_size=1, shuffle=False, callbacks=[custom_hist], validation_data=(x_val, y_val))\n",
    "#     model.reset_states()"
   ]
  },
  {
   "cell_type": "code",
   "execution_count": null,
   "metadata": {},
   "outputs": [],
   "source": [
    "trainScore=model.evaluate(x_train, y_train, verbose=0,batch_size=1)\n",
    "model.reset_states()\n",
    "print('Train Score:', trainScore)\n",
    "\n",
    "ValScore=model.evaluate(x_val, y_val, verbose=0,batch_size=1)\n",
    "model.reset_states()\n",
    "print('Validation Score:', ValScore)\n",
    "\n",
    "testScore=model.evaluate(x_test, y_test, verbose=0,batch_size=1)\n",
    "model.reset_states()\n",
    "print('Test Score:', testScore)\n"
   ]
  },
  {
   "cell_type": "code",
   "execution_count": null,
   "metadata": {},
   "outputs": [],
   "source": [
    "look_ahead=len(train_['Y00'])-len(train_['Y00'][0:4320])"
   ]
  },
  {
   "cell_type": "code",
   "execution_count": null,
   "metadata": {},
   "outputs": [],
   "source": [
    "len(y_test)"
   ]
  },
  {
   "cell_type": "code",
   "execution_count": null,
   "metadata": {},
   "outputs": [],
   "source": [
    "look_ahead=432+look_back\n",
    "\n",
    "xhat=x_test[0]\n",
    "predictions=np.zeros((look_ahead,1))\n",
    "\n",
    "for i in range(look_ahead):\n",
    "    prediction=model.predict(np.array([xhat]), batch_size=1)\n",
    "    predictions[i]=prediction\n",
    "    xhat=np.vstack([xhat[1:,],prediction])"
   ]
  },
  {
   "cell_type": "code",
   "execution_count": null,
   "metadata": {
    "scrolled": true
   },
   "outputs": [],
   "source": [
    "# plt.figure(figsize=(12,5))\n",
    "# plt.plot(np.arange(look_ahead),predictions,'r',label='prediction')\n",
    "# plt.plot(np.arange(look_ahead),y_test[:412],label='test function')\n",
    "# plt.legend()\n",
    "# plt.show()\n"
   ]
  },
  {
   "cell_type": "code",
   "execution_count": null,
   "metadata": {},
   "outputs": [],
   "source": [
    "le1=np.arange(len(predictions))\n",
    "le2=np.arange(len(y_test))\n",
    "\n",
    "prd=scaler.inverse_transform(predictions)\n",
    "prs=scaler.inverse_transform(y_test)\n"
   ]
  },
  {
   "cell_type": "code",
   "execution_count": null,
   "metadata": {},
   "outputs": [],
   "source": [
    "\n",
    "plt.plot(le1,prd,'r',label='prediction')\n",
    "plt.plot(le2,prs,label='test function')"
   ]
  },
  {
   "cell_type": "code",
   "execution_count": null,
   "metadata": {},
   "outputs": [],
   "source": []
  }
 ],
 "metadata": {
  "kernelspec": {
   "display_name": "Python [conda env:aws_neuron_tensorflow_p36]",
   "language": "python",
   "name": "conda-env-aws_neuron_tensorflow_p36-py"
  },
  "language_info": {
   "codemirror_mode": {
    "name": "ipython",
    "version": 3
   },
   "file_extension": ".py",
   "mimetype": "text/x-python",
   "name": "python",
   "nbconvert_exporter": "python",
   "pygments_lexer": "ipython3",
   "version": "3.6.5"
  }
 },
 "nbformat": 4,
 "nbformat_minor": 2
}
