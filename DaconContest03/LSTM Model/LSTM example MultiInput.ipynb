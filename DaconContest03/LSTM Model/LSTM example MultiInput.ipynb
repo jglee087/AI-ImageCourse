{
 "cells": [
  {
   "cell_type": "markdown",
   "metadata": {},
   "source": [
    "# 상태유지 스택 순환신경망 모델"
   ]
  },
  {
   "cell_type": "code",
   "execution_count": 63,
   "metadata": {},
   "outputs": [],
   "source": [
    "import keras\n",
    "import numpy as np\n",
    "from keras.models import Sequential, Model\n",
    "from keras.layers import Dense, LSTM, Dropout, Input, Activation\n",
    "from sklearn.preprocessing import MinMaxScaler\n",
    "import matplotlib.pyplot as plt\n",
    "%matplotlib inline"
   ]
  },
  {
   "cell_type": "code",
   "execution_count": 64,
   "metadata": {},
   "outputs": [],
   "source": [
    "# def create_dataset(signal_data, look_back=1):\n",
    "    \n",
    "#     dataX, dataY=[], []\n",
    "    \n",
    "#     for i in range(len(signal_data)-look_back):\n",
    "        \n",
    "#         dataX.append(signal_data[i:(i+look_back),0])\n",
    "#         dataY.append(signal_data[i+look_back,0])\n",
    "        \n",
    "#         data\n",
    "#     return np.array(dataX), np.array(dataY)"
   ]
  },
  {
   "cell_type": "code",
   "execution_count": 65,
   "metadata": {},
   "outputs": [],
   "source": [
    "def create_dataset(dat1, dat2, dat3, look_back=1):\n",
    "    \n",
    "    data1X, data1Y= [], []\n",
    "    data2X, data2Y= [], []\n",
    "    data3X, data3Y= [], []\n",
    "    \n",
    "    for i in range(len(dat1)-look_back):\n",
    "        \n",
    "        data1X.append(dat1[i:(i+look_back),0])\n",
    "        data1Y.append(dat1[i+look_back,0])\n",
    "        \n",
    "    for i in range(len(dat2)-look_back):\n",
    "    \n",
    "        data2X.append(dat2[i:(i+look_back),0])\n",
    "        data2Y.append(dat2[i+look_back,0])\n",
    "\n",
    "    for i in range(len(dat3)-look_back):\n",
    "        data3X.append(dat3[i:(i+look_back),0])\n",
    "        data3Y.append(dat3[i+look_back,0])\n",
    "        \n",
    "    return np.array(data1X), np.array(data1Y), np.array(data2X), np.array(data2Y), np.array(data3X), np.array(data3Y)"
   ]
  },
  {
   "cell_type": "code",
   "execution_count": 66,
   "metadata": {},
   "outputs": [],
   "source": [
    "class CustomHistory(keras.callbacks.Callback):\n",
    "    def init(self):\n",
    "        self.train_loss=[]\n",
    "        self.val_loss=[]\n",
    "    \n",
    "    def on_epoch_end(self, batch, logs={}):\n",
    "        self.train_loss.append(logs.get('loss'))\n",
    "        self.val_loss.append(logs.get('val_loss'))"
   ]
  },
  {
   "cell_type": "code",
   "execution_count": 67,
   "metadata": {},
   "outputs": [],
   "source": [
    "look_back=20\n",
    "\n",
    "data1=np.cos(np.arange(1600)*(20.*np.pi/1000))[:,None]\n",
    "data2=np.sin(np.arange(1600)*(20.*np.pi/1000))[:,None]"
   ]
  },
  {
   "cell_type": "code",
   "execution_count": 68,
   "metadata": {},
   "outputs": [],
   "source": [
    "scaler=MinMaxScaler(feature_range=(0,1))\n",
    "\n",
    "data1=scaler.fit_transform(data1)\n",
    "data2=scaler.fit_transform(data2)"
   ]
  },
  {
   "cell_type": "code",
   "execution_count": 69,
   "metadata": {},
   "outputs": [],
   "source": [
    "train1 = data1[0:800]   ;  val1 = data1[800:1200]    ;   test1 = data1[1200:]\n",
    "train2 = data1[0:800]   ;  val2 = data1[800:1200]    ;   test2 = data1[1200:]"
   ]
  },
  {
   "cell_type": "code",
   "execution_count": null,
   "metadata": {},
   "outputs": [],
   "source": [
    "train3 = data1[0:800]   ;  val3 = data1[800:1200]    ;   test3 = data1[1200:]\n",
    "train4 = data1[0:800]   ;  val4 = data1[800:1200]    ;   test4 = data1[1200:]\n",
    "train5 = data1[0:800]   ;  val5 = data1[800:1200]    ;   test5 = data1[1200:]\n",
    "train6  = data1[0:800]   ;  val6 = data1[800:1200]    ;   test6 = data1[1200:]\n",
    "train7 = data1[0:800]   ;  val7 = data1[800:1200]    ;   test7 = data1[1200:]\n",
    "train8 = data1[0:800]   ;  val8 = data1[800:1200]    ;   test8 = data1[1200:]\n",
    "train9 = data1[0:800]   ;  val9 = data1[800:1200]    ;   test9 = data1[1200:]"
   ]
  },
  {
   "cell_type": "code",
   "execution_count": 21,
   "metadata": {},
   "outputs": [],
   "source": [
    "train10 = data1[0:800]   ;  val10 = data1[800:1200]    ;   test10 = data1[1200:]\n",
    "train11 = data1[0:800]   ;  val11 = data1[800:1200]    ;   test11 = data1[1200:]\n",
    "train12 = data1[0:800]   ;  val12 = data1[800:1200]    ;   test12 = data1[1200:]\n",
    "train13 = data1[0:800]   ;  val13 = data1[800:1200]    ;   test13 = data1[1200:]\n",
    "train14 = data1[0:800]   ;  val14 = data1[800:1200]    ;   test14 = data1[1200:]\n",
    "train15  = data1[0:800]   ;  val15 = data1[800:1200]    ;   test15 = data1[1200:]\n",
    "train16 = data1[0:800]   ;  val16 = data1[800:1200]    ;   test16 = data1[1200:]\n",
    "train17 = data1[0:800]   ;  val17 = data1[800:1200]    ;   test17 = data1[1200:]\n",
    "train18 = data1[0:800]   ;  val18 = data1[800:1200]    ;   test18 = data1[1200:]"
   ]
  },
  {
   "cell_type": "markdown",
   "metadata": {},
   "source": [
    "# DATA SPLIT"
   ]
  },
  {
   "cell_type": "code",
   "execution_count": 70,
   "metadata": {},
   "outputs": [],
   "source": [
    "x1_train, y1_train, x1_val, y1_val, x1_test, y1_test = create_dataset(train1, val1, test1, look_back)\n",
    "\n",
    "x1_train=np.reshape(x1_train, (x1_train.shape[0], x1_train.shape[1], 1))\n",
    "x1_val=np.reshape(x1_val, (x1_val.shape[0], x1_val.shape[1], 1))\n",
    "x1_test=np.reshape(x1_test, (x1_test.shape[0], x1_test.shape[1], 1))"
   ]
  },
  {
   "cell_type": "code",
   "execution_count": 73,
   "metadata": {},
   "outputs": [],
   "source": [
    "x2_train, y2_train, x2_val, y2_val, x2_test, y2_test = create_dataset(train2, val2, test2, look_back)\n",
    "\n",
    "x2_train=np.reshape(x2_train, (x2_train.shape[0], x2_train.shape[1], 1))\n",
    "x2_val=np.reshape(x2_val, (x2_val.shape[0], x2_val.shape[1], 1))\n",
    "x2_test=np.reshape(x2_test, (x2_test.shape[0], x2_test.shape[1], 1))"
   ]
  },
  {
   "cell_type": "code",
   "execution_count": null,
   "metadata": {},
   "outputs": [],
   "source": []
  },
  {
   "cell_type": "markdown",
   "metadata": {},
   "source": [
    "# MODELING(LSTM)"
   ]
  },
  {
   "cell_type": "code",
   "execution_count": 26,
   "metadata": {
    "scrolled": true
   },
   "outputs": [],
   "source": [
    "inp1=Input(batch_shape=(1,look_back,1,))\n",
    "\n",
    "x=LSTM(32,stateful=True, return_sequences=True, activation='tanh')(inp1)\n",
    "x=Dropout(0.25)(x)\n",
    "x=LSTM(32,stateful=True, return_sequences=True, activation='tanh')(x)\n",
    "x=Dropout(0.25)(x)\n",
    "x=LSTM(32,stateful=True, activation='tanh')(x)\n",
    "x=Dropout(0.25)(x)\n",
    "out1=Dense(1)(x)\n",
    "\n",
    "inp2=Input(batch_shape=(1,look_back,1,))\n",
    "x=LSTM(32,stateful=True, return_sequences=True, activation='tanh')(inp2)\n",
    "x=Dropout(0.25)(x)\n",
    "x=LSTM(32,stateful=True, return_sequences=True, activation='tanh')(x)\n",
    "x=Dropout(0.25)(x)\n",
    "x=LSTM(32,stateful=True, activation='tanh')(x)\n",
    "x=Dropout(0.25)(x)\n",
    "out2=Dense(1)(x)\n",
    "\n",
    "inp3=Input(batch_shape=(1,look_back,1,))\n",
    "x=LSTM(32,stateful=True, return_sequences=True, activation='tanh')(inp3)\n",
    "x=Dropout(0.25)(x)\n",
    "x=LSTM(32,stateful=True, return_sequences=True, activation='tanh')(x)\n",
    "x=Dropout(0.25)(x)\n",
    "x=LSTM(32,stateful=True, activation='tanh')(x)\n",
    "x=Dropout(0.25)(x)\n",
    "out3=Dense(1)(x)\n",
    "\n",
    "inp4=Input(batch_shape=(1,look_back,1,))\n",
    "x=LSTM(32,stateful=True, return_sequences=True, activation='tanh')(inp4)\n",
    "x=Dropout(0.25)(x)\n",
    "x=LSTM(32,stateful=True, return_sequences=True, activation='tanh')(x)\n",
    "x=Dropout(0.25)(x)\n",
    "x=LSTM(32,stateful=True, activation='tanh')(x)\n",
    "x=Dropout(0.25)(x)\n",
    "out4=Dense(1)(x)\n",
    "\n",
    "inp5=Input(batch_shape=(1,look_back,1,))\n",
    "\n",
    "x=LSTM(32,stateful=True, return_sequences=True, activation='tanh')(inp5)\n",
    "x=Dropout(0.25)(x)\n",
    "x=LSTM(32,stateful=True, return_sequences=True, activation='tanh')(x)\n",
    "x=Dropout(0.25)(x)\n",
    "x=LSTM(32,stateful=True, activation='tanh')(x)\n",
    "x=Dropout(0.25)(x)\n",
    "out5=Dense(1)(x)\n",
    "\n",
    "inp6=Input(batch_shape=(1,look_back,1,))\n",
    "x=LSTM(32,stateful=True, return_sequences=True, activation='tanh')(inp6)\n",
    "x=Dropout(0.25)(x)\n",
    "x=LSTM(32,stateful=True, return_sequences=True, activation='tanh')(x)\n",
    "x=Dropout(0.25)(x)\n",
    "x=LSTM(32,stateful=True, activation='tanh')(x)\n",
    "x=Dropout(0.25)(x)\n",
    "out6=Dense(1)(x)\n",
    "\n",
    "inp7=Input(batch_shape=(1,look_back,1,))\n",
    "x=LSTM(32,stateful=True, return_sequences=True, activation='tanh')(inp7)\n",
    "x=Dropout(0.25)(x)\n",
    "x=LSTM(32,stateful=True, return_sequences=True, activation='tanh')(x)\n",
    "x=Dropout(0.25)(x)\n",
    "x=LSTM(32,stateful=True, activation='tanh')(x)\n",
    "x=Dropout(0.25)(x)\n",
    "out7=Dense(1)(x)\n",
    "\n",
    "inp8=Input(batch_shape=(1,look_back,1,))\n",
    "x=LSTM(32,stateful=True, return_sequences=True, activation='tanh')(inp8)\n",
    "x=Dropout(0.25)(x)\n",
    "x=LSTM(32,stateful=True, return_sequences=True, activation='tanh')(x)\n",
    "x=Dropout(0.25)(x)\n",
    "x=LSTM(32,stateful=True, activation='tanh')(x)\n",
    "x=Dropout(0.25)(x)\n",
    "out8=Dense(1)(x)\n",
    "\n",
    "\n",
    "inp9=Input(batch_shape=(1,look_back,1,))\n",
    "\n",
    "x=LSTM(32,stateful=True, return_sequences=True, activation='tanh')(inp9)\n",
    "x=Dropout(0.25)(x)\n",
    "x=LSTM(32,stateful=True, return_sequences=True, activation='tanh')(x)\n",
    "x=Dropout(0.25)(x)\n",
    "x=LSTM(32,stateful=True, activation='tanh')(x)\n",
    "x=Dropout(0.25)(x)\n",
    "out9=Dense(1)(x)\n",
    "\n",
    "inp10=Input(batch_shape=(1,look_back,1,))\n",
    "x=LSTM(32,stateful=True, return_sequences=True, activation='tanh')(inp10)\n",
    "x=Dropout(0.25)(x)\n",
    "x=LSTM(32,stateful=True, return_sequences=True, activation='tanh')(x)\n",
    "x=Dropout(0.25)(x)\n",
    "x=LSTM(32,stateful=True, activation='tanh')(x)\n",
    "x=Dropout(0.25)(x)\n",
    "out10=Dense(1)(x)\n",
    "\n",
    "inp11=Input(batch_shape=(1,look_back,1,))\n",
    "x=LSTM(32,stateful=True, return_sequences=True, activation='tanh')(inp11)\n",
    "x=Dropout(0.25)(x)\n",
    "x=LSTM(32,stateful=True, return_sequences=True, activation='tanh')(x)\n",
    "x=Dropout(0.25)(x)\n",
    "x=LSTM(32,stateful=True, activation='tanh')(x)\n",
    "x=Dropout(0.25)(x)\n",
    "out11=Dense(1)(x)\n",
    "\n",
    "inp12=Input(batch_shape=(1,look_back,1,))\n",
    "x=LSTM(32,stateful=True, return_sequences=True, activation='tanh')(inp12)\n",
    "x=Dropout(0.25)(x)\n",
    "x=LSTM(32,stateful=True, return_sequences=True, activation='tanh')(x)\n",
    "x=Dropout(0.25)(x)\n",
    "x=LSTM(32,stateful=True, activation='tanh')(x)\n",
    "x=Dropout(0.25)(x)\n",
    "out12=Dense(1)(x)\n",
    "\n",
    "inp13=Input(batch_shape=(1,look_back,1,))\n",
    "\n",
    "x=LSTM(32,stateful=True, return_sequences=True, activation='tanh')(inp13)\n",
    "x=Dropout(0.25)(x)\n",
    "x=LSTM(32,stateful=True, return_sequences=True, activation='tanh')(x)\n",
    "x=Dropout(0.25)(x)\n",
    "x=LSTM(32,stateful=True, activation='tanh')(x)\n",
    "x=Dropout(0.25)(x)\n",
    "out13=Dense(1)(x)\n",
    "\n",
    "inp14=Input(batch_shape=(1,look_back,1,))\n",
    "x=LSTM(32,stateful=True, return_sequences=True, activation='tanh')(inp14)\n",
    "x=Dropout(0.25)(x)\n",
    "x=LSTM(32,stateful=True, return_sequences=True, activation='tanh')(x)\n",
    "x=Dropout(0.25)(x)\n",
    "x=LSTM(32,stateful=True, activation='tanh')(x)\n",
    "x=Dropout(0.25)(x)\n",
    "out14=Dense(1)(x)\n",
    "\n",
    "inp15=Input(batch_shape=(1,look_back,1,))\n",
    "x=LSTM(32,stateful=True, return_sequences=True, activation='tanh')(inp15)\n",
    "x=Dropout(0.25)(x)\n",
    "x=LSTM(32,stateful=True, return_sequences=True, activation='tanh')(x)\n",
    "x=Dropout(0.25)(x)\n",
    "x=LSTM(32,stateful=True, activation='tanh')(x)\n",
    "x=Dropout(0.25)(x)\n",
    "out15=Dense(1)(x)\n",
    "\n",
    "inp16=Input(batch_shape=(1,look_back,1,))\n",
    "x=LSTM(32,stateful=True, return_sequences=True, activation='tanh')(inp16)\n",
    "x=Dropout(0.25)(x)\n",
    "x=LSTM(32,stateful=True, return_sequences=True, activation='tanh')(x)\n",
    "x=Dropout(0.25)(x)\n",
    "x=LSTM(32,stateful=True, activation='tanh')(x)\n",
    "x=Dropout(0.25)(x)\n",
    "out16=Dense(1)(x)\n",
    "\n",
    "inp17=Input(batch_shape=(1,look_back,1,))\n",
    "x=LSTM(32,stateful=True, return_sequences=True, activation='tanh')(inp17)\n",
    "x=Dropout(0.25)(x)\n",
    "x=LSTM(32,stateful=True, return_sequences=True, activation='tanh')(x)\n",
    "x=Dropout(0.25)(x)\n",
    "x=LSTM(32,stateful=True, activation='tanh')(x)\n",
    "x=Dropout(0.25)(x)\n",
    "out17=Dense(1)(x)\n",
    "\n",
    "inp18=Input(batch_shape=(1,look_back,1,))\n",
    "x=LSTM(32,stateful=True, return_sequences=True, activation='tanh')(inp18)\n",
    "x=Dropout(0.25)(x)\n",
    "x=LSTM(32,stateful=True, return_sequences=True, activation='tanh')(x)\n",
    "x=Dropout(0.25)(x)\n",
    "x=LSTM(32,stateful=True, activation='tanh')(x)\n",
    "x=Dropout(0.25)(x)\n",
    "out18=Dense(1)(x)\n"
   ]
  },
  {
   "cell_type": "code",
   "execution_count": 27,
   "metadata": {},
   "outputs": [],
   "source": [
    "model = Model(inputs = [inp1,inp2,inp3,inp4,inp5,inp6,inp7,inp8,inp9,inp10,inp11,inp12,inp13,inp14,inp15,inp16,inp17,inp18], \\\n",
    "                       outputs = [out1,out2,out3,out4,out5,out6,out7,out8,out9,out10,out11,out12,out13,out14,out15,out16,out17,out18]) "
   ]
  },
  {
   "cell_type": "code",
   "execution_count": 28,
   "metadata": {},
   "outputs": [],
   "source": [
    "from keras.utils import plot_model\n",
    "plot_model(model,)"
   ]
  },
  {
   "cell_type": "code",
   "execution_count": null,
   "metadata": {},
   "outputs": [],
   "source": []
  },
  {
   "cell_type": "code",
   "execution_count": 29,
   "metadata": {},
   "outputs": [],
   "source": [
    "model.compile(loss='MSE',optimizer='adam')\n",
    "custom_hist=CustomHistory()\n",
    "custom_hist.init()"
   ]
  },
  {
   "cell_type": "code",
   "execution_count": 30,
   "metadata": {},
   "outputs": [
    {
     "name": "stdout",
     "output_type": "stream",
     "text": [
      "0\n"
     ]
    },
    {
     "ename": "NameError",
     "evalue": "name 'x3_train' is not defined",
     "output_type": "error",
     "traceback": [
      "\u001b[0;31m---------------------------------------------------------------------------\u001b[0m",
      "\u001b[0;31mNameError\u001b[0m                                 Traceback (most recent call last)",
      "\u001b[0;32m<ipython-input-30-01be85b1dafe>\u001b[0m in \u001b[0;36m<module>\u001b[0;34m()\u001b[0m\n\u001b[1;32m      1\u001b[0m \u001b[0;32mfor\u001b[0m \u001b[0mi\u001b[0m \u001b[0;32min\u001b[0m \u001b[0mrange\u001b[0m\u001b[0;34m(\u001b[0m\u001b[0;36m2\u001b[0m\u001b[0;34m)\u001b[0m\u001b[0;34m:\u001b[0m\u001b[0;34m\u001b[0m\u001b[0m\n\u001b[1;32m      2\u001b[0m     \u001b[0mprint\u001b[0m\u001b[0;34m(\u001b[0m\u001b[0mi\u001b[0m\u001b[0;34m)\u001b[0m\u001b[0;34m\u001b[0m\u001b[0m\n\u001b[0;32m----> 3\u001b[0;31m     \u001b[0mmodel\u001b[0m\u001b[0;34m.\u001b[0m\u001b[0mfit\u001b[0m\u001b[0;34m(\u001b[0m \u001b[0;34m[\u001b[0m\u001b[0mx1_train\u001b[0m\u001b[0;34m,\u001b[0m\u001b[0mx2_train\u001b[0m\u001b[0;34m,\u001b[0m\u001b[0mx3_train\u001b[0m\u001b[0;34m,\u001b[0m\u001b[0mx4_train\u001b[0m\u001b[0;34m,\u001b[0m\u001b[0mx5_train\u001b[0m\u001b[0;34m,\u001b[0m\u001b[0mx6_train\u001b[0m\u001b[0;34m,\u001b[0m\u001b[0mx7_train\u001b[0m\u001b[0;34m,\u001b[0m\u001b[0mx8_train\u001b[0m\u001b[0;34m,\u001b[0m\u001b[0mx9_train\u001b[0m\u001b[0;34m,\u001b[0m\u001b[0mx10_train\u001b[0m\u001b[0;34m,\u001b[0m\u001b[0mx11_train\u001b[0m\u001b[0;34m,\u001b[0m\u001b[0mx12_train\u001b[0m\u001b[0;34m,\u001b[0m                    \u001b[0mx13_train\u001b[0m\u001b[0;34m,\u001b[0m\u001b[0mx14_train\u001b[0m\u001b[0;34m,\u001b[0m\u001b[0mx15_train\u001b[0m\u001b[0;34m,\u001b[0m\u001b[0mx16_train\u001b[0m\u001b[0;34m,\u001b[0m\u001b[0mx17_train\u001b[0m\u001b[0;34m,\u001b[0m\u001b[0mx18_train\u001b[0m\u001b[0;34m]\u001b[0m\u001b[0;34m,\u001b[0m               \u001b[0;34m[\u001b[0m\u001b[0mx1_train\u001b[0m\u001b[0;34m,\u001b[0m\u001b[0mx2_train\u001b[0m\u001b[0;34m,\u001b[0m\u001b[0mx3_train\u001b[0m\u001b[0;34m,\u001b[0m\u001b[0mx4_train\u001b[0m\u001b[0;34m,\u001b[0m\u001b[0mx5_train\u001b[0m\u001b[0;34m,\u001b[0m\u001b[0mx6_train\u001b[0m\u001b[0;34m,\u001b[0m\u001b[0mx7_train\u001b[0m\u001b[0;34m,\u001b[0m\u001b[0mx8_train\u001b[0m\u001b[0;34m,\u001b[0m\u001b[0mx9_train\u001b[0m\u001b[0;34m,\u001b[0m\u001b[0mx10_train\u001b[0m\u001b[0;34m,\u001b[0m\u001b[0mx11_train\u001b[0m\u001b[0;34m,\u001b[0m\u001b[0mx12_train\u001b[0m\u001b[0;34m,\u001b[0m                \u001b[0mx13_train\u001b[0m\u001b[0;34m,\u001b[0m\u001b[0mx14_train\u001b[0m\u001b[0;34m,\u001b[0m\u001b[0mx15_train\u001b[0m\u001b[0;34m,\u001b[0m\u001b[0mx16_train\u001b[0m\u001b[0;34m,\u001b[0m\u001b[0mx17_train\u001b[0m\u001b[0;34m,\u001b[0m\u001b[0mx18_train\u001b[0m\u001b[0;34m]\u001b[0m \u001b[0;34m,\u001b[0m               \u001b[0mepochs\u001b[0m\u001b[0;34m=\u001b[0m\u001b[0;36m1\u001b[0m\u001b[0;34m,\u001b[0m \u001b[0mbatch_size\u001b[0m\u001b[0;34m=\u001b[0m\u001b[0;36m1\u001b[0m\u001b[0;34m,\u001b[0m \u001b[0mshuffle\u001b[0m\u001b[0;34m=\u001b[0m\u001b[0;32mFalse\u001b[0m\u001b[0;34m,\u001b[0m \u001b[0mcallbacks\u001b[0m\u001b[0;34m=\u001b[0m\u001b[0;34m[\u001b[0m\u001b[0mcustom_hist\u001b[0m\u001b[0;34m]\u001b[0m\u001b[0;34m)\u001b[0m \u001b[0;31m#, validation_data=(x_val, y_val))\u001b[0m\u001b[0;34m\u001b[0m\u001b[0m\n\u001b[0m\u001b[1;32m      4\u001b[0m     \u001b[0mmodel\u001b[0m\u001b[0;34m.\u001b[0m\u001b[0mreset_states\u001b[0m\u001b[0;34m(\u001b[0m\u001b[0;34m)\u001b[0m\u001b[0;34m\u001b[0m\u001b[0m\n",
      "\u001b[0;31mNameError\u001b[0m: name 'x3_train' is not defined"
     ]
    }
   ],
   "source": [
    "for i in range(2):\n",
    "    print(i)\n",
    "    model.fit( [x1_train,x2_train,x3_train,x4_train,x5_train,x6_train,x7_train,x8_train,x9_train,x10_train,x11_train,x12_train,\\\n",
    "                    x13_train,x14_train,x15_train,x16_train,x17_train,x18_train], \\\n",
    "              [x1_train,x2_train,x3_train,x4_train,x5_train,x6_train,x7_train,x8_train,x9_train,x10_train,x11_train,x12_train,\\\n",
    "                x13_train,x14_train,x15_train,x16_train,x17_train,x18_train] , \\\n",
    "              epochs=1, batch_size=1, shuffle=False, callbacks=[custom_hist]) #, validation_data=(x_val, y_val))\n",
    "    model.reset_states()"
   ]
  },
  {
   "cell_type": "code",
   "execution_count": null,
   "metadata": {},
   "outputs": [],
   "source": [
    "trainScore=model.evaluate([x1_train,x2_train], [y1_train,y2_train], verbose=0,batch_size=1)\n",
    "model.reset_states()\n",
    "print('Train Score:', trainScore)\n",
    "\n",
    "# ValScore=model.evaluate(x1_val, y1_val, verbose=0,batch_size=1)\n",
    "# model.reset_states()\n",
    "# print('Train Score:', ValScore)\n",
    "\n",
    "# testScore=model.evaluate(x1_test, y1_test, verbose=0,batch_size=1)\n",
    "# model.reset_states()\n",
    "# print('Train Score:', testScore)\n"
   ]
  },
  {
   "cell_type": "code",
   "execution_count": null,
   "metadata": {},
   "outputs": [],
   "source": [
    "look_ahead=420\n",
    "xhat1= x[]\n",
    "\n",
    "\n",
    "preds=np.zeros((look_ahead,1))\n",
    "\n",
    "for i in range(look_ahead):\n",
    "    pred = model.predict(np.array([xhat]), batch_size=1)\n",
    "    preds[i] = pred\n",
    "    xhat=np.vstack([xhat[1:,],prediction])"
   ]
  },
  {
   "cell_type": "code",
   "execution_count": null,
   "metadata": {},
   "outputs": [],
   "source": [
    "plt.figure(figsize=(12,5))\n",
    "plt.plot(np.arange(look_ahead),predictions,'r',label='prediction')\n",
    "plt.plot(np.arange(look_ahead),y_test[:look_ahead],label='test function')\n",
    "plt.legend()\n",
    "plt.show()\n"
   ]
  },
  {
   "cell_type": "code",
   "execution_count": null,
   "metadata": {},
   "outputs": [],
   "source": []
  }
 ],
 "metadata": {
  "kernelspec": {
   "display_name": "Python [conda env:aws_neuron_tensorflow_p36]",
   "language": "python",
   "name": "conda-env-aws_neuron_tensorflow_p36-py"
  },
  "language_info": {
   "codemirror_mode": {
    "name": "ipython",
    "version": 3
   },
   "file_extension": ".py",
   "mimetype": "text/x-python",
   "name": "python",
   "nbconvert_exporter": "python",
   "pygments_lexer": "ipython3",
   "version": "3.6.5"
  }
 },
 "nbformat": 4,
 "nbformat_minor": 2
}
