{
 "cells": [
  {
   "cell_type": "code",
   "execution_count": 20,
   "metadata": {},
   "outputs": [],
   "source": [
    "import numpy as np\n",
    "import pandas as pd\n",
    "\n",
    "from sklearn.ensemble import RandomForestClassifier\n",
    "from lightgbm import LGBMClassifier\n",
    "from xgboost import XGBClassifier\n",
    "\n",
    "from sklearn.metrics import accuracy_score\n",
    "import matplotlib.pyplot as plt"
   ]
  },
  {
   "cell_type": "markdown",
   "metadata": {},
   "source": [
    "\n",
    "# 데이터 선택"
   ]
  },
  {
   "cell_type": "code",
   "execution_count": null,
   "metadata": {},
   "outputs": [],
   "source": [
    "x = np.load('./data/x.npy')\n",
    "x = np.load('./data/x_percentile.npy')\n",
    "x = np.load('./data/x_standard.npy'')\n",
    "x = np.load('./data/x_try.npy'')\n",
    "x = np.load('./data/x_robust.npy')"
   ]
  },
  {
   "cell_type": "markdown",
   "metadata": {},
   "source": [
    "## 데이터 읽기"
   ]
  },
  {
   "cell_type": "markdown",
   "metadata": {},
   "source": [
    "- **y** 는 LabelEncoder를 적용한 라벨 **숫자** 데이터\n",
    "- **yy** 는 글자로 지정된 라벨 **문자** 데이터\n",
    "- **pred** 는 만들어진 모델에 적용할 테스트(test) 데이터"
   ]
  },
  {
   "cell_type": "code",
   "execution_count": 21,
   "metadata": {},
   "outputs": [],
   "source": [
    "sample_submission = pd.read_csv('./data/sample_submission.csv', index_col=0)\n",
    "\n",
    "y = np.load('./data/y.npy')\n",
    "pred = np.load('./data/pred.npy')\n",
    "yy =pd.read_csv('./data/yy.csv',header=None)\n",
    "\n",
    "path='./data/column_name.txt'\n",
    "with open(path,'r')  as f:\n",
    "    col_name=f.read() \n",
    "\n",
    "x_name=col_name.split('\\n')\n",
    "try:\n",
    "    del(x_name[20])\n",
    "except:\n",
    "    pass"
   ]
  },
  {
   "cell_type": "markdown",
   "metadata": {},
   "source": [
    "# To_categorical"
   ]
  },
  {
   "cell_type": "code",
   "execution_count": 22,
   "metadata": {},
   "outputs": [],
   "source": [
    "#from keras.utils import to_categorical\n",
    "#y=to_categorical(y)"
   ]
  },
  {
   "cell_type": "markdown",
   "metadata": {},
   "source": [
    "# Train_test_Split"
   ]
  },
  {
   "cell_type": "code",
   "execution_count": 23,
   "metadata": {},
   "outputs": [],
   "source": [
    "from sklearn.model_selection import train_test_split\n",
    "x_train, x_test, y_train, y_test = train_test_split(x,y, train_size=0.8, shuffle=True ,random_state=0)"
   ]
  },
  {
   "cell_type": "markdown",
   "metadata": {},
   "source": [
    "# Modeling\n",
    "- 1. RandomForestClassifier\n",
    "- 2. LGBMClassifier\n",
    "- 3. XGBClassifier"
   ]
  },
  {
   "cell_type": "markdown",
   "metadata": {},
   "source": [
    "`to_categorical` is lowest accuracy"
   ]
  },
  {
   "cell_type": "code",
   "execution_count": 24,
   "metadata": {},
   "outputs": [
    {
     "name": "stderr",
     "output_type": "stream",
     "text": [
      "C:\\Users\\jungg\\Anaconda3\\lib\\site-packages\\sklearn\\ensemble\\forest.py:245: FutureWarning: The default value of n_estimators will change from 10 in version 0.20 to 100 in 0.22.\n",
      "  \"10 in version 0.20 to 100 in 0.22.\", FutureWarning)\n"
     ]
    },
    {
     "name": "stdout",
     "output_type": "stream",
     "text": [
      "RF accuracy: 81.202\n"
     ]
    },
    {
     "data": {
      "image/png": "[encoded data removed]",
      "text/plain": [
       "<Figure size 1080x432 with 1 Axes>"
      ]
     },
     "metadata": {
      "needs_background": "light"
     },
     "output_type": "display_data"
    },
    {
     "data": {
      "image/png": "[encoded data removed]",
      "text/plain": [
       "<Figure size 1080x432 with 1 Axes>"
      ]
     },
     "metadata": {
      "needs_background": "light"
     },
     "output_type": "display_data"
    }
   ],
   "source": [
    "forest = RandomForestClassifier()\n",
    "forest.fit(x_train,y_train)\n",
    "res1=forest.score(x_test, y_test) # Accuracy만 반환\n",
    "print(\"RF accuracy: {:.3f}\".format(res1*100))\n",
    "\n",
    "mid=len(x_name)//2\n",
    "\n",
    "plt.figure(figsize=(15, 6))\n",
    "plt.bar(x_name[:mid], forest.feature_importances_[:mid])\n",
    "plt.show()\n",
    "\n",
    "plt.figure(figsize=(15, 6))\n",
    "plt.bar(x_name[mid:], forest.feature_importances_[mid:])\n",
    "plt.show()"
   ]
  },
  {
   "cell_type": "code",
   "execution_count": null,
   "metadata": {},
   "outputs": [],
   "source": [
    "y_pred1 = forest.predict_proba(pred)\n",
    "# 제출 파일 생성\n",
    "submission1 = pd.DataFrame(data=y_pred1, columns=sample_submission.columns, index=sample_submission.index)\n",
    "submission1.to_csv('./data/submission_data_1.csv', index=True)"
   ]
  },
  {
   "cell_type": "code",
   "execution_count": null,
   "metadata": {},
   "outputs": [],
   "source": [
    "LGBM = LGBMClassifier()\n",
    "\n",
    "eval_set = [(x_test, y_test)]\n",
    "LGBM.fit(x_train, y_train, eval_metric=\"mlogloss\", eval_set=eval_set, verbose=True,early_stopping_rounds=50)\n",
    "res2=LGBM.score(x_test, y_test)\n",
    "print(\"LGBM accuracy: {:.3f}\".format(res2*100))\n",
    "from lightgbm import plot_importance\n",
    "plot_importance(LGBM)"
   ]
  },
  {
   "cell_type": "code",
   "execution_count": null,
   "metadata": {},
   "outputs": [],
   "source": [
    "y_pred2 = LGBM.predict_proba(pred)\n",
    "# 제출 파일 생성\n",
    "submission2 = pd.DataFrame(data=y_pred2, columns=sample_submission.columns, index=sample_submission.index)\n",
    "submission2.to_csv('./data/submission_data_2.csv', index=True)"
   ]
  },
  {
   "cell_type": "code",
   "execution_count": null,
   "metadata": {},
   "outputs": [],
   "source": [
    "XGB = XGBClassifier()\n",
    "\n",
    "eval_set = [(x_test, y_test)]\n",
    "XGB.fit(x_train, y_train, eval_metric=\"mlogloss\", eval_set=eval_set, verbose=True,early_stopping_rounds=50)\n",
    "res3=XGB.score(x_test, y_test)\n",
    "print(\"XGB accuracy: {:.3f}\".format(res3*100))\n",
    "from xgboost import plot_importance\n",
    "plot_importance(XGB)"
   ]
  },
  {
   "cell_type": "code",
   "execution_count": null,
   "metadata": {},
   "outputs": [],
   "source": [
    "y_pred3 = XGB.predict_proba(pred)\n",
    "# 제출 파일 생성\n",
    "submission3 = pd.DataFrame(data=y_pred3, columns=sample_submission.columns, index=sample_submission.index)\n",
    "submission3.to_csv('./data/submission_data_3.csv', index=True)"
   ]
  }
 ],
 "metadata": {
  "kernelspec": {
   "display_name": "Python 3",
   "language": "python",
   "name": "python3"
  },
  "language_info": {
   "codemirror_mode": {
    "name": "ipython",
    "version": 3
   },
   "file_extension": ".py",
   "mimetype": "text/x-python",
   "name": "python",
   "nbconvert_exporter": "python",
   "pygments_lexer": "ipython3",
   "version": "3.7.4"
  }
 },
 "nbformat": 4,
 "nbformat_minor": 2
}
