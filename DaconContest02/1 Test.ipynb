{
 "cells": [
  {
   "cell_type": "code",
   "execution_count": null,
   "metadata": {},
   "outputs": [],
   "source": [
    "import numpy as np\n",
    "import pandas as pd\n",
    "from sklearn.ensemble import RandomForestClassifier\n",
    "from lightgbm import LGBMClassifier\n",
    "from xgboost import XGBClassifier\n",
    "from sklearn.metrics import accuracy_score\n",
    "import matplotlib.pyplot as plt"
   ]
  },
  {
   "cell_type": "code",
   "execution_count": null,
   "metadata": {},
   "outputs": [],
   "source": [
    "# 데이터 불러오기\n",
    "train = pd.read_csv('./data/train.csv', index_col=0)\n",
    "test = pd.read_csv('./data/test.csv', index_col=0)\n",
    "sample_submission = pd.read_csv('./data/sample_submission.csv', index_col=0)\n",
    "\n",
    "# Train 데이터의 타입을 Sample_submission에 대응하는 가변수 형태로 변환\n",
    "column_number = {}\n",
    "for i, column in enumerate(sample_submission.columns):\n",
    "    column_number[column] = i\n",
    "    \n",
    "def to_number(x, dic):\n",
    "    return dic[x]\n",
    "\n",
    "train['type_num'] = train['type'].apply(lambda x : to_number(x, column_number))\n",
    "\n",
    "# 모델에 적용할 데이터 셋 준비 \n",
    "x = train.drop(columns=['type', 'type_num'], axis=1)\n",
    "y = train['type_num']\n",
    "\n",
    "x = x.drop(columns=['fiberID'], axis=1)\n",
    "test_x = test.drop(columns=['fiberID'],axis=1)\n",
    "\n",
    "x_name=x.columns"
   ]
  },
  {
   "cell_type": "code",
   "execution_count": null,
   "metadata": {},
   "outputs": [],
   "source": [
    "x=np.array(x)\n",
    "test_x = np.array(test_x)"
   ]
  },
  {
   "cell_type": "code",
   "execution_count": null,
   "metadata": {},
   "outputs": [],
   "source": [
    "from sklearn.model_selection import train_test_split\n",
    "x_train, x_test, y_train, y_test = train_test_split(x,y, train_size=0.8, shuffle=True ,random_state=0)"
   ]
  },
  {
   "cell_type": "markdown",
   "metadata": {},
   "source": [
    "# Modeling\n",
    "- 1. RandomForestClassifier\n",
    "- 2. LGBMClassifier\n",
    "- 3. XGBClassifier"
   ]
  },
  {
   "cell_type": "code",
   "execution_count": null,
   "metadata": {},
   "outputs": [],
   "source": [
    "forest = RandomForestClassifier()\n",
    "forest.fit(x_train,y_train)\n",
    "res1=forest.score(x_test, y_test) # Accuracy만 반환\n",
    "print(\"RF accuracy: {:.3f}\".format(res1*100))\n",
    "\n",
    "mid=len(x_name)//2\n",
    "\n",
    "plt.figure(figsize=(15, 6))\n",
    "plt.bar(x_name[:mid], forest.feature_importances_[:mid])\n",
    "plt.show()\n",
    "\n",
    "plt.figure(figsize=(15, 6))\n",
    "plt.bar(x_name[mid:], forest.feature_importances_[mid:])\n",
    "plt.show()"
   ]
  },
  {
   "cell_type": "code",
   "execution_count": null,
   "metadata": {},
   "outputs": [],
   "source": [
    "y_pred1 = forest.predict_proba(test_x)\n",
    "# 제출 파일 생성\n",
    "submission1 = pd.DataFrame(data=y_pred1, columns=sample_submission.columns, index=sample_submission.index)\n",
    "submission1.to_csv('./data/submission_test_1.csv', index=True)"
   ]
  },
  {
   "cell_type": "code",
   "execution_count": null,
   "metadata": {},
   "outputs": [],
   "source": [
    "LGBM = LGBMClassifier()\n",
    "LGBM.fit(x_train,y_train)\n",
    "res2=LGBM.score(x_test, y_test)\n",
    "print(\"LGBM accuracy: {:.3f}\".format(res2*100))\n",
    "from lightgbm import plot_importance\n",
    "plot_importance(LGBM)"
   ]
  },
  {
   "cell_type": "code",
   "execution_count": null,
   "metadata": {},
   "outputs": [],
   "source": [
    "y_pred2 = LGBM.predict_proba(test_x)\n",
    "# 제출 파일 생성\n",
    "submission2 = pd.DataFrame(data=y_pred2, columns=sample_submission.columns, index=sample_submission.index)\n",
    "submission2.to_csv('./data/submission_test_2.csv', index=True)"
   ]
  },
  {
   "cell_type": "code",
   "execution_count": null,
   "metadata": {},
   "outputs": [],
   "source": [
    "XGB = XGBClassifier()\n",
    "XGB.fit(x_train,y_train)\n",
    "res3=XGB.score(x_test, y_test)\n",
    "print(\"XGB accuracy: {:.3f}\".format(res3*100))\n",
    "from xgboost import plot_importance\n",
    "plot_importance(XGB)"
   ]
  },
  {
   "cell_type": "code",
   "execution_count": null,
   "metadata": {},
   "outputs": [],
   "source": [
    "y_pred3 = XGB.predict_proba(test_x)\n",
    "# 제출 파일 생성\n",
    "submission3 = pd.DataFrame(data=y_pred3, columns=sample_submission.columns, index=sample_submission.index)\n",
    "submission3.to_csv('./data/submission_test_3.csv', index=True)"
   ]
  },
  {
   "cell_type": "code",
   "execution_count": null,
   "metadata": {},
   "outputs": [],
   "source": []
  }
 ],
 "metadata": {
  "kernelspec": {
   "display_name": "Python 3",
   "language": "python",
   "name": "python3"
  },
  "language_info": {
   "codemirror_mode": {
    "name": "ipython",
    "version": 3
   },
   "file_extension": ".py",
   "mimetype": "text/x-python",
   "name": "python",
   "nbconvert_exporter": "python",
   "pygments_lexer": "ipython3",
   "version": "3.7.4"
  }
 },
 "nbformat": 4,
 "nbformat_minor": 2
}
