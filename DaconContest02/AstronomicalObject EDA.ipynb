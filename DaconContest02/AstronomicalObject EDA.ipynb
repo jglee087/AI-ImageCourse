{
 "cells": [
  {
   "cell_type": "markdown",
   "metadata": {},
   "source": [
    "# 1. READ DATA"
   ]
  },
  {
   "cell_type": "code",
   "execution_count": null,
   "metadata": {},
   "outputs": [],
   "source": [
    "import pandas as pd\n",
    "import numpy as np\n",
    "import matplotlib.pyplot as plt\n",
    "import seaborn as sns \n",
    "%matplotlib inline"
   ]
  },
  {
   "cell_type": "code",
   "execution_count": null,
   "metadata": {},
   "outputs": [],
   "source": [
    "train = pd.read_csv('./data/train.csv',index_col=0)\n",
    "test = pd. read_csv('./data/test.csv',index_col=0)"
   ]
  },
  {
   "cell_type": "code",
   "execution_count": null,
   "metadata": {},
   "outputs": [],
   "source": [
    "train.head()"
   ]
  },
  {
   "cell_type": "markdown",
   "metadata": {},
   "source": [
    "- type\n",
    "- fiberID  \n",
    "- psfMag_u\n",
    "- psfMag_g\n",
    "- psfMag_r\n",
    "- psfMag_i\n",
    "- psfMag_z  \n",
    "- modelMag_u\n",
    "- modelMag_g\n",
    "- modelMag_r\n",
    "- modelMag_i\n",
    "- modelMag_z\n"
   ]
  },
  {
   "cell_type": "markdown",
   "metadata": {},
   "source": [
    "# 2. Check Parameters\n",
    "- 1. Check Missing and Null Data\n",
    "- 2. Check mean, min, max\n",
    "- 3. Check correlation between columns\n",
    "- 4. Check type(label)\n",
    "- 5. Check Each Columns \n",
    "- 6. Check between type(label) and columns "
   ]
  },
  {
   "cell_type": "markdown",
   "metadata": {},
   "source": [
    "1. Check Null Data"
   ]
  },
  {
   "cell_type": "code",
   "execution_count": null,
   "metadata": {},
   "outputs": [],
   "source": [
    "train.info()"
   ]
  },
  {
   "cell_type": "markdown",
   "metadata": {},
   "source": [
    "2. Describe"
   ]
  },
  {
   "cell_type": "code",
   "execution_count": null,
   "metadata": {},
   "outputs": [],
   "source": [
    "train.describe()"
   ]
  },
  {
   "cell_type": "markdown",
   "metadata": {},
   "source": [
    "3. Correlation"
   ]
  },
  {
   "cell_type": "code",
   "execution_count": null,
   "metadata": {},
   "outputs": [],
   "source": [
    "corr = train.corr()\n",
    "cmap = sns.color_palette(\"Blues\")\n",
    "f, ax = plt.subplots(figsize=(16, 8))\n",
    "sns.heatmap(corr, cmap=cmap, annot=True, fmt = \".2f\")"
   ]
  },
  {
   "cell_type": "markdown",
   "metadata": {},
   "source": [
    "4. Check type(label data)  \n",
    "Imbalnced category"
   ]
  },
  {
   "cell_type": "code",
   "execution_count": null,
   "metadata": {
    "scrolled": false
   },
   "outputs": [],
   "source": [
    "train['type'].value_counts()"
   ]
  },
  {
   "cell_type": "code",
   "execution_count": null,
   "metadata": {
    "scrolled": true
   },
   "outputs": [],
   "source": [
    "fig = plt.figure(figsize=(8,9))\n",
    "plt.subplots_adjust(hspace=.5)\n",
    "\n",
    "plt.subplot2grid((3,3), (0,0), colspan = 3)\n",
    "train['type'].value_counts().plot(kind='bar')\n",
    "plt.title('type Values in the Training Set - train ()')"
   ]
  },
  {
   "cell_type": "code",
   "execution_count": null,
   "metadata": {
    "scrolled": true
   },
   "outputs": [],
   "source": [
    "fig, ax = plt.subplots(dpi=100)\n",
    "train['type'].value_counts(ascending=True).plot(kind='barh', width=0.8, edgecolor='black', ax=ax)\n",
    "ax.grid(axis='x', linestyle='--')\n",
    "fig.tight_layout()\n",
    "plt.show()"
   ]
  },
  {
   "cell_type": "code",
   "execution_count": null,
   "metadata": {},
   "outputs": [],
   "source": []
  },
  {
   "cell_type": "markdown",
   "metadata": {},
   "source": [
    "### Check Each Columns"
   ]
  },
  {
   "cell_type": "code",
   "execution_count": null,
   "metadata": {
    "scrolled": false
   },
   "outputs": [],
   "source": [
    "col = train.columns\n",
    "fig, axes = plt.subplots(10, 2, figsize=(10,30))\n",
    "\n",
    "for i, column in enumerate(col):    \n",
    "    if i>1:\n",
    "        sns.kdeplot(train[column], shade=True, ax=axes.flat[i-2])\n",
    "        \n",
    "fig.tight_layout()\n",
    "plt.show()"
   ]
  },
  {
   "cell_type": "code",
   "execution_count": null,
   "metadata": {},
   "outputs": [],
   "source": [
    "cols= train.columns\n",
    "cols[2:7]"
   ]
  },
  {
   "cell_type": "code",
   "execution_count": null,
   "metadata": {},
   "outputs": [],
   "source": [
    "sns.pairplot(train[cols])"
   ]
  },
  {
   "cell_type": "code",
   "execution_count": null,
   "metadata": {},
   "outputs": [],
   "source": []
  },
  {
   "cell_type": "markdown",
   "metadata": {},
   "source": [
    "6. Check type and other columns Connection"
   ]
  },
  {
   "cell_type": "code",
   "execution_count": null,
   "metadata": {},
   "outputs": [],
   "source": [
    "fig, axes = plt.subplots(5, 1, figsize=(10,30))\n",
    "columns = train.filter(regex='psf').columns.tolist()[:5]\n",
    "for i, column in enumerate(columns):\n",
    "    sns.boxplot(y='type', x=column, data=train, ax=axes.flat[i])\n",
    "    axes.flat[i].grid(axis='x', linestyle='--')\n",
    "    axes.flat[i].set_xlim([-20,50])\n",
    "    \n",
    "fig.tight_layout()\n",
    "plt.show()"
   ]
  },
  {
   "cell_type": "code",
   "execution_count": null,
   "metadata": {},
   "outputs": [],
   "source": [
    "fig, axes = plt.subplots(5, 1, figsize=(10,30))\n",
    "columns = train.filter(regex='fiberMag').columns.tolist()[:5]\n",
    "for i, column in enumerate(columns):\n",
    "    sns.boxplot(y='type', x=column, data=train, ax=axes.flat[i])\n",
    "    axes.flat[i].grid(axis='x', linestyle='--')\n",
    "    axes.flat[i].set_xlim([-20,50])\n",
    "    \n",
    "fig.tight_layout()\n",
    "plt.show()"
   ]
  },
  {
   "cell_type": "code",
   "execution_count": null,
   "metadata": {},
   "outputs": [],
   "source": [
    "fig, axes = plt.subplots(5, 1, figsize=(10,30))\n",
    "columns = train.filter(regex='petro').columns.tolist()[:5]\n",
    "for i, column in enumerate(columns):\n",
    "    sns.boxplot(y='type', x=column, data=train, ax=axes.flat[i])\n",
    "    axes.flat[i].grid(axis='x', linestyle='--')\n",
    "    axes.flat[i].set_xlim([-20,50])\n",
    "    \n",
    "fig.tight_layout()\n",
    "plt.show()"
   ]
  },
  {
   "cell_type": "code",
   "execution_count": null,
   "metadata": {},
   "outputs": [],
   "source": [
    "fig, axes = plt.subplots(5, 1, figsize=(10,30))\n",
    "columns = train.filter(regex='model').columns.tolist()[:5]\n",
    "for i, column in enumerate(columns):\n",
    "    sns.boxplot(y='type', x=column, data=train, ax=axes.flat[i])\n",
    "    axes.flat[i].grid(axis='x', linestyle='--')\n",
    "    axes.flat[i].set_xlim([-20,50])\n",
    "    \n",
    "fig.tight_layout()\n",
    "plt.show()"
   ]
  },
  {
   "cell_type": "markdown",
   "metadata": {},
   "source": [
    "### Outlier Check and Plot"
   ]
  },
  {
   "cell_type": "code",
   "execution_count": null,
   "metadata": {},
   "outputs": [],
   "source": [
    "def draw_types(n=6, regex='psf'):\n",
    "    labels = train['type'].value_counts().index.tolist()[:n]\n",
    "    columns = train.filter(regex=regex).columns.tolist()\n",
    "    colors = ['violet', 'green', 'red', 'cyan', 'yellow']\n",
    "    waves = [column[-1:] for column in columns]\n",
    "\n",
    "    fig, axes = plt.subplots(int(n/2), 2, figsize=(10,n), dpi=100)\n",
    "    w = 1.5\n",
    "    for i, label in enumerate(labels):\n",
    "        for column, color, wave in zip(columns, colors, waves):\n",
    "            q1 = train.loc[train['type'] == label, column].quantile(0.25)\n",
    "            q3 = train.loc[train['type'] == label, column].quantile(0.75)\n",
    "            iqr = q3 - q1\n",
    "            lower_bound = q1 - (w * iqr)\n",
    "            upper_bound = q3 + (w * iqr)\n",
    "            \n",
    "            mask = (train.loc[train['type']==label, column] >= lower_bound) & (train.loc[train['type']==label, column] <= upper_bound)\n",
    "            \n",
    "            data = train.loc[train['type'] == label, column].loc[mask]\n",
    "\n",
    "            sns.distplot(data, hist=False, color=color, kde_kws={'shade': True}, \n",
    "                         label=wave, ax=axes.flat[i])\n",
    "\n",
    "        axes.flat[i].set_title(label)\n",
    "        axes.flat[i].set_xlabel('')\n",
    "        axes.flat[i].grid(axis='x', linestyle='--')\n",
    "        axes.flat[i].legend(frameon=True, framealpha=1, shadow=False, \n",
    "                            fancybox=False, edgecolor='black')\n",
    "\n",
    "    fig.tight_layout()\n",
    "    plt.show()"
   ]
  },
  {
   "cell_type": "code",
   "execution_count": null,
   "metadata": {
    "scrolled": true
   },
   "outputs": [],
   "source": [
    "draw_types(n=20, regex='psf')"
   ]
  },
  {
   "cell_type": "code",
   "execution_count": null,
   "metadata": {},
   "outputs": [],
   "source": [
    "draw_types(n=20, regex='fiberMag')"
   ]
  },
  {
   "cell_type": "code",
   "execution_count": null,
   "metadata": {},
   "outputs": [],
   "source": [
    "draw_types(n=20, regex='modelMag')"
   ]
  },
  {
   "cell_type": "code",
   "execution_count": null,
   "metadata": {
    "scrolled": false
   },
   "outputs": [],
   "source": [
    "draw_types(n=20, regex='petro')"
   ]
  },
  {
   "cell_type": "markdown",
   "metadata": {},
   "source": [
    "## 3. Feature Engineering"
   ]
  },
  {
   "cell_type": "markdown",
   "metadata": {},
   "source": [
    "### 3.1 Numerical values\n",
    "### 3.2 Categorical values\n",
    "### 3.3 Filling Missing Values\n",
    "### 3.4 Detect Outlier and Remove\n",
    "### 3.5 Feature engineering"
   ]
  },
  {
   "cell_type": "markdown",
   "metadata": {},
   "source": []
  },
  {
   "cell_type": "code",
   "execution_count": null,
   "metadata": {},
   "outputs": [],
   "source": [
    "id1=train['psfMag_u']<-10\n",
    "id2=train['psfMag_u']>40.\n",
    "train2 = train.copy()\n",
    "train2['psfMag_u'][id1]=-10.\n",
    "train2['psfMag_u'][id2]=40."
   ]
  },
  {
   "cell_type": "code",
   "execution_count": null,
   "metadata": {},
   "outputs": [],
   "source": []
  },
  {
   "cell_type": "code",
   "execution_count": null,
   "metadata": {},
   "outputs": [],
   "source": []
  }
 ],
 "metadata": {
  "kernelspec": {
   "display_name": "Python 3",
   "language": "python",
   "name": "python3"
  },
  "language_info": {
   "codemirror_mode": {
    "name": "ipython",
    "version": 3
   },
   "file_extension": ".py",
   "mimetype": "text/x-python",
   "name": "python",
   "nbconvert_exporter": "python",
   "pygments_lexer": "ipython3",
   "version": "3.7.4"
  }
 },
 "nbformat": 4,
 "nbformat_minor": 2
}
