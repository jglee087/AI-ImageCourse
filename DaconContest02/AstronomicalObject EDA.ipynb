{
 "cells": [
  {
   "cell_type": "markdown",
   "metadata": {},
   "source": [
    "# 1. READ DATA"
   ]
  },
  {
   "cell_type": "code",
   "execution_count": 2,
   "metadata": {},
   "outputs": [],
   "source": [
    "import pandas as pd\n",
    "import numpy as np\n",
    "import matplotlib.pyplot as plt\n",
    "import seaborn as sns \n",
    "import pandas_profiling\n",
    "%matplotlib inline"
   ]
  },
  {
   "cell_type": "code",
   "execution_count": 3,
   "metadata": {},
   "outputs": [],
   "source": [
    "train = pd.read_csv('./data/train.csv',index_col=0)\n",
    "test = pd. read_csv('./data/test.csv',index_col=0)"
   ]
  },
  {
   "cell_type": "code",
   "execution_count": null,
   "metadata": {},
   "outputs": [],
   "source": [
    "# pr=test.profile_report()\n",
    "# pr.to_file('./pr_report.html') # pr_report.html 파일로 저장"
   ]
  },
  {
   "cell_type": "code",
   "execution_count": null,
   "metadata": {},
   "outputs": [],
   "source": [
    "train.head()"
   ]
  },
  {
   "cell_type": "markdown",
   "metadata": {},
   "source": [
    "- type\n",
    "- fiberID  \n",
    "- psfMag_u\n",
    "- psfMag_g\n",
    "- psfMag_r\n",
    "- psfMag_i\n",
    "- psfMag_z  \n",
    "- modelMag_u\n",
    "- modelMag_g\n",
    "- modelMag_r\n",
    "- modelMag_i\n",
    "- modelMag_z\n"
   ]
  },
  {
   "cell_type": "markdown",
   "metadata": {},
   "source": [
    "# 2. Check Parameters\n",
    "- 1. Check Missing and Null Data\n",
    "- 2. Check mean, min, max\n",
    "- 3. Check correlation between columns\n",
    "- 4. Check type(label)\n",
    "- 5. Check Each Columns \n",
    "- 6. Check between type(label) and columns "
   ]
  },
  {
   "cell_type": "markdown",
   "metadata": {},
   "source": [
    "1. Check Null Data"
   ]
  },
  {
   "cell_type": "code",
   "execution_count": null,
   "metadata": {},
   "outputs": [],
   "source": [
    "train.info()"
   ]
  },
  {
   "cell_type": "markdown",
   "metadata": {},
   "source": [
    "2. Describe"
   ]
  },
  {
   "cell_type": "code",
   "execution_count": null,
   "metadata": {},
   "outputs": [],
   "source": [
    "train.describe()"
   ]
  },
  {
   "cell_type": "markdown",
   "metadata": {},
   "source": [
    "3. Correlation"
   ]
  },
  {
   "cell_type": "code",
   "execution_count": null,
   "metadata": {},
   "outputs": [],
   "source": [
    "corr = train.corr()\n",
    "cmap = sns.color_palette(\"Blues\")\n",
    "f, ax = plt.subplots(figsize=(16, 8))\n",
    "sns.heatmap(corr, cmap=cmap, annot=True, fmt = \".2f\")"
   ]
  },
  {
   "cell_type": "markdown",
   "metadata": {},
   "source": [
    "4. Check type(label data)  \n",
    "Imbalnced category"
   ]
  },
  {
   "cell_type": "code",
   "execution_count": null,
   "metadata": {
    "scrolled": false
   },
   "outputs": [],
   "source": [
    "train['type'].value_counts()"
   ]
  },
  {
   "cell_type": "code",
   "execution_count": null,
   "metadata": {
    "scrolled": true
   },
   "outputs": [],
   "source": [
    "fig = plt.figure(figsize=(8,9))\n",
    "plt.subplots_adjust(hspace=.5)\n",
    "\n",
    "plt.subplot2grid((3,3), (0,0), colspan = 3)\n",
    "train['type'].value_counts().plot(kind='bar')\n",
    "plt.title('type Values in the Training Set - train ()')"
   ]
  },
  {
   "cell_type": "code",
   "execution_count": null,
   "metadata": {
    "scrolled": true
   },
   "outputs": [],
   "source": [
    "fig, ax = plt.subplots(dpi=100)\n",
    "train['type'].value_counts(ascending=True).plot(kind='barh', width=0.8, edgecolor='black', ax=ax)\n",
    "ax.grid(axis='x', linestyle='--')\n",
    "fig.tight_layout()\n",
    "plt.show()"
   ]
  },
  {
   "cell_type": "code",
   "execution_count": null,
   "metadata": {},
   "outputs": [],
   "source": []
  },
  {
   "cell_type": "markdown",
   "metadata": {},
   "source": [
    "### Check Each Columns"
   ]
  },
  {
   "cell_type": "code",
   "execution_count": null,
   "metadata": {
    "scrolled": false
   },
   "outputs": [],
   "source": [
    "col = train.columns\n",
    "fig, axes = plt.subplots(10, 2, figsize=(10,30))\n",
    "\n",
    "for i, column in enumerate(col):    \n",
    "    if i>1:\n",
    "        sns.kdeplot(train[column], shade=True, ax=axes.flat[i-2])\n",
    "        \n",
    "fig.tight_layout()\n",
    "plt.show()"
   ]
  },
  {
   "cell_type": "code",
   "execution_count": null,
   "metadata": {},
   "outputs": [],
   "source": [
    "cols= train.columns\n",
    "cols[2:7]"
   ]
  },
  {
   "cell_type": "code",
   "execution_count": null,
   "metadata": {},
   "outputs": [],
   "source": [
    "# sns.pairplot(train[cols])"
   ]
  },
  {
   "cell_type": "code",
   "execution_count": null,
   "metadata": {},
   "outputs": [],
   "source": []
  },
  {
   "cell_type": "markdown",
   "metadata": {},
   "source": [
    "6. Check type and other columns Connection"
   ]
  },
  {
   "cell_type": "code",
   "execution_count": 14,
   "metadata": {
    "scrolled": false
   },
   "outputs": [
    {
     "ename": "KeyError",
     "evalue": "\"None of [Index([(21.431953406254802, 20.708103988199, 16.7278979265844, 20.040370991681, 23.0587673158623, 19.315941586511702, 21.1209194437774, 15.786267718713699, 20.773063631318, 18.3154596918432, 17.228673684456002, 18.6838716636346, 19.785866304297198, 19.1126554452698, 19.0041511728707, 20.8209520543145, 19.6764816276324, 19.9260069891469, 20.5688085839457, 20.1921143486524, 15.989207598450598, 17.841138160649606, 18.895626610234306, 20.2660443021486, 18.674142330754, 18.8515290889257, 22.5374945662953, 20.0748312789278, 19.2170514328713, 21.1879751757245, 21.126963413288397, 19.720593842469896, 18.798606106058397, 21.2295535074383, 19.934723761212002, 20.887840303067602, 19.2212180221559, 21.556742336163996, 19.5323030332274, 17.0150601451299, 20.0239300650379, 21.6074235527179, 18.9968105447192, 20.0889901064041, 19.418428235058, 17.4263728850463, 18.907372189125198, 17.3771859924964, 25.555191021824303, 17.681626047431, 19.9188956912731, 21.125461904873603, 21.3412277532092, 21.1791234539437, 16.7192538395433, 24.5138204891914, 20.576785234541603, 18.4574319377458, 19.1837198510411, 16.3991791540524, 19.7374938529446, 21.835875208065602, 16.8454536940386, 19.931198454222, 18.7712866597431, 19.3950770399641, 20.6277303780242, 18.2793252237557, 19.8586078104376, 20.4065332123972, 17.141493983363098, 15.1149395204547, 21.753255044317694, 19.839486946974002, 21.854108793207, 18.4932809176368, 21.5386981425031, 19.0070040104215, 18.341995626514606, 18.0277388368036, 19.0204935658772, 19.0614112938127, 19.3540906813677, 20.209430467462106, 20.7389612496337, 19.9386576011797, 20.376307900230106, 20.1949011048248, 16.6930339284831, 21.931282790226003, 18.5447202347345, 19.6380666733155, 19.8766835687218, 19.371652648770002, 19.355624528143, 19.6285607488207, 20.7180003238558, 17.666726306593898, 21.223893112362894, 21.786027784717497, ...)], dtype='object')] are in the [columns]\"",
     "output_type": "error",
     "traceback": [
      "\u001b[1;31m---------------------------------------------------------------------------\u001b[0m",
      "\u001b[1;31mKeyError\u001b[0m                                  Traceback (most recent call last)",
      "\u001b[1;32m<ipython-input-14-8d9d41e513f3>\u001b[0m in \u001b[0;36m<module>\u001b[1;34m\u001b[0m\n\u001b[0;32m      1\u001b[0m \u001b[0mg\u001b[0m \u001b[1;33m=\u001b[0m \u001b[0msns\u001b[0m\u001b[1;33m.\u001b[0m\u001b[0mFacetGrid\u001b[0m\u001b[1;33m(\u001b[0m\u001b[0mtrain\u001b[0m\u001b[1;33m,\u001b[0m \u001b[0mcol\u001b[0m\u001b[1;33m=\u001b[0m\u001b[1;34m'type'\u001b[0m\u001b[1;33m)\u001b[0m\u001b[1;33m\u001b[0m\u001b[1;33m\u001b[0m\u001b[0m\n\u001b[1;32m----> 2\u001b[1;33m \u001b[0mg\u001b[0m\u001b[1;33m.\u001b[0m\u001b[0mmap\u001b[0m\u001b[1;33m(\u001b[0m\u001b[0mplt\u001b[0m\u001b[1;33m.\u001b[0m\u001b[0mhist\u001b[0m\u001b[1;33m,\u001b[0m \u001b[0mtrain\u001b[0m\u001b[1;33m[\u001b[0m\u001b[1;34m'psfMag_g'\u001b[0m\u001b[1;33m]\u001b[0m\u001b[1;33m,\u001b[0m \u001b[0mbins\u001b[0m\u001b[1;33m=\u001b[0m\u001b[1;36m20\u001b[0m\u001b[1;33m)\u001b[0m\u001b[1;33m\u001b[0m\u001b[1;33m\u001b[0m\u001b[0m\n\u001b[0m",
      "\u001b[1;32m~\\Anaconda3\\lib\\site-packages\\seaborn\\axisgrid.py\u001b[0m in \u001b[0;36mmap\u001b[1;34m(self, func, *args, **kwargs)\u001b[0m\n\u001b[0;32m    755\u001b[0m \u001b[1;33m\u001b[0m\u001b[0m\n\u001b[0;32m    756\u001b[0m             \u001b[1;31m# Get the actual data we are going to plot with\u001b[0m\u001b[1;33m\u001b[0m\u001b[1;33m\u001b[0m\u001b[1;33m\u001b[0m\u001b[0m\n\u001b[1;32m--> 757\u001b[1;33m             \u001b[0mplot_data\u001b[0m \u001b[1;33m=\u001b[0m \u001b[0mdata_ijk\u001b[0m\u001b[1;33m[\u001b[0m\u001b[0mlist\u001b[0m\u001b[1;33m(\u001b[0m\u001b[0margs\u001b[0m\u001b[1;33m)\u001b[0m\u001b[1;33m]\u001b[0m\u001b[1;33m\u001b[0m\u001b[1;33m\u001b[0m\u001b[0m\n\u001b[0m\u001b[0;32m    758\u001b[0m             \u001b[1;32mif\u001b[0m \u001b[0mself\u001b[0m\u001b[1;33m.\u001b[0m\u001b[0m_dropna\u001b[0m\u001b[1;33m:\u001b[0m\u001b[1;33m\u001b[0m\u001b[1;33m\u001b[0m\u001b[0m\n\u001b[0;32m    759\u001b[0m                 \u001b[0mplot_data\u001b[0m \u001b[1;33m=\u001b[0m \u001b[0mplot_data\u001b[0m\u001b[1;33m.\u001b[0m\u001b[0mdropna\u001b[0m\u001b[1;33m(\u001b[0m\u001b[1;33m)\u001b[0m\u001b[1;33m\u001b[0m\u001b[1;33m\u001b[0m\u001b[0m\n",
      "\u001b[1;32m~\\Anaconda3\\lib\\site-packages\\pandas\\core\\frame.py\u001b[0m in \u001b[0;36m__getitem__\u001b[1;34m(self, key)\u001b[0m\n\u001b[0;32m   2984\u001b[0m             \u001b[1;32mif\u001b[0m \u001b[0mis_iterator\u001b[0m\u001b[1;33m(\u001b[0m\u001b[0mkey\u001b[0m\u001b[1;33m)\u001b[0m\u001b[1;33m:\u001b[0m\u001b[1;33m\u001b[0m\u001b[1;33m\u001b[0m\u001b[0m\n\u001b[0;32m   2985\u001b[0m                 \u001b[0mkey\u001b[0m \u001b[1;33m=\u001b[0m \u001b[0mlist\u001b[0m\u001b[1;33m(\u001b[0m\u001b[0mkey\u001b[0m\u001b[1;33m)\u001b[0m\u001b[1;33m\u001b[0m\u001b[1;33m\u001b[0m\u001b[0m\n\u001b[1;32m-> 2986\u001b[1;33m             \u001b[0mindexer\u001b[0m \u001b[1;33m=\u001b[0m \u001b[0mself\u001b[0m\u001b[1;33m.\u001b[0m\u001b[0mloc\u001b[0m\u001b[1;33m.\u001b[0m\u001b[0m_convert_to_indexer\u001b[0m\u001b[1;33m(\u001b[0m\u001b[0mkey\u001b[0m\u001b[1;33m,\u001b[0m \u001b[0maxis\u001b[0m\u001b[1;33m=\u001b[0m\u001b[1;36m1\u001b[0m\u001b[1;33m,\u001b[0m \u001b[0mraise_missing\u001b[0m\u001b[1;33m=\u001b[0m\u001b[1;32mTrue\u001b[0m\u001b[1;33m)\u001b[0m\u001b[1;33m\u001b[0m\u001b[1;33m\u001b[0m\u001b[0m\n\u001b[0m\u001b[0;32m   2987\u001b[0m \u001b[1;33m\u001b[0m\u001b[0m\n\u001b[0;32m   2988\u001b[0m         \u001b[1;31m# take() does not accept boolean indexers\u001b[0m\u001b[1;33m\u001b[0m\u001b[1;33m\u001b[0m\u001b[1;33m\u001b[0m\u001b[0m\n",
      "\u001b[1;32m~\\Anaconda3\\lib\\site-packages\\pandas\\core\\indexing.py\u001b[0m in \u001b[0;36m_convert_to_indexer\u001b[1;34m(self, obj, axis, is_setter, raise_missing)\u001b[0m\n\u001b[0;32m   1283\u001b[0m                 \u001b[1;31m# When setting, missing keys are not allowed, even with .loc:\u001b[0m\u001b[1;33m\u001b[0m\u001b[1;33m\u001b[0m\u001b[1;33m\u001b[0m\u001b[0m\n\u001b[0;32m   1284\u001b[0m                 \u001b[0mkwargs\u001b[0m \u001b[1;33m=\u001b[0m \u001b[1;33m{\u001b[0m\u001b[1;34m\"raise_missing\"\u001b[0m\u001b[1;33m:\u001b[0m \u001b[1;32mTrue\u001b[0m \u001b[1;32mif\u001b[0m \u001b[0mis_setter\u001b[0m \u001b[1;32melse\u001b[0m \u001b[0mraise_missing\u001b[0m\u001b[1;33m}\u001b[0m\u001b[1;33m\u001b[0m\u001b[1;33m\u001b[0m\u001b[0m\n\u001b[1;32m-> 1285\u001b[1;33m                 \u001b[1;32mreturn\u001b[0m \u001b[0mself\u001b[0m\u001b[1;33m.\u001b[0m\u001b[0m_get_listlike_indexer\u001b[0m\u001b[1;33m(\u001b[0m\u001b[0mobj\u001b[0m\u001b[1;33m,\u001b[0m \u001b[0maxis\u001b[0m\u001b[1;33m,\u001b[0m \u001b[1;33m**\u001b[0m\u001b[0mkwargs\u001b[0m\u001b[1;33m)\u001b[0m\u001b[1;33m[\u001b[0m\u001b[1;36m1\u001b[0m\u001b[1;33m]\u001b[0m\u001b[1;33m\u001b[0m\u001b[1;33m\u001b[0m\u001b[0m\n\u001b[0m\u001b[0;32m   1286\u001b[0m         \u001b[1;32melse\u001b[0m\u001b[1;33m:\u001b[0m\u001b[1;33m\u001b[0m\u001b[1;33m\u001b[0m\u001b[0m\n\u001b[0;32m   1287\u001b[0m             \u001b[1;32mtry\u001b[0m\u001b[1;33m:\u001b[0m\u001b[1;33m\u001b[0m\u001b[1;33m\u001b[0m\u001b[0m\n",
      "\u001b[1;32m~\\Anaconda3\\lib\\site-packages\\pandas\\core\\indexing.py\u001b[0m in \u001b[0;36m_get_listlike_indexer\u001b[1;34m(self, key, axis, raise_missing)\u001b[0m\n\u001b[0;32m   1090\u001b[0m \u001b[1;33m\u001b[0m\u001b[0m\n\u001b[0;32m   1091\u001b[0m         self._validate_read_indexer(\n\u001b[1;32m-> 1092\u001b[1;33m             \u001b[0mkeyarr\u001b[0m\u001b[1;33m,\u001b[0m \u001b[0mindexer\u001b[0m\u001b[1;33m,\u001b[0m \u001b[0mo\u001b[0m\u001b[1;33m.\u001b[0m\u001b[0m_get_axis_number\u001b[0m\u001b[1;33m(\u001b[0m\u001b[0maxis\u001b[0m\u001b[1;33m)\u001b[0m\u001b[1;33m,\u001b[0m \u001b[0mraise_missing\u001b[0m\u001b[1;33m=\u001b[0m\u001b[0mraise_missing\u001b[0m\u001b[1;33m\u001b[0m\u001b[1;33m\u001b[0m\u001b[0m\n\u001b[0m\u001b[0;32m   1093\u001b[0m         )\n\u001b[0;32m   1094\u001b[0m         \u001b[1;32mreturn\u001b[0m \u001b[0mkeyarr\u001b[0m\u001b[1;33m,\u001b[0m \u001b[0mindexer\u001b[0m\u001b[1;33m\u001b[0m\u001b[1;33m\u001b[0m\u001b[0m\n",
      "\u001b[1;32m~\\Anaconda3\\lib\\site-packages\\pandas\\core\\indexing.py\u001b[0m in \u001b[0;36m_validate_read_indexer\u001b[1;34m(self, key, indexer, axis, raise_missing)\u001b[0m\n\u001b[0;32m   1175\u001b[0m                 raise KeyError(\n\u001b[0;32m   1176\u001b[0m                     \"None of [{key}] are in the [{axis}]\".format(\n\u001b[1;32m-> 1177\u001b[1;33m                         \u001b[0mkey\u001b[0m\u001b[1;33m=\u001b[0m\u001b[0mkey\u001b[0m\u001b[1;33m,\u001b[0m \u001b[0maxis\u001b[0m\u001b[1;33m=\u001b[0m\u001b[0mself\u001b[0m\u001b[1;33m.\u001b[0m\u001b[0mobj\u001b[0m\u001b[1;33m.\u001b[0m\u001b[0m_get_axis_name\u001b[0m\u001b[1;33m(\u001b[0m\u001b[0maxis\u001b[0m\u001b[1;33m)\u001b[0m\u001b[1;33m\u001b[0m\u001b[1;33m\u001b[0m\u001b[0m\n\u001b[0m\u001b[0;32m   1178\u001b[0m                     )\n\u001b[0;32m   1179\u001b[0m                 )\n",
      "\u001b[1;31mKeyError\u001b[0m: \"None of [Index([(21.431953406254802, 20.708103988199, 16.7278979265844, 20.040370991681, 23.0587673158623, 19.315941586511702, 21.1209194437774, 15.786267718713699, 20.773063631318, 18.3154596918432, 17.228673684456002, 18.6838716636346, 19.785866304297198, 19.1126554452698, 19.0041511728707, 20.8209520543145, 19.6764816276324, 19.9260069891469, 20.5688085839457, 20.1921143486524, 15.989207598450598, 17.841138160649606, 18.895626610234306, 20.2660443021486, 18.674142330754, 18.8515290889257, 22.5374945662953, 20.0748312789278, 19.2170514328713, 21.1879751757245, 21.126963413288397, 19.720593842469896, 18.798606106058397, 21.2295535074383, 19.934723761212002, 20.887840303067602, 19.2212180221559, 21.556742336163996, 19.5323030332274, 17.0150601451299, 20.0239300650379, 21.6074235527179, 18.9968105447192, 20.0889901064041, 19.418428235058, 17.4263728850463, 18.907372189125198, 17.3771859924964, 25.555191021824303, 17.681626047431, 19.9188956912731, 21.125461904873603, 21.3412277532092, 21.1791234539437, 16.7192538395433, 24.5138204891914, 20.576785234541603, 18.4574319377458, 19.1837198510411, 16.3991791540524, 19.7374938529446, 21.835875208065602, 16.8454536940386, 19.931198454222, 18.7712866597431, 19.3950770399641, 20.6277303780242, 18.2793252237557, 19.8586078104376, 20.4065332123972, 17.141493983363098, 15.1149395204547, 21.753255044317694, 19.839486946974002, 21.854108793207, 18.4932809176368, 21.5386981425031, 19.0070040104215, 18.341995626514606, 18.0277388368036, 19.0204935658772, 19.0614112938127, 19.3540906813677, 20.209430467462106, 20.7389612496337, 19.9386576011797, 20.376307900230106, 20.1949011048248, 16.6930339284831, 21.931282790226003, 18.5447202347345, 19.6380666733155, 19.8766835687218, 19.371652648770002, 19.355624528143, 19.6285607488207, 20.7180003238558, 17.666726306593898, 21.223893112362894, 21.786027784717497, ...)], dtype='object')] are in the [columns]\""
     ]
    },
    {
     "data": {
      "image/png": "[encoded data removed]",
      "text/plain": [
       "<Figure size 4104x216 with 19 Axes>"
      ]
     },
     "metadata": {
      "needs_background": "light"
     },
     "output_type": "display_data"
    }
   ],
   "source": [
    "g = sns.FacetGrid(train, col='type')\n",
    "g.map(plt.hist, train['psfMag_g'], bins=20)"
   ]
  },
  {
   "cell_type": "code",
   "execution_count": null,
   "metadata": {},
   "outputs": [],
   "source": [
    "fig, axes = plt.subplots(5, 1, figsize=(10,30))\n",
    "columns = train.filter(regex='psf').columns.tolist()[:5]\n",
    "for i, column in enumerate(columns):\n",
    "    sns.boxplot(y='type', x=column, data=train, ax=axes.flat[i])\n",
    "    axes.flat[i].grid(axis='x', linestyle='--')\n",
    "    axes.flat[i].set_xlim([-20,50])\n",
    "    \n",
    "fig.tight_layout()\n",
    "plt.show()"
   ]
  },
  {
   "cell_type": "code",
   "execution_count": null,
   "metadata": {},
   "outputs": [],
   "source": [
    "fig, axes = plt.subplots(5, 1, figsize=(10,30))\n",
    "columns = train.filter(regex='fiberMag').columns.tolist()[:5]\n",
    "for i, column in enumerate(columns):\n",
    "    sns.boxplot(y='type', x=column, data=train, ax=axes.flat[i])\n",
    "    axes.flat[i].grid(axis='x', linestyle='--')\n",
    "    axes.flat[i].set_xlim([-20,50])\n",
    "    \n",
    "fig.tight_layout()\n",
    "plt.show()"
   ]
  },
  {
   "cell_type": "code",
   "execution_count": null,
   "metadata": {},
   "outputs": [],
   "source": [
    "fig, axes = plt.subplots(5, 1, figsize=(10,30))\n",
    "columns = train.filter(regex='petro').columns.tolist()[:5]\n",
    "for i, column in enumerate(columns):\n",
    "    sns.boxplot(y='type', x=column, data=train, ax=axes.flat[i])\n",
    "    axes.flat[i].grid(axis='x', linestyle='--')\n",
    "    axes.flat[i].set_xlim([-20,50])\n",
    "    \n",
    "fig.tight_layout()\n",
    "plt.show()"
   ]
  },
  {
   "cell_type": "code",
   "execution_count": null,
   "metadata": {},
   "outputs": [],
   "source": [
    "fig, axes = plt.subplots(5, 1, figsize=(10,30))\n",
    "columns = train.filter(regex='model').columns.tolist()[:5]\n",
    "for i, column in enumerate(columns):\n",
    "    sns.boxplot(y='type', x=column, data=train, ax=axes.flat[i])\n",
    "    axes.flat[i].grid(axis='x', linestyle='--')\n",
    "    axes.flat[i].set_xlim([-20,50])\n",
    "    \n",
    "fig.tight_layout()\n",
    "plt.show()"
   ]
  },
  {
   "cell_type": "markdown",
   "metadata": {},
   "source": [
    "### Outlier Check and Plot"
   ]
  },
  {
   "cell_type": "code",
   "execution_count": null,
   "metadata": {},
   "outputs": [],
   "source": [
    "def draw_types(n=6, regex='psf'):\n",
    "    labels = train['type'].value_counts().index.tolist()[:n]\n",
    "    columns = train.filter(regex=regex).columns.tolist()\n",
    "    colors = ['violet', 'green', 'red', 'cyan', 'yellow']\n",
    "    waves = [column[-1:] for column in columns]\n",
    "\n",
    "    fig, axes = plt.subplots(int(n/2), 2, figsize=(10,n), dpi=100)\n",
    "    w = 1.5\n",
    "    for i, label in enumerate(labels):\n",
    "        for column, color, wave in zip(columns, colors, waves):\n",
    "            q1 = train.loc[train['type'] == label, column].quantile(0.25)\n",
    "            q3 = train.loc[train['type'] == label, column].quantile(0.75)\n",
    "            iqr = q3 - q1\n",
    "            lower_bound = q1 - (w * iqr)\n",
    "            upper_bound = q3 + (w * iqr)\n",
    "            \n",
    "            mask = (train.loc[train['type']==label, column] >= lower_bound) & (train.loc[train['type']==label, column] <= upper_bound)\n",
    "            \n",
    "            data = train.loc[train['type'] == label, column].loc[mask]\n",
    "\n",
    "            sns.distplot(data, hist=False, color=color, kde_kws={'shade': True}, \n",
    "                         label=wave, ax=axes.flat[i])\n",
    "\n",
    "        axes.flat[i].set_title(label)\n",
    "        axes.flat[i].set_xlabel('')\n",
    "        axes.flat[i].grid(axis='x', linestyle='--')\n",
    "        axes.flat[i].legend(frameon=True, framealpha=1, shadow=False, \n",
    "                            fancybox=False, edgecolor='black')\n",
    "\n",
    "    fig.tight_layout()\n",
    "    plt.show()"
   ]
  },
  {
   "cell_type": "code",
   "execution_count": null,
   "metadata": {
    "scrolled": true
   },
   "outputs": [],
   "source": [
    "draw_types(n=20, regex='psf')"
   ]
  },
  {
   "cell_type": "code",
   "execution_count": null,
   "metadata": {},
   "outputs": [],
   "source": [
    "draw_types(n=20, regex='fiberMag')"
   ]
  },
  {
   "cell_type": "code",
   "execution_count": null,
   "metadata": {},
   "outputs": [],
   "source": [
    "draw_types(n=20, regex='modelMag')"
   ]
  },
  {
   "cell_type": "code",
   "execution_count": null,
   "metadata": {
    "scrolled": false
   },
   "outputs": [],
   "source": [
    "draw_types(n=20, regex='petro')"
   ]
  },
  {
   "cell_type": "markdown",
   "metadata": {},
   "source": [
    "## 3. Feature Engineering"
   ]
  },
  {
   "cell_type": "markdown",
   "metadata": {},
   "source": [
    "### 3.1 Numerical values\n",
    "### 3.2 Categorical values\n",
    "### 3.3 Filling Missing Values\n",
    "### 3.4 Detect Outlier and Remove\n",
    "### 3.5 Feature engineering"
   ]
  },
  {
   "cell_type": "code",
   "execution_count": null,
   "metadata": {},
   "outputs": [],
   "source": [
    "id1=train['psfMag_u']<-10\n",
    "id2=train['psfMag_u']>40.\n",
    "train2 = train.copy()\n",
    "train2['psfMag_u'][id1]=-10.\n",
    "train2['psfMag_u'][id2]=40."
   ]
  },
  {
   "cell_type": "code",
   "execution_count": null,
   "metadata": {},
   "outputs": [],
   "source": []
  },
  {
   "cell_type": "code",
   "execution_count": null,
   "metadata": {},
   "outputs": [],
   "source": []
  }
 ],
 "metadata": {
  "kernelspec": {
   "display_name": "Python 3",
   "language": "python",
   "name": "python3"
  },
  "language_info": {
   "codemirror_mode": {
    "name": "ipython",
    "version": 3
   },
   "file_extension": ".py",
   "mimetype": "text/x-python",
   "name": "python",
   "nbconvert_exporter": "python",
   "pygments_lexer": "ipython3",
   "version": "3.7.4"
  }
 },
 "nbformat": 4,
 "nbformat_minor": 2
}
