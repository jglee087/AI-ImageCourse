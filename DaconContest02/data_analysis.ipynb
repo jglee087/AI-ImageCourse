{
 "cells": [
  {
   "cell_type": "code",
   "execution_count": 120,
   "metadata": {},
   "outputs": [],
   "source": [
    "import numpy as np\n",
    "import pandas as pd\n",
    "import matplotlib.pyplot as plt\n",
    "import seaborn as sns  \n",
    "%matplotlib inline"
   ]
  },
  {
   "cell_type": "code",
   "execution_count": 121,
   "metadata": {},
   "outputs": [
    {
     "data": {
      "text/plain": [
       "(199991, 23)"
      ]
     },
     "execution_count": 121,
     "metadata": {},
     "output_type": "execute_result"
    }
   ],
   "source": [
    "df=pd.read_csv('./data/train.csv')\n",
    "df.shape"
   ]
  },
  {
   "cell_type": "code",
   "execution_count": 1,
   "metadata": {},
   "outputs": [],
   "source": [
    "df.describe()"
   ]
  },
  {
   "cell_type": "code",
   "execution_count": 123,
   "metadata": {},
   "outputs": [],
   "source": [
    "col_name=list(df.columns)"
   ]
  },
  {
   "cell_type": "code",
   "execution_count": 2,
   "metadata": {},
   "outputs": [],
   "source": [
    "for i in range(len(col_name)):\n",
    "    try:\n",
    "        x_temp=df[col_name[i]]\n",
    "        print(col_name[i],' {:4f}   {:4f}   {:4f}'.format(\\\n",
    "            np.percentile(x_temp, 0.5),np.percentile(x_temp,50.0),np.percentile(x_temp,99.5)))\n",
    "    except:\n",
    "        pass"
   ]
  },
  {
   "cell_type": "code",
   "execution_count": 3,
   "metadata": {},
   "outputs": [],
   "source": [
    "for i in range(len(col_name)):\n",
    "    if df[col_name[i]].dtype == 'object':\n",
    "        print(i, df[col_name[i]].unique())"
   ]
  },
  {
   "cell_type": "code",
   "execution_count": 126,
   "metadata": {},
   "outputs": [],
   "source": [
    "try:\n",
    "    del(df['fiberID'])\n",
    "except:\n",
    "    pass"
   ]
  },
  {
   "cell_type": "markdown",
   "metadata": {},
   "source": [
    "df.corr(): 데이터프레임의 모든 변수 간 상관관계 계산하여 반환  \n",
    "df.col1.corr(df.col2): df에서 col1과 col2의 상관관계 계산하여 반환  \n",
    "df.cov() : 데이터프레임의 모든 변수 간 공분산을 계산하여 반환  \n",
    "df.corrwith(df.col): 다른 시리즈나 데이터프레임과의 상관관계를 계산  "
   ]
  },
  {
   "cell_type": "code",
   "execution_count": 5,
   "metadata": {},
   "outputs": [],
   "source": [
    "plt.figure(figsize=(12, 12))\n",
    "\n",
    "ddf=df\n",
    "\n",
    "try:\n",
    "    del(ddf['id'])\n",
    "except:\n",
    "    pass\n",
    "\n",
    "dddf=(ddf.corr()*100).astype('int32')\n",
    "\n",
    "sns.heatmap(data = dddf, annot=True, fmt = 'd', linewidth=0.8, cmap='Reds')\n",
    "#plt.xticks(rotation = 1)\n",
    "plt.show()"
   ]
  },
  {
   "cell_type": "markdown",
   "metadata": {},
   "source": [
    "- dropna: 누락된 데이터가 있는 축(행, 열)을 제외  어느 정도의 누락 데이터까지 용인할 것인지 지정 가능 \n",
    "- fillna: 누락된 데이터를 대신할 값을 채우거나 'ffill', 'bfill' 같은 메서드 적용 가능 \n",
    "- isnull: 누락되거나 NA인 값을 알려주는 불리언 값 객체 반환 \n",
    "- notnull: isnull의 반대 "
   ]
  },
  {
   "cell_type": "code",
   "execution_count": 6,
   "metadata": {},
   "outputs": [],
   "source": [
    "plt.figure(figsize=(15,55))\n",
    "\n",
    "for i in range(0,21):\n",
    "    \n",
    "    try:\n",
    "        plt.subplot(7,3,i+1)\n",
    "        df.boxplot(column=[col_name[i]], notch=False, sym='+', vert=True, whis=3.)       \n",
    "    except:\n",
    "        pass\n",
    "    \n",
    "plt.show()"
   ]
  },
  {
   "cell_type": "code",
   "execution_count": null,
   "metadata": {},
   "outputs": [],
   "source": [
    "from sklearn.preprocessing import StandardScaler\n",
    "\n",
    "plt.figure(figsize=(25,25))\n",
    "\n",
    "scaler1 = StandardScaler()\n",
    "\n",
    "for i in range(0,21):\n",
    "   \n",
    "    try:\n",
    "        \n",
    "        x=np.array(df[col_name[i]])\n",
    "        x=x.reshape(-1,1)\n",
    "        scaler1.fit(x)\n",
    "        x_standard = scaler1.transform(x)\n",
    "               \n",
    "        x1 = x_standard.mean() - 3.*x_standard.std()\n",
    "        x2 = x_standard.mean() + 3.*x_standard.std()\n",
    "        \n",
    "        idx1=np.where((x_standard < x1))\n",
    "        x_standard = np.delete(x_standard, idx1)\n",
    "        idx2=np.where((x_standard > x2))    \n",
    "        xx = np.delete(x_standard, idx2)           \n",
    "\n",
    "        plt.subplot(6,4,i+1)\n",
    "        plt.hist(xx,bins=50)\n",
    "        plt.gca().set_title(col_name[i])\n",
    "        plt.xlim(x1,x2)\n",
    "        \n",
    "        try:\n",
    "            print(i,col_name[i],'Index1',len(idx1[0]),'Index2',len(idx2[0]))\n",
    "            print(x1,x2,xx.min(),xx.max(),xx.shape,'\\n\\n')\n",
    "\n",
    "        except:\n",
    "            pass\n",
    "       \n",
    "    except:\n",
    "        pass\n",
    "\n",
    "plt.show()"
   ]
  },
  {
   "cell_type": "code",
   "execution_count": null,
   "metadata": {},
   "outputs": [],
   "source": [
    "from sklearn.preprocessing import RobustScaler\n",
    "\n",
    "plt.figure(figsize=(25,25))\n",
    "\n",
    "scaler1 = RobustScaler()\n",
    "\n",
    "for i in range(0,21):\n",
    "   \n",
    "    try:\n",
    "        \n",
    "        x=np.array(df[col_name[i]])\n",
    "        x=x.reshape(-1,1)\n",
    "        scaler1.fit(x)\n",
    "        x_standard = scaler1.transform(x)\n",
    "        \n",
    "        perc=0.025\n",
    "        \n",
    "        x1 = np.percentile(x_standard, perc)\n",
    "        x2 = np.percentile(x_standard, 100.-perc)\n",
    "        \n",
    "        idx1=np.where((x_standard < x1))\n",
    "        x_standard = np.delete(x_standard, idx1)\n",
    "        idx2=np.where((x_standard > x2))    \n",
    "        xx = np.delete(x_standard, idx2)           \n",
    "        \n",
    "        #xx = x_standard\n",
    "        \n",
    "        plt.subplot(6,4,i+1)\n",
    "        plt.hist(xx,bins=100)\n",
    "        plt.gca().set_title(col_name[i])\n",
    "        plt.xlim(x1,x2)\n",
    "        \n",
    "        try:\n",
    "            print(i,col_name[i],'Index1',len(idx1[0]),'Index2',len(idx2[0]))\n",
    "            print(x1,x2,xx.min(),xx.max(),xx.shape,'\\n\\n')\n",
    "            print(np.percentile(xx, perc),np.percentile(xx,50.0),np.percentile(xx, 100.-perc))\n",
    "\n",
    "        except:\n",
    "            pass\n",
    "       \n",
    "    except:\n",
    "        pass\n",
    "\n",
    "plt.show()"
   ]
  },
  {
   "cell_type": "code",
   "execution_count": null,
   "metadata": {},
   "outputs": [],
   "source": [
    "from sklearn.preprocessing import RobustScaler, StandardScaler\n",
    "\n",
    "plt.figure(figsize=(25,25))\n",
    "\n",
    "scaler1 = RobustScaler()\n",
    "scaler2 = StandardScaler()\n",
    "\n",
    "for i in range(0,21):\n",
    "   \n",
    "    try:\n",
    "        \n",
    "        x=np.array(df[col_name[i]])\n",
    "        x=x.reshape(-1,1)\n",
    "        scaler1.fit(x)\n",
    "        x_standard = scaler1.transform(x)\n",
    "        \n",
    "        scaler2.fit(x_standard)\n",
    "        x_standard = scaler2.transform(x_standard)\n",
    "        \n",
    "        x1 = x_standard.mean() - 3.*x_standard.std()\n",
    "        x2 = x_standard.mean() + 3.*x_standard.std()\n",
    "\n",
    "        print(x1, x2)\n",
    "        \n",
    "        idx1=np.where((x_standard < x1))\n",
    "        x_standard = np.delete(x_standard, idx1)\n",
    "        dx2=np.where((x_standard > x2))    \n",
    "        xx = np.delete(x_standard, idx2)           \n",
    "        \n",
    "        #xx = x_standard\n",
    "        \n",
    "        plt.subplot(6,4,i+1)\n",
    "        plt.hist(xx,bins=500)\n",
    "        plt.gca().set_title(col_name[i])\n",
    "        plt.xlim(x1,x2)\n",
    "        \n",
    "        try:\n",
    "            print(i,col_name[i],'Index1',len(idx1[0]),'Index2',len(idx2[0]))\n",
    "            print(x1,x2,xx.min(),xx.max(),xx.shape,'\\n\\n')\n",
    "        except:\n",
    "            pass\n",
    "       \n",
    "    except:\n",
    "        pass\n",
    "\n",
    "plt.show()"
   ]
  },
  {
   "cell_type": "code",
   "execution_count": null,
   "metadata": {},
   "outputs": [],
   "source": []
  },
  {
   "cell_type": "code",
   "execution_count": 148,
   "metadata": {},
   "outputs": [],
   "source": [
    "import numpy as np\n",
    "import pandas as pd\n",
    "import matplotlib.pyplot as plt\n",
    "\n",
    "xp=[-15,-5,-4,-3,-2,-1,0,1,2,3,4,5,15]"
   ]
  },
  {
   "cell_type": "code",
   "execution_count": 151,
   "metadata": {},
   "outputs": [
    {
     "name": "stdout",
     "output_type": "stream",
     "text": [
      "[] [] -18.0 18.0\n"
     ]
    },
    {
     "data": {
      "image/png": "[encoded data removed]",
      "text/plain": [
       "<Figure size 432x288 with 1 Axes>"
      ]
     },
     "metadata": {
      "needs_background": "light"
     },
     "output_type": "display_data"
    }
   ],
   "source": [
    "q1 = np.percentile(xp,25)\n",
    "q3 = np.percentile(xp,75)\n",
    "\n",
    "iqr = q3-q1\n",
    "wh=1.5\n",
    "\n",
    "qmax = q3+ wh*iqr\n",
    "qmin = q1- wh*iqr\n",
    "\n",
    "xp=np.array(xp)\n",
    "print( xp[xp < qmin] , xp[xp > qmax] , qmin, qmax )\n",
    "\n",
    "df=pd.DataFrame(xp)\n",
    "df.boxplot(sym='+', whis=wh)  \n",
    "plt.show()"
   ]
  },
  {
   "cell_type": "code",
   "execution_count": null,
   "metadata": {},
   "outputs": [],
   "source": []
  }
 ],
 "metadata": {
  "kernelspec": {
   "display_name": "Python 3",
   "language": "python",
   "name": "python3"
  },
  "language_info": {
   "codemirror_mode": {
    "name": "ipython",
    "version": 3
   },
   "file_extension": ".py",
   "mimetype": "text/x-python",
   "name": "python",
   "nbconvert_exporter": "python",
   "pygments_lexer": "ipython3",
   "version": "3.7.4"
  }
 },
 "nbformat": 4,
 "nbformat_minor": 2
}
