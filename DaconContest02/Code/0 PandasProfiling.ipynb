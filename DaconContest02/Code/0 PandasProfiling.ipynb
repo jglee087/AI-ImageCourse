{
 "cells": [
  {
   "cell_type": "code",
   "execution_count": null,
   "metadata": {},
   "outputs": [],
   "source": [
    "import pandas as pd\n",
    "import pandas_profiling\n",
    "\n",
    "df1 = pd.read_csv('./data/train.csv')\n",
    "df2 = pd.read_csv('./data/test.csv')\n",
    "\n",
    "df1_co = df1.copy()\n",
    "df2_co = df2.copy()\n",
    "\n",
    "try:\n",
    "    del(df1_co['type'])\n",
    "except:\n",
    "    pass\n",
    "\n",
    "pr1=df1.profile_report() # 프로파일링 결과 리포트를 pr에 저장\n",
    "pr1.to_file('./pr_report_train.html') # pr_report.html 파일로 저장\n",
    "\n",
    "pr2=df2.profile_report() # 프로파일링 결과 리포트를 pr에 저장\n",
    "pr2.to_file('./pr_report_test.html') # pr_report.html 파일로 저장"
   ]
  }
 ],
 "metadata": {
  "kernelspec": {
   "display_name": "Python 3",
   "language": "python",
   "name": "python3"
  },
  "language_info": {
   "codemirror_mode": {
    "name": "ipython",
    "version": 3
   },
   "file_extension": ".py",
   "mimetype": "text/x-python",
   "name": "python",
   "nbconvert_exporter": "python",
   "pygments_lexer": "ipython3",
   "version": "3.7.4"
  }
 },
 "nbformat": 4,
 "nbformat_minor": 2
}
