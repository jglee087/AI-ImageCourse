{
 "cells": [
  {
   "cell_type": "code",
   "execution_count": null,
   "metadata": {},
   "outputs": [],
   "source": [
    "batches = #\n",
    "keep_prob = #\n",
    "length = #\n",
    "nodes = #\n",
    "epoch = #\n",
    "init_mode =  #\n",
    "reg = #"
   ]
  },
  {
   "cell_type": "code",
   "execution_count": null,
   "metadata": {},
   "outputs": [],
   "source": [
    "import numpy as np\n",
    "import pandas as pd\n",
    "import matplotlib.pyplot as plt"
   ]
  },
  {
   "cell_type": "code",
   "execution_count": null,
   "metadata": {},
   "outputs": [],
   "source": [
    "# 데이터 불러오기\n",
    "train = pd.read_csv('./data/train.csv', index_col=0)\n",
    "test = pd.read_csv('./data/test.csv', index_col=0)\n",
    "sample_submission = pd.read_csv('./data/sample_submission.csv', index_col=0)\n",
    "\n",
    "# Train 데이터의 타입을 Sample_submission에 대응하는 가변수 형태로 변환\n",
    "column_number = {}\n",
    "for i, column in enumerate(sample_submission.columns):\n",
    "    column_number[column] = i\n",
    "    \n",
    "def to_number(x, dic):\n",
    "    return dic[x]\n",
    "\n",
    "train['type_num'] = train['type'].apply(lambda x : to_number(x, column_number))\n",
    "\n",
    "# 모델에 적용할 데이터 셋 준비 \n",
    "x = train.drop(columns=['type', 'type_num'], axis=1)\n",
    "y = train['type_num']\n",
    "\n",
    "x = x.drop(columns=['fiberID'], axis=1)\n",
    "test_x = test.drop(columns=['fiberID'],axis=1)\n",
    "\n",
    "x_name=x.columns\n",
    "col_name=x_name"
   ]
  },
  {
   "cell_type": "code",
   "execution_count": null,
   "metadata": {},
   "outputs": [],
   "source": [
    "x=np.array(x)\n",
    "y=np.array(y)\n",
    "test_x=np.array(test_x)"
   ]
  },
  {
   "cell_type": "markdown",
   "metadata": {},
   "source": [
    "# 이상치 처리 방법"
   ]
  },
  {
   "cell_type": "code",
   "execution_count": null,
   "metadata": {},
   "outputs": [],
   "source": []
  },
  {
   "cell_type": "code",
   "execution_count": null,
   "metadata": {},
   "outputs": [],
   "source": [
    "# plt.figure(figsize=(25,25))\n",
    "# x1_da = x.copy()\n",
    "\n",
    "# x_max = 31\n",
    "# x_min = 12\n",
    "\n",
    "# for i in range(20):\n",
    "#     idx=(x1_da[:,i]> x_max) | (x1_da[:,i] < x_min)\n",
    "    \n",
    "#     val1=len(x1_da[idx,i])\n",
    "#     val2=np.round(x1_da[~idx,i].mean(),4)\n",
    "#     val3=np.round(x1_da[~idx,i].std(),4)\n",
    "#     val4=np.round(np.median((x1_da[~idx,i])),4)\n",
    "    \n",
    "#     if i ==0: \n",
    "#         print(\"특정 조건을 선택한 경우\\n\")\n",
    "#         print('{:>12}{:>8}{:>9}{:>9}{:>11}'.format('COLUMN','Count','  Mean', 'Std', 'Median'))\n",
    "#     print('{:>12}{:>8}{:>9}{:>9}{:>11}'.format(col_name[i],val1,val2,val3,val4))\n",
    "\n",
    "\n",
    "#     #######################\n",
    "#     #   이상치 제거\n",
    "#     #\n",
    "#     # x1_da[idx,i]=val4\n",
    "#     #\n",
    "#     #######################\n",
    "    \n",
    "# #     plt.subplot(4,5,i+1)\n",
    "# #     plt.hist(x1_da[:,i],bins=50)\n",
    "# #     plt.gca().set_title(col_name[i])\n",
    "   "
   ]
  },
  {
   "cell_type": "markdown",
   "metadata": {},
   "source": [
    "------------------------"
   ]
  },
  {
   "cell_type": "code",
   "execution_count": null,
   "metadata": {},
   "outputs": [],
   "source": [
    "from sklearn.model_selection import train_test_split, KFold, RandomizedSearchCV\n",
    "x_train, x_test, y_train, y_test = train_test_split(x,y, train_size=0.9, shuffle=True ,random_state=0)"
   ]
  },
  {
   "cell_type": "code",
   "execution_count": null,
   "metadata": {},
   "outputs": [],
   "source": [
    "from sklearn.preprocessing import StandardScaler, RobustScaler\n",
    "\n",
    "# scaler1=RobustScaler()\n",
    "\n",
    "# scaler1.fit(x_train)\n",
    "# x_train=scaler1.transform(x_train)\n",
    "# x_test=scaler1.transform(x_test)\n",
    "\n",
    "#test_x =scaler1.transform(test_x)\n",
    "\n",
    "scaler2=StandardScaler()\n",
    "\n",
    "scaler2.fit(x_train)\n",
    "x_train=scaler2.transform(x_train)\n",
    "x_test=scaler2.transform(x_test)\n",
    "\n",
    "test_x =scaler2.transform(test_x)"
   ]
  },
  {
   "cell_type": "code",
   "execution_count": null,
   "metadata": {},
   "outputs": [],
   "source": [
    "from keras.utils import to_categorical\n",
    "\n",
    "y_train = to_categorical(y_train)\n",
    "y_test = to_categorical(y_test)"
   ]
  },
  {
   "cell_type": "code",
   "execution_count": null,
   "metadata": {},
   "outputs": [],
   "source": [
    "x=x.astype('float32')\n",
    "test_x=test_x.astype('float32')"
   ]
  },
  {
   "cell_type": "code",
   "execution_count": null,
   "metadata": {},
   "outputs": [],
   "source": [
    "from keras.models import Sequential\n",
    "from keras.layers import Dense, Dropout, BatchNormalization, Activation"
   ]
  },
  {
   "cell_type": "code",
   "execution_count": null,
   "metadata": {
    "scrolled": false
   },
   "outputs": [],
   "source": [
    "inputs=Input(shape=(20,), name='input')\n",
    "\n",
    "x=Dense(64,activation='elu',name='hidden0')(inputs)\n",
    "x=Dropout(0.2)(x)\n",
    "\n",
    "for i in range(length):\n",
    "    if i%2 ==0:\n",
    "        x=Dense(nodes*2, activation='elu',name='hidden'+str(i+1), \\\n",
    "                   kernel_initializer=init_mode,\\\n",
    "                   kernel_regularizer=regularizers.l2(reg))(x)       \n",
    "        print(i)\n",
    "    elif i%2 == 1:\n",
    "        x=Dense(nodes, activation='elu',name='hidden'+str(i+1), \\\n",
    "                   kernel_initializer=init_mode,\\\n",
    "                   kernel_regularizer=regularizers.l2(reg))(x)       \n",
    "        print(i)\n",
    "    \n",
    "    if i == 5-2:\n",
    "        x=Dropout(keep_prob)(x)\n",
    "        \n",
    "prediction=Dense(19,activation='softmax',name='output')(x)\n",
    "model = Model(inputs=inputs, outputs=prediction)\n",
    "\n",
    "model.summary()\n",
    "\n",
    "model.compile(optimizer='adam', loss='categorical_crossentropy', metrics=['accuracy'])"
   ]
  },
  {
   "cell_type": "code",
   "execution_count": null,
   "metadata": {
    "scrolled": false
   },
   "outputs": [],
   "source": [
    "hist = model.fit(x_train, y_train, batch_size= batches, epochs=epoch, verbose=2, validation_split=1./9.)\n",
    "\n",
    "loss, acc = model.evaluate(x_test,y_test,batch_size= 256)\n",
    "print('Loss:',loss,'Accuracy:',acc)"
   ]
  },
  {
   "cell_type": "code",
   "execution_count": null,
   "metadata": {},
   "outputs": [],
   "source": [
    "y_pred = model.predict_proba(test_x)"
   ]
  },
  {
   "cell_type": "code",
   "execution_count": null,
   "metadata": {},
   "outputs": [],
   "source": [
    "import matplotlib.pyplot as plt\n",
    "\n",
    "print(hist.history.keys())\n",
    "\n",
    "fig, loss_ax = plt.subplots()\n",
    "acc_ax = loss_ax.twinx()\n",
    "\n",
    "loss_ax.plot(hist.history['loss'], 'y', label='train loss')\n",
    "loss_ax.plot(hist.history['val_loss'], 'r', label='val loss')\n",
    "loss_ax.set_xlabel('epoch')\n",
    "loss_ax.set_ylabel('loss')\n",
    "loss_ax.legend(loc='upper left')\n",
    "\n",
    "acc_ax.plot(hist.history['accuracy'], 'b', label='train acc')\n",
    "acc_ax.plot(hist.history['val_accuracy'], 'g', label='val acc')\n",
    "acc_ax.set_ylabel('accuracy')\n",
    "acc_ax.legend(loc='upper right')\n",
    "\n",
    "plt.show()"
   ]
  },
  {
   "cell_type": "code",
   "execution_count": null,
   "metadata": {},
   "outputs": [],
   "source": [
    "import os.path\n",
    "i=0\n",
    "while 1:\n",
    "    if os.path.isfile('./data/best_params'+str(i)+'.txt') == True:\n",
    "        i+=1\n",
    "    else:\n",
    "        break\n",
    "     \n",
    "# 그림 생성\n",
    "plt.savefig('./data/res'+str(i)+'.png')\n",
    "\n",
    "# 제출 파일 생성\n",
    "submission = pd.DataFrame(data=y_pred, columns=sample_submission.columns, index=sample_submission.index)\n",
    "submission.to_csv('./data/submission_data_'+str(i)+'.csv', index=True)"
   ]
  }
 ],
 "metadata": {
  "kernelspec": {
   "display_name": "Python 3",
   "language": "python",
   "name": "python3"
  },
  "language_info": {
   "codemirror_mode": {
    "name": "ipython",
    "version": 3
   },
   "file_extension": ".py",
   "mimetype": "text/x-python",
   "name": "python",
   "nbconvert_exporter": "python",
   "pygments_lexer": "ipython3",
   "version": "3.7.4"
  }
 },
 "nbformat": 4,
 "nbformat_minor": 2
}
