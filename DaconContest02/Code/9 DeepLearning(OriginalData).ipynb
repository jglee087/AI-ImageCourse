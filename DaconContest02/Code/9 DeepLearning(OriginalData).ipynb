{
 "cells": [
  {
   "cell_type": "code",
   "execution_count": 1,
   "metadata": {},
   "outputs": [],
   "source": [
    "import numpy as np\n",
    "import pandas as pd\n",
    "from sklearn.ensemble import RandomForestClassifier\n",
    "from lightgbm import LGBMClassifier\n",
    "from xgboost import XGBClassifier\n",
    "from sklearn.metrics import accuracy_score\n",
    "import matplotlib.pyplot as plt"
   ]
  },
  {
   "cell_type": "code",
   "execution_count": 2,
   "metadata": {},
   "outputs": [],
   "source": [
    "# 데이터 불러오기\n",
    "train = pd.read_csv('./data/train.csv', index_col=0)\n",
    "test = pd.read_csv('./data/test.csv', index_col=0)\n",
    "sample_submission = pd.read_csv('./data/sample_submission.csv', index_col=0)\n",
    "\n",
    "# Train 데이터의 타입을 Sample_submission에 대응하는 가변수 형태로 변환\n",
    "column_number = {}\n",
    "for i, column in enumerate(sample_submission.columns):\n",
    "    column_number[column] = i\n",
    "    \n",
    "def to_number(x, dic):\n",
    "    return dic[x]\n",
    "\n",
    "train['type_num'] = train['type'].apply(lambda x : to_number(x, column_number))\n",
    "\n",
    "# 모델에 적용할 데이터 셋 준비 \n",
    "x = train.drop(columns=['type', 'type_num'], axis=1)\n",
    "y = train['type_num']\n",
    "\n",
    "x = x.drop(columns=['fiberID'], axis=1)\n",
    "test_x = test.drop(columns=['fiberID'],axis=1)\n",
    "\n",
    "x_name=x.columns"
   ]
  },
  {
   "cell_type": "code",
   "execution_count": 3,
   "metadata": {},
   "outputs": [],
   "source": [
    "y=np.array(y)"
   ]
  },
  {
   "cell_type": "code",
   "execution_count": 4,
   "metadata": {},
   "outputs": [],
   "source": [
    "x=np.array(x)\n",
    "test_x = np.array(test_x)"
   ]
  },
  {
   "cell_type": "code",
   "execution_count": 5,
   "metadata": {},
   "outputs": [
    {
     "name": "stderr",
     "output_type": "stream",
     "text": [
      "/home/lab21/.local/lib/python3.6/site-packages/sklearn/model_selection/_split.py:2179: FutureWarning: From version 0.21, test_size will always complement train_size unless both are specified.\n",
      "  FutureWarning)\n"
     ]
    }
   ],
   "source": [
    "from sklearn.model_selection import train_test_split, KFold, RandomizedSearchCV\n",
    "\n",
    "#x_train, x_test, y_train, y_test = train_test_split(x,y, stratify=y,train_size=0.8, shuffle=True ,random_state=0)\n",
    "x_train, x_test, y_train, y_test = train_test_split(x,y, train_size=0.8, shuffle=True ,random_state=0)\n"
   ]
  },
  {
   "cell_type": "code",
   "execution_count": 6,
   "metadata": {},
   "outputs": [],
   "source": [
    "from sklearn.preprocessing import StandardScaler, RobustScaler\n",
    "\n",
    "#scaler=StandardScaler()\n",
    "scaler1=RobustScaler()\n",
    "scaler1.fit(x_train)\n",
    "x_train=scaler1.transform(x_train)\n",
    "x_test=scaler1.transform(x_test)\n",
    "\n",
    "\n",
    "#scaler3=StandardScaler()\n",
    "scaler2=RobustScaler()\n",
    "scaler2.fit(test_x)\n",
    "test_x =scaler2.transform(test_x)"
   ]
  },
  {
   "cell_type": "code",
   "execution_count": 7,
   "metadata": {},
   "outputs": [],
   "source": [
    "# from sklearn.preprocessing import StandardScaler, RobustScaler\n",
    "\n",
    "\n",
    "# scaler1=RobustScaler()\n",
    "# scaler1.fit(x_train)\n",
    "# x_train=scaler1.transform(x_train)\n",
    "# x_test=scaler1.transform(x_test)\n",
    "\n",
    "# scaler2=StandardScaler()\n",
    "# scaler2.fit(x_train)\n",
    "# x_train=scaler2.transform(x_train)\n",
    "# x_test=scaler2.transform(x_test)\n",
    "\n",
    "# scaler3=StandardScaler()\n",
    "# scaler3.fit(x_train)\n",
    "# x_train=scaler3.transform(x_train)\n",
    "# x_test=scaler3.transform(x_test)\n",
    "\n",
    "# scaler4=StandardScaler()\n",
    "# scaler4.fit(x_train)\n",
    "# x_train=scaler4.transform(x_train)\n",
    "# x_test=scaler4.transform(x_test)\n",
    "\n",
    "# #############\n",
    "\n",
    "# scaler5=RobustScaler()\n",
    "# scaler5.fit(test_x)\n",
    "# test_x =scaler5.transform(test_x)\n",
    "\n",
    "# scaler6=StandardScaler()\n",
    "# scaler6.fit(test_x)\n",
    "# test_x =scaler6.transform(test_x)\n",
    "\n",
    "# scaler7=StandardScaler()\n",
    "# scaler7.fit(test_x)\n",
    "# test_x =scaler7.transform(test_x)\n",
    "\n",
    "# scaler8=StandardScaler()\n",
    "# scaler8.fit(test_x)\n",
    "# test_x =scaler8.transform(test_x)\n"
   ]
  },
  {
   "cell_type": "code",
   "execution_count": 8,
   "metadata": {},
   "outputs": [
    {
     "name": "stderr",
     "output_type": "stream",
     "text": [
      "Using TensorFlow backend.\n"
     ]
    }
   ],
   "source": [
    "from keras.utils import to_categorical\n",
    "\n",
    "y_train = to_categorical(y_train)\n",
    "y_test = to_categorical(y_test)"
   ]
  },
  {
   "cell_type": "code",
   "execution_count": 9,
   "metadata": {},
   "outputs": [],
   "source": [
    "from keras.models import Sequential\n",
    "from keras.layers import Dense, Dropout, BatchNormalization"
   ]
  },
  {
   "cell_type": "code",
   "execution_count": 10,
   "metadata": {
    "scrolled": false
   },
   "outputs": [
    {
     "name": "stdout",
     "output_type": "stream",
     "text": [
      "WARNING:tensorflow:From /home/lab21/.local/lib/python3.6/site-packages/tensorflow/python/framework/op_def_library.py:263: colocate_with (from tensorflow.python.framework.ops) is deprecated and will be removed in a future version.\n",
      "Instructions for updating:\n",
      "Colocations handled automatically by placer.\n",
      "WARNING:tensorflow:From /home/ubuntu/anaconda3/envs/aws_neuron_tensorflow_p36/lib/python3.6/site-packages/keras/backend/tensorflow_backend.py:3445: calling dropout (from tensorflow.python.ops.nn_ops) with keep_prob is deprecated and will be removed in a future version.\n",
      "Instructions for updating:\n",
      "Please use `rate` instead of `keep_prob`. Rate should be set to `rate = 1 - keep_prob`.\n",
      "_________________________________________________________________\n",
      "Layer (type)                 Output Shape              Param #   \n",
      "=================================================================\n",
      "dense_1 (Dense)              (None, 64)                1344      \n",
      "_________________________________________________________________\n",
      "dense_2 (Dense)              (None, 128)               8320      \n",
      "_________________________________________________________________\n",
      "dropout_1 (Dropout)          (None, 128)               0         \n",
      "_________________________________________________________________\n",
      "dense_3 (Dense)              (None, 128)               16512     \n",
      "_________________________________________________________________\n",
      "dense_4 (Dense)              (None, 128)               16512     \n",
      "_________________________________________________________________\n",
      "dense_5 (Dense)              (None, 128)               16512     \n",
      "_________________________________________________________________\n",
      "dense_6 (Dense)              (None, 19)                2451      \n",
      "=================================================================\n",
      "Total params: 61,651\n",
      "Trainable params: 61,651\n",
      "Non-trainable params: 0\n",
      "_________________________________________________________________\n"
     ]
    }
   ],
   "source": [
    "model=Sequential()\n",
    "\n",
    "model.add(Dense(64,activation='elu',input_dim=20)) # input dimension\n",
    "model.add(Dense(128,activation='elu'))\n",
    "model.add(Dropout(0.5))\n",
    "model.add(Dense(128,activation='elu'))\n",
    "model.add(Dense(128,activation='elu'))\n",
    "model.add(Dense(128,activation='elu'))\n",
    "\n",
    "# model.add(Dense(256,activation='elu'))\n",
    "# model.add(Dense(512,activation='elu'))\n",
    "# model.add(Dropout(0.5))\n",
    "# model.add(Dense(1024,activation='elu'))\n",
    "# model.add(Dense(512,activation='elu'))\n",
    "# model.add(Dense(256,activation='elu'))\n",
    "# model.add(Dropout(0.5))\n",
    "# model.add(Dense(256,activation='elu'))\n",
    "# model.add(Dense(128,activation='elu'))\n",
    "model.add(Dense(19,activation='softmax'))\n",
    "\n",
    "model.summary()"
   ]
  },
  {
   "cell_type": "code",
   "execution_count": 11,
   "metadata": {},
   "outputs": [],
   "source": [
    "model.compile(loss='categorical_crossentropy', optimizer='adam', metrics=['accuracy'])"
   ]
  },
  {
   "cell_type": "code",
   "execution_count": 12,
   "metadata": {
    "scrolled": true
   },
   "outputs": [
    {
     "name": "stdout",
     "output_type": "stream",
     "text": [
      "WARNING:tensorflow:From /home/lab21/.local/lib/python3.6/site-packages/tensorflow/python/ops/math_ops.py:3066: to_int32 (from tensorflow.python.ops.math_ops) is deprecated and will be removed in a future version.\n",
      "Instructions for updating:\n",
      "Use tf.cast instead.\n",
      "Train on 127993 samples, validate on 31999 samples\n",
      "Epoch 1/60\n",
      " - 2s - loss: 0.7499 - acc: 0.7661 - val_loss: 0.5415 - val_acc: 0.8197\n",
      "Epoch 2/60\n",
      " - 2s - loss: 0.5544 - acc: 0.8167 - val_loss: 0.4943 - val_acc: 0.8342\n",
      "Epoch 3/60\n",
      " - 2s - loss: 0.5276 - acc: 0.8246 - val_loss: 0.4920 - val_acc: 0.8359\n",
      "Epoch 4/60\n",
      " - 2s - loss: 0.5117 - acc: 0.8281 - val_loss: 0.4777 - val_acc: 0.8392\n",
      "Epoch 5/60\n",
      " - 2s - loss: 0.4951 - acc: 0.8324 - val_loss: 0.4578 - val_acc: 0.8449\n",
      "Epoch 6/60\n",
      " - 2s - loss: 0.4871 - acc: 0.8345 - val_loss: 0.4452 - val_acc: 0.8467\n",
      "Epoch 7/60\n",
      " - 2s - loss: 0.4789 - acc: 0.8362 - val_loss: 0.4648 - val_acc: 0.8407\n",
      "Epoch 8/60\n",
      " - 2s - loss: 0.4721 - acc: 0.8394 - val_loss: 0.4303 - val_acc: 0.8514\n",
      "Epoch 9/60\n",
      " - 2s - loss: 0.4654 - acc: 0.8397 - val_loss: 0.4317 - val_acc: 0.8498\n",
      "Epoch 10/60\n",
      " - 2s - loss: 0.4621 - acc: 0.8413 - val_loss: 0.4419 - val_acc: 0.8422\n",
      "Epoch 11/60\n",
      " - 2s - loss: 0.4566 - acc: 0.8429 - val_loss: 0.4188 - val_acc: 0.8552\n",
      "Epoch 12/60\n",
      " - 2s - loss: 0.4521 - acc: 0.8445 - val_loss: 0.4196 - val_acc: 0.8520\n",
      "Epoch 13/60\n",
      " - 2s - loss: 0.4499 - acc: 0.8444 - val_loss: 0.4257 - val_acc: 0.8533\n",
      "Epoch 14/60\n",
      " - 2s - loss: 0.4522 - acc: 0.8448 - val_loss: 0.4268 - val_acc: 0.8538\n",
      "Epoch 15/60\n",
      " - 2s - loss: 0.4460 - acc: 0.8465 - val_loss: 0.4115 - val_acc: 0.8565\n",
      "Epoch 16/60\n",
      " - 2s - loss: 0.4428 - acc: 0.8473 - val_loss: 0.4185 - val_acc: 0.8531\n",
      "Epoch 17/60\n",
      " - 2s - loss: 0.4397 - acc: 0.8477 - val_loss: 0.4206 - val_acc: 0.8536\n",
      "Epoch 18/60\n",
      " - 2s - loss: 0.4403 - acc: 0.8483 - val_loss: 0.4200 - val_acc: 0.8535\n",
      "Epoch 19/60\n",
      " - 2s - loss: 0.4352 - acc: 0.8480 - val_loss: 0.4096 - val_acc: 0.8559\n",
      "Epoch 20/60\n",
      " - 2s - loss: 0.4314 - acc: 0.8504 - val_loss: 0.4180 - val_acc: 0.8522\n",
      "Epoch 21/60\n",
      " - 2s - loss: 0.4337 - acc: 0.8498 - val_loss: 0.4251 - val_acc: 0.8512\n",
      "Epoch 22/60\n",
      " - 2s - loss: 0.4286 - acc: 0.8513 - val_loss: 0.4087 - val_acc: 0.8586\n",
      "Epoch 23/60\n",
      " - 2s - loss: 0.4278 - acc: 0.8512 - val_loss: 0.4019 - val_acc: 0.8615\n",
      "Epoch 24/60\n",
      " - 2s - loss: 0.4248 - acc: 0.8521 - val_loss: 0.4033 - val_acc: 0.8596\n",
      "Epoch 25/60\n",
      " - 2s - loss: 0.4262 - acc: 0.8510 - val_loss: 0.4038 - val_acc: 0.8570\n",
      "Epoch 26/60\n",
      " - 2s - loss: 0.4232 - acc: 0.8531 - val_loss: 0.4052 - val_acc: 0.8592\n",
      "Epoch 27/60\n",
      " - 2s - loss: 0.4253 - acc: 0.8526 - val_loss: 0.3989 - val_acc: 0.8585\n",
      "Epoch 28/60\n",
      " - 2s - loss: 0.4228 - acc: 0.8527 - val_loss: 0.4021 - val_acc: 0.8609\n",
      "Epoch 29/60\n",
      " - 2s - loss: 0.4204 - acc: 0.8533 - val_loss: 0.3941 - val_acc: 0.8617\n",
      "Epoch 30/60\n",
      " - 2s - loss: 0.4189 - acc: 0.8537 - val_loss: 0.3947 - val_acc: 0.8635\n",
      "Epoch 31/60\n",
      " - 2s - loss: 0.4182 - acc: 0.8543 - val_loss: 0.3958 - val_acc: 0.8615\n",
      "Epoch 32/60\n",
      " - 2s - loss: 0.4164 - acc: 0.8542 - val_loss: 0.3912 - val_acc: 0.8621\n",
      "Epoch 33/60\n",
      " - 2s - loss: 0.4159 - acc: 0.8548 - val_loss: 0.3993 - val_acc: 0.8606\n",
      "Epoch 34/60\n",
      " - 2s - loss: 0.4150 - acc: 0.8548 - val_loss: 0.3947 - val_acc: 0.8598\n",
      "Epoch 35/60\n",
      " - 2s - loss: 0.4142 - acc: 0.8548 - val_loss: 0.3962 - val_acc: 0.8615\n",
      "Epoch 36/60\n",
      " - 2s - loss: 0.4150 - acc: 0.8548 - val_loss: 0.3920 - val_acc: 0.8635\n",
      "Epoch 37/60\n",
      " - 2s - loss: 0.4095 - acc: 0.8572 - val_loss: 0.3934 - val_acc: 0.8620\n",
      "Epoch 38/60\n",
      " - 2s - loss: 0.4123 - acc: 0.8561 - val_loss: 0.3940 - val_acc: 0.8631\n",
      "Epoch 39/60\n",
      " - 2s - loss: 0.4118 - acc: 0.8560 - val_loss: 0.4055 - val_acc: 0.8581\n",
      "Epoch 40/60\n",
      " - 2s - loss: 0.4096 - acc: 0.8572 - val_loss: 0.3898 - val_acc: 0.8647\n",
      "Epoch 41/60\n",
      " - 2s - loss: 0.4109 - acc: 0.8565 - val_loss: 0.3907 - val_acc: 0.8640\n",
      "Epoch 42/60\n",
      " - 2s - loss: 0.4064 - acc: 0.8577 - val_loss: 0.3937 - val_acc: 0.8635\n",
      "Epoch 43/60\n",
      " - 2s - loss: 0.4075 - acc: 0.8566 - val_loss: 0.3832 - val_acc: 0.8664\n",
      "Epoch 44/60\n",
      " - 2s - loss: 0.4051 - acc: 0.8580 - val_loss: 0.3869 - val_acc: 0.8647\n",
      "Epoch 45/60\n",
      " - 2s - loss: 0.4056 - acc: 0.8577 - val_loss: 0.4021 - val_acc: 0.8615\n",
      "Epoch 46/60\n",
      " - 2s - loss: 0.4059 - acc: 0.8574 - val_loss: 0.3903 - val_acc: 0.8614\n",
      "Epoch 47/60\n",
      " - 2s - loss: 0.4033 - acc: 0.8583 - val_loss: 0.3902 - val_acc: 0.8635\n",
      "Epoch 48/60\n",
      " - 2s - loss: 0.4035 - acc: 0.8581 - val_loss: 0.3869 - val_acc: 0.8664\n",
      "Epoch 49/60\n",
      " - 2s - loss: 0.4023 - acc: 0.8590 - val_loss: 0.3871 - val_acc: 0.8656\n",
      "Epoch 50/60\n",
      " - 2s - loss: 0.4019 - acc: 0.8586 - val_loss: 0.3891 - val_acc: 0.8655\n",
      "Epoch 51/60\n",
      " - 2s - loss: 0.4026 - acc: 0.8589 - val_loss: 0.3875 - val_acc: 0.8650\n",
      "Epoch 52/60\n",
      " - 2s - loss: 0.4014 - acc: 0.8596 - val_loss: 0.3932 - val_acc: 0.8619\n",
      "Epoch 53/60\n",
      " - 2s - loss: 0.4019 - acc: 0.8596 - val_loss: 0.3985 - val_acc: 0.8620\n",
      "Epoch 54/60\n",
      " - 2s - loss: 0.4006 - acc: 0.8594 - val_loss: 0.3840 - val_acc: 0.8661\n",
      "Epoch 55/60\n",
      " - 2s - loss: 0.3999 - acc: 0.8593 - val_loss: 0.3860 - val_acc: 0.8668\n",
      "Epoch 56/60\n",
      " - 2s - loss: 0.3988 - acc: 0.8599 - val_loss: 0.3914 - val_acc: 0.8636\n",
      "Epoch 57/60\n",
      " - 2s - loss: 0.3982 - acc: 0.8600 - val_loss: 0.3786 - val_acc: 0.8663\n",
      "Epoch 58/60\n",
      " - 2s - loss: 0.3969 - acc: 0.8602 - val_loss: 0.3919 - val_acc: 0.8647\n",
      "Epoch 59/60\n",
      " - 2s - loss: 0.3982 - acc: 0.8604 - val_loss: 0.3812 - val_acc: 0.8668\n",
      "Epoch 60/60\n",
      " - 2s - loss: 0.3977 - acc: 0.8602 - val_loss: 0.3827 - val_acc: 0.8666\n",
      "39999/39999 [==============================] - 0s 5us/step\n",
      "Loss: 0.37654006312112753 Accuracy: 0.869546738681878\n"
     ]
    }
   ],
   "source": [
    "from keras.callbacks import EarlyStopping\n",
    "early_stopping = EarlyStopping(monitor='loss', patience=30)\n",
    "\n",
    "hist= model.fit(x_train, y_train, batch_size=64*4, epochs=60, verbose=2, validation_split=0.2, callbacks=[early_stopping] )\n",
    "loss, acc = model.evaluate(x_test,y_test,batch_size=64*4)\n",
    "print('Loss:',loss,'Accuracy:',acc)"
   ]
  },
  {
   "cell_type": "code",
   "execution_count": 13,
   "metadata": {},
   "outputs": [],
   "source": [
    "y_pred2 = model.predict_proba(test_x)\n",
    "# 제출 파일 생성\n",
    "submission2 = pd.DataFrame(data=y_pred2, columns=sample_submission.columns, index=sample_submission.index)\n",
    "submission2.to_csv('./data/submission_test_DL_4.csv', index=True)"
   ]
  },
  {
   "cell_type": "code",
   "execution_count": 14,
   "metadata": {},
   "outputs": [
    {
     "name": "stdout",
     "output_type": "stream",
     "text": [
      "dict_keys(['val_loss', 'val_acc', 'loss', 'acc'])\n"
     ]
    },
    {
     "data": {
      "image/png": "[encoded data removed]",
      "text/plain": [
       "<Figure size 432x288 with 2 Axes>"
      ]
     },
     "metadata": {},
     "output_type": "display_data"
    }
   ],
   "source": [
    "import matplotlib.pyplot as plt\n",
    "\n",
    "print(hist.history.keys())\n",
    "\n",
    "fig, loss_ax = plt.subplots()\n",
    "acc_ax = loss_ax.twinx()\n",
    "\n",
    "loss_ax.plot(hist.history['loss'], 'y', label='train loss')\n",
    "loss_ax.plot(hist.history['val_loss'], 'r', label='val loss')\n",
    "loss_ax.set_xlabel('epoch')\n",
    "loss_ax.set_ylabel('loss')\n",
    "loss_ax.legend(loc='upper left')\n",
    "\n",
    "acc_ax.plot(hist.history['acc'], 'b', label='train acc')\n",
    "acc_ax.plot(hist.history['val_acc'], 'g', label='val acc')\n",
    "acc_ax.set_ylabel('accuracy')\n",
    "acc_ax.legend(loc='upper right')\n",
    "\n",
    "plt.savefig('res4.png')\n",
    "plt.show()\n",
    "\n"
   ]
  },
  {
   "cell_type": "code",
   "execution_count": null,
   "metadata": {},
   "outputs": [],
   "source": []
  }
 ],
 "metadata": {
  "kernelspec": {
   "display_name": "Python [conda env:aws_neuron_tensorflow_p36]",
   "language": "python",
   "name": "conda-env-aws_neuron_tensorflow_p36-py"
  },
  "language_info": {
   "codemirror_mode": {
    "name": "ipython",
    "version": 3
   },
   "file_extension": ".py",
   "mimetype": "text/x-python",
   "name": "python",
   "nbconvert_exporter": "python",
   "pygments_lexer": "ipython3",
   "version": "3.6.5"
  }
 },
 "nbformat": 4,
 "nbformat_minor": 2
}
