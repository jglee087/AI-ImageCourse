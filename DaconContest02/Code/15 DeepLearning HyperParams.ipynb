{
 "cells": [
  {
   "cell_type": "code",
   "execution_count": null,
   "metadata": {},
   "outputs": [],
   "source": [
    "import numpy as np\n",
    "import pandas as pd\n",
    "import matplotlib.pyplot as plt"
   ]
  },
  {
   "cell_type": "code",
   "execution_count": null,
   "metadata": {},
   "outputs": [],
   "source": [
    "# 데이터 불러오기\n",
    "train = pd.read_csv('./data/train.csv', index_col=0)\n",
    "test = pd.read_csv('./data/test.csv', index_col=0)\n",
    "sample_submission = pd.read_csv('./data/sample_submission.csv', index_col=0)\n",
    "\n",
    "# Train 데이터의 타입을 Sample_submission에 대응하는 가변수 형태로 변환\n",
    "column_number = {}\n",
    "for i, column in enumerate(sample_submission.columns):\n",
    "    column_number[column] = i\n",
    "    \n",
    "def to_number(x, dic):\n",
    "    return dic[x]\n",
    "\n",
    "train['type_num'] = train['type'].apply(lambda x : to_number(x, column_number))\n",
    "\n",
    "# 모델에 적용할 데이터 셋 준비 \n",
    "x = train.drop(columns=['type', 'type_num'], axis=1)\n",
    "y = train['type_num']\n",
    "\n",
    "x = x.drop(columns=['fiberID'], axis=1)\n",
    "test_x = test.drop(columns=['fiberID'],axis=1)\n",
    "\n",
    "x_name=x.columns\n",
    "col_name=x_name"
   ]
  },
  {
   "cell_type": "code",
   "execution_count": null,
   "metadata": {},
   "outputs": [],
   "source": [
    "x=np.array(x)\n",
    "y=np.array(y)\n",
    "test_x=np.array(test_x)"
   ]
  },
  {
   "cell_type": "code",
   "execution_count": null,
   "metadata": {},
   "outputs": [],
   "source": [
    "from sklearn.model_selection import train_test_split, KFold, RandomizedSearchCV\n",
    "\n",
    "#### 6:2:2\n",
    "tra_size= 0.8\n",
    "val_size= 0.75\n",
    "\n",
    "# #### 8:1:1\n",
    "# tra_size = 0.9\n",
    "# val_size = 1./9.\n",
    "\n",
    "x_train, x_test, y_train, y_test = train_test_split(x,y, stratify=y,train_size=tra_size, shuffle=True ,random_state=0)\n",
    "x_train, x_val, y_train, y_val = train_test_split(x_train, y_train, train_size=val_size, shuffle=True ,random_state=0)\n"
   ]
  },
  {
   "cell_type": "code",
   "execution_count": null,
   "metadata": {},
   "outputs": [],
   "source": [
    "from sklearn.preprocessing import StandardScaler, RobustScaler\n",
    "\n",
    "scaler1=StandardScaler()\n",
    "#scaler1=RobustScaler()\n",
    "\n",
    "scaler1.fit(x_train)\n",
    "x_train=scaler1.transform(x_train)\n",
    "x_test=scaler1.transform(x_test)\n",
    "test_x =scaler1.transform(test_x)"
   ]
  },
  {
   "cell_type": "code",
   "execution_count": null,
   "metadata": {},
   "outputs": [],
   "source": [
    "from keras.utils import to_categorical\n",
    "y_train = to_categorical(y_train)\n",
    "y_test = to_categorical(y_test)"
   ]
  },
  {
   "cell_type": "code",
   "execution_count": null,
   "metadata": {},
   "outputs": [],
   "source": [
    "from keras.models import Sequential, Model\n",
    "from keras.layers import Dense, Dropout, Input\n",
    "from keras.callbacks import EarlyStopping\n",
    "from keras import regularizers"
   ]
  },
  {
   "cell_type": "code",
   "execution_count": null,
   "metadata": {},
   "outputs": [],
   "source": [
    "def build_network(keep_prob =0.5,length=3, nodes=64, init_mode='uniform',reg=0.01):\n",
    "\n",
    "    inputs=Input(shape=(20,), name='input')\n",
    "    x=Dense(64, activation='elu', name='hidden0')(inputs)\n",
    "    x=Dropout(0.2)(x)\n",
    "    \n",
    "    for i in range(length):\n",
    "        \n",
    "        if i % 2 == 0:\n",
    "            x=Dense(nodes*2, activation='elu', name='hidden'+str(i+1), \\\n",
    "                   kernel_initializer=init_mode,\\\n",
    "                   kernel_regularizer=regularizers.l2(reg))(x)\n",
    "        if i % 2 == 1:\n",
    "            \n",
    "            x=Dense(nodes, activation='elu', name='hidden'+str(i+1), \\\n",
    "                   kernel_initializer=init_mode,\\\n",
    "                   kernel_regularizer=regularizers.l2(reg))(x)           \n",
    "        \n",
    "        if i == length-2:\n",
    "            x=Dropout(keep_prob)(x)\n",
    "\n",
    "    prediction = Dense(19, activation='softmax', name='output')(x)\n",
    "    \n",
    "    model = Model(inputs=inputs, outputs=prediction)\n",
    "    model.compile(optimizer='adam', loss='categorical_crossentropy', metrics=['accuracy'])\n",
    "                  \n",
    "    model.summary()\n",
    "    \n",
    "    return model"
   ]
  },
  {
   "cell_type": "code",
   "execution_count": null,
   "metadata": {},
   "outputs": [],
   "source": [
    "def create_hyperparameters():\n",
    "    batches=[1024]\n",
    "    dropout =[0.25] #,0.5] \n",
    "    length= [3] # 4\n",
    "    nodes= [64] #128\n",
    "    epochs = [1] # 2\n",
    "    init_mode = [ 'glorot_normal', 'he_normal']\n",
    "    reg = [0.005] # 0.002\n",
    "\n",
    "    return{\"batch_size\":batches, \"keep_prob\":dropout, \"epochs\":epochs,\\\n",
    "           \"length\":length, \"nodes\":nodes, \"init_mode\":init_mode, \\\n",
    "           \"reg\":reg}\n",
    "\n",
    "early_stop = EarlyStopping(\n",
    "    monitor = 'val_loss', patience = 20)\n",
    "callbacks = [early_stop]\n",
    "\n",
    "keras_fit_params = {'callbacks': callbacks,'validation_data': (x_val, y_val)}\n",
    "\n",
    "from keras.wrappers.scikit_learn import KerasClassifier\n",
    "model=KerasClassifier(build_fn=build_network, verbose=2)"
   ]
  },
  {
   "cell_type": "code",
   "execution_count": null,
   "metadata": {
    "scrolled": false
   },
   "outputs": [],
   "source": [
    "hyperparameters= create_hyperparameters()\n",
    "\n",
    "from sklearn.model_selection import RandomizedSearchCV, GridSearchCV\n",
    "\n",
    "search = RandomizedSearchCV(estimator=model, param_distributions=hyperparameters,\\\n",
    "                             n_iter=24,n_jobs=-1, cv=5, verbose=2, scoring = 'neg_log_loss')\n",
    "search.fit(x_train, y_train)"
   ]
  },
  {
   "cell_type": "code",
   "execution_count": null,
   "metadata": {},
   "outputs": [],
   "source": [
    "print(search.best_params_)"
   ]
  },
  {
   "cell_type": "code",
   "execution_count": null,
   "metadata": {},
   "outputs": [],
   "source": [
    "import os.path\n",
    "i=0\n",
    "while 1:\n",
    "    if os.path.isfile('./data/best_params'+str(i)+'.txt') == True:\n",
    "        i+=1\n",
    "    else:\n",
    "        break\n",
    "l1=str(search.best_params_.keys())\n",
    "l2=str(search.best_params_.values())\n",
    "\n",
    "f=open('./data/best_params'+str(i)+'.txt','w')\n",
    "f.write(l1)    \n",
    "f.write(l2)\n",
    "f.close()"
   ]
  },
  {
   "cell_type": "markdown",
   "metadata": {},
   "source": [
    "# 현재까지 가장 안정적인 모델"
   ]
  },
  {
   "cell_type": "code",
   "execution_count": null,
   "metadata": {},
   "outputs": [],
   "source": [
    "# model=Sequential()\n",
    "\n",
    "# model.add(Dense(64,activation='elu',input_dim=20)) # input dimension\n",
    "# model.add(Dense(128,activation='elu'))\n",
    "# model.add(Dropout(0.5))\n",
    "# model.add(Dense(128,activation='elu'))\n",
    "# model.add(Dense(128,activation='elu'))\n",
    "# model.add(Dense(128,activation='elu'))\n",
    "# model.add(Dense(19,activation='softmax'))\n",
    "\n",
    "# model.summary()"
   ]
  }
 ],
 "metadata": {
  "kernelspec": {
   "display_name": "Python 3",
   "language": "python",
   "name": "python3"
  },
  "language_info": {
   "codemirror_mode": {
    "name": "ipython",
    "version": 3
   },
   "file_extension": ".py",
   "mimetype": "text/x-python",
   "name": "python",
   "nbconvert_exporter": "python",
   "pygments_lexer": "ipython3",
   "version": "3.7.4"
  }
 },
 "nbformat": 4,
 "nbformat_minor": 2
}
