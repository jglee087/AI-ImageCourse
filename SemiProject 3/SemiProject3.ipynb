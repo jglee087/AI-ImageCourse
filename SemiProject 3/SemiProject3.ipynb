{
 "cells": [
  {
   "cell_type": "code",
   "execution_count": 2,
   "metadata": {},
   "outputs": [
    {
     "name": "stdout",
     "output_type": "stream",
     "text": [
      "Collecting pandas_profiling\n",
      "  Downloading https://files.pythonhosted.org/packages/1d/08/1f614fb2d31b59cd69896b900044c8d7119389b9151983a872d047ea021f/pandas-profiling-2.4.0.tar.gz (150kB)\n",
      "Requirement already satisfied: pandas>=0.19 in c:\\users\\jungg\\anaconda3\\lib\\site-packages (from pandas_profiling) (0.25.1)\n",
      "Requirement already satisfied: matplotlib>=1.4 in c:\\users\\jungg\\anaconda3\\lib\\site-packages (from pandas_profiling) (3.1.1)\n",
      "Collecting confuse>=1.0.0 (from pandas_profiling)\n",
      "  Downloading https://files.pythonhosted.org/packages/4c/6f/90e860cba937c174d8b3775729ccc6377eb91f52ad4eeb008e7252a3646d/confuse-1.0.0.tar.gz\n",
      "Requirement already satisfied: jinja2>=2.8 in c:\\users\\jungg\\anaconda3\\lib\\site-packages (from pandas_profiling) (2.10.3)\n",
      "Collecting htmlmin>=0.1.12 (from pandas_profiling)\n",
      "  Downloading https://files.pythonhosted.org/packages/b3/e7/fcd59e12169de19f0131ff2812077f964c6b960e7c09804d30a7bf2ab461/htmlmin-0.1.12.tar.gz\n",
      "Collecting missingno>=0.4.2 (from pandas_profiling)\n",
      "  Downloading https://files.pythonhosted.org/packages/2b/de/6e4dd6d720c49939544352155dc06a08c9f7e4271aa631a559dfbeaaf9d4/missingno-0.4.2-py3-none-any.whl\n",
      "Collecting phik>=0.9.8 (from pandas_profiling)\n",
      "  Downloading https://files.pythonhosted.org/packages/45/ad/24a16fa4ba612fb96a3c4bb115a5b9741483f53b66d3d3afd987f20fa227/phik-0.9.8-py3-none-any.whl (606kB)\n",
      "Requirement already satisfied: astropy in c:\\users\\jungg\\anaconda3\\lib\\site-packages (from pandas_profiling) (3.2.1)\n",
      "Requirement already satisfied: pytz>=2017.2 in c:\\users\\jungg\\anaconda3\\lib\\site-packages (from pandas>=0.19->pandas_profiling) (2019.3)\n",
      "Requirement already satisfied: python-dateutil>=2.6.1 in c:\\users\\jungg\\anaconda3\\lib\\site-packages (from pandas>=0.19->pandas_profiling) (2.8.0)\n",
      "Requirement already satisfied: numpy>=1.13.3 in c:\\users\\jungg\\anaconda3\\lib\\site-packages (from pandas>=0.19->pandas_profiling) (1.16.5)\n",
      "Requirement already satisfied: cycler>=0.10 in c:\\users\\jungg\\anaconda3\\lib\\site-packages (from matplotlib>=1.4->pandas_profiling) (0.10.0)\n",
      "Requirement already satisfied: kiwisolver>=1.0.1 in c:\\users\\jungg\\anaconda3\\lib\\site-packages (from matplotlib>=1.4->pandas_profiling) (1.1.0)\n",
      "Requirement already satisfied: pyparsing!=2.0.4,!=2.1.2,!=2.1.6,>=2.0.1 in c:\\users\\jungg\\anaconda3\\lib\\site-packages (from matplotlib>=1.4->pandas_profiling) (2.4.2)\n",
      "Requirement already satisfied: pyyaml in c:\\users\\jungg\\anaconda3\\lib\\site-packages (from confuse>=1.0.0->pandas_profiling) (5.1.2)\n",
      "Requirement already satisfied: MarkupSafe>=0.23 in c:\\users\\jungg\\anaconda3\\lib\\site-packages (from jinja2>=2.8->pandas_profiling) (1.1.1)\n",
      "Requirement already satisfied: seaborn in c:\\users\\jungg\\anaconda3\\lib\\site-packages (from missingno>=0.4.2->pandas_profiling) (0.9.0)\n",
      "Requirement already satisfied: scipy in c:\\users\\jungg\\anaconda3\\lib\\site-packages (from missingno>=0.4.2->pandas_profiling) (1.3.1)\n",
      "Requirement already satisfied: pytest>=4.0.2 in c:\\users\\jungg\\anaconda3\\lib\\site-packages (from phik>=0.9.8->pandas_profiling) (5.2.1)\n",
      "Requirement already satisfied: numba>=0.38.1 in c:\\users\\jungg\\anaconda3\\lib\\site-packages (from phik>=0.9.8->pandas_profiling) (0.45.1)\n",
      "Requirement already satisfied: nbconvert>=5.3.1 in c:\\users\\jungg\\anaconda3\\lib\\site-packages (from phik>=0.9.8->pandas_profiling) (5.6.0)\n",
      "Collecting pytest-pylint>=0.13.0 (from phik>=0.9.8->pandas_profiling)\n",
      "  Downloading https://files.pythonhosted.org/packages/64/dc/6f35f114844fb12e38d60c4f3d2441a55baff7043ad4e013777dff55746c/pytest_pylint-0.14.1-py3-none-any.whl\n",
      "Requirement already satisfied: jupyter-client>=5.2.3 in c:\\users\\jungg\\anaconda3\\lib\\site-packages (from phik>=0.9.8->pandas_profiling) (5.3.3)\n",
      "Requirement already satisfied: six>=1.5 in c:\\users\\jungg\\anaconda3\\lib\\site-packages (from python-dateutil>=2.6.1->pandas>=0.19->pandas_profiling) (1.12.0)\n",
      "Requirement already satisfied: setuptools in c:\\users\\jungg\\anaconda3\\lib\\site-packages (from kiwisolver>=1.0.1->matplotlib>=1.4->pandas_profiling) (41.4.0)\n",
      "Requirement already satisfied: py>=1.5.0 in c:\\users\\jungg\\anaconda3\\lib\\site-packages (from pytest>=4.0.2->phik>=0.9.8->pandas_profiling) (1.8.0)\n",
      "Requirement already satisfied: packaging in c:\\users\\jungg\\anaconda3\\lib\\site-packages (from pytest>=4.0.2->phik>=0.9.8->pandas_profiling) (19.2)\n",
      "Requirement already satisfied: attrs>=17.4.0 in c:\\users\\jungg\\anaconda3\\lib\\site-packages (from pytest>=4.0.2->phik>=0.9.8->pandas_profiling) (19.2.0)\n",
      "Requirement already satisfied: more-itertools>=4.0.0 in c:\\users\\jungg\\anaconda3\\lib\\site-packages (from pytest>=4.0.2->phik>=0.9.8->pandas_profiling) (7.2.0)\n",
      "Requirement already satisfied: atomicwrites>=1.0 in c:\\users\\jungg\\anaconda3\\lib\\site-packages (from pytest>=4.0.2->phik>=0.9.8->pandas_profiling) (1.3.0)\n",
      "Requirement already satisfied: pluggy<1.0,>=0.12 in c:\\users\\jungg\\anaconda3\\lib\\site-packages (from pytest>=4.0.2->phik>=0.9.8->pandas_profiling) (0.13.0)\n",
      "Requirement already satisfied: wcwidth in c:\\users\\jungg\\anaconda3\\lib\\site-packages (from pytest>=4.0.2->phik>=0.9.8->pandas_profiling) (0.1.7)\n",
      "Requirement already satisfied: importlib-metadata>=0.12 in c:\\users\\jungg\\anaconda3\\lib\\site-packages (from pytest>=4.0.2->phik>=0.9.8->pandas_profiling) (0.23)\n",
      "Requirement already satisfied: colorama in c:\\users\\jungg\\anaconda3\\lib\\site-packages (from pytest>=4.0.2->phik>=0.9.8->pandas_profiling) (0.4.1)\n",
      "Requirement already satisfied: llvmlite>=0.29.0dev0 in c:\\users\\jungg\\anaconda3\\lib\\site-packages (from numba>=0.38.1->phik>=0.9.8->pandas_profiling) (0.29.0)\n",
      "Requirement already satisfied: jupyter-core in c:\\users\\jungg\\anaconda3\\lib\\site-packages (from nbconvert>=5.3.1->phik>=0.9.8->pandas_profiling) (4.5.0)\n",
      "Requirement already satisfied: entrypoints>=0.2.2 in c:\\users\\jungg\\anaconda3\\lib\\site-packages (from nbconvert>=5.3.1->phik>=0.9.8->pandas_profiling) (0.3)\n",
      "Requirement already satisfied: nbformat>=4.4 in c:\\users\\jungg\\anaconda3\\lib\\site-packages (from nbconvert>=5.3.1->phik>=0.9.8->pandas_profiling) (4.4.0)\n",
      "Requirement already satisfied: pygments in c:\\users\\jungg\\anaconda3\\lib\\site-packages (from nbconvert>=5.3.1->phik>=0.9.8->pandas_profiling) (2.4.2)\n",
      "Requirement already satisfied: pandocfilters>=1.4.1 in c:\\users\\jungg\\anaconda3\\lib\\site-packages (from nbconvert>=5.3.1->phik>=0.9.8->pandas_profiling) (1.4.2)\n",
      "Requirement already satisfied: bleach in c:\\users\\jungg\\anaconda3\\lib\\site-packages (from nbconvert>=5.3.1->phik>=0.9.8->pandas_profiling) (3.1.0)\n",
      "Requirement already satisfied: traitlets>=4.2 in c:\\users\\jungg\\anaconda3\\lib\\site-packages (from nbconvert>=5.3.1->phik>=0.9.8->pandas_profiling) (4.3.3)\n",
      "Requirement already satisfied: mistune<2,>=0.8.1 in c:\\users\\jungg\\anaconda3\\lib\\site-packages (from nbconvert>=5.3.1->phik>=0.9.8->pandas_profiling) (0.8.4)\n",
      "Requirement already satisfied: testpath in c:\\users\\jungg\\anaconda3\\lib\\site-packages (from nbconvert>=5.3.1->phik>=0.9.8->pandas_profiling) (0.4.2)\n",
      "Requirement already satisfied: defusedxml in c:\\users\\jungg\\anaconda3\\lib\\site-packages (from nbconvert>=5.3.1->phik>=0.9.8->pandas_profiling) (0.6.0)\n",
      "Requirement already satisfied: pylint>=1.4.5 in c:\\users\\jungg\\anaconda3\\lib\\site-packages (from pytest-pylint>=0.13.0->phik>=0.9.8->pandas_profiling) (2.4.2)\n",
      "Requirement already satisfied: tornado>=4.1 in c:\\users\\jungg\\anaconda3\\lib\\site-packages (from jupyter-client>=5.2.3->phik>=0.9.8->pandas_profiling) (6.0.3)\n",
      "Requirement already satisfied: pywin32>=1.0; sys_platform == \"win32\" in c:\\users\\jungg\\anaconda3\\lib\\site-packages (from jupyter-client>=5.2.3->phik>=0.9.8->pandas_profiling) (223)\n",
      "Requirement already satisfied: pyzmq>=13 in c:\\users\\jungg\\anaconda3\\lib\\site-packages (from jupyter-client>=5.2.3->phik>=0.9.8->pandas_profiling) (18.1.0)\n",
      "Requirement already satisfied: zipp>=0.5 in c:\\users\\jungg\\anaconda3\\lib\\site-packages (from importlib-metadata>=0.12->pytest>=4.0.2->phik>=0.9.8->pandas_profiling) (0.6.0)\n",
      "Requirement already satisfied: ipython-genutils in c:\\users\\jungg\\anaconda3\\lib\\site-packages (from nbformat>=4.4->nbconvert>=5.3.1->phik>=0.9.8->pandas_profiling) (0.2.0)\n",
      "Requirement already satisfied: jsonschema!=2.5.0,>=2.4 in c:\\users\\jungg\\anaconda3\\lib\\site-packages (from nbformat>=4.4->nbconvert>=5.3.1->phik>=0.9.8->pandas_profiling) (3.0.2)\n",
      "Requirement already satisfied: webencodings in c:\\users\\jungg\\anaconda3\\lib\\site-packages (from bleach->nbconvert>=5.3.1->phik>=0.9.8->pandas_profiling) (0.5.1)\n",
      "Requirement already satisfied: decorator in c:\\users\\jungg\\anaconda3\\lib\\site-packages (from traitlets>=4.2->nbconvert>=5.3.1->phik>=0.9.8->pandas_profiling) (4.4.0)\n",
      "Requirement already satisfied: mccabe<0.7,>=0.6 in c:\\users\\jungg\\anaconda3\\lib\\site-packages (from pylint>=1.4.5->pytest-pylint>=0.13.0->phik>=0.9.8->pandas_profiling) (0.6.1)\n",
      "Requirement already satisfied: astroid<2.4,>=2.3.0 in c:\\users\\jungg\\anaconda3\\lib\\site-packages (from pylint>=1.4.5->pytest-pylint>=0.13.0->phik>=0.9.8->pandas_profiling) (2.3.1)\n",
      "Requirement already satisfied: isort<5,>=4.2.5 in c:\\users\\jungg\\anaconda3\\lib\\site-packages (from pylint>=1.4.5->pytest-pylint>=0.13.0->phik>=0.9.8->pandas_profiling) (4.3.21)\n",
      "Requirement already satisfied: pyrsistent>=0.14.0 in c:\\users\\jungg\\anaconda3\\lib\\site-packages (from jsonschema!=2.5.0,>=2.4->nbformat>=4.4->nbconvert>=5.3.1->phik>=0.9.8->pandas_profiling) (0.15.4)\n",
      "Collecting typed-ast<1.5,>=1.4.0; implementation_name == \"cpython\" and python_version < \"3.8\" (from astroid<2.4,>=2.3.0->pylint>=1.4.5->pytest-pylint>=0.13.0->phik>=0.9.8->pandas_profiling)\n",
      "  Downloading https://files.pythonhosted.org/packages/6d/6f/c67eed763bcc095d9187c7a04fdc3ba640d1e990368acfcb1d294ff71549/typed_ast-1.4.1-cp37-cp37m-win_amd64.whl (155kB)\n",
      "Requirement already satisfied: wrapt==1.11.* in c:\\users\\jungg\\anaconda3\\lib\\site-packages (from astroid<2.4,>=2.3.0->pylint>=1.4.5->pytest-pylint>=0.13.0->phik>=0.9.8->pandas_profiling) (1.11.2)\n",
      "Requirement already satisfied: lazy-object-proxy==1.4.* in c:\\users\\jungg\\anaconda3\\lib\\site-packages (from astroid<2.4,>=2.3.0->pylint>=1.4.5->pytest-pylint>=0.13.0->phik>=0.9.8->pandas_profiling) (1.4.2)\n",
      "Building wheels for collected packages: pandas-profiling, confuse, htmlmin\n",
      "  Building wheel for pandas-profiling (setup.py): started\n",
      "  Building wheel for pandas-profiling (setup.py): finished with status 'done'\n",
      "  Created wheel for pandas-profiling: filename=pandas_profiling-2.4.0-py2.py3-none-any.whl size=195596 sha256=17f8e8f73d3078aeb1d8436d86d616eaff1c705cc05d18b77935d014ca29951b\n",
      "  Stored in directory: C:\\Users\\jungg\\AppData\\Local\\pip\\Cache\\wheels\\b2\\4b\\40\\ff4633a59f4e7fbdfec19b8e10e353b54b5eef125c31afe51a\n",
      "  Building wheel for confuse (setup.py): started\n",
      "  Building wheel for confuse (setup.py): finished with status 'done'\n",
      "  Created wheel for confuse: filename=confuse-1.0.0-cp37-none-any.whl size=17494 sha256=8b1a171cf2387a58ba4bd2a7437722a7ea0569353b66de2a39eb9510c5dfb607\n",
      "  Stored in directory: C:\\Users\\jungg\\AppData\\Local\\pip\\Cache\\wheels\\b0\\b2\\96\\2074eee7dbf7b7df69d004c9b6ac4e32dad04fb7666cf943bd\n",
      "  Building wheel for htmlmin (setup.py): started\n",
      "  Building wheel for htmlmin (setup.py): finished with status 'done'\n",
      "  Created wheel for htmlmin: filename=htmlmin-0.1.12-cp37-none-any.whl size=27090 sha256=0789364242b3b43aa68437d5bed09b4787a17725291571e4e30c023a632f2ae6\n",
      "  Stored in directory: C:\\Users\\jungg\\AppData\\Local\\pip\\Cache\\wheels\\43\\07\\ac\\7c5a9d708d65247ac1f94066cf1db075540b85716c30255459\n",
      "Successfully built pandas-profiling confuse htmlmin\n",
      "Installing collected packages: confuse, htmlmin, missingno, pytest-pylint, phik, pandas-profiling, typed-ast\n",
      "Successfully installed confuse-1.0.0 htmlmin-0.1.12 missingno-0.4.2 pandas-profiling-2.4.0 phik-0.9.8 pytest-pylint-0.14.1 typed-ast-1.4.1\n"
     ]
    }
   ],
   "source": [
    "!pip install pandas_profiling"
   ]
  },
  {
   "cell_type": "markdown",
   "metadata": {},
   "source": [
    "# Bank Marketing Data from Kaggle"
   ]
  },
  {
   "cell_type": "code",
   "execution_count": 1,
   "metadata": {},
   "outputs": [],
   "source": [
    "import numpy as np\n",
    "import pandas as pd\n",
    "import matplotlib.pyplot as plt\n",
    "import pandas_profiling"
   ]
  },
  {
   "cell_type": "code",
   "execution_count": 4,
   "metadata": {
    "scrolled": true
   },
   "outputs": [
    {
     "data": {
      "text/html": [
       "<div>\n",
       "<style scoped>\n",
       "    .dataframe tbody tr th:only-of-type {\n",
       "        vertical-align: middle;\n",
       "    }\n",
       "\n",
       "    .dataframe tbody tr th {\n",
       "        vertical-align: top;\n",
       "    }\n",
       "\n",
       "    .dataframe thead th {\n",
       "        text-align: right;\n",
       "    }\n",
       "</style>\n",
       "<table border=\"1\" class=\"dataframe\">\n",
       "  <thead>\n",
       "    <tr style=\"text-align: right;\">\n",
       "      <th></th>\n",
       "      <th>age</th>\n",
       "      <th>job</th>\n",
       "      <th>marital</th>\n",
       "      <th>education</th>\n",
       "      <th>default</th>\n",
       "      <th>balance</th>\n",
       "      <th>housing</th>\n",
       "      <th>loan</th>\n",
       "      <th>contact</th>\n",
       "      <th>day</th>\n",
       "      <th>month</th>\n",
       "      <th>duration</th>\n",
       "      <th>campaign</th>\n",
       "      <th>pdays</th>\n",
       "      <th>previous</th>\n",
       "      <th>poutcome</th>\n",
       "      <th>deposit</th>\n",
       "    </tr>\n",
       "  </thead>\n",
       "  <tbody>\n",
       "    <tr>\n",
       "      <td>0</td>\n",
       "      <td>59</td>\n",
       "      <td>admin.</td>\n",
       "      <td>married</td>\n",
       "      <td>secondary</td>\n",
       "      <td>no</td>\n",
       "      <td>2343</td>\n",
       "      <td>yes</td>\n",
       "      <td>no</td>\n",
       "      <td>unknown</td>\n",
       "      <td>5</td>\n",
       "      <td>may</td>\n",
       "      <td>1042</td>\n",
       "      <td>1</td>\n",
       "      <td>-1</td>\n",
       "      <td>0</td>\n",
       "      <td>unknown</td>\n",
       "      <td>yes</td>\n",
       "    </tr>\n",
       "    <tr>\n",
       "      <td>1</td>\n",
       "      <td>56</td>\n",
       "      <td>admin.</td>\n",
       "      <td>married</td>\n",
       "      <td>secondary</td>\n",
       "      <td>no</td>\n",
       "      <td>45</td>\n",
       "      <td>no</td>\n",
       "      <td>no</td>\n",
       "      <td>unknown</td>\n",
       "      <td>5</td>\n",
       "      <td>may</td>\n",
       "      <td>1467</td>\n",
       "      <td>1</td>\n",
       "      <td>-1</td>\n",
       "      <td>0</td>\n",
       "      <td>unknown</td>\n",
       "      <td>yes</td>\n",
       "    </tr>\n",
       "    <tr>\n",
       "      <td>2</td>\n",
       "      <td>41</td>\n",
       "      <td>technician</td>\n",
       "      <td>married</td>\n",
       "      <td>secondary</td>\n",
       "      <td>no</td>\n",
       "      <td>1270</td>\n",
       "      <td>yes</td>\n",
       "      <td>no</td>\n",
       "      <td>unknown</td>\n",
       "      <td>5</td>\n",
       "      <td>may</td>\n",
       "      <td>1389</td>\n",
       "      <td>1</td>\n",
       "      <td>-1</td>\n",
       "      <td>0</td>\n",
       "      <td>unknown</td>\n",
       "      <td>yes</td>\n",
       "    </tr>\n",
       "    <tr>\n",
       "      <td>3</td>\n",
       "      <td>55</td>\n",
       "      <td>services</td>\n",
       "      <td>married</td>\n",
       "      <td>secondary</td>\n",
       "      <td>no</td>\n",
       "      <td>2476</td>\n",
       "      <td>yes</td>\n",
       "      <td>no</td>\n",
       "      <td>unknown</td>\n",
       "      <td>5</td>\n",
       "      <td>may</td>\n",
       "      <td>579</td>\n",
       "      <td>1</td>\n",
       "      <td>-1</td>\n",
       "      <td>0</td>\n",
       "      <td>unknown</td>\n",
       "      <td>yes</td>\n",
       "    </tr>\n",
       "    <tr>\n",
       "      <td>4</td>\n",
       "      <td>54</td>\n",
       "      <td>admin.</td>\n",
       "      <td>married</td>\n",
       "      <td>tertiary</td>\n",
       "      <td>no</td>\n",
       "      <td>184</td>\n",
       "      <td>no</td>\n",
       "      <td>no</td>\n",
       "      <td>unknown</td>\n",
       "      <td>5</td>\n",
       "      <td>may</td>\n",
       "      <td>673</td>\n",
       "      <td>2</td>\n",
       "      <td>-1</td>\n",
       "      <td>0</td>\n",
       "      <td>unknown</td>\n",
       "      <td>yes</td>\n",
       "    </tr>\n",
       "    <tr>\n",
       "      <td>5</td>\n",
       "      <td>42</td>\n",
       "      <td>management</td>\n",
       "      <td>single</td>\n",
       "      <td>tertiary</td>\n",
       "      <td>no</td>\n",
       "      <td>0</td>\n",
       "      <td>yes</td>\n",
       "      <td>yes</td>\n",
       "      <td>unknown</td>\n",
       "      <td>5</td>\n",
       "      <td>may</td>\n",
       "      <td>562</td>\n",
       "      <td>2</td>\n",
       "      <td>-1</td>\n",
       "      <td>0</td>\n",
       "      <td>unknown</td>\n",
       "      <td>yes</td>\n",
       "    </tr>\n",
       "    <tr>\n",
       "      <td>6</td>\n",
       "      <td>56</td>\n",
       "      <td>management</td>\n",
       "      <td>married</td>\n",
       "      <td>tertiary</td>\n",
       "      <td>no</td>\n",
       "      <td>830</td>\n",
       "      <td>yes</td>\n",
       "      <td>yes</td>\n",
       "      <td>unknown</td>\n",
       "      <td>6</td>\n",
       "      <td>may</td>\n",
       "      <td>1201</td>\n",
       "      <td>1</td>\n",
       "      <td>-1</td>\n",
       "      <td>0</td>\n",
       "      <td>unknown</td>\n",
       "      <td>yes</td>\n",
       "    </tr>\n",
       "    <tr>\n",
       "      <td>7</td>\n",
       "      <td>60</td>\n",
       "      <td>retired</td>\n",
       "      <td>divorced</td>\n",
       "      <td>secondary</td>\n",
       "      <td>no</td>\n",
       "      <td>545</td>\n",
       "      <td>yes</td>\n",
       "      <td>no</td>\n",
       "      <td>unknown</td>\n",
       "      <td>6</td>\n",
       "      <td>may</td>\n",
       "      <td>1030</td>\n",
       "      <td>1</td>\n",
       "      <td>-1</td>\n",
       "      <td>0</td>\n",
       "      <td>unknown</td>\n",
       "      <td>yes</td>\n",
       "    </tr>\n",
       "    <tr>\n",
       "      <td>8</td>\n",
       "      <td>37</td>\n",
       "      <td>technician</td>\n",
       "      <td>married</td>\n",
       "      <td>secondary</td>\n",
       "      <td>no</td>\n",
       "      <td>1</td>\n",
       "      <td>yes</td>\n",
       "      <td>no</td>\n",
       "      <td>unknown</td>\n",
       "      <td>6</td>\n",
       "      <td>may</td>\n",
       "      <td>608</td>\n",
       "      <td>1</td>\n",
       "      <td>-1</td>\n",
       "      <td>0</td>\n",
       "      <td>unknown</td>\n",
       "      <td>yes</td>\n",
       "    </tr>\n",
       "    <tr>\n",
       "      <td>9</td>\n",
       "      <td>28</td>\n",
       "      <td>services</td>\n",
       "      <td>single</td>\n",
       "      <td>secondary</td>\n",
       "      <td>no</td>\n",
       "      <td>5090</td>\n",
       "      <td>yes</td>\n",
       "      <td>no</td>\n",
       "      <td>unknown</td>\n",
       "      <td>6</td>\n",
       "      <td>may</td>\n",
       "      <td>1297</td>\n",
       "      <td>3</td>\n",
       "      <td>-1</td>\n",
       "      <td>0</td>\n",
       "      <td>unknown</td>\n",
       "      <td>yes</td>\n",
       "    </tr>\n",
       "    <tr>\n",
       "      <td>10</td>\n",
       "      <td>38</td>\n",
       "      <td>admin.</td>\n",
       "      <td>single</td>\n",
       "      <td>secondary</td>\n",
       "      <td>no</td>\n",
       "      <td>100</td>\n",
       "      <td>yes</td>\n",
       "      <td>no</td>\n",
       "      <td>unknown</td>\n",
       "      <td>7</td>\n",
       "      <td>may</td>\n",
       "      <td>786</td>\n",
       "      <td>1</td>\n",
       "      <td>-1</td>\n",
       "      <td>0</td>\n",
       "      <td>unknown</td>\n",
       "      <td>yes</td>\n",
       "    </tr>\n",
       "    <tr>\n",
       "      <td>11</td>\n",
       "      <td>30</td>\n",
       "      <td>blue-collar</td>\n",
       "      <td>married</td>\n",
       "      <td>secondary</td>\n",
       "      <td>no</td>\n",
       "      <td>309</td>\n",
       "      <td>yes</td>\n",
       "      <td>no</td>\n",
       "      <td>unknown</td>\n",
       "      <td>7</td>\n",
       "      <td>may</td>\n",
       "      <td>1574</td>\n",
       "      <td>2</td>\n",
       "      <td>-1</td>\n",
       "      <td>0</td>\n",
       "      <td>unknown</td>\n",
       "      <td>yes</td>\n",
       "    </tr>\n",
       "  </tbody>\n",
       "</table>\n",
       "</div>"
      ],
      "text/plain": [
       "    age          job   marital  education default  balance housing loan  \\\n",
       "0    59       admin.   married  secondary      no     2343     yes   no   \n",
       "1    56       admin.   married  secondary      no       45      no   no   \n",
       "2    41   technician   married  secondary      no     1270     yes   no   \n",
       "3    55     services   married  secondary      no     2476     yes   no   \n",
       "4    54       admin.   married   tertiary      no      184      no   no   \n",
       "5    42   management    single   tertiary      no        0     yes  yes   \n",
       "6    56   management   married   tertiary      no      830     yes  yes   \n",
       "7    60      retired  divorced  secondary      no      545     yes   no   \n",
       "8    37   technician   married  secondary      no        1     yes   no   \n",
       "9    28     services    single  secondary      no     5090     yes   no   \n",
       "10   38       admin.    single  secondary      no      100     yes   no   \n",
       "11   30  blue-collar   married  secondary      no      309     yes   no   \n",
       "\n",
       "    contact  day month  duration  campaign  pdays  previous poutcome deposit  \n",
       "0   unknown    5   may      1042         1     -1         0  unknown     yes  \n",
       "1   unknown    5   may      1467         1     -1         0  unknown     yes  \n",
       "2   unknown    5   may      1389         1     -1         0  unknown     yes  \n",
       "3   unknown    5   may       579         1     -1         0  unknown     yes  \n",
       "4   unknown    5   may       673         2     -1         0  unknown     yes  \n",
       "5   unknown    5   may       562         2     -1         0  unknown     yes  \n",
       "6   unknown    6   may      1201         1     -1         0  unknown     yes  \n",
       "7   unknown    6   may      1030         1     -1         0  unknown     yes  \n",
       "8   unknown    6   may       608         1     -1         0  unknown     yes  \n",
       "9   unknown    6   may      1297         3     -1         0  unknown     yes  \n",
       "10  unknown    7   may       786         1     -1         0  unknown     yes  \n",
       "11  unknown    7   may      1574         2     -1         0  unknown     yes  "
      ]
     },
     "execution_count": 4,
     "metadata": {},
     "output_type": "execute_result"
    }
   ],
   "source": [
    "df=pd.read_csv('bank.csv')\n",
    "df.head(12)"
   ]
  },
  {
   "cell_type": "markdown",
   "metadata": {},
   "source": [
    "# Explain each columns"
   ]
  },
  {
   "cell_type": "markdown",
   "metadata": {},
   "source": [
    "- Age: 나이\n",
    "- Job: 직업\n",
    "- Marital: 혼인 여부\n",
    "- Education: 학력\n",
    "- Default: 파산 여부\n",
    "- Housing: 주택 융자 여부\n",
    "- Loan: 대출 여부\n",
    "- Balance: 잔고('$')\n",
    "- Contact: 연결방법(전화 or 휴대폰)\n",
    "- Month: 마지막 연락 월\n",
    "- Day: 마지막 연락 일\n",
    "- Duration: 통화 지속 시간\n",
    "- Campaign: 캠페인 기간동안 연락횟수\n",
    "- Pday: 마지막 연락으로부터의 일 수 (**-1 means 0 day**)\n",
    "- Previous: 이전 캠페인에서 이 고객에게 연락한 횟수\n",
    "- Poutcome: 이전 캠페인에서의 결과\n",
    "- Deposit: 예금 가입 여부"
   ]
  },
  {
   "cell_type": "code",
   "execution_count": 5,
   "metadata": {
    "scrolled": false
   },
   "outputs": [
    {
     "data": {
      "application/vnd.jupyter.widget-view+json": {
       "model_id": "c6269fac706e4fe8b2dc1b95a069a9da",
       "version_major": 2,
       "version_minor": 0
      },
      "text/plain": [
       "Tab(children=(HTML(value='<div id=\"overview-content\" class=\"row variable spacing\">\\n    <div class=\"row\">\\n   …"
      ]
     },
     "metadata": {},
     "output_type": "display_data"
    },
    {
     "data": {
      "text/html": [
       "Report generated with <a href=\"https://github.com/pandas-profiling/pandas-profiling\">pandas-profiling</a>."
      ],
      "text/plain": [
       "<IPython.core.display.HTML object>"
      ]
     },
     "metadata": {},
     "output_type": "display_data"
    },
    {
     "data": {
      "text/plain": []
     },
     "execution_count": 5,
     "metadata": {},
     "output_type": "execute_result"
    }
   ],
   "source": [
    "df.profile_report()"
   ]
  },
  {
   "cell_type": "markdown",
   "metadata": {},
   "source": [
    "## Need to do one-hot coding variables\n",
    "### job, marital, education, default, housing, loan, contact, poutcome, deposit"
   ]
  },
  {
   "cell_type": "code",
   "execution_count": 4,
   "metadata": {
    "scrolled": false
   },
   "outputs": [],
   "source": [
    "# print(df['contact'].value_counts(),end='\\n\\n')\n",
    "# print(df['deposit'].value_counts(),end='\\n\\n')\n",
    "# print(df['education'].value_counts(),end='\\n\\n')\n",
    "# print(df['housing'].value_counts(),end='\\n\\n')\n",
    "# print(df['job'].value_counts(),end='\\n\\n')\n",
    "# print(df['loan'].value_counts(),end='\\n\\n')\n",
    "# print(df['marital'].value_counts(),end='\\n\\n')\n",
    "# print(df['poutcome'].value_counts(),end='\\n\\n')\n"
   ]
  },
  {
   "cell_type": "code",
   "execution_count": 5,
   "metadata": {},
   "outputs": [],
   "source": [
    "df['contact']=df['contact'].map({'cellular':0.,'unknown':1,'telephone':2}).astype('float32')\n",
    "df['deposit']=df['deposit'].map({'no':0.,'yes':1}).astype('float32')\n",
    "df['education']=df['education'].map({'secondary':0,'tertiary':1,'primary':2,'unknown':3}).astype('float32')\n",
    "df['default']=df['default'].map({'no':0.,'yes':1}).astype('float32')\n",
    "df['housing']=df['housing'].map({'no':0.,'yes':1}).astype('float32')\n",
    "\n",
    "df['job']=df['job'].map({'management':0., 'blue-collar':1, 'technician':2., 'admin.':3, 'services':4,\n",
    "                        'retired':5, 'self-employed':6, 'student':7, 'unemployed':8, 'entrepreneur':9,\n",
    "                        'housemaid':10., 'unknown':11}).astype('float32')\n",
    "\n",
    "df['loan']=df['loan'].map({'no':0,'yes':1}).astype('float32')\n",
    "df['marital']=df['marital'].map({'married':0.,'single':1,'divorced':2}).astype('float32')\n",
    "df['poutcome']=df['poutcome'].map({'unknown':0.,'failure':1,'success':2,'other':3}).astype('float32')\n"
   ]
  },
  {
   "cell_type": "markdown",
   "metadata": {},
   "source": [
    "# Data preprocessing"
   ]
  },
  {
   "cell_type": "code",
   "execution_count": 7,
   "metadata": {},
   "outputs": [],
   "source": [
    "del df['month']\n",
    "del df['day']"
   ]
  },
  {
   "cell_type": "code",
   "execution_count": 8,
   "metadata": {},
   "outputs": [],
   "source": [
    "target = df[['deposit']].copy()\n",
    "data = df.copy()\n",
    "\n",
    "del data['deposit']"
   ]
  },
  {
   "cell_type": "code",
   "execution_count": 9,
   "metadata": {},
   "outputs": [
    {
     "name": "stderr",
     "output_type": "stream",
     "text": [
      "C:\\Users\\student\\Anaconda3\\lib\\site-packages\\sklearn\\preprocessing\\data.py:645: DataConversionWarning: Data with input dtype int64, float32 were all converted to float64 by StandardScaler.\n",
      "  return self.partial_fit(X, y)\n",
      "C:\\Users\\student\\Anaconda3\\lib\\site-packages\\sklearn\\base.py:464: DataConversionWarning: Data with input dtype int64, float32 were all converted to float64 by StandardScaler.\n",
      "  return self.fit(X, **fit_params).transform(X)\n"
     ]
    }
   ],
   "source": [
    "from sklearn import preprocessing\n",
    "\n",
    "sc = preprocessing.StandardScaler()\n",
    "data=sc.fit_transform(data)\n",
    "\n",
    "#data[['balance']] = sc.fit_transform(data[['balance']])\n",
    "#data[['duration']] = sc.fit_transform(data[['duration']])\n",
    "#data[['age']] = sc.fit_transform(data[['age']])\n",
    "\n",
    "\n",
    "\n",
    "#print(data[['balance']].shape)"
   ]
  },
  {
   "cell_type": "markdown",
   "metadata": {},
   "source": [
    "# Train, test split"
   ]
  },
  {
   "cell_type": "code",
   "execution_count": 10,
   "metadata": {},
   "outputs": [],
   "source": [
    "from sklearn import model_selection\n",
    "\n",
    "train_data, test_data, train_label, test_label = model_selection.train_test_split(data, target,test_size=0.05,random_state=0)"
   ]
  },
  {
   "cell_type": "markdown",
   "metadata": {},
   "source": [
    "## Applying one-hot encoder"
   ]
  },
  {
   "cell_type": "code",
   "execution_count": null,
   "metadata": {},
   "outputs": [],
   "source": [
    "### from sklearn.preprocessing import OneHotEncoder\n",
    "from tensorflow.keras import utils\n",
    "\n",
    "enc = OneHotEncoder(categories='auto')\n",
    "\n",
    "#enc.fit(train_data)\n",
    "#train_data = enc.transform(train_data).toarray()\n",
    "\n",
    "#enc.fit(test_data)\n",
    "#test_data = enc.transform(test_data).toarray()\n",
    "\n",
    "#enc.fit(train_label)\n",
    "#train_label = enc.transform(train_label).toarray()\n",
    "\n",
    "#enc.fit(test_label)\n",
    "#test_label = enc.transform(test_label).toarray()\n",
    "\n",
    "#train_data = utils.to_categorical(train_data) # 0~9 -> one-hot vector\n",
    "#test_data = utils.to_categorical(test_data) # 0~9 -> one-hot vector\n",
    "\n",
    "train_label = utils.to_categorical(train_label) # 0~9 -> one-hot vector\n",
    "test_label = utils.to_categorical(test_label) # 0~9 -> one-hot vector\n",
    "\n"
   ]
  },
  {
   "cell_type": "code",
   "execution_count": 12,
   "metadata": {},
   "outputs": [],
   "source": [
    "import tensorflow as tf\n",
    "from tensorflow.keras import datasets, utils\n",
    "from tensorflow.keras import models, layers, activations, initializers, losses, optimizers, metrics\n",
    "\n",
    "import os\n",
    "tf.logging.set_verbosity(tf.logging.ERROR)\n",
    "os.environ['TF_CPP_MIN_LOG_LEVEL'] = '2' # https://stackoverflow.com/questions/35911252/disable-tensorflow-debugging-information"
   ]
  },
  {
   "cell_type": "markdown",
   "metadata": {},
   "source": [
    "# Check the train and test data shape"
   ]
  },
  {
   "cell_type": "code",
   "execution_count": 13,
   "metadata": {},
   "outputs": [
    {
     "name": "stdout",
     "output_type": "stream",
     "text": [
      "(10603, 14)\n",
      "10603 14\n"
     ]
    }
   ],
   "source": [
    "print(train_data.shape)\n",
    "print(train_data.shape[0],train_data.shape[1])\n",
    "dim=train_data.shape[1]"
   ]
  },
  {
   "cell_type": "code",
   "execution_count": 14,
   "metadata": {},
   "outputs": [
    {
     "data": {
      "text/plain": [
       "((10603, 2), (10603, 14))"
      ]
     },
     "execution_count": 14,
     "metadata": {},
     "output_type": "execute_result"
    }
   ],
   "source": [
    "train_label.shape, train_data.shape"
   ]
  },
  {
   "cell_type": "markdown",
   "metadata": {},
   "source": [
    "# Using deep learning model"
   ]
  },
  {
   "cell_type": "code",
   "execution_count": 15,
   "metadata": {},
   "outputs": [],
   "source": [
    "model = models.Sequential() \n",
    "\n",
    "model.add(layers.Dense(input_dim=dim, units=64, activation=None, kernel_initializer=initializers.he_uniform())) \n",
    "model.add(layers.Activation('relu')) # layers.ELU or layers.LeakyReLU\n",
    "model.add(layers.Dropout(rate=0.25))\n",
    "\n",
    "model.add(layers.Dense(units=128, activation=None, kernel_initializer=initializers.he_uniform())) \n",
    "model.add(layers.Activation('relu')) \n",
    "model.add(layers.Dropout(rate=0.25))\n",
    "\n",
    "model.add(layers.Dense(units=128, activation=None, kernel_initializer=initializers.he_uniform())) \n",
    "model.add(layers.Activation('relu'))\n",
    "model.add(layers.Dropout(rate=0.25))\n",
    "\n",
    "model.add(layers.Dense(units=128, activation=None, kernel_initializer=initializers.he_uniform())) \n",
    "model.add(layers.Activation('elu')) \n",
    "model.add(layers.Dropout(rate=0.25))\n",
    "\n",
    "model.add(layers.Dense(units=2, activation='softmax')) # One-hot vector for 0 & 1\n",
    "model.summary()"
   ]
  },
  {
   "cell_type": "code",
   "execution_count": 16,
   "metadata": {},
   "outputs": [],
   "source": [
    "model.compile(optimizer=optimizers.RMSprop(),\n",
    "              loss=losses.categorical_crossentropy,\n",
    "              metrics=[metrics.categorical_accuracy]) "
   ]
  },
  {
   "cell_type": "code",
   "execution_count": 17,
   "metadata": {},
   "outputs": [],
   "source": [
    "history = model.fit(train_data, train_label, batch_size=100, epochs=40, validation_split=0.05,verbose=0) "
   ]
  },
  {
   "cell_type": "code",
   "execution_count": 18,
   "metadata": {},
   "outputs": [
    {
     "data": {
      "text/plain": [
       "dict_keys(['loss', 'categorical_accuracy', 'val_loss', 'val_categorical_accuracy'])"
      ]
     },
     "execution_count": 18,
     "metadata": {},
     "output_type": "execute_result"
    }
   ],
   "source": [
    "history.history.keys()"
   ]
  },
  {
   "cell_type": "markdown",
   "metadata": {},
   "source": [
    "# Calculate accuray"
   ]
  },
  {
   "cell_type": "code",
   "execution_count": 19,
   "metadata": {},
   "outputs": [
    {
     "data": {
      "image/png": "[encoded data removed]",
      "text/plain": [
       "<Figure size 432x288 with 1 Axes>"
      ]
     },
     "metadata": {
      "needs_background": "light"
     },
     "output_type": "display_data"
    }
   ],
   "source": [
    "val_acc = history.history['val_categorical_accuracy']\n",
    "acc = history.history['categorical_accuracy']\n",
    "\n",
    "#val_acc = history.history['val_binary_accuracy']\n",
    "#acc = history.history['binary_accuracy']\n",
    "\n",
    "x_len = np.arange(len(acc))\n",
    "plt.plot(x_len, acc, marker='.', c='blue', label=\"Train-set Acc.\")\n",
    "plt.plot(x_len, val_acc, marker='.', c='red', label=\"Validation-set Acc.\")\n",
    "plt.xlim(-0.5, 42)\n",
    "plt.ylim(0.65, 0.85)\n",
    "plt.legend(loc='lower right')\n",
    "plt.grid()\n",
    "plt.xlabel('epoch')\n",
    "plt.ylabel('Accuracy')\n",
    "plt.show()"
   ]
  },
  {
   "cell_type": "code",
   "execution_count": 20,
   "metadata": {},
   "outputs": [
    {
     "name": "stdout",
     "output_type": "stream",
     "text": [
      "559/559 [==============================] - 0s 13us/sample - loss: 0.4381 - categorical_accuracy: 0.8175\n",
      "loss (cross-entropy) : 0.4381437953128371\n",
      "test accuracy : 0.8175313\n"
     ]
    }
   ],
   "source": [
    "result = model.evaluate(test_data, test_label, batch_size=100)\n",
    "print('loss (cross-entropy) :', result[0])\n",
    "print('test accuracy :', result[1])"
   ]
  },
  {
   "cell_type": "markdown",
   "metadata": {},
   "source": [
    "# One-hot encoding and argument max\n",
    "## Multi-class multi fpr, tpr"
   ]
  },
  {
   "cell_type": "code",
   "execution_count": 21,
   "metadata": {},
   "outputs": [],
   "source": [
    "from sklearn.metrics import roc_curve, auc\n",
    "\n",
    "pred_test = model.predict(test_data)\n",
    "pred_test_prob = model.predict_proba(test_data)\n",
    "\n",
    "fpr, tpr, _ = roc_curve(y_true=test_label[:,1], y_score=pred_test_prob[:,1]) # real y & predicted y (based on \"Sepal width\")\n",
    "roc_auc = auc(fpr, tpr) # AUC 면적의 값 (수치)"
   ]
  },
  {
   "cell_type": "code",
   "execution_count": 22,
   "metadata": {},
   "outputs": [
    {
     "data": {
      "image/png": "[encoded data removed]",
      "text/plain": [
       "<Figure size 720x720 with 1 Axes>"
      ]
     },
     "metadata": {
      "needs_background": "light"
     },
     "output_type": "display_data"
    },
    {
     "name": "stdout",
     "output_type": "stream",
     "text": [
      "0.8866615067079464\n"
     ]
    }
   ],
   "source": [
    "plt.figure(figsize=(10, 10))\n",
    "\n",
    "plt.plot(fpr, tpr, color='darkorange', lw=2, label='ROC curve (area = %0.2f)' % roc_auc)\n",
    "plt.plot([0, 1], [0, 1], color='navy', lw=2, linestyle='--')\n",
    "\n",
    "plt.xlim([0.0, 1.0])\n",
    "plt.ylim([0.0, 1.05])\n",
    "plt.xlabel('False Positive Rate')\n",
    "plt.ylabel('True Positive Rate')\n",
    "plt.legend(loc=\"lower right\")\n",
    "plt.title(\"ROC curve\")\n",
    "\n",
    "plt.show()\n",
    "\n",
    "print(roc_auc)"
   ]
  },
  {
   "cell_type": "code",
   "execution_count": 23,
   "metadata": {},
   "outputs": [],
   "source": [
    "from sklearn.metrics import confusion_matrix, classification_report\n",
    "\n",
    "a1=test_label[:,0] #.reshape(2233,1)\n",
    "b1=pred_test_prob[:,0] #.reshape(2233,1)\n",
    "\n",
    "a2=test_label[:,1] #.reshape(2233,1)\n",
    "b2=pred_test_prob[:,1] #.reshape(2233,1)\n",
    "\n",
    "b1[b1<0.5]=0\n",
    "b1[b1>0.5]=1\n",
    "\n",
    "b2[b2<0.5]=0\n",
    "b2[b2>0.5]=1\n",
    "\n",
    "cm1 = confusion_matrix(a1,b1) #, labels=lp_model.classes_)\n"
   ]
  },
  {
   "cell_type": "markdown",
   "metadata": {},
   "source": [
    "# Classification report"
   ]
  },
  {
   "cell_type": "code",
   "execution_count": 24,
   "metadata": {},
   "outputs": [
    {
     "name": "stdout",
     "output_type": "stream",
     "text": [
      "[[210  45]\n",
      " [ 57 247]]\n",
      "              precision    recall  f1-score   support\n",
      "\n",
      "         0.0       0.79      0.82      0.80       255\n",
      "         1.0       0.85      0.81      0.83       304\n",
      "\n",
      "   micro avg       0.82      0.82      0.82       559\n",
      "   macro avg       0.82      0.82      0.82       559\n",
      "weighted avg       0.82      0.82      0.82       559\n",
      "\n"
     ]
    }
   ],
   "source": [
    "print(cm1)\n",
    "print(classification_report(a1,b1))"
   ]
  },
  {
   "cell_type": "code",
   "execution_count": 25,
   "metadata": {},
   "outputs": [],
   "source": [
    "len(classification_report(a1,b1))\n",
    "li_class=classification_report(a1,b1) #.strip() #.split(' ')\n"
   ]
  },
  {
   "cell_type": "markdown",
   "metadata": {},
   "source": [
    "# Feature importance using GradientBoosting"
   ]
  },
  {
   "cell_type": "code",
   "execution_count": 26,
   "metadata": {},
   "outputs": [],
   "source": [
    "from sklearn import decomposition\n",
    "from sklearn import datasets\n",
    "\n",
    "from sklearn.ensemble import GradientBoostingClassifier\n"
   ]
  },
  {
   "cell_type": "code",
   "execution_count": 27,
   "metadata": {},
   "outputs": [
    {
     "data": {
      "text/plain": [
       "GradientBoostingClassifier(criterion='friedman_mse', init=None,\n",
       "              learning_rate=0.01, loss='deviance', max_depth=3,\n",
       "              max_features=None, max_leaf_nodes=None,\n",
       "              min_impurity_decrease=0.0, min_impurity_split=None,\n",
       "              min_samples_leaf=1, min_samples_split=2,\n",
       "              min_weight_fraction_leaf=0.0, n_estimators=500,\n",
       "              n_iter_no_change=None, presort='auto', random_state=0,\n",
       "              subsample=1.0, tol=0.0001, validation_fraction=0.1,\n",
       "              verbose=0, warm_start=False)"
      ]
     },
     "execution_count": 27,
     "metadata": {},
     "output_type": "execute_result"
    }
   ],
   "source": [
    "params = {'n_estimators': 500, 'max_depth': 3, 'min_samples_split': 2,\n",
    "          'learning_rate': 0.01, 'random_state':0, 'subsample':1.0, }\n",
    "\n",
    "clf = GradientBoostingClassifier(**params)\n",
    "clf.fit(train_data, train_label[:,0])\n",
    "\n"
   ]
  },
  {
   "cell_type": "code",
   "execution_count": 28,
   "metadata": {},
   "outputs": [
    {
     "data": {
      "image/png": "[encoded data removed]",
      "text/plain": [
       "<Figure size 432x288 with 1 Axes>"
      ]
     },
     "metadata": {
      "needs_background": "light"
     },
     "output_type": "display_data"
    }
   ],
   "source": [
    "# Plot feature importance\n",
    "\n",
    "\n",
    "feature_importance = clf.feature_importances_\n",
    "\n",
    "feature_importance = 100.0 * (feature_importance / feature_importance.max())\n",
    "sorted_idx = np.argsort(feature_importance)\n",
    "\n",
    "dd=pd.DataFrame(data)\n",
    "xx=df.columns[sorted_idx]\n",
    "\n",
    "#print(pd.DataFrame(data))\n",
    "\n",
    "\n",
    "pos = np.arange(sorted_idx.shape[0]) + .5\n",
    "plt.subplot(1, 2, 2)\n",
    "plt.barh(pos, feature_importance[sorted_idx], align='center')\n",
    "plt.yticks(pos,xx)\n",
    "plt.xlabel('Relative Importance')\n",
    "plt.title('Variable Importance')\n",
    "plt.show()"
   ]
  },
  {
   "cell_type": "code",
   "execution_count": null,
   "metadata": {},
   "outputs": [],
   "source": []
  }
 ],
 "metadata": {
  "kernelspec": {
   "display_name": "Python 3",
   "language": "python",
   "name": "python3"
  },
  "language_info": {
   "codemirror_mode": {
    "name": "ipython",
    "version": 3
   },
   "file_extension": ".py",
   "mimetype": "text/x-python",
   "name": "python",
   "nbconvert_exporter": "python",
   "pygments_lexer": "ipython3",
   "version": "3.7.4"
  }
 },
 "nbformat": 4,
 "nbformat_minor": 2
}
