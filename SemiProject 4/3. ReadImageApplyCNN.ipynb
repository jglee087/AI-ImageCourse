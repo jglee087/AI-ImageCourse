{
 "cells": [
  {
   "cell_type": "code",
   "execution_count": 1,
   "metadata": {},
   "outputs": [
    {
     "name": "stderr",
     "output_type": "stream",
     "text": [
      "Using TensorFlow backend.\n"
     ]
    }
   ],
   "source": [
    "import warnings\n",
    "warnings.simplefilter(action='ignore', category=FutureWarning)\n",
    "\n",
    "import sys\n",
    "import tensorflow as tf\n",
    "import keras\n",
    "from keras.models import Sequential\n",
    "from keras.layers import Dense, Dropout, Flatten\n",
    "from keras.layers.convolutional import Conv2D, MaxPooling2D\n",
    "import numpy as np\n",
    "\n",
    "import cv2\n",
    "import os\n",
    "import glob\n"
   ]
  },
  {
   "cell_type": "code",
   "execution_count": 2,
   "metadata": {},
   "outputs": [
    {
     "name": "stdout",
     "output_type": "stream",
     "text": [
      "Daniel 경로에 저장된 파일의 개수:2259\n",
      "Chris 경로에 저장된 파일의 개수:1663\n",
      "Chris 경로에 저장된 파일의 개수:1236\n"
     ]
    }
   ],
   "source": [
    "\n",
    "path_daniel='image/Daniel'\n",
    "path_chris='image/Chris'\n",
    "path_unkno='image/unknown'\n",
    "\n",
    "la=len(os.listdir(path_daniel))\n",
    "lb=len(os.listdir(path_chris))     \n",
    "lc=len(os.listdir(path_unkno)) \n",
    "\n",
    "print('Daniel 경로에 저장된 파일의 개수:'+str(la))\n",
    "print('Chris 경로에 저장된 파일의 개수:'+str(lb))\n",
    "print('Chris 경로에 저장된 파일의 개수:'+str(lc))"
   ]
  },
  {
   "cell_type": "markdown",
   "metadata": {},
   "source": [
    "### 불러온 이미지의 사이즈 결정하기 위한 값"
   ]
  },
  {
   "cell_type": "code",
   "execution_count": 3,
   "metadata": {},
   "outputs": [],
   "source": [
    "xsize=150\n",
    "ysize=150"
   ]
  },
  {
   "cell_type": "markdown",
   "metadata": {},
   "source": [
    "### 불러온 이미지에 라벨(label)을 붙이기 위한 함수와 이미지 크기 조절과 255 값으로 나누어 정규화"
   ]
  },
  {
   "cell_type": "code",
   "execution_count": 4,
   "metadata": {},
   "outputs": [],
   "source": [
    "x=[]\n",
    "y=[]\n",
    "\n",
    "from keras.preprocessing import image\n",
    "import numpy as np\n",
    "\n",
    "def read_dir(path, label):\n",
    "    \n",
    "    files = glob.glob(path + \"\\\\/*.jpg\")\n",
    "    if bool(files) == False:\n",
    "        files = glob.glob(path + \"\\\\/*.png\") \n",
    "     \n",
    "    for f in files:\n",
    "\n",
    "        try:\n",
    "            img = image.load_img(f, target_size=(xsize,ysize))\n",
    "            img_tr= image.img_to_array(img)        \n",
    "            img_tr /= 255.\n",
    "            \n",
    "            y.append(label)\n",
    "            x.append(img_tr)\n",
    "        except:\n",
    "            pass"
   ]
  },
  {
   "cell_type": "markdown",
   "metadata": {},
   "source": [
    "### 경로에 들어있는 파일을 읽어서 각각에 라벨 붙이기"
   ]
  },
  {
   "cell_type": "code",
   "execution_count": 5,
   "metadata": {},
   "outputs": [],
   "source": [
    "read_dir(path_daniel, 0) #'DanielCraig')\n",
    "read_dir(path_chris, 1) #'ChrisEvans')\n",
    "read_dir(path_unkno, 2) #'Unknown')"
   ]
  },
  {
   "cell_type": "markdown",
   "metadata": {},
   "source": [
    "### 리스트로 저장한 x,y를 딥러닝을 위해 Numpy 배열로 변환"
   ]
  },
  {
   "cell_type": "code",
   "execution_count": 6,
   "metadata": {},
   "outputs": [],
   "source": [
    "x=np.array(x)\n",
    "y=np.array(y)"
   ]
  },
  {
   "cell_type": "markdown",
   "metadata": {},
   "source": [
    "**Numpy로 변환한 x,y를 train, test 셋으로 분리  \n",
    "batch_size: 미니배치 사이즈 결정  \n",
    "num_classes: 분류하고자 하는 클래스의 개수  \n",
    "epochs: 총 연산횟수 결정**  "
   ]
  },
  {
   "cell_type": "code",
   "execution_count": 7,
   "metadata": {},
   "outputs": [],
   "source": [
    "from sklearn.model_selection import train_test_split\n",
    "x_train, x_test, y_train, y_test = train_test_split(x, y, test_size=0.1)\n",
    "\n",
    "input_shape = (xsize,ysize, 3)\n",
    "\n",
    "batch_size = 50\n",
    "num_classes = 3\n",
    "epochs = 15"
   ]
  },
  {
   "cell_type": "markdown",
   "metadata": {},
   "source": [
    "**label인 y를 카테고리화**"
   ]
  },
  {
   "cell_type": "code",
   "execution_count": 8,
   "metadata": {},
   "outputs": [],
   "source": [
    "y_train = keras.utils.to_categorical(y_train, num_classes)\n",
    "y_test = keras.utils.to_categorical(y_test, num_classes)"
   ]
  },
  {
   "cell_type": "code",
   "execution_count": 9,
   "metadata": {},
   "outputs": [],
   "source": [
    "# model = Sequential()\n",
    "\n",
    "# model.add(Conv2D(32, kernel_size=(5, 5), strides=(1, 1), padding='same',\n",
    "#                  activation='relu',\n",
    "#                  input_shape=input_shape))\n",
    "# model.add(MaxPooling2D(pool_size=(2, 2), strides=(2, 2)))\n",
    "\n",
    "# model.add(Conv2D(64, (2, 2), activation='relu', padding='same'))\n",
    "# model.add(MaxPooling2D(pool_size=(2, 2)))\n",
    "# #model.add(Dropout(0.25))\n",
    "\n",
    "# model.add(Conv2D(64, (2, 2), activation='relu', padding='same'))\n",
    "# model.add(MaxPooling2D(pool_size=(2, 2)))\n",
    "# #model.add(Dropout(0.5))\n",
    "\n",
    "# model.add(Flatten())\n",
    "# model.add(Dense(512, activation='relu'))\n",
    "# model.add(Dropout(0.25))\n",
    "# model.add(Dense(num_classes, activation='softmax'))\n",
    "# model.summary()\n"
   ]
  },
  {
   "cell_type": "markdown",
   "metadata": {},
   "source": [
    "# 딥러닝 모델 작성  \n",
    "**Input shape**는 위에서 정한 (xsize, ysize, channel) 순서대로 입력해준다.  \n",
    "**model.summary()**를 참고하면 CNN의 구조를 확인할 수 있다."
   ]
  },
  {
   "cell_type": "code",
   "execution_count": 10,
   "metadata": {},
   "outputs": [
    {
     "name": "stdout",
     "output_type": "stream",
     "text": [
      "WARNING:tensorflow:From C:\\Users\\student\\Anaconda3\\lib\\site-packages\\tensorflow\\python\\ops\\resource_variable_ops.py:435: colocate_with (from tensorflow.python.framework.ops) is deprecated and will be removed in a future version.\n",
      "Instructions for updating:\n",
      "Colocations handled automatically by placer.\n",
      "Model: \"sequential_1\"\n",
      "_________________________________________________________________\n",
      "Layer (type)                 Output Shape              Param #   \n",
      "=================================================================\n",
      "conv2d_1 (Conv2D)            (None, 148, 148, 32)      896       \n",
      "_________________________________________________________________\n",
      "max_pooling2d_1 (MaxPooling2 (None, 74, 74, 32)        0         \n",
      "_________________________________________________________________\n",
      "conv2d_2 (Conv2D)            (None, 72, 72, 64)        18496     \n",
      "_________________________________________________________________\n",
      "max_pooling2d_2 (MaxPooling2 (None, 36, 36, 64)        0         \n",
      "_________________________________________________________________\n",
      "conv2d_3 (Conv2D)            (None, 34, 34, 128)       73856     \n",
      "_________________________________________________________________\n",
      "max_pooling2d_3 (MaxPooling2 (None, 17, 17, 128)       0         \n",
      "_________________________________________________________________\n",
      "conv2d_4 (Conv2D)            (None, 15, 15, 128)       147584    \n",
      "_________________________________________________________________\n",
      "max_pooling2d_4 (MaxPooling2 (None, 7, 7, 128)         0         \n",
      "_________________________________________________________________\n",
      "flatten_1 (Flatten)          (None, 6272)              0         \n",
      "_________________________________________________________________\n",
      "dense_1 (Dense)              (None, 512)               3211776   \n",
      "_________________________________________________________________\n",
      "dense_2 (Dense)              (None, 256)               131328    \n",
      "_________________________________________________________________\n",
      "dense_3 (Dense)              (None, 128)               32896     \n",
      "_________________________________________________________________\n",
      "dense_4 (Dense)              (None, 64)                8256      \n",
      "_________________________________________________________________\n",
      "dropout_1 (Dropout)          (None, 64)                0         \n",
      "_________________________________________________________________\n",
      "dense_5 (Dense)              (None, 3)                 195       \n",
      "=================================================================\n",
      "Total params: 3,625,283\n",
      "Trainable params: 3,625,283\n",
      "Non-trainable params: 0\n",
      "_________________________________________________________________\n"
     ]
    }
   ],
   "source": [
    "model= Sequential()\n",
    "model.add(Conv2D(32, kernel_size=(3, 3), activation='relu',input_shape=(150, 150,3)))\n",
    "model.add(MaxPooling2D(pool_size=(2, 2)))\n",
    "#model.add(MaxPooling2D(pool_size=(2, 2), strides=(2, 2)))\n",
    "          \n",
    "model.add(Conv2D(64, kernel_size=(3, 3), activation='relu'))\n",
    "model.add(MaxPooling2D(pool_size=(2, 2)))\n",
    "\n",
    "model.add(Conv2D(128, kernel_size=(3, 3), activation='relu'))\n",
    "model.add(MaxPooling2D(pool_size=(2, 2)))\n",
    "\n",
    "model.add(Conv2D(128, kernel_size=(3, 3), activation='relu'))\n",
    "model.add(MaxPooling2D(pool_size=(2, 2)))\n",
    "\n",
    "model.add(Flatten())\n",
    "model.add(Dense(512, activation='relu')) #layers.Dense() : densely-connected NN layer\n",
    "model.add(Dense(256, activation='relu'))\n",
    "model.add(Dense(128, activation='relu'))\n",
    "model.add(Dense(64, activation='relu'))\n",
    "model.add(Dropout(0.5)) #드롭아웃 사용여부\n",
    "model.add(Dense(num_classes, activation='softmax')) \n",
    "\n",
    "model.summary()"
   ]
  },
  {
   "cell_type": "markdown",
   "metadata": {},
   "source": [
    "# Model을 이미지 파일로 저장"
   ]
  },
  {
   "cell_type": "code",
   "execution_count": 11,
   "metadata": {},
   "outputs": [
    {
     "data": {
      "image/png": "[encoded data removed]",
      "text/plain": [
       "<IPython.core.display.Image object>"
      ]
     },
     "execution_count": 11,
     "metadata": {},
     "output_type": "execute_result"
    }
   ],
   "source": [
    "from keras.utils import plot_model\n",
    "plot_model(model, to_file='model.png')"
   ]
  },
  {
   "cell_type": "markdown",
   "metadata": {},
   "source": [
    "**pydot을 설치하면 진행 과정을 이미지화 할 수 있다.**"
   ]
  },
  {
   "cell_type": "code",
   "execution_count": 12,
   "metadata": {
    "scrolled": false
   },
   "outputs": [],
   "source": [
    "# from IPython.display import SVG\n",
    "# from keras.utils.vis_utils import model_to_dot\n",
    "# import matplotlib.pyplot as plt\n",
    "\n",
    "# %matplotlib inline\n",
    "\n",
    "# plt.figure(figsize=(20, 10)) \n",
    "# SVG(model_to_dot(model, show_shapes=True).create(prog='dot', format='svg'))\n"
   ]
  },
  {
   "cell_type": "markdown",
   "metadata": {},
   "source": [
    "# 모델 실행 과정\n",
    "**정확도와 loss를 확인할 수 있다. Loss가 감소하는지 여부에 대해 확인할 필요가 있다.**  \n",
    "**이 모델에는 validation_data 설정하였다.**  \n",
    "**batch_size, epochs는 위에서 정의**  "
   ]
  },
  {
   "cell_type": "code",
   "execution_count": 13,
   "metadata": {},
   "outputs": [
    {
     "name": "stdout",
     "output_type": "stream",
     "text": [
      "WARNING:tensorflow:From C:\\Users\\student\\Anaconda3\\lib\\site-packages\\tensorflow\\python\\ops\\math_ops.py:3066: to_int32 (from tensorflow.python.ops.math_ops) is deprecated and will be removed in a future version.\n",
      "Instructions for updating:\n",
      "Use tf.cast instead.\n",
      "Train on 4642 samples, validate on 516 samples\n",
      "Epoch 1/15\n",
      "4642/4642 [==============================] - 79s 17ms/step - loss: 1.0312 - accuracy: 0.4612 - val_loss: 0.8411 - val_accuracy: 0.6337\n",
      "Epoch 2/15\n",
      "4642/4642 [==============================] - 83s 18ms/step - loss: 0.7373 - accuracy: 0.6993 - val_loss: 0.5532 - val_accuracy: 0.7868\n",
      "Epoch 3/15\n",
      "4642/4642 [==============================] - 84s 18ms/step - loss: 0.4588 - accuracy: 0.8382 - val_loss: 0.3496 - val_accuracy: 0.8818\n",
      "Epoch 4/15\n",
      "4642/4642 [==============================] - 84s 18ms/step - loss: 0.3471 - accuracy: 0.8761 - val_loss: 0.3870 - val_accuracy: 0.8779\n",
      "Epoch 5/15\n",
      "4642/4642 [==============================] - 83s 18ms/step - loss: 0.2926 - accuracy: 0.8985 - val_loss: 0.2908 - val_accuracy: 0.8934\n",
      "Epoch 6/15\n",
      "4642/4642 [==============================] - 83s 18ms/step - loss: 0.2475 - accuracy: 0.9121 - val_loss: 0.3042 - val_accuracy: 0.8818\n",
      "Epoch 7/15\n",
      "4642/4642 [==============================] - 83s 18ms/step - loss: 0.1999 - accuracy: 0.9293 - val_loss: 0.2783 - val_accuracy: 0.9012\n",
      "Epoch 8/15\n",
      "4642/4642 [==============================] - 83s 18ms/step - loss: 0.1738 - accuracy: 0.9405 - val_loss: 0.3349 - val_accuracy: 0.8953\n",
      "Epoch 9/15\n",
      "4642/4642 [==============================] - 82s 18ms/step - loss: 0.1497 - accuracy: 0.9509 - val_loss: 0.2297 - val_accuracy: 0.9264\n",
      "Epoch 10/15\n",
      "4642/4642 [==============================] - 82s 18ms/step - loss: 0.1223 - accuracy: 0.9593 - val_loss: 0.2670 - val_accuracy: 0.9109\n",
      "Epoch 11/15\n",
      "4642/4642 [==============================] - 83s 18ms/step - loss: 0.1272 - accuracy: 0.9610 - val_loss: 0.2662 - val_accuracy: 0.9341\n",
      "Epoch 12/15\n",
      "4642/4642 [==============================] - 84s 18ms/step - loss: 0.1019 - accuracy: 0.9670 - val_loss: 0.3389 - val_accuracy: 0.8953\n",
      "Epoch 13/15\n",
      "4642/4642 [==============================] - 82s 18ms/step - loss: 0.1036 - accuracy: 0.9636 - val_loss: 0.3136 - val_accuracy: 0.9244\n",
      "Epoch 14/15\n",
      "4642/4642 [==============================] - 83s 18ms/step - loss: 0.0700 - accuracy: 0.9761 - val_loss: 0.3354 - val_accuracy: 0.9089\n",
      "Epoch 15/15\n",
      "4642/4642 [==============================] - 85s 18ms/step - loss: 0.0585 - accuracy: 0.9826 - val_loss: 0.3721 - val_accuracy: 0.9167\n"
     ]
    }
   ],
   "source": [
    "model.compile(loss='categorical_crossentropy', optimizer='adam', metrics=['accuracy'])\n",
    "hist = model.fit(x_train, y_train,batch_size=batch_size,epochs=epochs,verbose=1,validation_data=(x_test, y_test))"
   ]
  },
  {
   "cell_type": "markdown",
   "metadata": {},
   "source": [
    "### 위 연산은 training data로 결정한 Loss와 Accuray이다.\n",
    "### 아래 연산은 test data를 가지고 한 결과"
   ]
  },
  {
   "cell_type": "code",
   "execution_count": 14,
   "metadata": {},
   "outputs": [
    {
     "name": "stdout",
     "output_type": "stream",
     "text": [
      "Test loss: 0.3721110118658403\n",
      "Test accuracy: 0.9166666865348816\n"
     ]
    }
   ],
   "source": [
    "score = model.evaluate(x_test, y_test, verbose=0)\n",
    "print('Test loss:', score[0])\n",
    "print('Test accuracy:', score[1])"
   ]
  },
  {
   "cell_type": "code",
   "execution_count": 19,
   "metadata": {
    "scrolled": true
   },
   "outputs": [
    {
     "name": "stdout",
     "output_type": "stream",
     "text": [
      "Train on 4177 samples, validate on 465 samples\n",
      "Epoch 1/15\n",
      "4177/4177 [==============================] - 75s 18ms/step - loss: 0.0519 - accuracy: 0.9832 - val_loss: 0.1442 - val_accuracy: 0.9505\n",
      "Epoch 2/15\n",
      "4177/4177 [==============================] - 76s 18ms/step - loss: 0.0655 - accuracy: 0.9794 - val_loss: 0.1140 - val_accuracy: 0.9613\n",
      "Epoch 3/15\n",
      "4177/4177 [==============================] - 77s 18ms/step - loss: 0.0638 - accuracy: 0.9820 - val_loss: 0.0766 - val_accuracy: 0.9763\n",
      "Epoch 4/15\n",
      "4177/4177 [==============================] - 76s 18ms/step - loss: 0.0413 - accuracy: 0.9859 - val_loss: 0.0751 - val_accuracy: 0.9677\n",
      "Epoch 5/15\n",
      "4177/4177 [==============================] - 75s 18ms/step - loss: 0.0279 - accuracy: 0.9902 - val_loss: 0.0499 - val_accuracy: 0.9785\n",
      "Epoch 6/15\n",
      "4177/4177 [==============================] - 75s 18ms/step - loss: 0.0705 - accuracy: 0.9765 - val_loss: 0.1458 - val_accuracy: 0.9484\n",
      "Epoch 7/15\n",
      "4177/4177 [==============================] - 76s 18ms/step - loss: 0.0416 - accuracy: 0.9866 - val_loss: 0.0513 - val_accuracy: 0.9828\n",
      "Epoch 8/15\n",
      "4177/4177 [==============================] - 74s 18ms/step - loss: 0.0166 - accuracy: 0.9952 - val_loss: 0.0506 - val_accuracy: 0.9871\n",
      "Epoch 9/15\n",
      "4177/4177 [==============================] - 76s 18ms/step - loss: 0.0105 - accuracy: 0.9955 - val_loss: 0.0440 - val_accuracy: 0.9806\n",
      "Epoch 10/15\n",
      "4177/4177 [==============================] - 75s 18ms/step - loss: 0.0235 - accuracy: 0.9923 - val_loss: 0.2487 - val_accuracy: 0.9527\n",
      "Epoch 11/15\n",
      "4177/4177 [==============================] - 74s 18ms/step - loss: 0.0585 - accuracy: 0.9825 - val_loss: 0.0898 - val_accuracy: 0.9699\n",
      "Epoch 12/15\n",
      "4177/4177 [==============================] - 74s 18ms/step - loss: 0.0588 - accuracy: 0.9859 - val_loss: 0.1064 - val_accuracy: 0.9505\n",
      "Epoch 13/15\n",
      "4177/4177 [==============================] - 74s 18ms/step - loss: 0.0256 - accuracy: 0.9916 - val_loss: 0.0787 - val_accuracy: 0.9806\n",
      "Epoch 14/15\n",
      "4177/4177 [==============================] - 74s 18ms/step - loss: 0.0102 - accuracy: 0.9966 - val_loss: 0.0632 - val_accuracy: 0.9785\n",
      "Epoch 15/15\n",
      "4177/4177 [==============================] - 74s 18ms/step - loss: 0.0118 - accuracy: 0.9974 - val_loss: 0.1411 - val_accuracy: 0.9613\n"
     ]
    }
   ],
   "source": [
    "history = model.fit(x_train, y_train, batch_size=50, epochs=15, validation_split=0.1) "
   ]
  },
  {
   "cell_type": "code",
   "execution_count": 23,
   "metadata": {},
   "outputs": [
    {
     "data": {
      "text/plain": [
       "['__class__',\n",
       " '__contains__',\n",
       " '__delattr__',\n",
       " '__delitem__',\n",
       " '__dir__',\n",
       " '__doc__',\n",
       " '__eq__',\n",
       " '__format__',\n",
       " '__ge__',\n",
       " '__getattribute__',\n",
       " '__getitem__',\n",
       " '__gt__',\n",
       " '__hash__',\n",
       " '__init__',\n",
       " '__init_subclass__',\n",
       " '__iter__',\n",
       " '__le__',\n",
       " '__len__',\n",
       " '__lt__',\n",
       " '__ne__',\n",
       " '__new__',\n",
       " '__reduce__',\n",
       " '__reduce_ex__',\n",
       " '__repr__',\n",
       " '__setattr__',\n",
       " '__setitem__',\n",
       " '__sizeof__',\n",
       " '__str__',\n",
       " '__subclasshook__',\n",
       " 'clear',\n",
       " 'copy',\n",
       " 'fromkeys',\n",
       " 'get',\n",
       " 'items',\n",
       " 'keys',\n",
       " 'pop',\n",
       " 'popitem',\n",
       " 'setdefault',\n",
       " 'update',\n",
       " 'values']"
      ]
     },
     "execution_count": 23,
     "metadata": {},
     "output_type": "execute_result"
    }
   ],
   "source": [
    "dir(history.history)"
   ]
  },
  {
   "cell_type": "code",
   "execution_count": 26,
   "metadata": {
    "scrolled": false
   },
   "outputs": [
    {
     "data": {
      "image/png": "[encoded data removed]",
      "text/plain": [
       "<Figure size 432x288 with 1 Axes>"
      ]
     },
     "metadata": {
      "needs_background": "light"
     },
     "output_type": "display_data"
    },
    {
     "data": {
      "image/png": "[encoded data removed]",
      "text/plain": [
       "<Figure size 432x288 with 1 Axes>"
      ]
     },
     "metadata": {
      "needs_background": "light"
     },
     "output_type": "display_data"
    }
   ],
   "source": [
    "import matplotlib.pyplot as plt\n",
    "\n",
    "acc = hist.history['accuracy']\n",
    "val_acc = hist.history['val_accuracy']\n",
    "loss = hist.history['loss']\n",
    "val_loss= hist.history['val_loss']\n",
    "\n",
    "epochs=range(1, len(acc)+1)\n",
    "\n",
    "plt.plot(epochs, acc, 'bo', label='Training acc')\n",
    "plt.plot(epochs, val_acc, 'b', label='Validation acc')\n",
    "plt.title('Training and validation acc')\n",
    "plt.legend()\n",
    "\n",
    "plt.figure()\n",
    "\n",
    "plt.plot(epochs, loss, 'bo', label='Training loss')\n",
    "plt.plot(epochs, val_loss, 'b', label='Validation loss')\n",
    "plt.title('Training and validation loss')\n",
    "plt.legend()\n",
    "\n",
    "\n",
    "plt.show()"
   ]
  },
  {
   "cell_type": "markdown",
   "metadata": {},
   "source": [
    "위에서 연산한 모델을 저장하면 반복해서 연산할 필요없이 모델만 불러와서 실행하면 된다."
   ]
  },
  {
   "cell_type": "code",
   "execution_count": 15,
   "metadata": {},
   "outputs": [],
   "source": [
    "from keras.models import load_model\n",
    "model.save('face_detection_js.h5')"
   ]
  },
  {
   "cell_type": "code",
   "execution_count": null,
   "metadata": {},
   "outputs": [],
   "source": []
  }
 ],
 "metadata": {
  "kernelspec": {
   "display_name": "Python 3",
   "language": "python",
   "name": "python3"
  },
  "language_info": {
   "codemirror_mode": {
    "name": "ipython",
    "version": 3
   },
   "file_extension": ".py",
   "mimetype": "text/x-python",
   "name": "python",
   "nbconvert_exporter": "python",
   "pygments_lexer": "ipython3",
   "version": "3.7.3"
  }
 },
 "nbformat": 4,
 "nbformat_minor": 2
}
