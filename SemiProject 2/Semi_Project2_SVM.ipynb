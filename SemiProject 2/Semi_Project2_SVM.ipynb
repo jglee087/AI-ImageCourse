{
 "cells": [
  {
   "cell_type": "markdown",
   "metadata": {},
   "source": [
    "## SVM"
   ]
  },
  {
   "cell_type": "code",
   "execution_count": 4,
   "metadata": {},
   "outputs": [
    {
     "data": {
      "text/html": [
       "<div>\n",
       "<style scoped>\n",
       "    .dataframe tbody tr th:only-of-type {\n",
       "        vertical-align: middle;\n",
       "    }\n",
       "\n",
       "    .dataframe tbody tr th {\n",
       "        vertical-align: top;\n",
       "    }\n",
       "\n",
       "    .dataframe thead th {\n",
       "        text-align: right;\n",
       "    }\n",
       "</style>\n",
       "<table border=\"1\" class=\"dataframe\">\n",
       "  <thead>\n",
       "    <tr style=\"text-align: right;\">\n",
       "      <th></th>\n",
       "      <th>Pclass</th>\n",
       "      <th>Sex</th>\n",
       "      <th>Age</th>\n",
       "      <th>SibSp</th>\n",
       "      <th>Parch</th>\n",
       "      <th>Age_group</th>\n",
       "    </tr>\n",
       "  </thead>\n",
       "  <tbody>\n",
       "    <tr>\n",
       "      <td>0</td>\n",
       "      <td>3</td>\n",
       "      <td>0</td>\n",
       "      <td>22</td>\n",
       "      <td>1</td>\n",
       "      <td>0</td>\n",
       "      <td>3</td>\n",
       "    </tr>\n",
       "    <tr>\n",
       "      <td>1</td>\n",
       "      <td>1</td>\n",
       "      <td>1</td>\n",
       "      <td>38</td>\n",
       "      <td>1</td>\n",
       "      <td>0</td>\n",
       "      <td>6</td>\n",
       "    </tr>\n",
       "    <tr>\n",
       "      <td>2</td>\n",
       "      <td>3</td>\n",
       "      <td>1</td>\n",
       "      <td>26</td>\n",
       "      <td>0</td>\n",
       "      <td>0</td>\n",
       "      <td>3</td>\n",
       "    </tr>\n",
       "    <tr>\n",
       "      <td>3</td>\n",
       "      <td>1</td>\n",
       "      <td>1</td>\n",
       "      <td>35</td>\n",
       "      <td>1</td>\n",
       "      <td>0</td>\n",
       "      <td>5</td>\n",
       "    </tr>\n",
       "    <tr>\n",
       "      <td>4</td>\n",
       "      <td>3</td>\n",
       "      <td>0</td>\n",
       "      <td>35</td>\n",
       "      <td>0</td>\n",
       "      <td>0</td>\n",
       "      <td>5</td>\n",
       "    </tr>\n",
       "  </tbody>\n",
       "</table>\n",
       "</div>"
      ],
      "text/plain": [
       "   Pclass  Sex  Age  SibSp  Parch  Age_group\n",
       "0       3    0   22      1      0          3\n",
       "1       1    1   38      1      0          6\n",
       "2       3    1   26      0      0          3\n",
       "3       1    1   35      1      0          5\n",
       "4       3    0   35      0      0          5"
      ]
     },
     "execution_count": 4,
     "metadata": {},
     "output_type": "execute_result"
    }
   ],
   "source": [
    "import warnings\n",
    "warnings.filterwarnings(\"ignore\")\n",
    "\n",
    "import pandas as pd\n",
    "import numpy as np\n",
    "import matplotlib.pyplot as plt\n",
    "\n",
    "# from sklearn import ?\n",
    "# from sklearn.metrics import ?\n",
    "\n",
    "data_df = pd.read_csv('titanic.csv')\n",
    "\n",
    "y_data = data_df[['Survived']]\n",
    "y_data.head(3)\n",
    "\n",
    "\n",
    "del data_df['Survived']\n",
    "x_data = data_df.copy()\n",
    "\n",
    "# 성별 male/female 0/1\n",
    "x_data['Sex'] = x_data['Sex'].apply(lambda x: 0 if x == 'male' else 1 )\n",
    "\n",
    "# # 기본적인 결측치 채우는 방법\n",
    "mean_age = x_data['Age'].median(skipna=True)\n",
    "x_data['Age'] = x_data['Age'].fillna(mean_age) # or .fillna(int/float/str 값)\n",
    "x_data\n",
    "\n",
    "list1 = [\"Name\", \"Fare\",'Ticket','Embarked','PassengerId','Cabin']\n",
    "\n",
    "x_data.drop(labels = list1, axis = 1, inplace = True)\n",
    "\n",
    "\n",
    "x_data.loc[ x_data['Age'] <= 10, 'Age_group'] = 0\n",
    "x_data.loc[(x_data['Age'] > 10) & (x_data['Age'] <= 16), 'Age_group'] = 1\n",
    "x_data.loc[(x_data['Age'] > 16) & (x_data['Age'] <= 20), 'Age_group'] = 2\n",
    "x_data.loc[(x_data['Age'] > 20) & (x_data['Age'] <= 26), 'Age_group'] = 3\n",
    "x_data.loc[(x_data['Age'] > 26) & (x_data['Age'] <= 30), 'Age_group'] = 4\n",
    "x_data.loc[(x_data['Age'] > 30) & (x_data['Age'] <= 36), 'Age_group'] = 5\n",
    "x_data.loc[(x_data['Age'] > 36) & (x_data['Age'] <= 40), 'Age_group'] = 6\n",
    "x_data.loc[(x_data['Age'] > 40) & (x_data['Age'] <= 46), 'Age_group'] = 7\n",
    "x_data.loc[(x_data['Age'] > 46) & (x_data['Age'] <= 50), 'Age_group'] = 8\n",
    "x_data.loc[(x_data['Age'] > 50) & (x_data['Age'] <= 60), 'Age_group'] = 9\n",
    "x_data.loc[ x_data['Age'] > 60, 'Age_group'] = 10\n",
    "\n",
    "x_data[\"Age_group\"]=x_data[\"Age_group\"].astype(\"int\")\n",
    "x_data[\"Age\"]=x_data[\"Age\"].astype(\"int\")\n",
    "\n",
    "x_data.head()"
   ]
  },
  {
   "cell_type": "code",
   "execution_count": 5,
   "metadata": {},
   "outputs": [
    {
     "data": {
      "image/png": "[encoded data removed]",
      "text/plain": [
       "<Figure size 720x720 with 1 Axes>"
      ]
     },
     "metadata": {
      "needs_background": "light"
     },
     "output_type": "display_data"
    },
    {
     "name": "stdout",
     "output_type": "stream",
     "text": [
      "Accuracy on Training set: 0.870\n",
      "Accuracy on Test set: 0.810\n"
     ]
    }
   ],
   "source": [
    "import numpy as np\n",
    "import pandas as pd\n",
    "import matplotlib.pyplot as plt\n",
    "from sklearn.datasets import load_breast_cancer\n",
    "from sklearn.model_selection import train_test_split\n",
    "from sklearn.svm import SVC\n",
    "\n",
    "\n",
    "\n",
    "X_train, X_test, y_train, y_test = train_test_split(\n",
    "    x_data, y_data,test_size=0.3, random_state=0)\n",
    "\n",
    "\n",
    "svc = SVC(probability=True)\n",
    "\n",
    "svc.fit(X_train, y_train)\n",
    "\n",
    "#시각화\n",
    "from sklearn.metrics import roc_curve, auc\n",
    "\n",
    "# pred_test = svc.predict(X_test) # Predict 'probability'  확률 알려준다\n",
    "pred_test_proba = svc.predict_proba(X_test)\n",
    "\n",
    "fpr, tpr, _ = roc_curve(y_true=y_test, y_score=pred_test_proba[:,1]) # real y & predicted y (based on \"Sepal width\")\n",
    "roc_auc = auc(fpr, tpr) # AUC 면적의 값 (수치)\n",
    "\n",
    "plt.figure(figsize=(10, 10))\n",
    "\n",
    "plt.plot(fpr, tpr, color='darkorange', lw=2, label='ROC curve (area = %0.2f)' % roc_auc)\n",
    "plt.plot([0, 1], [0, 1], color='navy', lw=2, linestyle='--')\n",
    "\n",
    "plt.xlim([-0.05, 1.0])\n",
    "plt.ylim([0.0, 1.05])\n",
    "plt.xlabel('False Positive Rate')\n",
    "plt.ylabel('True Positive Rate')\n",
    "plt.legend(loc=\"lower right\")\n",
    "plt.title(\"ROC curve\")\n",
    "\n",
    "plt.show()\n",
    "\n",
    "print(\"Accuracy on Training set: {:.3f}\".format(svc.score(X_train, y_train)))\n",
    "print(\"Accuracy on Test set: {:.3f}\".format(svc.score(X_test, y_test)))"
   ]
  },
  {
   "cell_type": "code",
   "execution_count": null,
   "metadata": {},
   "outputs": [],
   "source": []
  }
 ],
 "metadata": {
  "kernelspec": {
   "display_name": "Python 3",
   "language": "python",
   "name": "python3"
  },
  "language_info": {
   "codemirror_mode": {
    "name": "ipython",
    "version": 3
   },
   "file_extension": ".py",
   "mimetype": "text/x-python",
   "name": "python",
   "nbconvert_exporter": "python",
   "pygments_lexer": "ipython3",
   "version": "3.7.3"
  }
 },
 "nbformat": 4,
 "nbformat_minor": 2
}
