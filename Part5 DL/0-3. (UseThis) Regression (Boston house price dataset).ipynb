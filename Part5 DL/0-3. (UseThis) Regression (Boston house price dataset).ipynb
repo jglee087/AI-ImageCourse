{
 "cells": [
  {
   "cell_type": "markdown",
   "metadata": {},
   "source": [
    "<br>\n",
    "\n",
    "## 1. Data loading & preprocessing"
   ]
  },
  {
   "cell_type": "code",
   "execution_count": 1,
   "metadata": {},
   "outputs": [],
   "source": [
    "import pandas as pd\n",
    "import numpy as np\n",
    "import matplotlib.pyplot as plt\n",
    "from sklearn import datasets, preprocessing"
   ]
  },
  {
   "cell_type": "code",
   "execution_count": 2,
   "metadata": {},
   "outputs": [
    {
     "name": "stdout",
     "output_type": "stream",
     "text": [
      "(506, 13)\n",
      "(506, 1)\n"
     ]
    }
   ],
   "source": [
    "x_data = datasets.load_boston().data \n",
    "y_data = datasets.load_boston().target # 집의 가격 (in $1,000s)\n",
    "\n",
    "sc = preprocessing.StandardScaler() # Apply standard scaling on x_data\n",
    "x_data = sc.fit_transform(x_data)\n",
    "y_data = np.reshape(y_data, (len(y_data), 1))\n",
    "\n",
    "print(x_data.shape)\n",
    "print(y_data.shape)"
   ]
  },
  {
   "cell_type": "markdown",
   "metadata": {},
   "source": [
    "<br>\n",
    "\n",
    "## 2. Devide dataframe into X & Y -> Train X / Test X / Train Y / Test Y"
   ]
  },
  {
   "cell_type": "code",
   "execution_count": 3,
   "metadata": {},
   "outputs": [
    {
     "name": "stdout",
     "output_type": "stream",
     "text": [
      "(354, 13)\n",
      "(152, 13)\n",
      "(354, 1)\n",
      "(152, 1)\n"
     ]
    }
   ],
   "source": [
    "from sklearn import model_selection\n",
    "train_data, test_data, train_label, test_label = model_selection.train_test_split(x_data, y_data,\n",
    "                                                                                 test_size=0.3,\n",
    "                                                                                 random_state=0)\n",
    "print(train_data.shape)\n",
    "print(test_data.shape)\n",
    "print(train_label.shape)\n",
    "print(test_label.shape)"
   ]
  },
  {
   "cell_type": "markdown",
   "metadata": {},
   "source": [
    "<br>\n",
    "\n",
    "## 3. Build & Train the model "
   ]
  },
  {
   "cell_type": "code",
   "execution_count": 4,
   "metadata": {},
   "outputs": [],
   "source": [
    "import tensorflow as tf\n",
    "from tensorflow import layers\n",
    "\n",
    "import os\n",
    "tf.logging.set_verbosity(tf.logging.ERROR)\n",
    "os.environ['TF_CPP_MIN_LOG_LEVEL'] = '2' "
   ]
  },
  {
   "cell_type": "code",
   "execution_count": 5,
   "metadata": {},
   "outputs": [],
   "source": [
    "X = tf.placeholder(tf.float32, [None, 13]) # number of X_data's columns\n",
    "Y = tf.placeholder(tf.float32, [None, 1]) # Regression's Y_data has just one column (real value)\n",
    "\n",
    "dropout_sign = tf.placeholder(tf.bool) # layers.dropout() 은 True/False 로 Training/Testing 여부를 결정해 줄 수 있습니다."
   ]
  },
  {
   "cell_type": "code",
   "execution_count": 6,
   "metadata": {},
   "outputs": [],
   "source": [
    "L1 = layers.dense(X, 32, activation=tf.nn.elu, kernel_initializer=tf.keras.initializers.he_normal())\n",
    "L1 = layers.dropout(L1, rate=0.2, training=dropout_sign) # layers.dropout()의 \"rate\"는 keeping rate가 아닌 dropping rate이며, default 값은 0.5입니다.\n",
    "\n",
    "L2 = layers.dense(L1, 32, activation=tf.nn.elu, kernel_initializer=tf.keras.initializers.he_normal()) \n",
    "L2 = layers.dropout(L2, rate=0.2, training=dropout_sign) \n",
    "\n",
    "model = layers.dense(L2, 1, activation=None) # Regression's Y_data has just one column (real value)"
   ]
  },
  {
   "cell_type": "code",
   "execution_count": 7,
   "metadata": {},
   "outputs": [],
   "source": [
    "cost = tf.losses.mean_squared_error(Y, model)\n",
    "optimizer = tf.train.AdamOptimizer(1e-2).minimize(cost) # 1e-2 == 0.01"
   ]
  },
  {
   "cell_type": "code",
   "execution_count": 8,
   "metadata": {},
   "outputs": [],
   "source": [
    "init = tf.global_variables_initializer()\n",
    "sess = tf.Session()\n",
    "sess.run(init)"
   ]
  },
  {
   "cell_type": "code",
   "execution_count": 9,
   "metadata": {},
   "outputs": [
    {
     "name": "stdout",
     "output_type": "stream",
     "text": [
      "Epoch: 0001 || Avg. cost = 586.163 || Test cost = 522.337\n",
      "Epoch: 0201 || Avg. cost = 6.663 || Test cost = 16.112\n",
      "Epoch: 0401 || Avg. cost = 3.395 || Test cost = 13.835\n",
      "Epoch: 0601 || Avg. cost = 2.187 || Test cost = 14.997\n",
      "Epoch: 0801 || Avg. cost = 1.548 || Test cost = 16.308\n",
      "Learning process is completed!\n"
     ]
    }
   ],
   "source": [
    "total_epoch = 1000\n",
    "\n",
    "for epoch in range(total_epoch):\n",
    "    \n",
    "    # 매 Epoch마다 Total cost를 출력합니다.  \n",
    "    _, cost_val = sess.run([optimizer, cost], feed_dict={X: train_data, Y: train_label, dropout_sign: False}) # , dropout_sign: True\n",
    "    training_cost = cost_val \n",
    "    test_cost = sess.run(cost, feed_dict={X:test_data, Y: test_label, dropout_sign: False})\n",
    "    \n",
    "    if epoch % 200 == 0:\n",
    "        print('Epoch:', '%04d' % (epoch + 1), \n",
    "              '|| Avg. cost =', '{:.3f}'.format(training_cost), \n",
    "              '|| Test cost =', '{:.3f}'.format(test_cost))\n",
    "\n",
    "print('Learning process is completed!')"
   ]
  },
  {
   "cell_type": "code",
   "execution_count": 10,
   "metadata": {},
   "outputs": [
    {
     "name": "stdout",
     "output_type": "stream",
     "text": [
      "Test cost : 17.07024574279785\n"
     ]
    }
   ],
   "source": [
    "# Test accuracy 를 출력합니다. dropout_sign을 False로 바꾸어 dropout을 걷어내줘야 합니다.\n",
    "print('Test cost : {}'.format(sess.run(cost, \n",
    "                                           feed_dict={\n",
    "                                               X: test_data, \n",
    "                                               Y: test_label, dropout_sign: False}))) # , dropout_sign: False"
   ]
  },
  {
   "cell_type": "code",
   "execution_count": 11,
   "metadata": {},
   "outputs": [
    {
     "name": "stdout",
     "output_type": "stream",
     "text": [
      "[[21.882969]\n",
      " [27.912704]\n",
      " [24.403309]\n",
      " [ 9.489595]\n",
      " [20.954891]\n",
      " [19.789492]\n",
      " [21.551228]\n",
      " [20.032963]\n",
      " [20.335062]\n",
      " [31.653019]]\n"
     ]
    }
   ],
   "source": [
    "# 모델이 실제로 예측한 값을 출력합니다.\n",
    "predicted_labels = sess.run(model, feed_dict={X: test_data, dropout_sign: False}) # test_label 불필요\n",
    "print(predicted_labels[:10])\n",
    "\n",
    "sess.close()"
   ]
  },
  {
   "cell_type": "code",
   "execution_count": null,
   "metadata": {},
   "outputs": [],
   "source": []
  }
 ],
 "metadata": {
  "kernelspec": {
   "display_name": "Python 3",
   "language": "python",
   "name": "python3"
  },
  "language_info": {
   "codemirror_mode": {
    "name": "ipython",
    "version": 3
   },
   "file_extension": ".py",
   "mimetype": "text/x-python",
   "name": "python",
   "nbconvert_exporter": "python",
   "pygments_lexer": "ipython3",
   "version": "3.7.3"
  }
 },
 "nbformat": 4,
 "nbformat_minor": 2
}
