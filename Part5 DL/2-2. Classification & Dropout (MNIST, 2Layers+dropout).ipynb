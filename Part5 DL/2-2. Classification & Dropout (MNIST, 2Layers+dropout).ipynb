{
 "cells": [
  {
   "cell_type": "markdown",
   "metadata": {},
   "source": [
    "## Dropout"
   ]
  },
  {
   "cell_type": "code",
   "execution_count": 28,
   "metadata": {},
   "outputs": [],
   "source": [
    "import tensorflow as tf\n",
    "import numpy as np\n",
    "import matplotlib.pyplot as plt"
   ]
  },
  {
   "cell_type": "code",
   "execution_count": 29,
   "metadata": {},
   "outputs": [],
   "source": [
    "import os\n",
    "tf.logging.set_verbosity(tf.logging.ERROR)\n",
    "os.environ['TF_CPP_MIN_LOG_LEVEL'] = '2' # https://stackoverflow.com/questions/35911252/disable-tensorflow-debugging-information"
   ]
  },
  {
   "cell_type": "markdown",
   "metadata": {},
   "source": [
    "#### 1. Prepare the data"
   ]
  },
  {
   "cell_type": "code",
   "execution_count": 30,
   "metadata": {},
   "outputs": [
    {
     "name": "stdout",
     "output_type": "stream",
     "text": [
      "Extracting ./mnist/data/train-images-idx3-ubyte.gz\n",
      "Extracting ./mnist/data/train-labels-idx1-ubyte.gz\n",
      "Extracting ./mnist/data/t10k-images-idx3-ubyte.gz\n",
      "Extracting ./mnist/data/t10k-labels-idx1-ubyte.gz\n"
     ]
    }
   ],
   "source": [
    "from tensorflow.examples.tutorials.mnist import input_data\n",
    "mnist = input_data.read_data_sets(\"./mnist/data/\", one_hot=True)"
   ]
  },
  {
   "cell_type": "markdown",
   "metadata": {},
   "source": [
    "#### 2. Build the model"
   ]
  },
  {
   "cell_type": "code",
   "execution_count": 31,
   "metadata": {},
   "outputs": [],
   "source": [
    "X = tf.placeholder(tf.float32, [None, 784])\n",
    "Y = tf.placeholder(tf.float32, [None, 10])"
   ]
  },
  {
   "cell_type": "code",
   "execution_count": 32,
   "metadata": {},
   "outputs": [],
   "source": [
    "# Dropout을 적용하며 layer마다 살려줄 node의 비율을 지정합니다.\n",
    "# 이 때에도 placeholder를 사용해야 합니다.\n",
    "\n",
    "keep_prob = tf.placeholder(tf.float32)"
   ]
  },
  {
   "cell_type": "code",
   "execution_count": 33,
   "metadata": {},
   "outputs": [],
   "source": [
    "W1 = tf.Variable(tf.random_normal([784, 256], stddev=0.01))\n",
    "L1 = tf.nn.relu(tf.matmul(X, W1))\n",
    "L1 = tf.nn.dropout(L1, keep_prob) # (Dropout을 적용할 layer, 살릴 비율)"
   ]
  },
  {
   "cell_type": "code",
   "execution_count": 34,
   "metadata": {},
   "outputs": [],
   "source": [
    "W2 = tf.Variable(tf.random_normal([256, 512], stddev=0.01))\n",
    "L2 = tf.nn.relu(tf.matmul(L1, W2))\n",
    "L2 = tf.nn.dropout(L2, keep_prob) # Dropout을 적용할 layer & 살릴 비율"
   ]
  },
  {
   "cell_type": "code",
   "execution_count": 35,
   "metadata": {},
   "outputs": [],
   "source": [
    "W3 = tf.Variable(tf.random_normal([512, 10], stddev=0.01))\n",
    "model = tf.matmul(L2, W3)"
   ]
  },
  {
   "cell_type": "markdown",
   "metadata": {},
   "source": [
    "#### 3. Set the criterion"
   ]
  },
  {
   "cell_type": "code",
   "execution_count": 36,
   "metadata": {},
   "outputs": [],
   "source": [
    "cost = tf.losses.softmax_cross_entropy(Y, model) \n",
    "optimizer = tf.train.AdamOptimizer(0.001).minimize(cost)"
   ]
  },
  {
   "cell_type": "markdown",
   "metadata": {},
   "source": [
    "#### 4. Train the model"
   ]
  },
  {
   "cell_type": "code",
   "execution_count": 37,
   "metadata": {},
   "outputs": [],
   "source": [
    "init = tf.global_variables_initializer()\n",
    "sess = tf.Session()\n",
    "sess.run(init)"
   ]
  },
  {
   "cell_type": "code",
   "execution_count": 38,
   "metadata": {},
   "outputs": [
    {
     "name": "stdout",
     "output_type": "stream",
     "text": [
      "50\n"
     ]
    }
   ],
   "source": [
    "batch_size = 1100\n",
    "total_batch = int(mnist.train.num_examples / batch_size)\n",
    "print(total_batch)"
   ]
  },
  {
   "cell_type": "code",
   "execution_count": 39,
   "metadata": {},
   "outputs": [
    {
     "name": "stdout",
     "output_type": "stream",
     "text": [
      "Epoch: 1 Avg. cost = 1.015\n",
      "Epoch: 2 Avg. cost = 0.350\n",
      "Epoch: 3 Avg. cost = 0.265\n",
      "Epoch: 4 Avg. cost = 0.211\n",
      "Epoch: 5 Avg. cost = 0.171\n",
      "Epoch: 6 Avg. cost = 0.145\n",
      "Epoch: 7 Avg. cost = 0.121\n",
      "Epoch: 8 Avg. cost = 0.106\n",
      "Epoch: 9 Avg. cost = 0.091\n",
      "Epoch: 10 Avg. cost = 0.082\n",
      "Epoch: 11 Avg. cost = 0.073\n",
      "Epoch: 12 Avg. cost = 0.066\n",
      "Epoch: 13 Avg. cost = 0.059\n",
      "Epoch: 14 Avg. cost = 0.053\n",
      "Epoch: 15 Avg. cost = 0.045\n",
      "Epoch: 16 Avg. cost = 0.043\n",
      "Epoch: 17 Avg. cost = 0.041\n",
      "Epoch: 18 Avg. cost = 0.036\n",
      "Epoch: 19 Avg. cost = 0.033\n",
      "Epoch: 20 Avg. cost = 0.031\n",
      "Epoch: 21 Avg. cost = 0.028\n",
      "Epoch: 22 Avg. cost = 0.027\n",
      "Epoch: 23 Avg. cost = 0.023\n",
      "Epoch: 24 Avg. cost = 0.022\n",
      "Epoch: 25 Avg. cost = 0.020\n",
      "Epoch: 26 Avg. cost = 0.019\n",
      "Epoch: 27 Avg. cost = 0.019\n",
      "Epoch: 28 Avg. cost = 0.017\n",
      "Epoch: 29 Avg. cost = 0.016\n",
      "Epoch: 30 Avg. cost = 0.016\n",
      "Epoch: 31 Avg. cost = 0.015\n",
      "Epoch: 32 Avg. cost = 0.014\n",
      "Epoch: 33 Avg. cost = 0.013\n",
      "Epoch: 34 Avg. cost = 0.013\n",
      "Epoch: 35 Avg. cost = 0.013\n",
      "Epoch: 36 Avg. cost = 0.011\n",
      "Epoch: 37 Avg. cost = 0.011\n",
      "Epoch: 38 Avg. cost = 0.011\n",
      "Epoch: 39 Avg. cost = 0.009\n",
      "Epoch: 40 Avg. cost = 0.009\n",
      "Epoch: 41 Avg. cost = 0.010\n",
      "Epoch: 42 Avg. cost = 0.009\n",
      "Epoch: 43 Avg. cost = 0.008\n",
      "Epoch: 44 Avg. cost = 0.008\n",
      "Epoch: 45 Avg. cost = 0.009\n",
      "Epoch: 46 Avg. cost = 0.009\n",
      "Epoch: 47 Avg. cost = 0.009\n",
      "Epoch: 48 Avg. cost = 0.009\n",
      "Epoch: 49 Avg. cost = 0.008\n",
      "Epoch: 50 Avg. cost = 0.008\n",
      "Learning process is completed!\n"
     ]
    }
   ],
   "source": [
    "# from tqdm import trange, tqdm_notebook\n",
    "# for epoch in tqdm_notebook(range(15)):\n",
    "\n",
    "for epoch in range(50):\n",
    "    total_cost = 0\n",
    "\n",
    "    for i in range(total_batch):\n",
    "        batch_xs, batch_ys = mnist.train.next_batch(batch_size)\n",
    "\n",
    "        _, cost_val = sess.run([optimizer, cost],\n",
    "                               feed_dict={X: batch_xs,\n",
    "                                          Y: batch_ys,\n",
    "                                          keep_prob: 0.8}) # 살릴 비율 지정, node 중 80%만 유지하고 20%를 train 시마다 off\n",
    "        total_cost += cost_val\n",
    "\n",
    "    print('Epoch: {}'.format(epoch+1),\n",
    "          'Avg. cost =', '{:.3f}'.format(total_cost / total_batch))\n",
    "\n",
    "print('Learning process is completed!')"
   ]
  },
  {
   "cell_type": "markdown",
   "metadata": {},
   "source": [
    "#### 5. Test the model"
   ]
  },
  {
   "cell_type": "code",
   "execution_count": 40,
   "metadata": {},
   "outputs": [],
   "source": [
    "is_correct = tf.equal(tf.argmax(model, 1), tf.argmax(Y, 1))\n",
    "accuracy = tf.reduce_mean(tf.cast(is_correct, tf.float32))"
   ]
  },
  {
   "cell_type": "code",
   "execution_count": 41,
   "metadata": {},
   "outputs": [
    {
     "name": "stdout",
     "output_type": "stream",
     "text": [
      "정확도: 0.9809\n"
     ]
    }
   ],
   "source": [
    "print('정확도:', sess.run(accuracy,\n",
    "                        feed_dict={X: mnist.test.images,\n",
    "                                   Y: mnist.test.labels,\n",
    "                                   keep_prob: 1})) # 살릴 비율 지정, 정확도를 측정하는 Test 단계에서는 전체 Node를 살려줘야 합니다."
   ]
  },
  {
   "cell_type": "markdown",
   "metadata": {
    "collapsed": true
   },
   "source": [
    "#### + Appendix. Save the predicted values"
   ]
  },
  {
   "cell_type": "code",
   "execution_count": 42,
   "metadata": {},
   "outputs": [
    {
     "name": "stdout",
     "output_type": "stream",
     "text": [
      "[7 2 1 ... 4 5 6]\n"
     ]
    }
   ],
   "source": [
    "# 모델의 예측값을 labels에 저장\n",
    "labels = sess.run(tf.argmax(model, 1),\n",
    "                  feed_dict={X: mnist.test.images,\n",
    "                             Y: mnist.test.labels,\n",
    "                             keep_prob: 1}) \n",
    "print(labels)"
   ]
  },
  {
   "cell_type": "code",
   "execution_count": 62,
   "metadata": {},
   "outputs": [
    {
     "data": {
      "image/png": "[encoded data removed]",
      "text/plain": [
       "<Figure size 720x720 with 20 Axes>"
      ]
     },
     "metadata": {},
     "output_type": "display_data"
    }
   ],
   "source": [
    "fig = plt.figure(figsize=(10, 10))\n",
    "\n",
    "\n",
    "for i in range(20):\n",
    "    subplot = fig.add_subplot(4, 5, i + 1)\n",
    "    subplot.set_xticks([])\n",
    "    subplot.set_yticks([])\n",
    "    #subplot.set_title('%d' % np.argmax(labels[i]))\n",
    "    subplot.set_title('%d' % (labels[i]))\n",
    "    subplot.imshow(mnist.test.images[i].reshape((28, 28)),\n",
    "                   cmap=plt.cm.gray_r)\n",
    "\n",
    "plt.show() # 상단의 번호가 예측된 숫자, 아래의 이미지가 실제 데이터(이미지 내 숫자)"
   ]
  },
  {
   "cell_type": "code",
   "execution_count": null,
   "metadata": {},
   "outputs": [],
   "source": []
  }
 ],
 "metadata": {
  "kernelspec": {
   "display_name": "Python 3",
   "language": "python",
   "name": "python3"
  },
  "language_info": {
   "codemirror_mode": {
    "name": "ipython",
    "version": 3
   },
   "file_extension": ".py",
   "mimetype": "text/x-python",
   "name": "python",
   "nbconvert_exporter": "python",
   "pygments_lexer": "ipython3",
   "version": "3.7.3"
  }
 },
 "nbformat": 4,
 "nbformat_minor": 2
}
