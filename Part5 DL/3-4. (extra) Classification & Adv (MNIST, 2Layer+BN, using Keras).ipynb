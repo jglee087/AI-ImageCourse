{
 "cells": [
  {
   "cell_type": "code",
   "execution_count": 1,
   "metadata": {},
   "outputs": [],
   "source": [
    "import tensorflow as tf\n",
    "from tensorflow.keras import datasets, utils\n",
    "from tensorflow.keras import models, layers, activations, initializers, losses, optimizers, metrics\n",
    "\n",
    "import os\n",
    "tf.logging.set_verbosity(tf.logging.ERROR)\n",
    "os.environ['TF_CPP_MIN_LOG_LEVEL'] = '2' # https://stackoverflow.com/questions/35911252/disable-tensorflow-debugging-information"
   ]
  },
  {
   "cell_type": "markdown",
   "metadata": {},
   "source": [
    "<br> \n",
    "\n",
    "#### 1. Prepare train & test data (MNIST)"
   ]
  },
  {
   "cell_type": "markdown",
   "metadata": {},
   "source": [
    "#### Train & Test split"
   ]
  },
  {
   "cell_type": "code",
   "execution_count": 2,
   "metadata": {},
   "outputs": [
    {
     "name": "stdout",
     "output_type": "stream",
     "text": [
      "(60000, 28, 28)\n",
      "(10000, 28, 28)\n",
      "uint8\n",
      "255\n"
     ]
    }
   ],
   "source": [
    "(train_data, train_label), (test_data, test_label) = datasets.mnist.load_data()\n",
    "\n",
    "print(train_data.shape) # # of training data == 60000, each data = 28px * 28px\n",
    "print(test_data.shape) # # of test data == 10000\n",
    "print(train_data.dtype) # int\n",
    "print(train_data.max()) # 0~255"
   ]
  },
  {
   "cell_type": "markdown",
   "metadata": {},
   "source": [
    "#### Normalization"
   ]
  },
  {
   "cell_type": "code",
   "execution_count": 3,
   "metadata": {},
   "outputs": [],
   "source": [
    "train_data = train_data.reshape(60000, 784).astype('float32') / 255.0 # 0~255 -> 0~1\n",
    "test_data = test_data.reshape(10000, 784).astype('float32') / 255.0 # 0~255 -> 0~1"
   ]
  },
  {
   "cell_type": "markdown",
   "metadata": {},
   "source": [
    "#### One-hot encoding"
   ]
  },
  {
   "cell_type": "code",
   "execution_count": 4,
   "metadata": {},
   "outputs": [],
   "source": [
    "train_label = utils.to_categorical(train_label) # 0~9 -> one-hot vector\n",
    "test_label = utils.to_categorical(test_label) # 0~9 -> one-hot vector"
   ]
  },
  {
   "cell_type": "markdown",
   "metadata": {},
   "source": [
    "<br> \n",
    "\n",
    "#### 2. Build the model & Set the criterion"
   ]
  },
  {
   "cell_type": "code",
   "execution_count": 5,
   "metadata": {},
   "outputs": [],
   "source": [
    "model = models.Sequential() \n",
    "\n",
    "model.add(layers.Dense(input_dim=28*28, units=256, activation=None, kernel_initializer=initializers.he_uniform())) \n",
    "model.add(layers.BatchNormalization())\n",
    "model.add(layers.Activation('elu')) # layers.ELU or layers.LeakyReLU\n",
    "model.add(layers.Dropout(rate=0.2))\n",
    "\n",
    "model.add(layers.Dense(units=256, activation=None, kernel_initializer=initializers.he_uniform())) \n",
    "model.add(layers.BatchNormalization())\n",
    "model.add(layers.Activation('elu')) # layers.ELU or layers.LeakyReLU\n",
    "model.add(layers.Dropout(rate=0.2))\n",
    "\n",
    "model.add(layers.Dense(units=10, activation='softmax')) # 0~9 "
   ]
  },
  {
   "cell_type": "code",
   "execution_count": 28,
   "metadata": {},
   "outputs": [],
   "source": [
    "model.compile(optimizer=optimizers.Adam(), \n",
    "              loss=losses.categorical_crossentropy, \n",
    "              metrics=[metrics.categorical_accuracy]) "
   ]
  },
  {
   "cell_type": "markdown",
   "metadata": {},
   "source": [
    "<br> \n",
    "\n",
    "#### 3. Train the model"
   ]
  },
  {
   "cell_type": "code",
   "execution_count": 29,
   "metadata": {},
   "outputs": [
    {
     "name": "stdout",
     "output_type": "stream",
     "text": [
      "Train on 54000 samples, validate on 6000 samples\n",
      "Epoch 1/20\n",
      "54000/54000 [==============================] - 2s 45us/sample - loss: 0.0125 - categorical_accuracy: 0.9972 - val_loss: 0.0701 - val_categorical_accuracy: 0.9880\n",
      "Epoch 2/20\n",
      "54000/54000 [==============================] - 2s 38us/sample - loss: 0.0087 - categorical_accuracy: 0.9974 - val_loss: 0.0680 - val_categorical_accuracy: 0.9885\n",
      "Epoch 3/20\n",
      "54000/54000 [==============================] - 2s 37us/sample - loss: 0.0100 - categorical_accuracy: 0.9976 - val_loss: 0.0663 - val_categorical_accuracy: 0.9883\n",
      "Epoch 4/20\n",
      "54000/54000 [==============================] - 2s 37us/sample - loss: 0.0079 - categorical_accuracy: 0.9978 - val_loss: 0.0654 - val_categorical_accuracy: 0.9883\n",
      "Epoch 5/20\n",
      "54000/54000 [==============================] - 2s 38us/sample - loss: 0.0080 - categorical_accuracy: 0.9978 - val_loss: 0.0649 - val_categorical_accuracy: 0.9880\n",
      "Epoch 6/20\n",
      "54000/54000 [==============================] - 2s 38us/sample - loss: 0.0067 - categorical_accuracy: 0.9980 - val_loss: 0.0637 - val_categorical_accuracy: 0.9880\n",
      "Epoch 7/20\n",
      "54000/54000 [==============================] - 2s 38us/sample - loss: 0.0069 - categorical_accuracy: 0.9979 - val_loss: 0.0627 - val_categorical_accuracy: 0.9882\n",
      "Epoch 8/20\n",
      "54000/54000 [==============================] - 2s 38us/sample - loss: 0.0055 - categorical_accuracy: 0.9984 - val_loss: 0.0627 - val_categorical_accuracy: 0.9887\n",
      "Epoch 9/20\n",
      "54000/54000 [==============================] - 2s 39us/sample - loss: 0.0055 - categorical_accuracy: 0.9981 - val_loss: 0.0624 - val_categorical_accuracy: 0.9890\n",
      "Epoch 10/20\n",
      "54000/54000 [==============================] - 2s 38us/sample - loss: 0.0054 - categorical_accuracy: 0.9983 - val_loss: 0.0634 - val_categorical_accuracy: 0.9883\n",
      "Epoch 11/20\n",
      "54000/54000 [==============================] - 2s 39us/sample - loss: 0.0067 - categorical_accuracy: 0.9981 - val_loss: 0.0628 - val_categorical_accuracy: 0.9887\n",
      "Epoch 12/20\n",
      "54000/54000 [==============================] - 2s 38us/sample - loss: 0.0049 - categorical_accuracy: 0.9984 - val_loss: 0.0623 - val_categorical_accuracy: 0.9888\n",
      "Epoch 13/20\n",
      "54000/54000 [==============================] - 2s 38us/sample - loss: 0.0053 - categorical_accuracy: 0.9986 - val_loss: 0.0627 - val_categorical_accuracy: 0.9885\n",
      "Epoch 14/20\n",
      "54000/54000 [==============================] - 2s 37us/sample - loss: 0.0059 - categorical_accuracy: 0.9983 - val_loss: 0.0623 - val_categorical_accuracy: 0.9883\n",
      "Epoch 15/20\n",
      "54000/54000 [==============================] - 2s 38us/sample - loss: 0.0047 - categorical_accuracy: 0.9984 - val_loss: 0.0617 - val_categorical_accuracy: 0.9890\n",
      "Epoch 16/20\n",
      "54000/54000 [==============================] - 2s 37us/sample - loss: 0.0048 - categorical_accuracy: 0.9986 - val_loss: 0.0613 - val_categorical_accuracy: 0.9887\n",
      "Epoch 17/20\n",
      "54000/54000 [==============================] - 2s 38us/sample - loss: 0.0044 - categorical_accuracy: 0.9987 - val_loss: 0.0625 - val_categorical_accuracy: 0.9890\n",
      "Epoch 18/20\n",
      "54000/54000 [==============================] - 2s 37us/sample - loss: 0.0053 - categorical_accuracy: 0.9983 - val_loss: 0.0614 - val_categorical_accuracy: 0.9885\n",
      "Epoch 19/20\n",
      "54000/54000 [==============================] - 2s 38us/sample - loss: 0.0046 - categorical_accuracy: 0.9984 - val_loss: 0.0610 - val_categorical_accuracy: 0.9883\n",
      "Epoch 20/20\n",
      "54000/54000 [==============================] - 2s 37us/sample - loss: 0.0045 - categorical_accuracy: 0.9985 - val_loss: 0.0615 - val_categorical_accuracy: 0.9883\n"
     ]
    }
   ],
   "source": [
    "history = model.fit(train_data, train_label, batch_size=200, epochs=20, validation_split=0.10) "
   ]
  },
  {
   "cell_type": "markdown",
   "metadata": {},
   "source": [
    "<br> \n",
    "\n",
    "#### 4. Test the model"
   ]
  },
  {
   "cell_type": "code",
   "execution_count": 30,
   "metadata": {
    "scrolled": true
   },
   "outputs": [
    {
     "name": "stdout",
     "output_type": "stream",
     "text": [
      "10000/10000 [==============================] - 0s 16us/sample - loss: 0.0724 - categorical_accuracy: 0.9879\n",
      "loss (cross-entropy) : 0.07239956185676917\n",
      "test accuracy : 0.9879\n"
     ]
    }
   ],
   "source": [
    "result = model.evaluate(test_data, test_label, batch_size=100)\n",
    "\n",
    "print('loss (cross-entropy) :', result[0])\n",
    "print('test accuracy :', result[1])"
   ]
  },
  {
   "cell_type": "markdown",
   "metadata": {},
   "source": [
    "<br> \n",
    "\n",
    "#### 5. Visualize the result"
   ]
  },
  {
   "cell_type": "code",
   "execution_count": 31,
   "metadata": {},
   "outputs": [
    {
     "data": {
      "text/plain": [
       "dict_keys(['loss', 'categorical_accuracy', 'val_loss', 'val_categorical_accuracy'])"
      ]
     },
     "execution_count": 31,
     "metadata": {},
     "output_type": "execute_result"
    }
   ],
   "source": [
    "history.history.keys()"
   ]
  },
  {
   "cell_type": "code",
   "execution_count": 32,
   "metadata": {},
   "outputs": [
    {
     "data": {
      "image/png": "[encoded data removed]",
      "text/plain": [
       "<Figure size 432x288 with 1 Axes>"
      ]
     },
     "metadata": {
      "needs_background": "light"
     },
     "output_type": "display_data"
    }
   ],
   "source": [
    "val_acc = history.history['val_categorical_accuracy']\n",
    "acc = history.history['categorical_accuracy']\n",
    "\n",
    "import numpy as np\n",
    "import matplotlib.pyplot as plt\n",
    "\n",
    "x_len = np.arange(len(acc))\n",
    "plt.plot(x_len, acc, marker='.', c='blue', label=\"Train-set Acc.\")\n",
    "plt.plot(x_len, val_acc, marker='.', c='red', label=\"Validation-set Acc.\")\n",
    "\n",
    "plt.legend(loc='upper right')\n",
    "plt.grid()\n",
    "plt.xlabel('epoch')\n",
    "plt.ylabel('Accuracy')\n",
    "plt.show()"
   ]
  },
  {
   "cell_type": "code",
   "execution_count": null,
   "metadata": {},
   "outputs": [],
   "source": []
  }
 ],
 "metadata": {
  "kernel_info": {
   "name": "python3"
  },
  "kernelspec": {
   "display_name": "Python 3",
   "language": "python",
   "name": "python3"
  },
  "language_info": {
   "codemirror_mode": {
    "name": "ipython",
    "version": 3
   },
   "file_extension": ".py",
   "mimetype": "text/x-python",
   "name": "python",
   "nbconvert_exporter": "python",
   "pygments_lexer": "ipython3",
   "version": "3.7.3"
  },
  "nteract": {
   "version": "0.14.3"
  }
 },
 "nbformat": 4,
 "nbformat_minor": 2
}
